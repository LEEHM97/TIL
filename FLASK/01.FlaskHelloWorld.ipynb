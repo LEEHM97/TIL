{
 "cells": [
  {
   "cell_type": "code",
   "execution_count": 2,
   "id": "44ddf3cb",
   "metadata": {
    "ExecuteTime": {
     "end_time": "2022-07-06T06:43:52.960916Z",
     "start_time": "2022-07-06T06:43:50.304872Z"
    }
   },
   "outputs": [
    {
     "name": "stdout",
     "output_type": "stream",
     "text": [
      "Collecting flaskNote: you may need to restart the kernel to use updated packages.\n"
     ]
    },
    {
     "name": "stderr",
     "output_type": "stream",
     "text": [
      "WARNING: Error parsing requirements for yellowbrick: [Errno 2] No such file or directory: 'c:\\\\users\\\\gmlkd\\\\miniforge3\\\\envs\\\\fastcampus\\\\lib\\\\site-packages\\\\yellowbrick-1.4.dist-info\\\\METADATA'\n"
     ]
    },
    {
     "name": "stdout",
     "output_type": "stream",
     "text": [
      "\n",
      "  Using cached Flask-2.1.2-py3-none-any.whl (95 kB)\n",
      "Collecting Werkzeug>=2.0\n",
      "  Using cached Werkzeug-2.1.2-py3-none-any.whl (224 kB)\n",
      "Requirement already satisfied: Jinja2>=3.0 in c:\\users\\gmlkd\\miniforge3\\envs\\fastcampus\\lib\\site-packages (from flask) (3.1.2)\n",
      "Collecting itsdangerous>=2.0\n",
      "  Using cached itsdangerous-2.1.2-py3-none-any.whl (15 kB)\n",
      "Requirement already satisfied: importlib-metadata>=3.6.0 in c:\\users\\gmlkd\\miniforge3\\envs\\fastcampus\\lib\\site-packages (from flask) (4.11.4)\n",
      "Collecting click>=8.0\n",
      "  Using cached click-8.1.3-py3-none-any.whl (96 kB)\n",
      "Requirement already satisfied: colorama in c:\\users\\gmlkd\\miniforge3\\envs\\fastcampus\\lib\\site-packages (from click>=8.0->flask) (0.4.5)\n",
      "Requirement already satisfied: zipp>=0.5 in c:\\users\\gmlkd\\miniforge3\\envs\\fastcampus\\lib\\site-packages (from importlib-metadata>=3.6.0->flask) (3.8.0)\n",
      "Requirement already satisfied: MarkupSafe>=2.0 in c:\\users\\gmlkd\\miniforge3\\envs\\fastcampus\\lib\\site-packages (from Jinja2>=3.0->flask) (2.1.1)\n",
      "Installing collected packages: Werkzeug, itsdangerous, click, flask\n",
      "Successfully installed Werkzeug-2.1.2 click-8.1.3 flask-2.1.2 itsdangerous-2.1.2\n"
     ]
    }
   ],
   "source": [
    "%pip install flask"
   ]
  },
  {
   "cell_type": "code",
   "execution_count": 3,
   "id": "c9c6c5f8",
   "metadata": {
    "ExecuteTime": {
     "end_time": "2022-07-06T06:43:56.190398Z",
     "start_time": "2022-07-06T06:43:56.113599Z"
    }
   },
   "outputs": [],
   "source": [
    "from flask import Flask"
   ]
  },
  {
   "cell_type": "code",
   "execution_count": 4,
   "id": "5cb4ce68",
   "metadata": {
    "ExecuteTime": {
     "end_time": "2022-07-06T06:43:58.094431Z",
     "start_time": "2022-07-06T06:43:58.085456Z"
    }
   },
   "outputs": [],
   "source": [
    "app = Flask(__name__)"
   ]
  },
  {
   "cell_type": "code",
   "execution_count": 5,
   "id": "dc74fc14",
   "metadata": {
    "ExecuteTime": {
     "end_time": "2022-07-06T06:43:58.732884Z",
     "start_time": "2022-07-06T06:43:58.714891Z"
    }
   },
   "outputs": [],
   "source": [
    "@app.route('/')\n",
    "def index():\n",
    "    return 'Web App with Python Flask!'"
   ]
  },
  {
   "cell_type": "code",
   "execution_count": 8,
   "id": "c6573a34",
   "metadata": {
    "ExecuteTime": {
     "end_time": "2022-07-06T06:51:01.058795Z",
     "start_time": "2022-07-06T06:50:12.448361Z"
    }
   },
   "outputs": [
    {
     "name": "stdout",
     "output_type": "stream",
     "text": [
      " * Serving Flask app '__main__' (lazy loading)\n",
      " * Environment: production\n",
      "\u001b[31m   WARNING: This is a development server. Do not use it in a production deployment.\u001b[0m\n",
      "\u001b[2m   Use a production WSGI server instead.\u001b[0m\n",
      " * Debug mode: off\n"
     ]
    },
    {
     "name": "stderr",
     "output_type": "stream",
     "text": [
      " * Running on all addresses (0.0.0.0)\n",
      "   WARNING: This is a development server. Do not use it in a production deployment.\n",
      " * Running on http://127.0.0.1:5001\n",
      " * Running on http://192.168.55.187:5001 (Press CTRL+C to quit)\n",
      "192.168.55.187 - - [06/Jul/2022 15:50:17] \"GET / HTTP/1.1\" 200 -\n",
      "192.168.55.187 - - [06/Jul/2022 15:50:17] \"GET / HTTP/1.1\" 200 -\n",
      "192.168.55.187 - - [06/Jul/2022 15:50:17] \"GET /favicon.ico HTTP/1.1\" 404 -\n",
      "192.168.55.187 - - [06/Jul/2022 15:50:27] \"GET / HTTP/1.1\" 200 -\n",
      "192.168.55.187 - - [06/Jul/2022 15:50:27] \"GET / HTTP/1.1\" 200 -\n"
     ]
    }
   ],
   "source": [
    "app.run(host='0.0.0.0', port=5001)"
   ]
  },
  {
   "cell_type": "code",
   "execution_count": null,
   "id": "08325bc6",
   "metadata": {},
   "outputs": [],
   "source": []
  }
 ],
 "metadata": {
  "kernelspec": {
   "display_name": "Python 3 (ipykernel)",
   "language": "python",
   "name": "python3"
  },
  "language_info": {
   "codemirror_mode": {
    "name": "ipython",
    "version": 3
   },
   "file_extension": ".py",
   "mimetype": "text/x-python",
   "name": "python",
   "nbconvert_exporter": "python",
   "pygments_lexer": "ipython3",
   "version": "3.9.13"
  },
  "toc": {
   "base_numbering": 1,
   "nav_menu": {},
   "number_sections": true,
   "sideBar": true,
   "skip_h1_title": false,
   "title_cell": "Table of Contents",
   "title_sidebar": "Contents",
   "toc_cell": false,
   "toc_position": {},
   "toc_section_display": true,
   "toc_window_display": false
  },
  "varInspector": {
   "cols": {
    "lenName": 16,
    "lenType": 16,
    "lenVar": 40
   },
   "kernels_config": {
    "python": {
     "delete_cmd_postfix": "",
     "delete_cmd_prefix": "del ",
     "library": "var_list.py",
     "varRefreshCmd": "print(var_dic_list())"
    },
    "r": {
     "delete_cmd_postfix": ") ",
     "delete_cmd_prefix": "rm(",
     "library": "var_list.r",
     "varRefreshCmd": "cat(var_dic_list()) "
    }
   },
   "types_to_exclude": [
    "module",
    "function",
    "builtin_function_or_method",
    "instance",
    "_Feature"
   ],
   "window_display": false
  },
  "vscode": {
   "interpreter": {
    "hash": "060f26108eb28840d4dbd90fbb70eca8999773909f2b71005fa4bb99c8a84d9b"
   }
  }
 },
 "nbformat": 4,
 "nbformat_minor": 5
}
