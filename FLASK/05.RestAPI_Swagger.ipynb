{
 "cells": [
  {
   "cell_type": "code",
   "execution_count": 2,
   "id": "8f371315",
   "metadata": {},
   "outputs": [
    {
     "name": "stdout",
     "output_type": "stream",
     "text": [
      "Collecting flask_restx\n",
      "  Downloading flask_restx-0.5.1-py2.py3-none-any.whl (5.3 MB)\n",
      "     ---------------------------------------- 5.3/5.3 MB 48.3 MB/s eta 0:00:00\n",
      "Requirement already satisfied: six>=1.3.0 in c:\\users\\gmlkd\\miniforge3\\envs\\fastcampus\\lib\\site-packages (from flask_restx) (1.16.0)\n",
      "Requirement already satisfied: Flask!=2.0.0,>=0.8 in c:\\users\\gmlkd\\miniforge3\\envs\\fastcampus\\lib\\site-packages (from flask_restx) (2.1.2)\n",
      "Collecting aniso8601>=0.82\n",
      "  Downloading aniso8601-9.0.1-py2.py3-none-any.whl (52 kB)\n",
      "     ---------------------------------------- 52.8/52.8 kB ? eta 0:00:00\n",
      "Requirement already satisfied: pytz in c:\\users\\gmlkd\\miniforge3\\envs\\fastcampus\\lib\\site-packages (from flask_restx) (2022.1)\n",
      "Requirement already satisfied: jsonschema in c:\\users\\gmlkd\\miniforge3\\envs\\fastcampus\\lib\\site-packages (from flask_restx) (4.6.0)\n",
      "Requirement already satisfied: werkzeug!=2.0.0 in c:\\users\\gmlkd\\miniforge3\\envs\\fastcampus\\lib\\site-packages (from flask_restx) (2.1.2)\n",
      "Requirement already satisfied: Jinja2>=3.0 in c:\\users\\gmlkd\\miniforge3\\envs\\fastcampus\\lib\\site-packages (from Flask!=2.0.0,>=0.8->flask_restx) (3.1.2)\n",
      "Requirement already satisfied: click>=8.0 in c:\\users\\gmlkd\\miniforge3\\envs\\fastcampus\\lib\\site-packages (from Flask!=2.0.0,>=0.8->flask_restx) (8.1.3)\n",
      "Requirement already satisfied: importlib-metadata>=3.6.0 in c:\\users\\gmlkd\\miniforge3\\envs\\fastcampus\\lib\\site-packages (from Flask!=2.0.0,>=0.8->flask_restx) (4.11.4)\n",
      "Requirement already satisfied: itsdangerous>=2.0 in c:\\users\\gmlkd\\miniforge3\\envs\\fastcampus\\lib\\site-packages (from Flask!=2.0.0,>=0.8->flask_restx) (2.1.2)\n",
      "Requirement already satisfied: importlib-resources>=1.4.0 in c:\\users\\gmlkd\\miniforge3\\envs\\fastcampus\\lib\\site-packages (from jsonschema->flask_restx) (5.8.0)\n",
      "Requirement already satisfied: pyrsistent!=0.17.0,!=0.17.1,!=0.17.2,>=0.14.0 in c:\\users\\gmlkd\\miniforge3\\envs\\fastcampus\\lib\\site-packages (from jsonschema->flask_restx) (0.18.1)\n",
      "Requirement already satisfied: attrs>=17.4.0 in c:\\users\\gmlkd\\miniforge3\\envs\\fastcampus\\lib\\site-packages (from jsonschema->flask_restx) (21.4.0)\n",
      "Requirement already satisfied: colorama in c:\\users\\gmlkd\\miniforge3\\envs\\fastcampus\\lib\\site-packages (from click>=8.0->Flask!=2.0.0,>=0.8->flask_restx) (0.4.5)\n",
      "Requirement already satisfied: zipp>=0.5 in c:\\users\\gmlkd\\miniforge3\\envs\\fastcampus\\lib\\site-packages (from importlib-metadata>=3.6.0->Flask!=2.0.0,>=0.8->flask_restx) (3.8.0)\n",
      "Requirement already satisfied: MarkupSafe>=2.0 in c:\\users\\gmlkd\\miniforge3\\envs\\fastcampus\\lib\\site-packages (from Jinja2>=3.0->Flask!=2.0.0,>=0.8->flask_restx) (2.1.1)\n",
      "Installing collected packages: aniso8601, flask_restx\n",
      "Successfully installed aniso8601-9.0.1 flask_restx-0.5.1\n",
      "Note: you may need to restart the kernel to use updated packages.\n"
     ]
    },
    {
     "name": "stderr",
     "output_type": "stream",
     "text": [
      "WARNING: Error parsing requirements for yellowbrick: [Errno 2] No such file or directory: 'c:\\\\users\\\\gmlkd\\\\miniforge3\\\\envs\\\\fastcampus\\\\lib\\\\site-packages\\\\yellowbrick-1.4.dist-info\\\\METADATA'\n"
     ]
    }
   ],
   "source": [
    "%pip install flask_restx"
   ]
  },
  {
   "cell_type": "code",
   "execution_count": 3,
   "id": "8579bb86",
   "metadata": {},
   "outputs": [],
   "source": [
    "from flask import Flask\n",
    "from flask import render_template\n",
    "from flask_restx import Api, Resource, reqparse"
   ]
  },
  {
   "cell_type": "code",
   "execution_count": 4,
   "id": "18fa17a1",
   "metadata": {},
   "outputs": [],
   "source": [
    "app = Flask(__name__)\n",
    "api = Api(app, version='1.0', title='API 문서', description='Swagger 문서', doc=\"/api-docs\")\n",
    "FlaskAPI = api.namespace('test', description='조회 API')"
   ]
  },
  {
   "cell_type": "code",
   "execution_count": 5,
   "id": "8ffbab0d",
   "metadata": {},
   "outputs": [],
   "source": [
    "@FlaskAPI.route('/hello')\n",
    "class hello_world(Resource):\n",
    "    def get(self):\n",
    "        return \"hello world\""
   ]
  },
  {
   "cell_type": "code",
   "execution_count": 6,
   "id": "4946c3b5",
   "metadata": {},
   "outputs": [],
   "source": [
    "@FlaskAPI.route('/product/<name>')\n",
    "class get_product(Resource):\n",
    "    def get(self):\n",
    "        return \"The product is \" + str(name)"
   ]
  },
  {
   "cell_type": "code",
   "execution_count": 7,
   "id": "40716105",
   "metadata": {},
   "outputs": [],
   "source": [
    "@FlaskAPI.route('/sale/<transaction_id>')\n",
    "class get_sale(Resource):\n",
    "    def get(self, transaction_id=0):\n",
    "        return \"The transaction is \"+str(transaction_id)"
   ]
  },
  {
   "cell_type": "code",
   "execution_count": 8,
   "id": "85729a5f",
   "metadata": {},
   "outputs": [],
   "source": [
    "@FlaskAPI.route('/create/<first_name>/<last_name>')\n",
    "class create(Resource):\n",
    "    def get(self, first_name=None, last_name=None):\n",
    "        return 'Hello ' + first_name + ',' + last_name"
   ]
  },
  {
   "cell_type": "code",
   "execution_count": 9,
   "id": "1fc097aa",
   "metadata": {},
   "outputs": [
    {
     "name": "stdout",
     "output_type": "stream",
     "text": [
      " * Serving Flask app '__main__' (lazy loading)\n",
      " * Environment: production\n",
      "\u001b[31m   WARNING: This is a development server. Do not use it in a production deployment.\u001b[0m\n",
      "\u001b[2m   Use a production WSGI server instead.\u001b[0m\n",
      " * Debug mode: off\n"
     ]
    },
    {
     "name": "stderr",
     "output_type": "stream",
     "text": [
      " * Running on all addresses (0.0.0.0)\n",
      "   WARNING: This is a development server. Do not use it in a production deployment.\n",
      " * Running on http://127.0.0.1:5000\n",
      " * Running on http://192.168.55.187:5000 (Press CTRL+C to quit)\n",
      "192.168.55.187 - - [06/Jul/2022 16:09:49] \"GET / HTTP/1.1\" 404 -\n",
      "192.168.55.187 - - [06/Jul/2022 16:09:49] \"GET / HTTP/1.1\" 404 -\n",
      "192.168.55.187 - - [06/Jul/2022 16:09:55] \"GET /test/hello HTTP/1.1\" 200 -\n",
      "192.168.55.187 - - [06/Jul/2022 16:09:55] \"GET /test/hello HTTP/1.1\" 200 -\n",
      "192.168.55.187 - - [06/Jul/2022 16:10:18] \"GET /api-docs HTTP/1.1\" 200 -\n",
      "192.168.55.187 - - [06/Jul/2022 16:10:18] \"GET /swaggerui/droid-sans.css HTTP/1.1\" 200 -\n",
      "192.168.55.187 - - [06/Jul/2022 16:10:18] \"GET /swaggerui/swagger-ui.css HTTP/1.1\" 200 -\n",
      "192.168.55.187 - - [06/Jul/2022 16:10:18] \"GET /swaggerui/swagger-ui-standalone-preset.js HTTP/1.1\" 200 -\n",
      "192.168.55.187 - - [06/Jul/2022 16:10:18] \"GET /swaggerui/swagger-ui-bundle.js HTTP/1.1\" 200 -\n",
      "192.168.55.187 - - [06/Jul/2022 16:10:18] \"GET /api-docs HTTP/1.1\" 200 -\n",
      "192.168.55.187 - - [06/Jul/2022 16:10:18] \"GET /swagger.json HTTP/1.1\" 200 -\n",
      "192.168.55.187 - - [06/Jul/2022 16:10:18] \"GET /swaggerui/favicon-32x32.png HTTP/1.1\" 200 -\n",
      "192.168.55.187 - - [06/Jul/2022 16:10:22] \"GET /swagger.json HTTP/1.1\" 200 -\n",
      "192.168.55.187 - - [06/Jul/2022 16:10:22] \"GET /swagger.json HTTP/1.1\" 200 -\n",
      "[2022-07-06 16:12:13,316] ERROR in app: Exception on /test/product/lhm [GET]\n",
      "Traceback (most recent call last):\n",
      "  File \"c:\\Users\\gmlkd\\miniforge3\\envs\\fastcampus\\lib\\site-packages\\flask\\app.py\", line 1523, in full_dispatch_request\n",
      "    rv = self.dispatch_request()\n",
      "  File \"c:\\Users\\gmlkd\\miniforge3\\envs\\fastcampus\\lib\\site-packages\\flask\\app.py\", line 1509, in dispatch_request\n",
      "    return self.ensure_sync(self.view_functions[rule.endpoint])(**req.view_args)\n",
      "  File \"c:\\Users\\gmlkd\\miniforge3\\envs\\fastcampus\\lib\\site-packages\\flask_restx\\api.py\", line 403, in wrapper\n",
      "    resp = resource(*args, **kwargs)\n",
      "  File \"c:\\Users\\gmlkd\\miniforge3\\envs\\fastcampus\\lib\\site-packages\\flask\\views.py\", line 84, in view\n",
      "    return current_app.ensure_sync(self.dispatch_request)(*args, **kwargs)\n",
      "  File \"c:\\Users\\gmlkd\\miniforge3\\envs\\fastcampus\\lib\\site-packages\\flask_restx\\resource.py\", line 49, in dispatch_request\n",
      "    resp = meth(*args, **kwargs)\n",
      "TypeError: get() got an unexpected keyword argument 'name'\n",
      "192.168.55.187 - - [06/Jul/2022 16:12:13] \"GET /test/product/lhm HTTP/1.1\" 500 -\n",
      "[2022-07-06 16:12:13,413] ERROR in app: Exception on /test/product/lhm [GET]\n",
      "Traceback (most recent call last):\n",
      "  File \"c:\\Users\\gmlkd\\miniforge3\\envs\\fastcampus\\lib\\site-packages\\flask\\app.py\", line 1523, in full_dispatch_request\n",
      "    rv = self.dispatch_request()\n",
      "  File \"c:\\Users\\gmlkd\\miniforge3\\envs\\fastcampus\\lib\\site-packages\\flask\\app.py\", line 1509, in dispatch_request\n",
      "    return self.ensure_sync(self.view_functions[rule.endpoint])(**req.view_args)\n",
      "  File \"c:\\Users\\gmlkd\\miniforge3\\envs\\fastcampus\\lib\\site-packages\\flask_restx\\api.py\", line 403, in wrapper\n",
      "    resp = resource(*args, **kwargs)\n",
      "  File \"c:\\Users\\gmlkd\\miniforge3\\envs\\fastcampus\\lib\\site-packages\\flask\\views.py\", line 84, in view\n",
      "    return current_app.ensure_sync(self.dispatch_request)(*args, **kwargs)\n",
      "  File \"c:\\Users\\gmlkd\\miniforge3\\envs\\fastcampus\\lib\\site-packages\\flask_restx\\resource.py\", line 49, in dispatch_request\n",
      "    resp = meth(*args, **kwargs)\n",
      "TypeError: get() got an unexpected keyword argument 'name'\n",
      "192.168.55.187 - - [06/Jul/2022 16:12:13] \"GET /test/product/lhm HTTP/1.1\" 500 -\n",
      "192.168.55.187 - - [06/Jul/2022 16:12:24] \"GET /product/lhm HTTP/1.1\" 404 -\n",
      "192.168.55.187 - - [06/Jul/2022 16:12:24] \"GET /product/lhm HTTP/1.1\" 404 -\n",
      "[2022-07-06 16:12:43,022] ERROR in app: Exception on /test/product/lhm [GET]\n",
      "Traceback (most recent call last):\n",
      "  File \"c:\\Users\\gmlkd\\miniforge3\\envs\\fastcampus\\lib\\site-packages\\flask\\app.py\", line 1523, in full_dispatch_request\n",
      "    rv = self.dispatch_request()\n",
      "  File \"c:\\Users\\gmlkd\\miniforge3\\envs\\fastcampus\\lib\\site-packages\\flask\\app.py\", line 1509, in dispatch_request\n",
      "    return self.ensure_sync(self.view_functions[rule.endpoint])(**req.view_args)\n",
      "  File \"c:\\Users\\gmlkd\\miniforge3\\envs\\fastcampus\\lib\\site-packages\\flask_restx\\api.py\", line 403, in wrapper\n",
      "    resp = resource(*args, **kwargs)\n",
      "  File \"c:\\Users\\gmlkd\\miniforge3\\envs\\fastcampus\\lib\\site-packages\\flask\\views.py\", line 84, in view\n",
      "    return current_app.ensure_sync(self.dispatch_request)(*args, **kwargs)\n",
      "  File \"c:\\Users\\gmlkd\\miniforge3\\envs\\fastcampus\\lib\\site-packages\\flask_restx\\resource.py\", line 49, in dispatch_request\n",
      "    resp = meth(*args, **kwargs)\n",
      "TypeError: get() got an unexpected keyword argument 'name'\n",
      "192.168.55.187 - - [06/Jul/2022 16:12:43] \"GET /test/product/lhm HTTP/1.1\" 500 -\n",
      "[2022-07-06 16:12:43,132] ERROR in app: Exception on /test/product/lhm [GET]\n",
      "Traceback (most recent call last):\n",
      "  File \"c:\\Users\\gmlkd\\miniforge3\\envs\\fastcampus\\lib\\site-packages\\flask\\app.py\", line 1523, in full_dispatch_request\n",
      "    rv = self.dispatch_request()\n",
      "  File \"c:\\Users\\gmlkd\\miniforge3\\envs\\fastcampus\\lib\\site-packages\\flask\\app.py\", line 1509, in dispatch_request\n",
      "    return self.ensure_sync(self.view_functions[rule.endpoint])(**req.view_args)\n",
      "  File \"c:\\Users\\gmlkd\\miniforge3\\envs\\fastcampus\\lib\\site-packages\\flask_restx\\api.py\", line 403, in wrapper\n",
      "    resp = resource(*args, **kwargs)\n",
      "  File \"c:\\Users\\gmlkd\\miniforge3\\envs\\fastcampus\\lib\\site-packages\\flask\\views.py\", line 84, in view\n",
      "    return current_app.ensure_sync(self.dispatch_request)(*args, **kwargs)\n",
      "  File \"c:\\Users\\gmlkd\\miniforge3\\envs\\fastcampus\\lib\\site-packages\\flask_restx\\resource.py\", line 49, in dispatch_request\n",
      "    resp = meth(*args, **kwargs)\n",
      "TypeError: get() got an unexpected keyword argument 'name'\n",
      "192.168.55.187 - - [06/Jul/2022 16:12:43] \"GET /test/product/lhm HTTP/1.1\" 500 -\n",
      "192.168.55.187 - - [06/Jul/2022 16:12:52] \"GET /test/sale HTTP/1.1\" 404 -\n",
      "192.168.55.187 - - [06/Jul/2022 16:12:53] \"GET /test/sale HTTP/1.1\" 404 -\n",
      "192.168.55.187 - - [06/Jul/2022 16:13:00] \"GET /test/sale/123 HTTP/1.1\" 200 -\n",
      "192.168.55.187 - - [06/Jul/2022 16:13:00] \"GET /test/sale/123 HTTP/1.1\" 200 -\n"
     ]
    }
   ],
   "source": [
    "app.run(host='0.0.0.0', port=5000)"
   ]
  },
  {
   "cell_type": "code",
   "execution_count": null,
   "id": "13870a9c",
   "metadata": {},
   "outputs": [],
   "source": [
    "# http://127.0.0.1:5000/test/hello\n",
    "# http://127.0.0.1:5000/test/sale/300"
   ]
  }
 ],
 "metadata": {
  "kernelspec": {
   "display_name": "Python 3.8.13 ('fastcampus')",
   "language": "python",
   "name": "python3"
  },
  "language_info": {
   "codemirror_mode": {
    "name": "ipython",
    "version": 3
   },
   "file_extension": ".py",
   "mimetype": "text/x-python",
   "name": "python",
   "nbconvert_exporter": "python",
   "pygments_lexer": "ipython3",
   "version": "3.8.13"
  },
  "vscode": {
   "interpreter": {
    "hash": "d03f6901b6a42dbe3cd1c26aed86af13911a401140e63ddc3b23a4d593814a4d"
   }
  }
 },
 "nbformat": 4,
 "nbformat_minor": 5
}
