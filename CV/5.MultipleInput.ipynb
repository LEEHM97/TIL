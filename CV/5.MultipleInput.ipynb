{
 "cells": [
  {
   "cell_type": "markdown",
   "id": "a4021b4a",
   "metadata": {},
   "source": [
    "## 참고: https://hleecaster.com/ml-linear-regression-example/"
   ]
  },
  {
   "cell_type": "markdown",
   "id": "54d4f2b0",
   "metadata": {},
   "source": [
    "## 라이브러리 설치, 호출"
   ]
  },
  {
   "cell_type": "markdown",
   "id": "e2853ab4",
   "metadata": {},
   "source": [
    "!pip3 install -U scikit-learn<br>\n",
    "!pip3 install pandas<br>\n",
    "!pip3 install numpy<br>\n",
    "!pip3 install matplotlib<br>\n",
    "!pip3 install statsmodels<br>"
   ]
  },
  {
   "cell_type": "code",
   "execution_count": 1,
   "id": "f1c2d373",
   "metadata": {},
   "outputs": [],
   "source": [
    "import tensorflow as tf\n",
    "import pandas as pd\n",
    "import numpy as np\n",
    "import matplotlib.pyplot as plt\n",
    "import statsmodels.api as sm\n",
    "\n",
    "from tensorflow.keras.models import Sequential, load_model\n",
    "from tensorflow.keras.layers import Input, Dense, Concatenate, InputLayer\n",
    "from tensorflow.keras.optimizers import SGD, Adam\n",
    "\n",
    "from tensorflow.keras.callbacks import ModelCheckpoint, TensorBoard, ReduceLROnPlateau\n",
    "\n",
    "from tensorflow.keras.models import Model"
   ]
  },
  {
   "cell_type": "markdown",
   "id": "d8a92498",
   "metadata": {},
   "source": [
    "## 데이터 다운로드 (특별할인 판매)"
   ]
  },
  {
   "cell_type": "code",
   "execution_count": 3,
   "id": "cbdefba7",
   "metadata": {},
   "outputs": [],
   "source": [
    "import pandas as pd\n",
    "TRAIN = pd.read_csv('./SkinCancer/LungCancer/train.csv')\n",
    "VALID = pd.read_csv('./SkinCancer/LungCancer/valid.csv')"
   ]
  },
  {
   "cell_type": "code",
   "execution_count": 4,
   "id": "3c130fd2",
   "metadata": {},
   "outputs": [
    {
     "data": {
      "text/html": [
       "<div>\n",
       "<style scoped>\n",
       "    .dataframe tbody tr th:only-of-type {\n",
       "        vertical-align: middle;\n",
       "    }\n",
       "\n",
       "    .dataframe tbody tr th {\n",
       "        vertical-align: top;\n",
       "    }\n",
       "\n",
       "    .dataframe thead th {\n",
       "        text-align: right;\n",
       "    }\n",
       "</style>\n",
       "<table border=\"1\" class=\"dataframe\">\n",
       "  <thead>\n",
       "    <tr style=\"text-align: right;\">\n",
       "      <th></th>\n",
       "      <th>Relapse</th>\n",
       "      <th>CEA_Post</th>\n",
       "      <th>Lymphatic</th>\n",
       "      <th>Vascular</th>\n",
       "      <th>pStage</th>\n",
       "      <th>pT</th>\n",
       "      <th>pN</th>\n",
       "      <th>Perineural</th>\n",
       "      <th>Age</th>\n",
       "    </tr>\n",
       "  </thead>\n",
       "  <tbody>\n",
       "    <tr>\n",
       "      <th>0</th>\n",
       "      <td>0</td>\n",
       "      <td>0.0</td>\n",
       "      <td>0</td>\n",
       "      <td>0</td>\n",
       "      <td>4</td>\n",
       "      <td>2</td>\n",
       "      <td>2</td>\n",
       "      <td>0</td>\n",
       "      <td>73</td>\n",
       "    </tr>\n",
       "    <tr>\n",
       "      <th>1</th>\n",
       "      <td>0</td>\n",
       "      <td>1.2</td>\n",
       "      <td>1</td>\n",
       "      <td>0</td>\n",
       "      <td>4</td>\n",
       "      <td>2</td>\n",
       "      <td>2</td>\n",
       "      <td>1</td>\n",
       "      <td>73</td>\n",
       "    </tr>\n",
       "    <tr>\n",
       "      <th>2</th>\n",
       "      <td>1</td>\n",
       "      <td>1.8</td>\n",
       "      <td>1</td>\n",
       "      <td>0</td>\n",
       "      <td>4</td>\n",
       "      <td>1</td>\n",
       "      <td>2</td>\n",
       "      <td>0</td>\n",
       "      <td>53</td>\n",
       "    </tr>\n",
       "    <tr>\n",
       "      <th>3</th>\n",
       "      <td>0</td>\n",
       "      <td>0.0</td>\n",
       "      <td>1</td>\n",
       "      <td>0</td>\n",
       "      <td>4</td>\n",
       "      <td>2</td>\n",
       "      <td>2</td>\n",
       "      <td>0</td>\n",
       "      <td>57</td>\n",
       "    </tr>\n",
       "    <tr>\n",
       "      <th>4</th>\n",
       "      <td>1</td>\n",
       "      <td>52.0</td>\n",
       "      <td>1</td>\n",
       "      <td>1</td>\n",
       "      <td>6</td>\n",
       "      <td>4</td>\n",
       "      <td>3</td>\n",
       "      <td>0</td>\n",
       "      <td>65</td>\n",
       "    </tr>\n",
       "  </tbody>\n",
       "</table>\n",
       "</div>"
      ],
      "text/plain": [
       "   Relapse  CEA_Post  Lymphatic  Vascular  pStage  pT  pN  Perineural  Age\n",
       "0        0       0.0          0         0       4   2   2           0   73\n",
       "1        0       1.2          1         0       4   2   2           1   73\n",
       "2        1       1.8          1         0       4   1   2           0   53\n",
       "3        0       0.0          1         0       4   2   2           0   57\n",
       "4        1      52.0          1         1       6   4   3           0   65"
      ]
     },
     "execution_count": 4,
     "metadata": {},
     "output_type": "execute_result"
    }
   ],
   "source": [
    "TRAIN.head()"
   ]
  },
  {
   "cell_type": "markdown",
   "id": "82009ce6",
   "metadata": {},
   "source": [
    "# Input, Feature 설정"
   ]
  },
  {
   "cell_type": "code",
   "execution_count": 5,
   "id": "26711f83",
   "metadata": {},
   "outputs": [],
   "source": [
    "TRAIN_y = TRAIN[['Relapse']]\n",
    "TRAIN_x = TRAIN[ TRAIN.columns[1:] ]\n",
    "\n",
    "VALID_y = VALID[['Relapse']]\n",
    "VALID_x = VALID[ VALID.columns[1:] ]"
   ]
  },
  {
   "cell_type": "code",
   "execution_count": 6,
   "id": "219160b9",
   "metadata": {},
   "outputs": [],
   "source": [
    "TRAIN_x1 = TRAIN_x.iloc[:, :4]\n",
    "TRAIN_x2 = TRAIN_x.iloc[:, 4:8]"
   ]
  },
  {
   "cell_type": "code",
   "execution_count": 7,
   "id": "0c26e0d5",
   "metadata": {},
   "outputs": [],
   "source": [
    "VALID_x1 = VALID_x.iloc[:, :4]\n",
    "VALID_x2 = VALID_x.iloc[:, 4:8]"
   ]
  },
  {
   "cell_type": "markdown",
   "id": "475ec0b3",
   "metadata": {},
   "source": [
    "## Keras, Multiple-input Logit 모델 architecture"
   ]
  },
  {
   "cell_type": "code",
   "execution_count": 9,
   "id": "8fdfaee9",
   "metadata": {},
   "outputs": [],
   "source": [
    "InputA = Input(shape=(TRAIN_x1.shape[1],), dtype='int32', name='inputA')\n",
    "x = Dense(10, activation='relu')(InputA)\n",
    "OutputA = Dense(4, activation='relu')(x)"
   ]
  },
  {
   "cell_type": "code",
   "execution_count": 10,
   "id": "2e0b878e",
   "metadata": {},
   "outputs": [],
   "source": [
    "InputB = Input(shape=(TRAIN_x1.shape[1],), dtype='int32', name='inputB')\n",
    "x = Dense(10, activation='relu')(InputB)\n",
    "OutputB = Dense(4, activation='relu')(x)"
   ]
  },
  {
   "cell_type": "code",
   "execution_count": 11,
   "id": "dba3a3d2",
   "metadata": {},
   "outputs": [],
   "source": [
    "Merged = Concatenate(axis=1)([OutputA, OutputB])\n",
    "Output = Dense(1, activation='sigmoid')(Merged)"
   ]
  },
  {
   "cell_type": "code",
   "execution_count": 12,
   "id": "0e71a69d",
   "metadata": {},
   "outputs": [],
   "source": [
    "Model = tf.keras.models.Model(inputs=[InputA, InputB], outputs=Output)"
   ]
  },
  {
   "cell_type": "code",
   "execution_count": 13,
   "id": "08c683d4",
   "metadata": {
    "scrolled": true
   },
   "outputs": [
    {
     "name": "stdout",
     "output_type": "stream",
     "text": [
      "Model: \"model\"\n",
      "__________________________________________________________________________________________________\n",
      " Layer (type)                   Output Shape         Param #     Connected to                     \n",
      "==================================================================================================\n",
      " inputA (InputLayer)            [(None, 4)]          0           []                               \n",
      "                                                                                                  \n",
      " inputB (InputLayer)            [(None, 4)]          0           []                               \n",
      "                                                                                                  \n",
      " dense (Dense)                  (None, 10)           50          ['inputA[0][0]']                 \n",
      "                                                                                                  \n",
      " dense_2 (Dense)                (None, 10)           50          ['inputB[0][0]']                 \n",
      "                                                                                                  \n",
      " dense_1 (Dense)                (None, 4)            44          ['dense[0][0]']                  \n",
      "                                                                                                  \n",
      " dense_3 (Dense)                (None, 4)            44          ['dense_2[0][0]']                \n",
      "                                                                                                  \n",
      " concatenate (Concatenate)      (None, 8)            0           ['dense_1[0][0]',                \n",
      "                                                                  'dense_3[0][0]']                \n",
      "                                                                                                  \n",
      " dense_4 (Dense)                (None, 1)            9           ['concatenate[0][0]']            \n",
      "                                                                                                  \n",
      "==================================================================================================\n",
      "Total params: 197\n",
      "Trainable params: 197\n",
      "Non-trainable params: 0\n",
      "__________________________________________________________________________________________________\n"
     ]
    }
   ],
   "source": [
    "Model.summary()"
   ]
  },
  {
   "cell_type": "code",
   "execution_count": 37,
   "id": "5d09289f",
   "metadata": {},
   "outputs": [],
   "source": [
    "Model.compile(loss='binary_crossentropy',optimizer=Adam(learning_rate=0.001))"
   ]
  },
  {
   "cell_type": "code",
   "execution_count": null,
   "id": "f779066e",
   "metadata": {},
   "outputs": [],
   "source": [
    "Model.fit(x=[TRAIN_x1, TRAIN_x2], y=TRAIN_y, epochs=300, shuffle=True)"
   ]
  },
  {
   "cell_type": "code",
   "execution_count": 44,
   "id": "26db6a3b",
   "metadata": {},
   "outputs": [
    {
     "name": "stdout",
     "output_type": "stream",
     "text": [
      "You must install pydot (`pip install pydot`) and install graphviz (see instructions at https://graphviz.gitlab.io/download/) for plot_model/model_to_dot to work.\n"
     ]
    }
   ],
   "source": [
    "tf.keras.utils.plot_model(model=Model, show_shapes=True)"
   ]
  },
  {
   "cell_type": "code",
   "execution_count": 48,
   "id": "c14e1c34",
   "metadata": {},
   "outputs": [],
   "source": [
    "# Call-back 함수\n",
    "# CheckPoint: Epoch 마다 validation 성능을 검증하여, best performance 일 경우 저장\n",
    "CP = ModelCheckpoint(filepath='{epoch:03d}-{loss:.4f}-{val_loss:.4f}.hdf5',\n",
    "            monitor='val_loss', verbose=1, save_best_only=True, mode='min')\n",
    "#minitor -> loss -> val_loss\n",
    "\n",
    "# Learning Rate 줄여나가기\n",
    "LR = ReduceLROnPlateau(monitor='val_loss', factor=0.6, patience=4,\n",
    "                       verbose=1, min_lr=1e-8)\n",
    "# factor: Learning rate에 곱할 것.\n",
    "#0.1 -> 0.08 -> 0.064 ....\n",
    "#monitor='loss' -> monitor='val_loss'\n",
    "\n",
    "CALLBACK = [CP, LR]"
   ]
  },
  {
   "cell_type": "code",
   "execution_count": 49,
   "id": "75ac0716",
   "metadata": {},
   "outputs": [
    {
     "name": "stdout",
     "output_type": "stream",
     "text": [
      "Epoch 1/5\n",
      " 1/13 [=>............................] - ETA: 0s - loss: 0.8994\n",
      "Epoch 1: val_loss improved from inf to 1.00253, saving model to 001-1.0442-1.0025.hdf5\n",
      "13/13 [==============================] - 0s 15ms/step - loss: 1.0442 - val_loss: 1.0025 - lr: 0.0010\n",
      "Epoch 2/5\n",
      " 1/13 [=>............................] - ETA: 0s - loss: 0.9527\n",
      "Epoch 2: val_loss improved from 1.00253 to 0.99973, saving model to 002-1.0398-0.9997.hdf5\n",
      "13/13 [==============================] - 0s 16ms/step - loss: 1.0398 - val_loss: 0.9997 - lr: 0.0010\n",
      "Epoch 3/5\n",
      " 1/13 [=>............................] - ETA: 0s - loss: 1.1481\n",
      "Epoch 3: val_loss improved from 0.99973 to 0.99652, saving model to 003-1.0347-0.9965.hdf5\n",
      "13/13 [==============================] - 0s 15ms/step - loss: 1.0347 - val_loss: 0.9965 - lr: 0.0010\n",
      "Epoch 4/5\n",
      " 1/13 [=>............................] - ETA: 0s - loss: 0.9468\n",
      "Epoch 4: val_loss improved from 0.99652 to 0.99268, saving model to 004-1.0304-0.9927.hdf5\n",
      "13/13 [==============================] - 0s 15ms/step - loss: 1.0304 - val_loss: 0.9927 - lr: 0.0010\n",
      "Epoch 5/5\n",
      " 1/13 [=>............................] - ETA: 0s - loss: 0.7411\n",
      "Epoch 5: val_loss improved from 0.99268 to 0.99069, saving model to 005-1.0254-0.9907.hdf5\n",
      "13/13 [==============================] - 0s 15ms/step - loss: 1.0254 - val_loss: 0.9907 - lr: 0.0010\n"
     ]
    },
    {
     "data": {
      "text/plain": [
       "<keras.callbacks.History at 0x1cd582d1f30>"
      ]
     },
     "execution_count": 49,
     "metadata": {},
     "output_type": "execute_result"
    }
   ],
   "source": [
    "Model.fit(x=[TRAIN_x1, TRAIN_x2], y=TRAIN_y, epochs=5, shuffle=True,\n",
    "          batch_size=32, callbacks=CALLBACK, validation_data = ([VALID_x1, VALID_x2], VALID_y))"
   ]
  }
 ],
 "metadata": {
  "kernelspec": {
   "display_name": "Python 3.9.13 ('base')",
   "language": "python",
   "name": "python3"
  },
  "language_info": {
   "codemirror_mode": {
    "name": "ipython",
    "version": 3
   },
   "file_extension": ".py",
   "mimetype": "text/x-python",
   "name": "python",
   "nbconvert_exporter": "python",
   "pygments_lexer": "ipython3",
   "version": "3.9.13"
  },
  "vscode": {
   "interpreter": {
    "hash": "060f26108eb28840d4dbd90fbb70eca8999773909f2b71005fa4bb99c8a84d9b"
   }
  }
 },
 "nbformat": 4,
 "nbformat_minor": 5
}
