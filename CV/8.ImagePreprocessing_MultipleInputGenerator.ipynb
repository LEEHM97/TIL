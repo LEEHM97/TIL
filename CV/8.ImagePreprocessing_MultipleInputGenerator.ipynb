{
 "cells": [
  {
   "cell_type": "code",
   "execution_count": 1,
   "id": "9d4ab4b7",
   "metadata": {},
   "outputs": [],
   "source": [
    "import tensorflow as tf\n",
    "import numpy as np\n",
    "\n",
    "import pandas as pd\n",
    "import cv2\n",
    "import os\n",
    "import math\n",
    "import scipy as sp\n",
    "import PIL\n",
    "\n",
    "# Tensorflow\n",
    "from tensorflow.keras import models, layers, Model\n",
    "from tensorflow.keras.models import Sequential, load_model\n",
    "from tensorflow.keras.layers import Conv2D, MaxPooling2D\n",
    "from tensorflow.keras.layers import Dense, Dropout, Flatten, GlobalAveragePooling2D\n",
    "from tensorflow.keras.layers import Flatten, Dense, Dropout, ZeroPadding2D\n",
    "\n",
    "from tensorflow.keras.preprocessing.image import ImageDataGenerator\n",
    "from tensorflow.keras.callbacks import ModelCheckpoint, TensorBoard, ReduceLROnPlateau\n",
    "from tensorflow.keras import optimizers\n",
    "from tensorflow.keras.optimizers import SGD\n",
    "from tensorflow.keras.models import Model\n",
    "from tensorflow.keras.preprocessing import image\n",
    "from tensorflow.keras.applications import EfficientNetB4, EfficientNetB6, ResNet50V2\n",
    "#from keras_tuner.tuners import RandomSearch\n",
    "\n",
    "import scikitplot as skplt\n",
    "from sklearn.metrics import roc_auc_score\n",
    "from matplotlib import pyplot as plt\n",
    "import matplotlib.pyplot as plt"
   ]
  },
  {
   "cell_type": "code",
   "execution_count": 2,
   "id": "f3717248",
   "metadata": {},
   "outputs": [],
   "source": [
    "# batch_size: 한번에 forward & Backword 하는 샘플의 수\n",
    "batch_size = 12\n",
    "\n",
    "# Training 수\n",
    "epochs = 50\n",
    "\n",
    "# Weight 조절 parameter\n",
    "LearningRate = 1e-3 # 0.001\n",
    "Decay = 1e-6\n",
    "\n",
    "img_width = 224\n",
    "img_height = 224"
   ]
  },
  {
   "cell_type": "markdown",
   "id": "c48d5f5c",
   "metadata": {},
   "source": [
    "# Data Information in DataFrame"
   ]
  },
  {
   "cell_type": "code",
   "execution_count": 3,
   "id": "2c110a09",
   "metadata": {},
   "outputs": [],
   "source": [
    "# 디렉토리 경로 설정 필요\n",
    "CurrentDirectory = \"./\"\n",
    "\n",
    "TRAIN_DF = pd.read_csv(\"TRAIN.csv\")\n",
    "TEST_DF  = pd.read_csv(\"TEST.csv\" )"
   ]
  },
  {
   "cell_type": "code",
   "execution_count": 4,
   "id": "fe9cb48d",
   "metadata": {},
   "outputs": [],
   "source": [
    "TRAIN_DF['sex'] = pd.get_dummies(TRAIN_DF['sex'])['female'].astype('float')\n",
    "TEST_DF ['sex'] = pd.get_dummies( TEST_DF['sex'])['female'].astype('float')"
   ]
  },
  {
   "cell_type": "code",
   "execution_count": 5,
   "id": "bbf986d7",
   "metadata": {},
   "outputs": [
    {
     "data": {
      "text/html": [
       "<div>\n",
       "<style scoped>\n",
       "    .dataframe tbody tr th:only-of-type {\n",
       "        vertical-align: middle;\n",
       "    }\n",
       "\n",
       "    .dataframe tbody tr th {\n",
       "        vertical-align: top;\n",
       "    }\n",
       "\n",
       "    .dataframe thead th {\n",
       "        text-align: right;\n",
       "    }\n",
       "</style>\n",
       "<table border=\"1\" class=\"dataframe\">\n",
       "  <thead>\n",
       "    <tr style=\"text-align: right;\">\n",
       "      <th></th>\n",
       "      <th>filename</th>\n",
       "      <th>lesion_id</th>\n",
       "      <th>image_id</th>\n",
       "      <th>dx</th>\n",
       "      <th>dx_type</th>\n",
       "      <th>age</th>\n",
       "      <th>sex</th>\n",
       "      <th>localization</th>\n",
       "    </tr>\n",
       "  </thead>\n",
       "  <tbody>\n",
       "    <tr>\n",
       "      <th>0</th>\n",
       "      <td>akiec/ISIC_0024372.jpg</td>\n",
       "      <td>HAM_0005389</td>\n",
       "      <td>ISIC_0024372</td>\n",
       "      <td>akiec</td>\n",
       "      <td>histo</td>\n",
       "      <td>70</td>\n",
       "      <td>0.0</td>\n",
       "      <td>lower extremity</td>\n",
       "    </tr>\n",
       "    <tr>\n",
       "      <th>1</th>\n",
       "      <td>akiec/ISIC_0024418.jpg</td>\n",
       "      <td>HAM_0003380</td>\n",
       "      <td>ISIC_0024418</td>\n",
       "      <td>akiec</td>\n",
       "      <td>histo</td>\n",
       "      <td>75</td>\n",
       "      <td>1.0</td>\n",
       "      <td>lower extremity</td>\n",
       "    </tr>\n",
       "    <tr>\n",
       "      <th>2</th>\n",
       "      <td>akiec/ISIC_0024450.jpg</td>\n",
       "      <td>HAM_0005505</td>\n",
       "      <td>ISIC_0024450</td>\n",
       "      <td>akiec</td>\n",
       "      <td>histo</td>\n",
       "      <td>50</td>\n",
       "      <td>0.0</td>\n",
       "      <td>upper extremity</td>\n",
       "    </tr>\n",
       "    <tr>\n",
       "      <th>3</th>\n",
       "      <td>akiec/ISIC_0024463.jpg</td>\n",
       "      <td>HAM_0004568</td>\n",
       "      <td>ISIC_0024463</td>\n",
       "      <td>akiec</td>\n",
       "      <td>histo</td>\n",
       "      <td>50</td>\n",
       "      <td>0.0</td>\n",
       "      <td>upper extremity</td>\n",
       "    </tr>\n",
       "    <tr>\n",
       "      <th>4</th>\n",
       "      <td>akiec/ISIC_0024468.jpg</td>\n",
       "      <td>HAM_0006301</td>\n",
       "      <td>ISIC_0024468</td>\n",
       "      <td>akiec</td>\n",
       "      <td>histo</td>\n",
       "      <td>75</td>\n",
       "      <td>0.0</td>\n",
       "      <td>neck</td>\n",
       "    </tr>\n",
       "  </tbody>\n",
       "</table>\n",
       "</div>"
      ],
      "text/plain": [
       "                 filename    lesion_id      image_id     dx dx_type  age  sex  \\\n",
       "0  akiec/ISIC_0024372.jpg  HAM_0005389  ISIC_0024372  akiec   histo   70  0.0   \n",
       "1  akiec/ISIC_0024418.jpg  HAM_0003380  ISIC_0024418  akiec   histo   75  1.0   \n",
       "2  akiec/ISIC_0024450.jpg  HAM_0005505  ISIC_0024450  akiec   histo   50  0.0   \n",
       "3  akiec/ISIC_0024463.jpg  HAM_0004568  ISIC_0024463  akiec   histo   50  0.0   \n",
       "4  akiec/ISIC_0024468.jpg  HAM_0006301  ISIC_0024468  akiec   histo   75  0.0   \n",
       "\n",
       "      localization  \n",
       "0  lower extremity  \n",
       "1  lower extremity  \n",
       "2  upper extremity  \n",
       "3  upper extremity  \n",
       "4             neck  "
      ]
     },
     "execution_count": 5,
     "metadata": {},
     "output_type": "execute_result"
    }
   ],
   "source": [
    "TRAIN_DF.head()"
   ]
  },
  {
   "cell_type": "code",
   "execution_count": 6,
   "id": "5b299e9f",
   "metadata": {},
   "outputs": [
    {
     "data": {
      "text/html": [
       "<div>\n",
       "<style scoped>\n",
       "    .dataframe tbody tr th:only-of-type {\n",
       "        vertical-align: middle;\n",
       "    }\n",
       "\n",
       "    .dataframe tbody tr th {\n",
       "        vertical-align: top;\n",
       "    }\n",
       "\n",
       "    .dataframe thead th {\n",
       "        text-align: right;\n",
       "    }\n",
       "</style>\n",
       "<table border=\"1\" class=\"dataframe\">\n",
       "  <thead>\n",
       "    <tr style=\"text-align: right;\">\n",
       "      <th></th>\n",
       "      <th>filename</th>\n",
       "      <th>lesion_id</th>\n",
       "      <th>image_id</th>\n",
       "      <th>dx</th>\n",
       "      <th>dx_type</th>\n",
       "      <th>age</th>\n",
       "      <th>sex</th>\n",
       "      <th>localization</th>\n",
       "    </tr>\n",
       "  </thead>\n",
       "  <tbody>\n",
       "    <tr>\n",
       "      <th>0</th>\n",
       "      <td>akiec/ISIC_0024329.jpg</td>\n",
       "      <td>HAM_0002954</td>\n",
       "      <td>ISIC_0024329</td>\n",
       "      <td>akiec</td>\n",
       "      <td>histo</td>\n",
       "      <td>75</td>\n",
       "      <td>1.0</td>\n",
       "      <td>lower extremity</td>\n",
       "    </tr>\n",
       "    <tr>\n",
       "      <th>1</th>\n",
       "      <td>akiec/ISIC_0024707.jpg</td>\n",
       "      <td>HAM_0005448</td>\n",
       "      <td>ISIC_0024707</td>\n",
       "      <td>akiec</td>\n",
       "      <td>histo</td>\n",
       "      <td>60</td>\n",
       "      <td>0.0</td>\n",
       "      <td>face</td>\n",
       "    </tr>\n",
       "    <tr>\n",
       "      <th>2</th>\n",
       "      <td>akiec/ISIC_0024710.jpg</td>\n",
       "      <td>HAM_0004609</td>\n",
       "      <td>ISIC_0024710</td>\n",
       "      <td>akiec</td>\n",
       "      <td>histo</td>\n",
       "      <td>75</td>\n",
       "      <td>0.0</td>\n",
       "      <td>back</td>\n",
       "    </tr>\n",
       "    <tr>\n",
       "      <th>3</th>\n",
       "      <td>akiec/ISIC_0025247.jpg</td>\n",
       "      <td>HAM_0005231</td>\n",
       "      <td>ISIC_0025247</td>\n",
       "      <td>akiec</td>\n",
       "      <td>histo</td>\n",
       "      <td>70</td>\n",
       "      <td>0.0</td>\n",
       "      <td>lower extremity</td>\n",
       "    </tr>\n",
       "    <tr>\n",
       "      <th>4</th>\n",
       "      <td>akiec/ISIC_0025368.jpg</td>\n",
       "      <td>HAM_0004472</td>\n",
       "      <td>ISIC_0025368</td>\n",
       "      <td>akiec</td>\n",
       "      <td>histo</td>\n",
       "      <td>40</td>\n",
       "      <td>1.0</td>\n",
       "      <td>face</td>\n",
       "    </tr>\n",
       "  </tbody>\n",
       "</table>\n",
       "</div>"
      ],
      "text/plain": [
       "                 filename    lesion_id      image_id     dx dx_type  age  sex  \\\n",
       "0  akiec/ISIC_0024329.jpg  HAM_0002954  ISIC_0024329  akiec   histo   75  1.0   \n",
       "1  akiec/ISIC_0024707.jpg  HAM_0005448  ISIC_0024707  akiec   histo   60  0.0   \n",
       "2  akiec/ISIC_0024710.jpg  HAM_0004609  ISIC_0024710  akiec   histo   75  0.0   \n",
       "3  akiec/ISIC_0025247.jpg  HAM_0005231  ISIC_0025247  akiec   histo   70  0.0   \n",
       "4  akiec/ISIC_0025368.jpg  HAM_0004472  ISIC_0025368  akiec   histo   40  1.0   \n",
       "\n",
       "      localization  \n",
       "0  lower extremity  \n",
       "1             face  \n",
       "2             back  \n",
       "3  lower extremity  \n",
       "4             face  "
      ]
     },
     "execution_count": 6,
     "metadata": {},
     "output_type": "execute_result"
    }
   ],
   "source": [
    "TEST_DF.head()"
   ]
  },
  {
   "cell_type": "markdown",
   "id": "1387bb69",
   "metadata": {},
   "source": [
    "# Custom Generator with flow from directory"
   ]
  },
  {
   "cell_type": "code",
   "execution_count": 7,
   "id": "aebb7919",
   "metadata": {},
   "outputs": [],
   "source": [
    "class DataGenerator(tf.keras.utils.Sequence):\n",
    "    def __init__(self, Generator, dataFrame, directory, x_col, y_col, target_size, batch_size, shuffle, class_mode, subset=None):\n",
    "        self.GeneratorObject = Generator.flow_from_dataframe(\n",
    "                dataframe=dataFrame,\n",
    "                directory = directory,\n",
    "                x_col=x_col,\n",
    "                y_col=y_col,\n",
    "                target_size = target_size,\n",
    "                batch_size = batch_size,\n",
    "                shuffle = False,\n",
    "                class_mode = class_mode,\n",
    "                subset = subset)\n",
    "        self.n = self.GeneratorObject.n\n",
    "        self.dataframe = dataFrame\n",
    "        self.batch_size = batch_size\n",
    "        self.classes = self.GeneratorObject.classes\n",
    "        self.filenames = self.GeneratorObject.filenames\n",
    "        # shuffle 코드 추가\n",
    "        \n",
    "    def __len__(self):\n",
    "        return self.GeneratorObject.__len__()\n",
    "    \n",
    "    def getBatchIndex(self):\n",
    "        return self.GeneratorObject.batch_index\n",
    "\n",
    "    def __getitem__(self, index):\n",
    "        Images, Labels = self.GeneratorObject.__getitem__(index)\n",
    "        curBatchIDX = index * batch_size\n",
    "        X = self.dataframe.iloc[curBatchIDX : (curBatchIDX + Images.shape[0]), : ]\n",
    "        return [Images, np.array(X[['age', 'sex']])], Labels  ## 이미지와 임상변수를 함께 return 해준다\n",
    "    \n",
    "    def next(self):\n",
    "        curBatchIDX = self.GeneratorObject.batch_index * self.batch_size  # 한 번에 batch_size만큼 불러오기 때문에 곱해준다.\n",
    "        Images, Labels = self.GeneratorObject.next()\n",
    "        X = self.dataframe.iloc[curBatchIDX : (curBatchIDX + Images.shape[0]), : ]  # 마지막 batch에 남아있는 수 만큼 불러온다\n",
    "        return [Images, X[['age', 'sex']]], Labels   ## 이미지와 임상변수를 함께 return 해준다\n",
    "    \n",
    "    def on_epoch_end(self):\n",
    "        return self.GeneratorObject.on_epoch_end"
   ]
  },
  {
   "cell_type": "code",
   "execution_count": 8,
   "id": "b504577b",
   "metadata": {},
   "outputs": [],
   "source": [
    "# Online-augmentation 적용 Generator\n",
    "# 1. 이미지를 전부다 불러서 램 (메모리)에 올릴 수 없기 때문\n",
    "# 2. 이미지는 Augmentation을 해주는게 좋아서\n",
    "\n",
    "DATAGEN_TRAIN = ImageDataGenerator(\n",
    "    rescale=1./255,\n",
    "    rotation_range=20,\n",
    "    width_shift_range=0.2,\n",
    "    height_shift_range=0.2,\n",
    "    shear_range=0.2,\n",
    "    zoom_range=0.2,\n",
    "    horizontal_flip=True,\n",
    "    vertical_flip=True,\n",
    "    data_format=\"channels_last\",\n",
    "    validation_split=0.10) # Train / Validation\n",
    "\n",
    "DATAGEN_TEST = ImageDataGenerator(\n",
    "    rescale=1./255,\n",
    "    data_format=\"channels_last\",)"
   ]
  },
  {
   "cell_type": "code",
   "execution_count": 13,
   "id": "243ade9c",
   "metadata": {},
   "outputs": [
    {
     "name": "stdout",
     "output_type": "stream",
     "text": [
      "Found 719 validated image filenames belonging to 3 classes.\n"
     ]
    }
   ],
   "source": [
    "TRAIN_GENERATOR = DataGenerator(DATAGEN_TRAIN,\n",
    "    dataFrame=TRAIN_DF,\n",
    "    directory='./SkinCancer/TRAIN',\n",
    "    target_size = (224, 224),\n",
    "    batch_size = 12,\n",
    "    x_col=\"filename\",\n",
    "    y_col=\"dx\",\n",
    "    class_mode='categorical',\n",
    "    shuffle = True,\n",
    "    subset='training')"
   ]
  },
  {
   "cell_type": "code",
   "execution_count": 14,
   "id": "e85a61f5",
   "metadata": {},
   "outputs": [
    {
     "name": "stdout",
     "output_type": "stream",
     "text": [
      "Found 79 validated image filenames belonging to 3 classes.\n"
     ]
    }
   ],
   "source": [
    "VALID_GENERATOR = DataGenerator(DATAGEN_TRAIN,\n",
    "    dataFrame=TRAIN_DF,\n",
    "    directory='./SkinCancer/TRAIN',\n",
    "    target_size = (224, 224),\n",
    "    batch_size = 12,\n",
    "    x_col=\"filename\",\n",
    "    y_col=\"dx\",\n",
    "    class_mode='categorical',\n",
    "    shuffle = True,\n",
    "    subset='validation')"
   ]
  },
  {
   "cell_type": "code",
   "execution_count": 15,
   "id": "6d4c3ed4",
   "metadata": {},
   "outputs": [
    {
     "name": "stdout",
     "output_type": "stream",
     "text": [
      "Found 106 validated image filenames belonging to 3 classes.\n"
     ]
    }
   ],
   "source": [
    "TEST_GENERATOR = DataGenerator(DATAGEN_TEST,\n",
    "    dataFrame=TEST_DF,\n",
    "    directory='./SkinCancer/TEST',\n",
    "    target_size = (224, 224),\n",
    "    batch_size = 12,\n",
    "    x_col=\"filename\",\n",
    "    y_col=\"dx\",\n",
    "    class_mode='categorical',\n",
    "    shuffle = True,)"
   ]
  },
  {
   "cell_type": "code",
   "execution_count": 16,
   "id": "d73387be",
   "metadata": {},
   "outputs": [],
   "source": [
    "res = TRAIN_GENERATOR.__getitem__(0)"
   ]
  },
  {
   "cell_type": "code",
   "execution_count": 17,
   "id": "f1f3ccf1",
   "metadata": {},
   "outputs": [
    {
     "data": {
      "text/plain": [
       "(12, 224, 224, 3)"
      ]
     },
     "execution_count": 17,
     "metadata": {},
     "output_type": "execute_result"
    }
   ],
   "source": [
    "res[0][0].shape"
   ]
  },
  {
   "cell_type": "code",
   "execution_count": 18,
   "id": "f2d2a224",
   "metadata": {},
   "outputs": [
    {
     "name": "stdout",
     "output_type": "stream",
     "text": [
      "(12, 2)\n"
     ]
    }
   ],
   "source": [
    "print(res[0][1].shape)"
   ]
  },
  {
   "cell_type": "code",
   "execution_count": 19,
   "id": "5c7ae483",
   "metadata": {},
   "outputs": [
    {
     "data": {
      "text/plain": [
       "(12, 3)"
      ]
     },
     "execution_count": 19,
     "metadata": {},
     "output_type": "execute_result"
    }
   ],
   "source": [
    "res[1].shape"
   ]
  },
  {
   "cell_type": "code",
   "execution_count": 20,
   "id": "ff0a6e51",
   "metadata": {},
   "outputs": [],
   "source": [
    "BaseModel = tf.keras.applications.EfficientNetB0(include_top=False, weights='imagenet', input_tensor=None, input_shape=(img_width,img_height,3), pooling=None)\n",
    "CNN = GlobalAveragePooling2D()(BaseModel.output)\n",
    "\n",
    "InputB = tf.keras.layers.Input(shape=(2,), name='inputB')\n",
    "OutputB = Dense(2, activation='relu')(InputB)\n",
    "\n",
    "Merged = tf.keras.layers.Concatenate(axis=1)([CNN, OutputB])\n",
    "Output = Dense(3, activation='softmax')(Merged)\n",
    "\n",
    "DeepLearning = tf.keras.Model(inputs=[BaseModel.input, InputB], outputs=Output)"
   ]
  },
  {
   "cell_type": "code",
   "execution_count": 21,
   "id": "fb3cb00a",
   "metadata": {},
   "outputs": [
    {
     "name": "stderr",
     "output_type": "stream",
     "text": [
      "c:\\Users\\gmlkd\\miniforge3\\envs\\tensor2.9\\lib\\site-packages\\keras\\optimizers\\optimizer_v2\\gradient_descent.py:108: UserWarning: The `lr` argument is deprecated, use `learning_rate` instead.\n",
      "  super(SGD, self).__init__(name, **kwargs)\n"
     ]
    }
   ],
   "source": [
    "DeepLearning.compile(optimizer=\n",
    "         SGD(lr=LearningRate, decay=Decay, momentum=0.9, nesterov=True), \n",
    "         loss='categorical_crossentropy',\n",
    "         metrics=['acc']\n",
    ") # 나이를, MSE"
   ]
  },
  {
   "cell_type": "code",
   "execution_count": null,
   "id": "5283b188",
   "metadata": {},
   "outputs": [],
   "source": [
    "tf.keras.utils.plot_model(DeepLearning, show_shapes=True)"
   ]
  },
  {
   "cell_type": "code",
   "execution_count": null,
   "id": "3aaf70f4",
   "metadata": {},
   "outputs": [],
   "source": [
    "DeepLearning.summary()"
   ]
  },
  {
   "cell_type": "code",
   "execution_count": 20,
   "id": "05b316f2",
   "metadata": {},
   "outputs": [
    {
     "name": "stdout",
     "output_type": "stream",
     "text": [
      "60/60 [==============================] - 216s 3s/step - loss: 1.1582 - acc: 0.2949 - val_loss: 1.0124 - val_acc: 0.0000e+00\n"
     ]
    },
    {
     "data": {
      "text/plain": [
       "<keras.callbacks.History at 0x1602564d660>"
      ]
     },
     "execution_count": 20,
     "metadata": {},
     "output_type": "execute_result"
    }
   ],
   "source": [
    "DeepLearning.fit(TRAIN_GENERATOR,         \n",
    "        epochs=1,\n",
    "        validation_data=VALID_GENERATOR)"
   ]
  }
 ],
 "metadata": {
  "kernelspec": {
   "display_name": "Python 3.9.13 ('tensor2.9')",
   "language": "python",
   "name": "python3"
  },
  "language_info": {
   "codemirror_mode": {
    "name": "ipython",
    "version": 3
   },
   "file_extension": ".py",
   "mimetype": "text/x-python",
   "name": "python",
   "nbconvert_exporter": "python",
   "pygments_lexer": "ipython3",
   "version": "3.9.13"
  },
  "vscode": {
   "interpreter": {
    "hash": "71fd5fe6be37b4db0cd97162c0729102804300edc330f59999a435bca5ce69d1"
   }
  }
 },
 "nbformat": 4,
 "nbformat_minor": 5
}
