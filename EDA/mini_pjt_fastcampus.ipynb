{
 "cells": [
  {
   "cell_type": "code",
   "execution_count": 1,
   "id": "71a67f87",
   "metadata": {
    "ExecuteTime": {
     "end_time": "2022-05-11T23:56:32.312247Z",
     "start_time": "2022-05-11T23:56:32.301247Z"
    }
   },
   "outputs": [],
   "source": [
    "#pip install openpyxl"
   ]
  },
  {
   "cell_type": "code",
   "execution_count": 2,
   "id": "d0aa6040",
   "metadata": {
    "ExecuteTime": {
     "end_time": "2022-05-11T23:56:35.029937Z",
     "start_time": "2022-05-11T23:56:32.313249Z"
    }
   },
   "outputs": [],
   "source": [
    "import numpy as np\n",
    "import matplotlib.pyplot as plt\n",
    "import seaborn as sns\n",
    "import pandas as pd\n",
    "\n",
    "%matplotlib inline"
   ]
  },
  {
   "cell_type": "code",
   "execution_count": 3,
   "id": "67791fb8",
   "metadata": {
    "ExecuteTime": {
     "end_time": "2022-05-11T23:56:48.137998Z",
     "start_time": "2022-05-11T23:56:35.030940Z"
    }
   },
   "outputs": [],
   "source": [
    "df = pd.read_excel(\"데이터분석프로젝트_VER2_210329_210926.xlsx\")"
   ]
  },
  {
   "cell_type": "code",
   "execution_count": 4,
   "id": "048e91c9",
   "metadata": {
    "ExecuteTime": {
     "end_time": "2022-05-11T23:56:48.183970Z",
     "start_time": "2022-05-11T23:56:48.138950Z"
    }
   },
   "outputs": [
    {
     "data": {
      "text/html": [
       "<div>\n",
       "<style scoped>\n",
       "    .dataframe tbody tr th:only-of-type {\n",
       "        vertical-align: middle;\n",
       "    }\n",
       "\n",
       "    .dataframe tbody tr th {\n",
       "        vertical-align: top;\n",
       "    }\n",
       "\n",
       "    .dataframe thead th {\n",
       "        text-align: right;\n",
       "    }\n",
       "</style>\n",
       "<table border=\"1\" class=\"dataframe\">\n",
       "  <thead>\n",
       "    <tr style=\"text-align: right;\">\n",
       "      <th></th>\n",
       "      <th>id</th>\n",
       "      <th>customer_id</th>\n",
       "      <th>course_id</th>\n",
       "      <th>type</th>\n",
       "      <th>state</th>\n",
       "      <th>course_title</th>\n",
       "      <th>category_title</th>\n",
       "      <th>format</th>\n",
       "      <th>completed_at</th>\n",
       "      <th>transaction_amount</th>\n",
       "      <th>coupon_title</th>\n",
       "      <th>coupon_discount_amount</th>\n",
       "      <th>sale_price</th>\n",
       "      <th>tax_free_amount</th>\n",
       "      <th>pg</th>\n",
       "      <th>method</th>\n",
       "      <th>subcategory_title</th>\n",
       "      <th>marketing_start_at</th>\n",
       "    </tr>\n",
       "  </thead>\n",
       "  <tbody>\n",
       "    <tr>\n",
       "      <th>0</th>\n",
       "      <td>970634</td>\n",
       "      <td>504760.0</td>\n",
       "      <td>201435.0</td>\n",
       "      <td>ORDER</td>\n",
       "      <td>CANCELLED</td>\n",
       "      <td>올인원 패키지 : 알고리즘 기술면접 완전 정복</td>\n",
       "      <td>프로그래밍</td>\n",
       "      <td>올인원</td>\n",
       "      <td>2021-03-28 15:00:11</td>\n",
       "      <td>90500</td>\n",
       "      <td>NaN</td>\n",
       "      <td>NaN</td>\n",
       "      <td>110500.0</td>\n",
       "      <td>110500.0</td>\n",
       "      <td>NaN</td>\n",
       "      <td>VBANK</td>\n",
       "      <td>개발자 커리어</td>\n",
       "      <td>NaT</td>\n",
       "    </tr>\n",
       "    <tr>\n",
       "      <th>1</th>\n",
       "      <td>970650</td>\n",
       "      <td>432862.0</td>\n",
       "      <td>203178.0</td>\n",
       "      <td>ORDER</td>\n",
       "      <td>CANCELLED</td>\n",
       "      <td>초격차 패키지 : 한번에 끝내는 영상 촬영과 편집</td>\n",
       "      <td>영상/3D</td>\n",
       "      <td>올인원</td>\n",
       "      <td>2021-03-28 15:16:53</td>\n",
       "      <td>96000</td>\n",
       "      <td>NaN</td>\n",
       "      <td>NaN</td>\n",
       "      <td>116000.0</td>\n",
       "      <td>116000.0</td>\n",
       "      <td>NaN</td>\n",
       "      <td>CARD</td>\n",
       "      <td>영상 편집</td>\n",
       "      <td>2020-12-02</td>\n",
       "    </tr>\n",
       "    <tr>\n",
       "      <th>2</th>\n",
       "      <td>970657</td>\n",
       "      <td>72297.0</td>\n",
       "      <td>204246.0</td>\n",
       "      <td>PAYMENT</td>\n",
       "      <td>COMPLETED</td>\n",
       "      <td>시크릿코드 : 프론트엔드 실무 완성편</td>\n",
       "      <td>프로그래밍</td>\n",
       "      <td>스쿨 온라인</td>\n",
       "      <td>2021-03-28 15:21:43</td>\n",
       "      <td>171810</td>\n",
       "      <td>[10% 할인] 시크릿코드 실무 완성편</td>\n",
       "      <td>19090.0</td>\n",
       "      <td>190900.0</td>\n",
       "      <td>190900.0</td>\n",
       "      <td>NaN</td>\n",
       "      <td>CARD</td>\n",
       "      <td>NaN</td>\n",
       "      <td>2021-03-04</td>\n",
       "    </tr>\n",
       "    <tr>\n",
       "      <th>3</th>\n",
       "      <td>970656</td>\n",
       "      <td>72297.0</td>\n",
       "      <td>204246.0</td>\n",
       "      <td>ORDER</td>\n",
       "      <td>CANCELLED</td>\n",
       "      <td>시크릿코드 : 프론트엔드 실무 완성편</td>\n",
       "      <td>프로그래밍</td>\n",
       "      <td>스쿨 온라인</td>\n",
       "      <td>2021-03-28 15:21:43</td>\n",
       "      <td>171810</td>\n",
       "      <td>NaN</td>\n",
       "      <td>NaN</td>\n",
       "      <td>190900.0</td>\n",
       "      <td>190900.0</td>\n",
       "      <td>NaN</td>\n",
       "      <td>CARD</td>\n",
       "      <td>NaN</td>\n",
       "      <td>2021-03-04</td>\n",
       "    </tr>\n",
       "    <tr>\n",
       "      <th>4</th>\n",
       "      <td>970658</td>\n",
       "      <td>478028.0</td>\n",
       "      <td>201797.0</td>\n",
       "      <td>PAYMENT</td>\n",
       "      <td>COMPLETED</td>\n",
       "      <td>올인원 패키지 : 직장인 필수 스킬 3종 세트 MAX</td>\n",
       "      <td>업무 생산성</td>\n",
       "      <td>올인원</td>\n",
       "      <td>2021-03-28 15:21:54</td>\n",
       "      <td>97500</td>\n",
       "      <td>[웰컴쿠폰] 올인원 패키지 2만원 할인 쿠폰</td>\n",
       "      <td>20000.0</td>\n",
       "      <td>117500.0</td>\n",
       "      <td>117500.0</td>\n",
       "      <td>NaN</td>\n",
       "      <td>CARD</td>\n",
       "      <td>PPT/보고서</td>\n",
       "      <td>2019-11-14</td>\n",
       "    </tr>\n",
       "  </tbody>\n",
       "</table>\n",
       "</div>"
      ],
      "text/plain": [
       "       id  customer_id  course_id     type      state  \\\n",
       "0  970634     504760.0   201435.0    ORDER  CANCELLED   \n",
       "1  970650     432862.0   203178.0    ORDER  CANCELLED   \n",
       "2  970657      72297.0   204246.0  PAYMENT  COMPLETED   \n",
       "3  970656      72297.0   204246.0    ORDER  CANCELLED   \n",
       "4  970658     478028.0   201797.0  PAYMENT  COMPLETED   \n",
       "\n",
       "                    course_title category_title  format        completed_at  \\\n",
       "0      올인원 패키지 : 알고리즘 기술면접 완전 정복          프로그래밍     올인원 2021-03-28 15:00:11   \n",
       "1    초격차 패키지 : 한번에 끝내는 영상 촬영과 편집          영상/3D     올인원 2021-03-28 15:16:53   \n",
       "2           시크릿코드 : 프론트엔드 실무 완성편          프로그래밍  스쿨 온라인 2021-03-28 15:21:43   \n",
       "3           시크릿코드 : 프론트엔드 실무 완성편          프로그래밍  스쿨 온라인 2021-03-28 15:21:43   \n",
       "4  올인원 패키지 : 직장인 필수 스킬 3종 세트 MAX         업무 생산성     올인원 2021-03-28 15:21:54   \n",
       "\n",
       "   transaction_amount              coupon_title  coupon_discount_amount  \\\n",
       "0               90500                       NaN                     NaN   \n",
       "1               96000                       NaN                     NaN   \n",
       "2              171810     [10% 할인] 시크릿코드 실무 완성편                 19090.0   \n",
       "3              171810                       NaN                     NaN   \n",
       "4               97500  [웰컴쿠폰] 올인원 패키지 2만원 할인 쿠폰                 20000.0   \n",
       "\n",
       "   sale_price  tax_free_amount   pg method subcategory_title  \\\n",
       "0    110500.0         110500.0  NaN  VBANK           개발자 커리어   \n",
       "1    116000.0         116000.0  NaN   CARD             영상 편집   \n",
       "2    190900.0         190900.0  NaN   CARD               NaN   \n",
       "3    190900.0         190900.0  NaN   CARD               NaN   \n",
       "4    117500.0         117500.0  NaN   CARD           PPT/보고서   \n",
       "\n",
       "  marketing_start_at  \n",
       "0                NaT  \n",
       "1         2020-12-02  \n",
       "2         2021-03-04  \n",
       "3         2021-03-04  \n",
       "4         2019-11-14  "
      ]
     },
     "execution_count": 4,
     "metadata": {},
     "output_type": "execute_result"
    }
   ],
   "source": [
    "df.head()"
   ]
  },
  {
   "cell_type": "code",
   "execution_count": 5,
   "id": "e36f38dc",
   "metadata": {
    "ExecuteTime": {
     "end_time": "2022-05-11T23:56:48.264053Z",
     "start_time": "2022-05-11T23:56:48.184970Z"
    },
    "scrolled": true
   },
   "outputs": [
    {
     "name": "stdout",
     "output_type": "stream",
     "text": [
      "<class 'pandas.core.frame.DataFrame'>\n",
      "RangeIndex: 105419 entries, 0 to 105418\n",
      "Data columns (total 18 columns):\n",
      " #   Column                  Non-Null Count   Dtype         \n",
      "---  ------                  --------------   -----         \n",
      " 0   id                      105419 non-null  int64         \n",
      " 1   customer_id             105416 non-null  float64       \n",
      " 2   course_id               100212 non-null  float64       \n",
      " 3   type                    105419 non-null  object        \n",
      " 4   state                   105419 non-null  object        \n",
      " 5   course_title            105403 non-null  object        \n",
      " 6   category_title          105395 non-null  object        \n",
      " 7   format                  105403 non-null  object        \n",
      " 8   completed_at            105419 non-null  datetime64[ns]\n",
      " 9   transaction_amount      105419 non-null  int64         \n",
      " 10  coupon_title            31817 non-null   object        \n",
      " 11  coupon_discount_amount  31817 non-null   float64       \n",
      " 12  sale_price              104291 non-null  float64       \n",
      " 13  tax_free_amount         104291 non-null  float64       \n",
      " 14  pg                      90344 non-null   object        \n",
      " 15  method                  92323 non-null   object        \n",
      " 16  subcategory_title       85590 non-null   object        \n",
      " 17  marketing_start_at      87440 non-null   datetime64[ns]\n",
      "dtypes: datetime64[ns](2), float64(5), int64(2), object(9)\n",
      "memory usage: 14.5+ MB\n"
     ]
    }
   ],
   "source": [
    "df.info()"
   ]
  },
  {
   "cell_type": "markdown",
   "id": "c3c12f0c",
   "metadata": {},
   "source": [
    "# 결측치 처리"
   ]
  },
  {
   "cell_type": "code",
   "execution_count": 6,
   "id": "2fb871d3",
   "metadata": {
    "ExecuteTime": {
     "end_time": "2022-05-11T23:56:48.280053Z",
     "start_time": "2022-05-11T23:56:48.265053Z"
    }
   },
   "outputs": [
    {
     "data": {
      "text/plain": [
       "0         110500.0\n",
       "1         116000.0\n",
       "2         190900.0\n",
       "3         190900.0\n",
       "4         117500.0\n",
       "            ...   \n",
       "105414    116000.0\n",
       "105415    189000.0\n",
       "105416    116000.0\n",
       "105417    189000.0\n",
       "105418    169000.0\n",
       "Name: tax_free_amount, Length: 105419, dtype: float64"
      ]
     },
     "execution_count": 6,
     "metadata": {},
     "output_type": "execute_result"
    }
   ],
   "source": [
    "# 필요없는 tax_free_amount 열 삭제\n",
    "\n",
    "df.pop('tax_free_amount')"
   ]
  },
  {
   "cell_type": "code",
   "execution_count": 7,
   "id": "19266557",
   "metadata": {
    "ExecuteTime": {
     "end_time": "2022-05-11T23:56:48.312056Z",
     "start_time": "2022-05-11T23:56:48.281053Z"
    }
   },
   "outputs": [],
   "source": [
    "# 무시해도 되는 값 삭제\n",
    "\n",
    "df = df.query('(type != \"ORDER\") & (type != \"TRANSACTION\") & (state != \"PENDING\") & (state != \"CANCELLED\") & (state != \"HIDDEN\") & (state != \"DELETED\")')"
   ]
  },
  {
   "cell_type": "code",
   "execution_count": 8,
   "id": "076301f2",
   "metadata": {
    "ExecuteTime": {
     "end_time": "2022-05-11T23:56:48.360053Z",
     "start_time": "2022-05-11T23:56:48.313053Z"
    }
   },
   "outputs": [
    {
     "name": "stdout",
     "output_type": "stream",
     "text": [
      "<class 'pandas.core.frame.DataFrame'>\n",
      "Int64Index: 56738 entries, 2 to 105418\n",
      "Data columns (total 17 columns):\n",
      " #   Column                  Non-Null Count  Dtype         \n",
      "---  ------                  --------------  -----         \n",
      " 0   id                      56738 non-null  int64         \n",
      " 1   customer_id             56738 non-null  float64       \n",
      " 2   course_id               54582 non-null  float64       \n",
      " 3   type                    56738 non-null  object        \n",
      " 4   state                   56738 non-null  object        \n",
      " 5   course_title            56737 non-null  object        \n",
      " 6   category_title          56734 non-null  object        \n",
      " 7   format                  56737 non-null  object        \n",
      " 8   completed_at            56738 non-null  datetime64[ns]\n",
      " 9   transaction_amount      56738 non-null  int64         \n",
      " 10  coupon_title            23763 non-null  object        \n",
      " 11  coupon_discount_amount  23763 non-null  float64       \n",
      " 12  sale_price              55658 non-null  float64       \n",
      " 13  pg                      46387 non-null  object        \n",
      " 14  method                  56734 non-null  object        \n",
      " 15  subcategory_title       46431 non-null  object        \n",
      " 16  marketing_start_at      46683 non-null  datetime64[ns]\n",
      "dtypes: datetime64[ns](2), float64(4), int64(2), object(9)\n",
      "memory usage: 7.8+ MB\n"
     ]
    }
   ],
   "source": [
    "# 잘 삭제되었는지 확인\n",
    "\n",
    "df.info()"
   ]
  },
  {
   "cell_type": "code",
   "execution_count": 9,
   "id": "fe49ff22",
   "metadata": {
    "ExecuteTime": {
     "end_time": "2022-05-11T23:56:48.376069Z",
     "start_time": "2022-05-11T23:56:48.361053Z"
    }
   },
   "outputs": [],
   "source": [
    "# course_id 채우기\n",
    "\n",
    "df = df.fillna({'course_id':111111})"
   ]
  },
  {
   "cell_type": "code",
   "execution_count": 10,
   "id": "da534f27",
   "metadata": {
    "ExecuteTime": {
     "end_time": "2022-05-11T23:56:48.424091Z",
     "start_time": "2022-05-11T23:56:48.377070Z"
    },
    "scrolled": true
   },
   "outputs": [
    {
     "name": "stdout",
     "output_type": "stream",
     "text": [
      "<class 'pandas.core.frame.DataFrame'>\n",
      "Int64Index: 56738 entries, 2 to 105418\n",
      "Data columns (total 17 columns):\n",
      " #   Column                  Non-Null Count  Dtype         \n",
      "---  ------                  --------------  -----         \n",
      " 0   id                      56738 non-null  int64         \n",
      " 1   customer_id             56738 non-null  float64       \n",
      " 2   course_id               56738 non-null  float64       \n",
      " 3   type                    56738 non-null  object        \n",
      " 4   state                   56738 non-null  object        \n",
      " 5   course_title            56737 non-null  object        \n",
      " 6   category_title          56734 non-null  object        \n",
      " 7   format                  56737 non-null  object        \n",
      " 8   completed_at            56738 non-null  datetime64[ns]\n",
      " 9   transaction_amount      56738 non-null  int64         \n",
      " 10  coupon_title            23763 non-null  object        \n",
      " 11  coupon_discount_amount  23763 non-null  float64       \n",
      " 12  sale_price              55658 non-null  float64       \n",
      " 13  pg                      46387 non-null  object        \n",
      " 14  method                  56734 non-null  object        \n",
      " 15  subcategory_title       46431 non-null  object        \n",
      " 16  marketing_start_at      46683 non-null  datetime64[ns]\n",
      "dtypes: datetime64[ns](2), float64(4), int64(2), object(9)\n",
      "memory usage: 7.8+ MB\n"
     ]
    }
   ],
   "source": [
    "df.info()"
   ]
  },
  {
   "cell_type": "code",
   "execution_count": 11,
   "id": "ea24ac47",
   "metadata": {
    "ExecuteTime": {
     "end_time": "2022-05-11T23:56:48.440090Z",
     "start_time": "2022-05-11T23:56:48.425090Z"
    }
   },
   "outputs": [
    {
     "data": {
      "text/html": [
       "<div>\n",
       "<style scoped>\n",
       "    .dataframe tbody tr th:only-of-type {\n",
       "        vertical-align: middle;\n",
       "    }\n",
       "\n",
       "    .dataframe tbody tr th {\n",
       "        vertical-align: top;\n",
       "    }\n",
       "\n",
       "    .dataframe thead th {\n",
       "        text-align: right;\n",
       "    }\n",
       "</style>\n",
       "<table border=\"1\" class=\"dataframe\">\n",
       "  <thead>\n",
       "    <tr style=\"text-align: right;\">\n",
       "      <th></th>\n",
       "      <th>id</th>\n",
       "      <th>customer_id</th>\n",
       "      <th>course_id</th>\n",
       "      <th>type</th>\n",
       "      <th>state</th>\n",
       "      <th>course_title</th>\n",
       "      <th>category_title</th>\n",
       "      <th>format</th>\n",
       "      <th>completed_at</th>\n",
       "      <th>transaction_amount</th>\n",
       "      <th>coupon_title</th>\n",
       "      <th>coupon_discount_amount</th>\n",
       "      <th>sale_price</th>\n",
       "      <th>pg</th>\n",
       "      <th>method</th>\n",
       "      <th>subcategory_title</th>\n",
       "      <th>marketing_start_at</th>\n",
       "    </tr>\n",
       "  </thead>\n",
       "  <tbody>\n",
       "    <tr>\n",
       "      <th>47361</th>\n",
       "      <td>1117129</td>\n",
       "      <td>549990.0</td>\n",
       "      <td>111111.0</td>\n",
       "      <td>PAYMENT</td>\n",
       "      <td>COMPLETED</td>\n",
       "      <td>NaN</td>\n",
       "      <td>NaN</td>\n",
       "      <td>NaN</td>\n",
       "      <td>2021-06-02 16:48:37</td>\n",
       "      <td>10500000</td>\n",
       "      <td>NaN</td>\n",
       "      <td>NaN</td>\n",
       "      <td>NaN</td>\n",
       "      <td>NaN</td>\n",
       "      <td>TRANSFER</td>\n",
       "      <td>NaN</td>\n",
       "      <td>NaT</td>\n",
       "    </tr>\n",
       "  </tbody>\n",
       "</table>\n",
       "</div>"
      ],
      "text/plain": [
       "            id  customer_id  course_id     type      state course_title  \\\n",
       "47361  1117129     549990.0   111111.0  PAYMENT  COMPLETED          NaN   \n",
       "\n",
       "      category_title format        completed_at  transaction_amount  \\\n",
       "47361            NaN    NaN 2021-06-02 16:48:37            10500000   \n",
       "\n",
       "      coupon_title  coupon_discount_amount  sale_price   pg    method  \\\n",
       "47361          NaN                     NaN         NaN  NaN  TRANSFER   \n",
       "\n",
       "      subcategory_title marketing_start_at  \n",
       "47361               NaN                NaT  "
      ]
     },
     "execution_count": 11,
     "metadata": {},
     "output_type": "execute_result"
    }
   ],
   "source": [
    "df[df.course_title.isnull()]"
   ]
  },
  {
   "cell_type": "code",
   "execution_count": 12,
   "id": "883d8a1e",
   "metadata": {
    "ExecuteTime": {
     "end_time": "2022-05-11T23:56:48.455684Z",
     "start_time": "2022-05-11T23:56:48.441090Z"
    }
   },
   "outputs": [],
   "source": [
    "df2 = df"
   ]
  },
  {
   "cell_type": "markdown",
   "id": "2cb5b1e0",
   "metadata": {},
   "source": [
    "# 각 Column확인"
   ]
  },
  {
   "cell_type": "markdown",
   "id": "28e65bfc",
   "metadata": {},
   "source": [
    "## format"
   ]
  },
  {
   "cell_type": "code",
   "execution_count": 13,
   "id": "8b378ede",
   "metadata": {
    "ExecuteTime": {
     "end_time": "2022-05-11T23:56:48.471112Z",
     "start_time": "2022-05-11T23:56:48.456094Z"
    }
   },
   "outputs": [
    {
     "data": {
      "text/plain": [
       "프로그래밍       19067\n",
       "데이터사이언스      7354\n",
       "업무 생산성       6970\n",
       "디자인          6174\n",
       "영상/3D        5522\n",
       "마케팅          5078\n",
       "부동산/금융       3013\n",
       "투자/재테크       1597\n",
       "크리에이티브        955\n",
       "교육            932\n",
       "비즈니스           24\n",
       "지식콘텐츠          23\n",
       "파이낸스           19\n",
       "데이터 사이언스        5\n",
       "관리              1\n",
       "Name: category_title, dtype: int64"
      ]
     },
     "execution_count": 13,
     "metadata": {},
     "output_type": "execute_result"
    }
   ],
   "source": [
    "#띄어쓰기 제거\n",
    "\n",
    "df.category_title.value_counts()"
   ]
  },
  {
   "cell_type": "code",
   "execution_count": 14,
   "id": "7af7c080",
   "metadata": {
    "ExecuteTime": {
     "end_time": "2022-05-11T23:56:48.502124Z",
     "start_time": "2022-05-11T23:56:48.472109Z"
    }
   },
   "outputs": [],
   "source": [
    "df.category_title = df.category_title.str.replace(\" \",\"\")"
   ]
  },
  {
   "cell_type": "code",
   "execution_count": 15,
   "id": "374a5cc9",
   "metadata": {
    "ExecuteTime": {
     "end_time": "2022-05-11T23:56:48.518121Z",
     "start_time": "2022-05-11T23:56:48.503121Z"
    }
   },
   "outputs": [
    {
     "data": {
      "text/plain": [
       "프로그래밍      19067\n",
       "데이터사이언스     7359\n",
       "업무생산성       6970\n",
       "디자인         6174\n",
       "영상/3D       5522\n",
       "마케팅         5078\n",
       "부동산/금융      3013\n",
       "투자/재테크      1597\n",
       "크리에이티브       955\n",
       "교육           932\n",
       "비즈니스          24\n",
       "지식콘텐츠         23\n",
       "파이낸스          19\n",
       "관리             1\n",
       "Name: category_title, dtype: int64"
      ]
     },
     "execution_count": 15,
     "metadata": {},
     "output_type": "execute_result"
    }
   ],
   "source": [
    "df.category_title.value_counts()"
   ]
  },
  {
   "cell_type": "markdown",
   "id": "28f3328d",
   "metadata": {},
   "source": [
    "## transaction_amount"
   ]
  },
  {
   "cell_type": "code",
   "execution_count": 16,
   "id": "88a5d105",
   "metadata": {
    "ExecuteTime": {
     "end_time": "2022-05-11T23:56:48.550121Z",
     "start_time": "2022-05-11T23:56:48.519121Z"
    },
    "scrolled": true
   },
   "outputs": [
    {
     "data": {
      "text/html": [
       "<div>\n",
       "<style scoped>\n",
       "    .dataframe tbody tr th:only-of-type {\n",
       "        vertical-align: middle;\n",
       "    }\n",
       "\n",
       "    .dataframe tbody tr th {\n",
       "        vertical-align: top;\n",
       "    }\n",
       "\n",
       "    .dataframe thead th {\n",
       "        text-align: right;\n",
       "    }\n",
       "</style>\n",
       "<table border=\"1\" class=\"dataframe\">\n",
       "  <thead>\n",
       "    <tr style=\"text-align: right;\">\n",
       "      <th></th>\n",
       "      <th>id</th>\n",
       "      <th>customer_id</th>\n",
       "      <th>course_id</th>\n",
       "      <th>type</th>\n",
       "      <th>state</th>\n",
       "      <th>course_title</th>\n",
       "      <th>category_title</th>\n",
       "      <th>format</th>\n",
       "      <th>completed_at</th>\n",
       "      <th>transaction_amount</th>\n",
       "      <th>coupon_title</th>\n",
       "      <th>coupon_discount_amount</th>\n",
       "      <th>sale_price</th>\n",
       "      <th>pg</th>\n",
       "      <th>method</th>\n",
       "      <th>subcategory_title</th>\n",
       "      <th>marketing_start_at</th>\n",
       "    </tr>\n",
       "  </thead>\n",
       "  <tbody>\n",
       "    <tr>\n",
       "      <th>20875</th>\n",
       "      <td>1034021</td>\n",
       "      <td>49600.0</td>\n",
       "      <td>205142.0</td>\n",
       "      <td>PAYMENT</td>\n",
       "      <td>COMPLETED</td>\n",
       "      <td>스프링 아카데미아 15개 영상강의 코스(5월) - 샘플 강의 제공용</td>\n",
       "      <td>프로그래밍</td>\n",
       "      <td>스쿨 온라인</td>\n",
       "      <td>2021-04-27 19:03:10</td>\n",
       "      <td>0</td>\n",
       "      <td>NaN</td>\n",
       "      <td>NaN</td>\n",
       "      <td>1.0</td>\n",
       "      <td>NaN</td>\n",
       "      <td>PROMOTION</td>\n",
       "      <td>NaN</td>\n",
       "      <td>NaT</td>\n",
       "    </tr>\n",
       "    <tr>\n",
       "      <th>20899</th>\n",
       "      <td>1034100</td>\n",
       "      <td>270040.0</td>\n",
       "      <td>205142.0</td>\n",
       "      <td>PAYMENT</td>\n",
       "      <td>COMPLETED</td>\n",
       "      <td>스프링 아카데미아 15개 영상강의 코스(5월) - 샘플 강의 제공용</td>\n",
       "      <td>프로그래밍</td>\n",
       "      <td>스쿨 온라인</td>\n",
       "      <td>2021-04-27 19:50:54</td>\n",
       "      <td>0</td>\n",
       "      <td>NaN</td>\n",
       "      <td>NaN</td>\n",
       "      <td>1.0</td>\n",
       "      <td>NaN</td>\n",
       "      <td>PROMOTION</td>\n",
       "      <td>NaN</td>\n",
       "      <td>NaT</td>\n",
       "    </tr>\n",
       "    <tr>\n",
       "      <th>20900</th>\n",
       "      <td>1034101</td>\n",
       "      <td>470930.0</td>\n",
       "      <td>205142.0</td>\n",
       "      <td>PAYMENT</td>\n",
       "      <td>COMPLETED</td>\n",
       "      <td>스프링 아카데미아 15개 영상강의 코스(5월) - 샘플 강의 제공용</td>\n",
       "      <td>프로그래밍</td>\n",
       "      <td>스쿨 온라인</td>\n",
       "      <td>2021-04-27 19:50:57</td>\n",
       "      <td>0</td>\n",
       "      <td>NaN</td>\n",
       "      <td>NaN</td>\n",
       "      <td>1.0</td>\n",
       "      <td>NaN</td>\n",
       "      <td>PROMOTION</td>\n",
       "      <td>NaN</td>\n",
       "      <td>NaT</td>\n",
       "    </tr>\n",
       "    <tr>\n",
       "      <th>20901</th>\n",
       "      <td>1034102</td>\n",
       "      <td>33271.0</td>\n",
       "      <td>205142.0</td>\n",
       "      <td>PAYMENT</td>\n",
       "      <td>COMPLETED</td>\n",
       "      <td>스프링 아카데미아 15개 영상강의 코스(5월) - 샘플 강의 제공용</td>\n",
       "      <td>프로그래밍</td>\n",
       "      <td>스쿨 온라인</td>\n",
       "      <td>2021-04-27 19:51:05</td>\n",
       "      <td>0</td>\n",
       "      <td>NaN</td>\n",
       "      <td>NaN</td>\n",
       "      <td>1.0</td>\n",
       "      <td>NaN</td>\n",
       "      <td>PROMOTION</td>\n",
       "      <td>NaN</td>\n",
       "      <td>NaT</td>\n",
       "    </tr>\n",
       "    <tr>\n",
       "      <th>20902</th>\n",
       "      <td>1034104</td>\n",
       "      <td>144798.0</td>\n",
       "      <td>205142.0</td>\n",
       "      <td>PAYMENT</td>\n",
       "      <td>COMPLETED</td>\n",
       "      <td>스프링 아카데미아 15개 영상강의 코스(5월) - 샘플 강의 제공용</td>\n",
       "      <td>프로그래밍</td>\n",
       "      <td>스쿨 온라인</td>\n",
       "      <td>2021-04-27 19:51:24</td>\n",
       "      <td>0</td>\n",
       "      <td>NaN</td>\n",
       "      <td>NaN</td>\n",
       "      <td>1.0</td>\n",
       "      <td>NaN</td>\n",
       "      <td>PROMOTION</td>\n",
       "      <td>NaN</td>\n",
       "      <td>NaT</td>\n",
       "    </tr>\n",
       "    <tr>\n",
       "      <th>...</th>\n",
       "      <td>...</td>\n",
       "      <td>...</td>\n",
       "      <td>...</td>\n",
       "      <td>...</td>\n",
       "      <td>...</td>\n",
       "      <td>...</td>\n",
       "      <td>...</td>\n",
       "      <td>...</td>\n",
       "      <td>...</td>\n",
       "      <td>...</td>\n",
       "      <td>...</td>\n",
       "      <td>...</td>\n",
       "      <td>...</td>\n",
       "      <td>...</td>\n",
       "      <td>...</td>\n",
       "      <td>...</td>\n",
       "      <td>...</td>\n",
       "    </tr>\n",
       "    <tr>\n",
       "      <th>54755</th>\n",
       "      <td>1142513</td>\n",
       "      <td>524458.0</td>\n",
       "      <td>205237.0</td>\n",
       "      <td>PAYMENT</td>\n",
       "      <td>COMPLETED</td>\n",
       "      <td>네카라쿠배 프론트엔드 취업완성 스쿨 2기_1차 테스트</td>\n",
       "      <td>프로그래밍</td>\n",
       "      <td>스쿨</td>\n",
       "      <td>2021-06-15 00:11:03</td>\n",
       "      <td>0</td>\n",
       "      <td>NaN</td>\n",
       "      <td>NaN</td>\n",
       "      <td>1.0</td>\n",
       "      <td>NaN</td>\n",
       "      <td>PROMOTION</td>\n",
       "      <td>NaN</td>\n",
       "      <td>2019-04-19</td>\n",
       "    </tr>\n",
       "    <tr>\n",
       "      <th>83412</th>\n",
       "      <td>1259540</td>\n",
       "      <td>29356.0</td>\n",
       "      <td>206777.0</td>\n",
       "      <td>PAYMENT</td>\n",
       "      <td>COMPLETED</td>\n",
       "      <td>(B2B) 주식회사 바로비즈 온라인 구독 올 플랜</td>\n",
       "      <td>교육</td>\n",
       "      <td>B2B 온라인</td>\n",
       "      <td>2021-08-02 11:19:59</td>\n",
       "      <td>0</td>\n",
       "      <td>NaN</td>\n",
       "      <td>NaN</td>\n",
       "      <td>600000.0</td>\n",
       "      <td>NaN</td>\n",
       "      <td>PROMOTION</td>\n",
       "      <td>NaN</td>\n",
       "      <td>NaT</td>\n",
       "    </tr>\n",
       "    <tr>\n",
       "      <th>84094</th>\n",
       "      <td>1264416</td>\n",
       "      <td>29356.0</td>\n",
       "      <td>206840.0</td>\n",
       "      <td>PAYMENT</td>\n",
       "      <td>COMPLETED</td>\n",
       "      <td>(B2B) (주)이지엠앤씨 온라인 구독 올 플랜</td>\n",
       "      <td>교육</td>\n",
       "      <td>B2B 온라인</td>\n",
       "      <td>2021-08-04 11:46:44</td>\n",
       "      <td>0</td>\n",
       "      <td>NaN</td>\n",
       "      <td>NaN</td>\n",
       "      <td>7800000.0</td>\n",
       "      <td>NaN</td>\n",
       "      <td>PROMOTION</td>\n",
       "      <td>NaN</td>\n",
       "      <td>NaT</td>\n",
       "    </tr>\n",
       "    <tr>\n",
       "      <th>92787</th>\n",
       "      <td>1304724</td>\n",
       "      <td>641369.0</td>\n",
       "      <td>206849.0</td>\n",
       "      <td>PAYMENT</td>\n",
       "      <td>COMPLETED</td>\n",
       "      <td>(B2B) 비바리퍼블리카 온라인 구독 올 플랜 (8월-3개월)</td>\n",
       "      <td>교육</td>\n",
       "      <td>B2B 온라인</td>\n",
       "      <td>2021-08-24 17:11:33</td>\n",
       "      <td>0</td>\n",
       "      <td>NaN</td>\n",
       "      <td>NaN</td>\n",
       "      <td>150000.0</td>\n",
       "      <td>NaN</td>\n",
       "      <td>PROMOTION</td>\n",
       "      <td>NaN</td>\n",
       "      <td>NaT</td>\n",
       "    </tr>\n",
       "    <tr>\n",
       "      <th>100283</th>\n",
       "      <td>1337550</td>\n",
       "      <td>29356.0</td>\n",
       "      <td>207509.0</td>\n",
       "      <td>PAYMENT</td>\n",
       "      <td>COMPLETED</td>\n",
       "      <td>(B2B) 레이지소사이어티 온라인 구독 올 플랜</td>\n",
       "      <td>교육</td>\n",
       "      <td>B2B 온라인</td>\n",
       "      <td>2021-09-09 14:34:31</td>\n",
       "      <td>0</td>\n",
       "      <td>NaN</td>\n",
       "      <td>NaN</td>\n",
       "      <td>1200000.0</td>\n",
       "      <td>NaN</td>\n",
       "      <td>PROMOTION</td>\n",
       "      <td>NaN</td>\n",
       "      <td>NaT</td>\n",
       "    </tr>\n",
       "  </tbody>\n",
       "</table>\n",
       "<p>1196 rows × 17 columns</p>\n",
       "</div>"
      ],
      "text/plain": [
       "             id  customer_id  course_id     type      state  \\\n",
       "20875   1034021      49600.0   205142.0  PAYMENT  COMPLETED   \n",
       "20899   1034100     270040.0   205142.0  PAYMENT  COMPLETED   \n",
       "20900   1034101     470930.0   205142.0  PAYMENT  COMPLETED   \n",
       "20901   1034102      33271.0   205142.0  PAYMENT  COMPLETED   \n",
       "20902   1034104     144798.0   205142.0  PAYMENT  COMPLETED   \n",
       "...         ...          ...        ...      ...        ...   \n",
       "54755   1142513     524458.0   205237.0  PAYMENT  COMPLETED   \n",
       "83412   1259540      29356.0   206777.0  PAYMENT  COMPLETED   \n",
       "84094   1264416      29356.0   206840.0  PAYMENT  COMPLETED   \n",
       "92787   1304724     641369.0   206849.0  PAYMENT  COMPLETED   \n",
       "100283  1337550      29356.0   207509.0  PAYMENT  COMPLETED   \n",
       "\n",
       "                                 course_title category_title   format  \\\n",
       "20875   스프링 아카데미아 15개 영상강의 코스(5월) - 샘플 강의 제공용          프로그래밍   스쿨 온라인   \n",
       "20899   스프링 아카데미아 15개 영상강의 코스(5월) - 샘플 강의 제공용          프로그래밍   스쿨 온라인   \n",
       "20900   스프링 아카데미아 15개 영상강의 코스(5월) - 샘플 강의 제공용          프로그래밍   스쿨 온라인   \n",
       "20901   스프링 아카데미아 15개 영상강의 코스(5월) - 샘플 강의 제공용          프로그래밍   스쿨 온라인   \n",
       "20902   스프링 아카데미아 15개 영상강의 코스(5월) - 샘플 강의 제공용          프로그래밍   스쿨 온라인   \n",
       "...                                       ...            ...      ...   \n",
       "54755           네카라쿠배 프론트엔드 취업완성 스쿨 2기_1차 테스트          프로그래밍       스쿨   \n",
       "83412             (B2B) 주식회사 바로비즈 온라인 구독 올 플랜             교육  B2B 온라인   \n",
       "84094              (B2B) (주)이지엠앤씨 온라인 구독 올 플랜             교육  B2B 온라인   \n",
       "92787      (B2B) 비바리퍼블리카 온라인 구독 올 플랜 (8월-3개월)             교육  B2B 온라인   \n",
       "100283             (B2B) 레이지소사이어티 온라인 구독 올 플랜             교육  B2B 온라인   \n",
       "\n",
       "              completed_at  transaction_amount coupon_title  \\\n",
       "20875  2021-04-27 19:03:10                   0          NaN   \n",
       "20899  2021-04-27 19:50:54                   0          NaN   \n",
       "20900  2021-04-27 19:50:57                   0          NaN   \n",
       "20901  2021-04-27 19:51:05                   0          NaN   \n",
       "20902  2021-04-27 19:51:24                   0          NaN   \n",
       "...                    ...                 ...          ...   \n",
       "54755  2021-06-15 00:11:03                   0          NaN   \n",
       "83412  2021-08-02 11:19:59                   0          NaN   \n",
       "84094  2021-08-04 11:46:44                   0          NaN   \n",
       "92787  2021-08-24 17:11:33                   0          NaN   \n",
       "100283 2021-09-09 14:34:31                   0          NaN   \n",
       "\n",
       "        coupon_discount_amount  sale_price   pg     method subcategory_title  \\\n",
       "20875                      NaN         1.0  NaN  PROMOTION               NaN   \n",
       "20899                      NaN         1.0  NaN  PROMOTION               NaN   \n",
       "20900                      NaN         1.0  NaN  PROMOTION               NaN   \n",
       "20901                      NaN         1.0  NaN  PROMOTION               NaN   \n",
       "20902                      NaN         1.0  NaN  PROMOTION               NaN   \n",
       "...                        ...         ...  ...        ...               ...   \n",
       "54755                      NaN         1.0  NaN  PROMOTION               NaN   \n",
       "83412                      NaN    600000.0  NaN  PROMOTION               NaN   \n",
       "84094                      NaN   7800000.0  NaN  PROMOTION               NaN   \n",
       "92787                      NaN    150000.0  NaN  PROMOTION               NaN   \n",
       "100283                     NaN   1200000.0  NaN  PROMOTION               NaN   \n",
       "\n",
       "       marketing_start_at  \n",
       "20875                 NaT  \n",
       "20899                 NaT  \n",
       "20900                 NaT  \n",
       "20901                 NaT  \n",
       "20902                 NaT  \n",
       "...                   ...  \n",
       "54755          2019-04-19  \n",
       "83412                 NaT  \n",
       "84094                 NaT  \n",
       "92787                 NaT  \n",
       "100283                NaT  \n",
       "\n",
       "[1196 rows x 17 columns]"
      ]
     },
     "execution_count": 16,
     "metadata": {},
     "output_type": "execute_result"
    }
   ],
   "source": [
    "# 쿠폰 없이 0원\n",
    "# type이 PAYMENT로 결제가 완료된 건만 확인\n",
    "\n",
    "df[(df.transaction_amount==0) & (df.coupon_title.isnull()) & (df.type == 'PAYMENT')]"
   ]
  },
  {
   "cell_type": "code",
   "execution_count": 17,
   "id": "374bdb04",
   "metadata": {
    "ExecuteTime": {
     "end_time": "2022-05-11T23:56:48.565121Z",
     "start_time": "2022-05-11T23:56:48.551121Z"
    },
    "scrolled": true
   },
   "outputs": [
    {
     "data": {
      "text/plain": [
       "네카라쿠배 프론트엔드 취업완성 스쿨 2기_1차 테스트            875\n",
       "스프링 아카데미아 15개 영상강의 코스(5월) - 샘플 강의 제공용    245\n",
       "네카라쿠배 프론트엔드 취업완성 스쿨 2기_2차 테스트             72\n",
       "(B2B) 주식회사 바로비즈 온라인 구독 올 플랜                1\n",
       "(B2B) (주)이지엠앤씨 온라인 구독 올 플랜                 1\n",
       "(B2B) 비바리퍼블리카 온라인 구독 올 플랜 (8월-3개월)         1\n",
       "(B2B) 레이지소사이어티 온라인 구독 올 플랜                 1\n",
       "Name: course_title, dtype: int64"
      ]
     },
     "execution_count": 17,
     "metadata": {},
     "output_type": "execute_result"
    }
   ],
   "source": [
    "# 기업강의 또는 테스트, 샘플 강의\n",
    "\n",
    "df[(df.transaction_amount==0) & (df.coupon_title.isnull()) & (df.type == 'PAYMENT')]['course_title'].value_counts()"
   ]
  },
  {
   "cell_type": "code",
   "execution_count": 18,
   "id": "3941e5fc",
   "metadata": {
    "ExecuteTime": {
     "end_time": "2022-05-11T23:56:48.581121Z",
     "start_time": "2022-05-11T23:56:48.566121Z"
    }
   },
   "outputs": [
    {
     "data": {
      "text/plain": [
       "PROMOTION    1196\n",
       "Name: method, dtype: int64"
      ]
     },
     "execution_count": 18,
     "metadata": {},
     "output_type": "execute_result"
    }
   ],
   "source": [
    "# method가 모두 PROMOTION이다.\n",
    "\n",
    "df[(df.transaction_amount==0) & (df.coupon_title.isnull()) & (df.type == 'PAYMENT')]['method'].value_counts()"
   ]
  },
  {
   "cell_type": "code",
   "execution_count": 19,
   "id": "1fedf92c",
   "metadata": {
    "ExecuteTime": {
     "end_time": "2022-05-11T23:56:48.596121Z",
     "start_time": "2022-05-11T23:56:48.582121Z"
    },
    "scrolled": true
   },
   "outputs": [
    {
     "data": {
      "text/plain": [
       "651                                 퍼포먼스 마케터 되기 온라인 완주반 2기\n",
       "652                            초격차 패키지 : 한번에 끝내는 영상 촬영과 편집\n",
       "666                     올인원 패키지 : 소금툰과 함께 캐릭터 드로잉/굿즈/임티/컷툰\n",
       "672                              데이터분석 프로젝트+자격증 온라인 완주반 3기\n",
       "675                 프로모션 :연봉 앞자리가 바뀌는 프론트엔드 한끝세트 (3월 프리패스)\n",
       "                                ...                       \n",
       "105169    (프로모션 7/16-7/29) 초격차 패키지 : 한 번에 끝내는 Spring 완.전.판\n",
       "105175                프로모션 : 콘텐츠 마케터 맥북 air 패스(9월 현물 프리패스)\n",
       "105205                                  용호수의 돈 버는 실전 영상 제작\n",
       "105245                       올인원 패키지 : 공여사와 무작정 풀어보는 엑셀 실무\n",
       "105248              초격차 패키지 : 한번에 끝내는 Java/Spring 웹 개발 마스터\n",
       "Name: course_title, Length: 3822, dtype: object"
      ]
     },
     "execution_count": 19,
     "metadata": {},
     "output_type": "execute_result"
    }
   ],
   "source": [
    "# 환불이 많은 과목\n",
    "\n",
    "df[df.type=='REFUND']['course_title']"
   ]
  },
  {
   "cell_type": "markdown",
   "id": "9139250f",
   "metadata": {},
   "source": [
    "## coupon_title"
   ]
  },
  {
   "cell_type": "code",
   "execution_count": 21,
   "id": "660e8fe8",
   "metadata": {
    "ExecuteTime": {
     "end_time": "2022-05-11T23:56:48.832327Z",
     "start_time": "2022-05-11T23:56:48.817327Z"
    },
    "scrolled": true
   },
   "outputs": [
    {
     "data": {
      "text/html": [
       "<div>\n",
       "<style scoped>\n",
       "    .dataframe tbody tr th:only-of-type {\n",
       "        vertical-align: middle;\n",
       "    }\n",
       "\n",
       "    .dataframe tbody tr th {\n",
       "        vertical-align: top;\n",
       "    }\n",
       "\n",
       "    .dataframe thead th {\n",
       "        text-align: right;\n",
       "    }\n",
       "</style>\n",
       "<table border=\"1\" class=\"dataframe\">\n",
       "  <thead>\n",
       "    <tr style=\"text-align: right;\">\n",
       "      <th></th>\n",
       "      <th>id</th>\n",
       "      <th>customer_id</th>\n",
       "      <th>course_id</th>\n",
       "      <th>type</th>\n",
       "      <th>state</th>\n",
       "      <th>course_title</th>\n",
       "      <th>category_title</th>\n",
       "      <th>format</th>\n",
       "      <th>completed_at</th>\n",
       "      <th>transaction_amount</th>\n",
       "      <th>coupon_title</th>\n",
       "      <th>coupon_discount_amount</th>\n",
       "      <th>sale_price</th>\n",
       "      <th>pg</th>\n",
       "      <th>method</th>\n",
       "      <th>subcategory_title</th>\n",
       "      <th>marketing_start_at</th>\n",
       "    </tr>\n",
       "  </thead>\n",
       "  <tbody>\n",
       "    <tr>\n",
       "      <th>2</th>\n",
       "      <td>970657</td>\n",
       "      <td>72297.0</td>\n",
       "      <td>204246.0</td>\n",
       "      <td>PAYMENT</td>\n",
       "      <td>COMPLETED</td>\n",
       "      <td>시크릿코드 : 프론트엔드 실무 완성편</td>\n",
       "      <td>프로그래밍</td>\n",
       "      <td>스쿨 온라인</td>\n",
       "      <td>2021-03-28 15:21:43</td>\n",
       "      <td>171810</td>\n",
       "      <td>[10% 할인] 시크릿코드 실무 완성편</td>\n",
       "      <td>19090.0</td>\n",
       "      <td>190900.0</td>\n",
       "      <td>NaN</td>\n",
       "      <td>CARD</td>\n",
       "      <td>NaN</td>\n",
       "      <td>2021-03-04</td>\n",
       "    </tr>\n",
       "    <tr>\n",
       "      <th>4</th>\n",
       "      <td>970658</td>\n",
       "      <td>478028.0</td>\n",
       "      <td>201797.0</td>\n",
       "      <td>PAYMENT</td>\n",
       "      <td>COMPLETED</td>\n",
       "      <td>올인원 패키지 : 직장인 필수 스킬 3종 세트 MAX</td>\n",
       "      <td>업무생산성</td>\n",
       "      <td>올인원</td>\n",
       "      <td>2021-03-28 15:21:54</td>\n",
       "      <td>97500</td>\n",
       "      <td>[웰컴쿠폰] 올인원 패키지 2만원 할인 쿠폰</td>\n",
       "      <td>20000.0</td>\n",
       "      <td>117500.0</td>\n",
       "      <td>NaN</td>\n",
       "      <td>CARD</td>\n",
       "      <td>PPT/보고서</td>\n",
       "      <td>2019-11-14</td>\n",
       "    </tr>\n",
       "    <tr>\n",
       "      <th>8</th>\n",
       "      <td>970669</td>\n",
       "      <td>478033.0</td>\n",
       "      <td>203178.0</td>\n",
       "      <td>PAYMENT</td>\n",
       "      <td>COMPLETED</td>\n",
       "      <td>초격차 패키지 : 한번에 끝내는 영상 촬영과 편집</td>\n",
       "      <td>영상/3D</td>\n",
       "      <td>올인원</td>\n",
       "      <td>2021-03-28 15:26:47</td>\n",
       "      <td>96000</td>\n",
       "      <td>[웰컴쿠폰] 올인원 패키지 2만원 할인 쿠폰</td>\n",
       "      <td>20000.0</td>\n",
       "      <td>116000.0</td>\n",
       "      <td>NaN</td>\n",
       "      <td>CARD</td>\n",
       "      <td>영상 편집</td>\n",
       "      <td>2020-12-02</td>\n",
       "    </tr>\n",
       "    <tr>\n",
       "      <th>14</th>\n",
       "      <td>970676</td>\n",
       "      <td>478035.0</td>\n",
       "      <td>203720.0</td>\n",
       "      <td>PAYMENT</td>\n",
       "      <td>COMPLETED</td>\n",
       "      <td>초격차 패키지 : 한 번에 끝내는 프론트엔드 개발</td>\n",
       "      <td>프로그래밍</td>\n",
       "      <td>올인원</td>\n",
       "      <td>2021-03-28 15:31:01</td>\n",
       "      <td>91000</td>\n",
       "      <td>[웰컴쿠폰] 올인원 패키지 2만원 할인 쿠폰</td>\n",
       "      <td>20000.0</td>\n",
       "      <td>111000.0</td>\n",
       "      <td>NaN</td>\n",
       "      <td>CARD</td>\n",
       "      <td>프론트엔드 개발</td>\n",
       "      <td>2021-02-02</td>\n",
       "    </tr>\n",
       "    <tr>\n",
       "      <th>28</th>\n",
       "      <td>970704</td>\n",
       "      <td>471759.0</td>\n",
       "      <td>204068.0</td>\n",
       "      <td>PAYMENT</td>\n",
       "      <td>COMPLETED</td>\n",
       "      <td>올인원 패키지 : 마디아의 UX/UI 포트폴리오</td>\n",
       "      <td>디자인</td>\n",
       "      <td>올인원</td>\n",
       "      <td>2021-03-28 15:46:22</td>\n",
       "      <td>89000</td>\n",
       "      <td>[웰컴쿠폰] 올인원 패키지 1만원 할인 쿠폰</td>\n",
       "      <td>10000.0</td>\n",
       "      <td>99000.0</td>\n",
       "      <td>NaN</td>\n",
       "      <td>CARD</td>\n",
       "      <td>UX/UI</td>\n",
       "      <td>2021-03-11</td>\n",
       "    </tr>\n",
       "    <tr>\n",
       "      <th>...</th>\n",
       "      <td>...</td>\n",
       "      <td>...</td>\n",
       "      <td>...</td>\n",
       "      <td>...</td>\n",
       "      <td>...</td>\n",
       "      <td>...</td>\n",
       "      <td>...</td>\n",
       "      <td>...</td>\n",
       "      <td>...</td>\n",
       "      <td>...</td>\n",
       "      <td>...</td>\n",
       "      <td>...</td>\n",
       "      <td>...</td>\n",
       "      <td>...</td>\n",
       "      <td>...</td>\n",
       "      <td>...</td>\n",
       "      <td>...</td>\n",
       "    </tr>\n",
       "    <tr>\n",
       "      <th>105403</th>\n",
       "      <td>1364919</td>\n",
       "      <td>670833.0</td>\n",
       "      <td>201582.0</td>\n",
       "      <td>PAYMENT</td>\n",
       "      <td>COMPLETED</td>\n",
       "      <td>올인원 패키지 : 컴퓨터 공학 전공 필수</td>\n",
       "      <td>프로그래밍</td>\n",
       "      <td>올인원</td>\n",
       "      <td>2021-09-25 12:08:05</td>\n",
       "      <td>169000</td>\n",
       "      <td>[미래투자금] 온라인 강의 2만원 할인쿠폰</td>\n",
       "      <td>20000.0</td>\n",
       "      <td>189000.0</td>\n",
       "      <td>INICIS</td>\n",
       "      <td>CARD</td>\n",
       "      <td>개발자 커리어</td>\n",
       "      <td>2019-09-30</td>\n",
       "    </tr>\n",
       "    <tr>\n",
       "      <th>105411</th>\n",
       "      <td>1364969</td>\n",
       "      <td>669238.0</td>\n",
       "      <td>204286.0</td>\n",
       "      <td>PAYMENT</td>\n",
       "      <td>COMPLETED</td>\n",
       "      <td>초격차 패키지 : 한번에 끝내는 3D 디자인 툴</td>\n",
       "      <td>디자인</td>\n",
       "      <td>올인원</td>\n",
       "      <td>2021-09-25 13:39:26</td>\n",
       "      <td>212000</td>\n",
       "      <td>[미래투자금] 온라인 강의 2만원 할인쿠폰</td>\n",
       "      <td>20000.0</td>\n",
       "      <td>232000.0</td>\n",
       "      <td>INICIS</td>\n",
       "      <td>CARD</td>\n",
       "      <td>디자인툴</td>\n",
       "      <td>2021-04-23</td>\n",
       "    </tr>\n",
       "    <tr>\n",
       "      <th>105413</th>\n",
       "      <td>1364991</td>\n",
       "      <td>670891.0</td>\n",
       "      <td>203935.0</td>\n",
       "      <td>PAYMENT</td>\n",
       "      <td>COMPLETED</td>\n",
       "      <td>초격차 패키지 : 한 번에 끝내는 파이썬 웹 개발</td>\n",
       "      <td>프로그래밍</td>\n",
       "      <td>올인원</td>\n",
       "      <td>2021-09-25 14:01:26</td>\n",
       "      <td>159000</td>\n",
       "      <td>[미래투자금] 온라인 강의 2만원 할인쿠폰</td>\n",
       "      <td>20000.0</td>\n",
       "      <td>179000.0</td>\n",
       "      <td>INICIS</td>\n",
       "      <td>CARD</td>\n",
       "      <td>백엔드 개발</td>\n",
       "      <td>2021-05-31</td>\n",
       "    </tr>\n",
       "    <tr>\n",
       "      <th>105416</th>\n",
       "      <td>1364996</td>\n",
       "      <td>640697.0</td>\n",
       "      <td>205365.0</td>\n",
       "      <td>PAYMENT</td>\n",
       "      <td>COMPLETED</td>\n",
       "      <td>초격차 패키지 : 한 번에 끝내는 유튜브 크리에이터 되기</td>\n",
       "      <td>영상/3D</td>\n",
       "      <td>올인원</td>\n",
       "      <td>2021-09-25 14:17:41</td>\n",
       "      <td>96000</td>\n",
       "      <td>[WELCOME] 온라인 강의 2만원 할인쿠폰</td>\n",
       "      <td>20000.0</td>\n",
       "      <td>116000.0</td>\n",
       "      <td>INICIS</td>\n",
       "      <td>VBANK</td>\n",
       "      <td>영상 편집</td>\n",
       "      <td>2021-06-15</td>\n",
       "    </tr>\n",
       "    <tr>\n",
       "      <th>105418</th>\n",
       "      <td>1365007</td>\n",
       "      <td>610626.0</td>\n",
       "      <td>206720.0</td>\n",
       "      <td>PAYMENT</td>\n",
       "      <td>COMPLETED</td>\n",
       "      <td>용호수의 돈 버는 실전 영상 제작</td>\n",
       "      <td>영상/3D</td>\n",
       "      <td>올인원</td>\n",
       "      <td>2021-09-25 14:25:47</td>\n",
       "      <td>139000</td>\n",
       "      <td>[WELCOME] 온라인 강의 3만원 할인쿠폰</td>\n",
       "      <td>30000.0</td>\n",
       "      <td>169000.0</td>\n",
       "      <td>NAVER</td>\n",
       "      <td>POINT</td>\n",
       "      <td>영상 편집</td>\n",
       "      <td>2021-08-17</td>\n",
       "    </tr>\n",
       "  </tbody>\n",
       "</table>\n",
       "<p>23763 rows × 17 columns</p>\n",
       "</div>"
      ],
      "text/plain": [
       "             id  customer_id  course_id     type      state  \\\n",
       "2        970657      72297.0   204246.0  PAYMENT  COMPLETED   \n",
       "4        970658     478028.0   201797.0  PAYMENT  COMPLETED   \n",
       "8        970669     478033.0   203178.0  PAYMENT  COMPLETED   \n",
       "14       970676     478035.0   203720.0  PAYMENT  COMPLETED   \n",
       "28       970704     471759.0   204068.0  PAYMENT  COMPLETED   \n",
       "...         ...          ...        ...      ...        ...   \n",
       "105403  1364919     670833.0   201582.0  PAYMENT  COMPLETED   \n",
       "105411  1364969     669238.0   204286.0  PAYMENT  COMPLETED   \n",
       "105413  1364991     670891.0   203935.0  PAYMENT  COMPLETED   \n",
       "105416  1364996     640697.0   205365.0  PAYMENT  COMPLETED   \n",
       "105418  1365007     610626.0   206720.0  PAYMENT  COMPLETED   \n",
       "\n",
       "                           course_title category_title  format  \\\n",
       "2                  시크릿코드 : 프론트엔드 실무 완성편          프로그래밍  스쿨 온라인   \n",
       "4         올인원 패키지 : 직장인 필수 스킬 3종 세트 MAX          업무생산성     올인원   \n",
       "8           초격차 패키지 : 한번에 끝내는 영상 촬영과 편집          영상/3D     올인원   \n",
       "14          초격차 패키지 : 한 번에 끝내는 프론트엔드 개발          프로그래밍     올인원   \n",
       "28           올인원 패키지 : 마디아의 UX/UI 포트폴리오            디자인     올인원   \n",
       "...                                 ...            ...     ...   \n",
       "105403           올인원 패키지 : 컴퓨터 공학 전공 필수          프로그래밍     올인원   \n",
       "105411       초격차 패키지 : 한번에 끝내는 3D 디자인 툴            디자인     올인원   \n",
       "105413      초격차 패키지 : 한 번에 끝내는 파이썬 웹 개발          프로그래밍     올인원   \n",
       "105416  초격차 패키지 : 한 번에 끝내는 유튜브 크리에이터 되기          영상/3D     올인원   \n",
       "105418               용호수의 돈 버는 실전 영상 제작          영상/3D     올인원   \n",
       "\n",
       "              completed_at  transaction_amount               coupon_title  \\\n",
       "2      2021-03-28 15:21:43              171810      [10% 할인] 시크릿코드 실무 완성편   \n",
       "4      2021-03-28 15:21:54               97500   [웰컴쿠폰] 올인원 패키지 2만원 할인 쿠폰   \n",
       "8      2021-03-28 15:26:47               96000   [웰컴쿠폰] 올인원 패키지 2만원 할인 쿠폰   \n",
       "14     2021-03-28 15:31:01               91000   [웰컴쿠폰] 올인원 패키지 2만원 할인 쿠폰   \n",
       "28     2021-03-28 15:46:22               89000   [웰컴쿠폰] 올인원 패키지 1만원 할인 쿠폰   \n",
       "...                    ...                 ...                        ...   \n",
       "105403 2021-09-25 12:08:05              169000    [미래투자금] 온라인 강의 2만원 할인쿠폰   \n",
       "105411 2021-09-25 13:39:26              212000    [미래투자금] 온라인 강의 2만원 할인쿠폰   \n",
       "105413 2021-09-25 14:01:26              159000    [미래투자금] 온라인 강의 2만원 할인쿠폰   \n",
       "105416 2021-09-25 14:17:41               96000  [WELCOME] 온라인 강의 2만원 할인쿠폰   \n",
       "105418 2021-09-25 14:25:47              139000  [WELCOME] 온라인 강의 3만원 할인쿠폰   \n",
       "\n",
       "        coupon_discount_amount  sale_price      pg method subcategory_title  \\\n",
       "2                      19090.0    190900.0     NaN   CARD               NaN   \n",
       "4                      20000.0    117500.0     NaN   CARD           PPT/보고서   \n",
       "8                      20000.0    116000.0     NaN   CARD             영상 편집   \n",
       "14                     20000.0    111000.0     NaN   CARD          프론트엔드 개발   \n",
       "28                     10000.0     99000.0     NaN   CARD             UX/UI   \n",
       "...                        ...         ...     ...    ...               ...   \n",
       "105403                 20000.0    189000.0  INICIS   CARD           개발자 커리어   \n",
       "105411                 20000.0    232000.0  INICIS   CARD              디자인툴   \n",
       "105413                 20000.0    179000.0  INICIS   CARD            백엔드 개발   \n",
       "105416                 20000.0    116000.0  INICIS  VBANK             영상 편집   \n",
       "105418                 30000.0    169000.0   NAVER  POINT             영상 편집   \n",
       "\n",
       "       marketing_start_at  \n",
       "2              2021-03-04  \n",
       "4              2019-11-14  \n",
       "8              2020-12-02  \n",
       "14             2021-02-02  \n",
       "28             2021-03-11  \n",
       "...                   ...  \n",
       "105403         2019-09-30  \n",
       "105411         2021-04-23  \n",
       "105413         2021-05-31  \n",
       "105416         2021-06-15  \n",
       "105418         2021-08-17  \n",
       "\n",
       "[23763 rows x 17 columns]"
      ]
     },
     "execution_count": 21,
     "metadata": {},
     "output_type": "execute_result"
    }
   ],
   "source": [
    "df[df['coupon_title'].notnull()]"
   ]
  },
  {
   "cell_type": "code",
   "execution_count": 22,
   "id": "0ddcea69",
   "metadata": {
    "ExecuteTime": {
     "end_time": "2022-05-11T23:56:48.848327Z",
     "start_time": "2022-05-11T23:56:48.832327Z"
    }
   },
   "outputs": [
    {
     "data": {
      "text/plain": [
       "올인원        22359\n",
       "온라인 완주반      865\n",
       "RED          267\n",
       "하루10분컷       109\n",
       "스쿨 온라인        92\n",
       "B2G           38\n",
       "아카이브          23\n",
       "캠프             9\n",
       "MBA            1\n",
       "Name: format, dtype: int64"
      ]
     },
     "execution_count": 22,
     "metadata": {},
     "output_type": "execute_result"
    }
   ],
   "source": [
    "df[df['coupon_title'].notnull()]['format'].value_counts()"
   ]
  },
  {
   "cell_type": "code",
   "execution_count": 23,
   "id": "83c088e2",
   "metadata": {
    "ExecuteTime": {
     "end_time": "2022-05-11T23:56:48.864327Z",
     "start_time": "2022-05-11T23:56:48.849327Z"
    },
    "scrolled": true
   },
   "outputs": [
    {
     "data": {
      "text/plain": [
       "올인원        46554\n",
       "RED         3383\n",
       "온라인 완주반     1673\n",
       "하루10분컷      1371\n",
       "스쿨          1036\n",
       "B2B 온라인      984\n",
       "스쿨 온라인       643\n",
       "B2B          485\n",
       "B2G          434\n",
       "이벤트           89\n",
       "아카이브          35\n",
       "캠프            25\n",
       "MBA           23\n",
       "관리             1\n",
       "온라인            1\n",
       "Name: format, dtype: int64"
      ]
     },
     "execution_count": 23,
     "metadata": {},
     "output_type": "execute_result"
    }
   ],
   "source": [
    "df['format'].value_counts()"
   ]
  },
  {
   "cell_type": "code",
   "execution_count": 24,
   "id": "2124dd69",
   "metadata": {
    "ExecuteTime": {
     "end_time": "2022-05-11T23:56:48.976435Z",
     "start_time": "2022-05-11T23:56:48.865328Z"
    }
   },
   "outputs": [
    {
     "name": "stdout",
     "output_type": "stream",
     "text": [
      "{'스쿨 온라인': 14.3, '올인원': 48.0, 'RED': 7.9, '온라인 완주반': 51.7, 'B2B 온라인': 0.0, '캠프': 36.0, '스쿨': 0.0, 'B2B': 0.0, '이벤트': 0.0, '하루10분컷': 8.0, '아카이브': 65.7, '관리': 0.0, '온라인': 0.0, nan: nan, 'MBA': 4.3, 'B2G': 8.8}\n"
     ]
    },
    {
     "name": "stderr",
     "output_type": "stream",
     "text": [
      "C:\\Users\\gmlkd\\AppData\\Local\\Temp\\ipykernel_10804\\3429817241.py:7: RuntimeWarning: invalid value encountered in longlong_scalars\n",
      "  ratio_of_coupon[fmt] = round((df[(df['coupon_title'].notnull()) & (df['format'] == fmt)]['format'].count()) / (df[df['format']== fmt]['format'].count())*100, 1)\n"
     ]
    }
   ],
   "source": [
    "# 쿠폰사용 비율\n",
    "\n",
    "coupon_list = [fmt for fmt in df['format'].unique()]\n",
    "ratio_of_coupon = {}\n",
    "\n",
    "for fmt in coupon_list:\n",
    "    ratio_of_coupon[fmt] = round((df[(df['coupon_title'].notnull()) & (df['format'] == fmt)]['format'].count()) / (df[df['format']== fmt]['format'].count())*100, 1)\n",
    "    \n",
    "print(ratio_of_coupon)"
   ]
  },
  {
   "cell_type": "code",
   "execution_count": 25,
   "id": "b98f644c",
   "metadata": {
    "ExecuteTime": {
     "end_time": "2022-05-11T23:56:48.992435Z",
     "start_time": "2022-05-11T23:56:48.977435Z"
    },
    "scrolled": true
   },
   "outputs": [
    {
     "data": {
      "text/html": [
       "<div>\n",
       "<style scoped>\n",
       "    .dataframe tbody tr th:only-of-type {\n",
       "        vertical-align: middle;\n",
       "    }\n",
       "\n",
       "    .dataframe tbody tr th {\n",
       "        vertical-align: top;\n",
       "    }\n",
       "\n",
       "    .dataframe thead th {\n",
       "        text-align: right;\n",
       "    }\n",
       "</style>\n",
       "<table border=\"1\" class=\"dataframe\">\n",
       "  <thead>\n",
       "    <tr style=\"text-align: right;\">\n",
       "      <th></th>\n",
       "      <th>id</th>\n",
       "      <th>customer_id</th>\n",
       "      <th>course_id</th>\n",
       "      <th>type</th>\n",
       "      <th>state</th>\n",
       "      <th>course_title</th>\n",
       "      <th>category_title</th>\n",
       "      <th>format</th>\n",
       "      <th>completed_at</th>\n",
       "      <th>transaction_amount</th>\n",
       "      <th>coupon_title</th>\n",
       "      <th>coupon_discount_amount</th>\n",
       "      <th>sale_price</th>\n",
       "      <th>pg</th>\n",
       "      <th>method</th>\n",
       "      <th>subcategory_title</th>\n",
       "      <th>marketing_start_at</th>\n",
       "    </tr>\n",
       "  </thead>\n",
       "  <tbody>\n",
       "    <tr>\n",
       "      <th>631</th>\n",
       "      <td>972364</td>\n",
       "      <td>478743.0</td>\n",
       "      <td>204039.0</td>\n",
       "      <td>PAYMENT</td>\n",
       "      <td>COMPLETED</td>\n",
       "      <td>(B2B) 힐코코리아 온라인 구독 올 플랜 - 패파입주사</td>\n",
       "      <td>교육</td>\n",
       "      <td>B2B 온라인</td>\n",
       "      <td>2021-03-29 08:52:36</td>\n",
       "      <td>100000</td>\n",
       "      <td>NaN</td>\n",
       "      <td>NaN</td>\n",
       "      <td>NaN</td>\n",
       "      <td>NaN</td>\n",
       "      <td>TRANSFER</td>\n",
       "      <td>NaN</td>\n",
       "      <td>NaT</td>\n",
       "    </tr>\n",
       "    <tr>\n",
       "      <th>633</th>\n",
       "      <td>972365</td>\n",
       "      <td>478745.0</td>\n",
       "      <td>203352.0</td>\n",
       "      <td>PAYMENT</td>\n",
       "      <td>COMPLETED</td>\n",
       "      <td>(B2B) 주식회사 루나 온라인 구독 ALL PLAN - 패파입주사</td>\n",
       "      <td>교육</td>\n",
       "      <td>B2B 온라인</td>\n",
       "      <td>2021-03-29 08:57:12</td>\n",
       "      <td>750000</td>\n",
       "      <td>NaN</td>\n",
       "      <td>NaN</td>\n",
       "      <td>NaN</td>\n",
       "      <td>NaN</td>\n",
       "      <td>TRANSFER</td>\n",
       "      <td>NaN</td>\n",
       "      <td>NaT</td>\n",
       "    </tr>\n",
       "    <tr>\n",
       "      <th>1194</th>\n",
       "      <td>974008</td>\n",
       "      <td>479366.0</td>\n",
       "      <td>204129.0</td>\n",
       "      <td>PAYMENT</td>\n",
       "      <td>COMPLETED</td>\n",
       "      <td>(B2B) 주식회사 비바리즈 온라인 구독 올 플랜 - 패파입주사</td>\n",
       "      <td>교육</td>\n",
       "      <td>B2B 온라인</td>\n",
       "      <td>2021-03-29 14:56:46</td>\n",
       "      <td>200000</td>\n",
       "      <td>NaN</td>\n",
       "      <td>NaN</td>\n",
       "      <td>NaN</td>\n",
       "      <td>NaN</td>\n",
       "      <td>TRANSFER</td>\n",
       "      <td>NaN</td>\n",
       "      <td>NaT</td>\n",
       "    </tr>\n",
       "    <tr>\n",
       "      <th>1312</th>\n",
       "      <td>976595</td>\n",
       "      <td>480387.0</td>\n",
       "      <td>204486.0</td>\n",
       "      <td>PAYMENT</td>\n",
       "      <td>COMPLETED</td>\n",
       "      <td>(B2B) 웰컴금융그룹 온라인 구독 싱글 플랜</td>\n",
       "      <td>교육</td>\n",
       "      <td>B2B 온라인</td>\n",
       "      <td>2021-03-29 16:43:59</td>\n",
       "      <td>1194000</td>\n",
       "      <td>NaN</td>\n",
       "      <td>NaN</td>\n",
       "      <td>NaN</td>\n",
       "      <td>NaN</td>\n",
       "      <td>TRANSFER</td>\n",
       "      <td>NaN</td>\n",
       "      <td>NaT</td>\n",
       "    </tr>\n",
       "    <tr>\n",
       "      <th>1458</th>\n",
       "      <td>984569</td>\n",
       "      <td>483121.0</td>\n",
       "      <td>204534.0</td>\n",
       "      <td>PAYMENT</td>\n",
       "      <td>COMPLETED</td>\n",
       "      <td>(B2B) (주)하나아이씨티 온라인 구독 올 플랜(추가) - 비대면바우처</td>\n",
       "      <td>교육</td>\n",
       "      <td>B2B 온라인</td>\n",
       "      <td>2021-03-29 18:29:07</td>\n",
       "      <td>390000</td>\n",
       "      <td>NaN</td>\n",
       "      <td>NaN</td>\n",
       "      <td>NaN</td>\n",
       "      <td>NaN</td>\n",
       "      <td>ONSITE</td>\n",
       "      <td>NaN</td>\n",
       "      <td>NaT</td>\n",
       "    </tr>\n",
       "    <tr>\n",
       "      <th>1459</th>\n",
       "      <td>984567</td>\n",
       "      <td>106744.0</td>\n",
       "      <td>204522.0</td>\n",
       "      <td>PAYMENT</td>\n",
       "      <td>COMPLETED</td>\n",
       "      <td>(B2B) 아이쿨팁 온라인 구독 패키지 플랜 - 비대면바우처</td>\n",
       "      <td>프로그래밍</td>\n",
       "      <td>B2B 온라인</td>\n",
       "      <td>2021-03-29 18:29:07</td>\n",
       "      <td>480000</td>\n",
       "      <td>NaN</td>\n",
       "      <td>NaN</td>\n",
       "      <td>NaN</td>\n",
       "      <td>NaN</td>\n",
       "      <td>ONSITE</td>\n",
       "      <td>NaN</td>\n",
       "      <td>NaT</td>\n",
       "    </tr>\n",
       "    <tr>\n",
       "      <th>1460</th>\n",
       "      <td>984571</td>\n",
       "      <td>483121.0</td>\n",
       "      <td>204533.0</td>\n",
       "      <td>PAYMENT</td>\n",
       "      <td>COMPLETED</td>\n",
       "      <td>(B2B) (주)하나아이씨티 온라인 구독 올 플랜 - 비대면바우처</td>\n",
       "      <td>교육</td>\n",
       "      <td>B2B 온라인</td>\n",
       "      <td>2021-03-29 18:29:07</td>\n",
       "      <td>600000</td>\n",
       "      <td>NaN</td>\n",
       "      <td>NaN</td>\n",
       "      <td>NaN</td>\n",
       "      <td>NaN</td>\n",
       "      <td>ONSITE</td>\n",
       "      <td>NaN</td>\n",
       "      <td>NaT</td>\n",
       "    </tr>\n",
       "    <tr>\n",
       "      <th>1461</th>\n",
       "      <td>984573</td>\n",
       "      <td>492332.0</td>\n",
       "      <td>204586.0</td>\n",
       "      <td>PAYMENT</td>\n",
       "      <td>COMPLETED</td>\n",
       "      <td>(B2B) 섬데이 온라인 구독 올 플랜 - 비대면바우처</td>\n",
       "      <td>데이터사이언스</td>\n",
       "      <td>B2B 온라인</td>\n",
       "      <td>2021-03-29 18:29:07</td>\n",
       "      <td>480000</td>\n",
       "      <td>NaN</td>\n",
       "      <td>NaN</td>\n",
       "      <td>NaN</td>\n",
       "      <td>NaN</td>\n",
       "      <td>ONSITE</td>\n",
       "      <td>NaN</td>\n",
       "      <td>NaT</td>\n",
       "    </tr>\n",
       "    <tr>\n",
       "      <th>1462</th>\n",
       "      <td>984566</td>\n",
       "      <td>484658.0</td>\n",
       "      <td>204572.0</td>\n",
       "      <td>PAYMENT</td>\n",
       "      <td>COMPLETED</td>\n",
       "      <td>(B2B) 메이크모어엔터티 온라인 구독 올 플랜 - 비대면바우처</td>\n",
       "      <td>교육</td>\n",
       "      <td>B2B 온라인</td>\n",
       "      <td>2021-03-29 18:29:07</td>\n",
       "      <td>2000000</td>\n",
       "      <td>NaN</td>\n",
       "      <td>NaN</td>\n",
       "      <td>NaN</td>\n",
       "      <td>NaN</td>\n",
       "      <td>ONSITE</td>\n",
       "      <td>NaN</td>\n",
       "      <td>NaT</td>\n",
       "    </tr>\n",
       "    <tr>\n",
       "      <th>1463</th>\n",
       "      <td>984572</td>\n",
       "      <td>483123.0</td>\n",
       "      <td>204571.0</td>\n",
       "      <td>PAYMENT</td>\n",
       "      <td>COMPLETED</td>\n",
       "      <td>(B2B) (주)제이커브인터렉티브 온라인 구독 올 플랜 - 비대면바우처</td>\n",
       "      <td>교육</td>\n",
       "      <td>B2B 온라인</td>\n",
       "      <td>2021-03-29 18:29:07</td>\n",
       "      <td>600000</td>\n",
       "      <td>NaN</td>\n",
       "      <td>NaN</td>\n",
       "      <td>NaN</td>\n",
       "      <td>NaN</td>\n",
       "      <td>ONSITE</td>\n",
       "      <td>NaN</td>\n",
       "      <td>NaT</td>\n",
       "    </tr>\n",
       "  </tbody>\n",
       "</table>\n",
       "</div>"
      ],
      "text/plain": [
       "          id  customer_id  course_id     type      state  \\\n",
       "631   972364     478743.0   204039.0  PAYMENT  COMPLETED   \n",
       "633   972365     478745.0   203352.0  PAYMENT  COMPLETED   \n",
       "1194  974008     479366.0   204129.0  PAYMENT  COMPLETED   \n",
       "1312  976595     480387.0   204486.0  PAYMENT  COMPLETED   \n",
       "1458  984569     483121.0   204534.0  PAYMENT  COMPLETED   \n",
       "1459  984567     106744.0   204522.0  PAYMENT  COMPLETED   \n",
       "1460  984571     483121.0   204533.0  PAYMENT  COMPLETED   \n",
       "1461  984573     492332.0   204586.0  PAYMENT  COMPLETED   \n",
       "1462  984566     484658.0   204572.0  PAYMENT  COMPLETED   \n",
       "1463  984572     483123.0   204571.0  PAYMENT  COMPLETED   \n",
       "\n",
       "                                  course_title category_title   format  \\\n",
       "631            (B2B) 힐코코리아 온라인 구독 올 플랜 - 패파입주사             교육  B2B 온라인   \n",
       "633      (B2B) 주식회사 루나 온라인 구독 ALL PLAN - 패파입주사             교육  B2B 온라인   \n",
       "1194       (B2B) 주식회사 비바리즈 온라인 구독 올 플랜 - 패파입주사             교육  B2B 온라인   \n",
       "1312                 (B2B) 웰컴금융그룹 온라인 구독 싱글 플랜             교육  B2B 온라인   \n",
       "1458  (B2B) (주)하나아이씨티 온라인 구독 올 플랜(추가) - 비대면바우처             교육  B2B 온라인   \n",
       "1459         (B2B) 아이쿨팁 온라인 구독 패키지 플랜 - 비대면바우처          프로그래밍  B2B 온라인   \n",
       "1460      (B2B) (주)하나아이씨티 온라인 구독 올 플랜 - 비대면바우처             교육  B2B 온라인   \n",
       "1461            (B2B) 섬데이 온라인 구독 올 플랜 - 비대면바우처        데이터사이언스  B2B 온라인   \n",
       "1462       (B2B) 메이크모어엔터티 온라인 구독 올 플랜 - 비대면바우처             교육  B2B 온라인   \n",
       "1463   (B2B) (주)제이커브인터렉티브 온라인 구독 올 플랜 - 비대면바우처             교육  B2B 온라인   \n",
       "\n",
       "            completed_at  transaction_amount coupon_title  \\\n",
       "631  2021-03-29 08:52:36              100000          NaN   \n",
       "633  2021-03-29 08:57:12              750000          NaN   \n",
       "1194 2021-03-29 14:56:46              200000          NaN   \n",
       "1312 2021-03-29 16:43:59             1194000          NaN   \n",
       "1458 2021-03-29 18:29:07              390000          NaN   \n",
       "1459 2021-03-29 18:29:07              480000          NaN   \n",
       "1460 2021-03-29 18:29:07              600000          NaN   \n",
       "1461 2021-03-29 18:29:07              480000          NaN   \n",
       "1462 2021-03-29 18:29:07             2000000          NaN   \n",
       "1463 2021-03-29 18:29:07              600000          NaN   \n",
       "\n",
       "      coupon_discount_amount  sale_price   pg    method subcategory_title  \\\n",
       "631                      NaN         NaN  NaN  TRANSFER               NaN   \n",
       "633                      NaN         NaN  NaN  TRANSFER               NaN   \n",
       "1194                     NaN         NaN  NaN  TRANSFER               NaN   \n",
       "1312                     NaN         NaN  NaN  TRANSFER               NaN   \n",
       "1458                     NaN         NaN  NaN    ONSITE               NaN   \n",
       "1459                     NaN         NaN  NaN    ONSITE               NaN   \n",
       "1460                     NaN         NaN  NaN    ONSITE               NaN   \n",
       "1461                     NaN         NaN  NaN    ONSITE               NaN   \n",
       "1462                     NaN         NaN  NaN    ONSITE               NaN   \n",
       "1463                     NaN         NaN  NaN    ONSITE               NaN   \n",
       "\n",
       "     marketing_start_at  \n",
       "631                 NaT  \n",
       "633                 NaT  \n",
       "1194                NaT  \n",
       "1312                NaT  \n",
       "1458                NaT  \n",
       "1459                NaT  \n",
       "1460                NaT  \n",
       "1461                NaT  \n",
       "1462                NaT  \n",
       "1463                NaT  "
      ]
     },
     "execution_count": 25,
     "metadata": {},
     "output_type": "execute_result"
    }
   ],
   "source": [
    "# 쿠폰사용 없이 할인된 가격\n",
    "\n",
    "df[(df['coupon_title'].isnull()) & (df['transaction_amount'] != df['sale_price']) & (df['transaction_amount'] > 0)].head(10)"
   ]
  },
  {
   "cell_type": "markdown",
   "id": "59a2a4a2",
   "metadata": {},
   "source": [
    "# 출시된지 오래된 강의 분석"
   ]
  },
  {
   "cell_type": "code",
   "execution_count": 27,
   "id": "11d10804",
   "metadata": {
    "ExecuteTime": {
     "end_time": "2022-05-11T23:56:49.024435Z",
     "start_time": "2022-05-11T23:56:49.009435Z"
    }
   },
   "outputs": [
    {
     "data": {
      "text/html": [
       "<div>\n",
       "<style scoped>\n",
       "    .dataframe tbody tr th:only-of-type {\n",
       "        vertical-align: middle;\n",
       "    }\n",
       "\n",
       "    .dataframe tbody tr th {\n",
       "        vertical-align: top;\n",
       "    }\n",
       "\n",
       "    .dataframe thead th {\n",
       "        text-align: right;\n",
       "    }\n",
       "</style>\n",
       "<table border=\"1\" class=\"dataframe\">\n",
       "  <thead>\n",
       "    <tr style=\"text-align: right;\">\n",
       "      <th></th>\n",
       "      <th>id</th>\n",
       "      <th>customer_id</th>\n",
       "      <th>course_id</th>\n",
       "      <th>type</th>\n",
       "      <th>state</th>\n",
       "      <th>course_title</th>\n",
       "      <th>category_title</th>\n",
       "      <th>format</th>\n",
       "      <th>completed_at</th>\n",
       "      <th>transaction_amount</th>\n",
       "      <th>coupon_title</th>\n",
       "      <th>coupon_discount_amount</th>\n",
       "      <th>sale_price</th>\n",
       "      <th>pg</th>\n",
       "      <th>method</th>\n",
       "      <th>subcategory_title</th>\n",
       "      <th>marketing_start_at</th>\n",
       "    </tr>\n",
       "  </thead>\n",
       "  <tbody>\n",
       "    <tr>\n",
       "      <th>2</th>\n",
       "      <td>970657</td>\n",
       "      <td>72297.0</td>\n",
       "      <td>204246.0</td>\n",
       "      <td>PAYMENT</td>\n",
       "      <td>COMPLETED</td>\n",
       "      <td>시크릿코드 : 프론트엔드 실무 완성편</td>\n",
       "      <td>프로그래밍</td>\n",
       "      <td>스쿨 온라인</td>\n",
       "      <td>2021-03-28 15:21:43</td>\n",
       "      <td>171810</td>\n",
       "      <td>[10% 할인] 시크릿코드 실무 완성편</td>\n",
       "      <td>19090.0</td>\n",
       "      <td>190900.0</td>\n",
       "      <td>NaN</td>\n",
       "      <td>CARD</td>\n",
       "      <td>NaN</td>\n",
       "      <td>2021-03-04</td>\n",
       "    </tr>\n",
       "    <tr>\n",
       "      <th>4</th>\n",
       "      <td>970658</td>\n",
       "      <td>478028.0</td>\n",
       "      <td>201797.0</td>\n",
       "      <td>PAYMENT</td>\n",
       "      <td>COMPLETED</td>\n",
       "      <td>올인원 패키지 : 직장인 필수 스킬 3종 세트 MAX</td>\n",
       "      <td>업무생산성</td>\n",
       "      <td>올인원</td>\n",
       "      <td>2021-03-28 15:21:54</td>\n",
       "      <td>97500</td>\n",
       "      <td>[웰컴쿠폰] 올인원 패키지 2만원 할인 쿠폰</td>\n",
       "      <td>20000.0</td>\n",
       "      <td>117500.0</td>\n",
       "      <td>NaN</td>\n",
       "      <td>CARD</td>\n",
       "      <td>PPT/보고서</td>\n",
       "      <td>2019-11-14</td>\n",
       "    </tr>\n",
       "    <tr>\n",
       "      <th>8</th>\n",
       "      <td>970669</td>\n",
       "      <td>478033.0</td>\n",
       "      <td>203178.0</td>\n",
       "      <td>PAYMENT</td>\n",
       "      <td>COMPLETED</td>\n",
       "      <td>초격차 패키지 : 한번에 끝내는 영상 촬영과 편집</td>\n",
       "      <td>영상/3D</td>\n",
       "      <td>올인원</td>\n",
       "      <td>2021-03-28 15:26:47</td>\n",
       "      <td>96000</td>\n",
       "      <td>[웰컴쿠폰] 올인원 패키지 2만원 할인 쿠폰</td>\n",
       "      <td>20000.0</td>\n",
       "      <td>116000.0</td>\n",
       "      <td>NaN</td>\n",
       "      <td>CARD</td>\n",
       "      <td>영상 편집</td>\n",
       "      <td>2020-12-02</td>\n",
       "    </tr>\n",
       "    <tr>\n",
       "      <th>10</th>\n",
       "      <td>970671</td>\n",
       "      <td>469860.0</td>\n",
       "      <td>203644.0</td>\n",
       "      <td>PAYMENT</td>\n",
       "      <td>COMPLETED</td>\n",
       "      <td>올인원 패키지 : 권오상의 금융 아카데미 - 권오상의 재무제표 분석 기초(평생소장)</td>\n",
       "      <td>부동산/금융</td>\n",
       "      <td>올인원</td>\n",
       "      <td>2021-03-28 15:27:17</td>\n",
       "      <td>263000</td>\n",
       "      <td>NaN</td>\n",
       "      <td>NaN</td>\n",
       "      <td>263000.0</td>\n",
       "      <td>NaN</td>\n",
       "      <td>CARD</td>\n",
       "      <td>NaN</td>\n",
       "      <td>2020-11-27</td>\n",
       "    </tr>\n",
       "    <tr>\n",
       "      <th>14</th>\n",
       "      <td>970676</td>\n",
       "      <td>478035.0</td>\n",
       "      <td>203720.0</td>\n",
       "      <td>PAYMENT</td>\n",
       "      <td>COMPLETED</td>\n",
       "      <td>초격차 패키지 : 한 번에 끝내는 프론트엔드 개발</td>\n",
       "      <td>프로그래밍</td>\n",
       "      <td>올인원</td>\n",
       "      <td>2021-03-28 15:31:01</td>\n",
       "      <td>91000</td>\n",
       "      <td>[웰컴쿠폰] 올인원 패키지 2만원 할인 쿠폰</td>\n",
       "      <td>20000.0</td>\n",
       "      <td>111000.0</td>\n",
       "      <td>NaN</td>\n",
       "      <td>CARD</td>\n",
       "      <td>프론트엔드 개발</td>\n",
       "      <td>2021-02-02</td>\n",
       "    </tr>\n",
       "  </tbody>\n",
       "</table>\n",
       "</div>"
      ],
      "text/plain": [
       "        id  customer_id  course_id     type      state  \\\n",
       "2   970657      72297.0   204246.0  PAYMENT  COMPLETED   \n",
       "4   970658     478028.0   201797.0  PAYMENT  COMPLETED   \n",
       "8   970669     478033.0   203178.0  PAYMENT  COMPLETED   \n",
       "10  970671     469860.0   203644.0  PAYMENT  COMPLETED   \n",
       "14  970676     478035.0   203720.0  PAYMENT  COMPLETED   \n",
       "\n",
       "                                      course_title category_title  format  \\\n",
       "2                             시크릿코드 : 프론트엔드 실무 완성편          프로그래밍  스쿨 온라인   \n",
       "4                    올인원 패키지 : 직장인 필수 스킬 3종 세트 MAX          업무생산성     올인원   \n",
       "8                      초격차 패키지 : 한번에 끝내는 영상 촬영과 편집          영상/3D     올인원   \n",
       "10  올인원 패키지 : 권오상의 금융 아카데미 - 권오상의 재무제표 분석 기초(평생소장)         부동산/금융     올인원   \n",
       "14                     초격차 패키지 : 한 번에 끝내는 프론트엔드 개발          프로그래밍     올인원   \n",
       "\n",
       "          completed_at  transaction_amount              coupon_title  \\\n",
       "2  2021-03-28 15:21:43              171810     [10% 할인] 시크릿코드 실무 완성편   \n",
       "4  2021-03-28 15:21:54               97500  [웰컴쿠폰] 올인원 패키지 2만원 할인 쿠폰   \n",
       "8  2021-03-28 15:26:47               96000  [웰컴쿠폰] 올인원 패키지 2만원 할인 쿠폰   \n",
       "10 2021-03-28 15:27:17              263000                       NaN   \n",
       "14 2021-03-28 15:31:01               91000  [웰컴쿠폰] 올인원 패키지 2만원 할인 쿠폰   \n",
       "\n",
       "    coupon_discount_amount  sale_price   pg method subcategory_title  \\\n",
       "2                  19090.0    190900.0  NaN   CARD               NaN   \n",
       "4                  20000.0    117500.0  NaN   CARD           PPT/보고서   \n",
       "8                  20000.0    116000.0  NaN   CARD             영상 편집   \n",
       "10                     NaN    263000.0  NaN   CARD               NaN   \n",
       "14                 20000.0    111000.0  NaN   CARD          프론트엔드 개발   \n",
       "\n",
       "   marketing_start_at  \n",
       "2          2021-03-04  \n",
       "4          2019-11-14  \n",
       "8          2020-12-02  \n",
       "10         2020-11-27  \n",
       "14         2021-02-02  "
      ]
     },
     "execution_count": 27,
     "metadata": {},
     "output_type": "execute_result"
    }
   ],
   "source": [
    "df.head()"
   ]
  },
  {
   "cell_type": "code",
   "execution_count": 28,
   "id": "450981df",
   "metadata": {
    "ExecuteTime": {
     "end_time": "2022-05-11T23:56:49.056435Z",
     "start_time": "2022-05-11T23:56:49.026435Z"
    }
   },
   "outputs": [],
   "source": [
    "# 결제가 완료된 강의만 분석\n",
    "\n",
    "def year(x):\n",
    "    if x==2018:\n",
    "        return '2018'\n",
    "    elif x==2019:\n",
    "        return '2019'\n",
    "    elif x==2020:\n",
    "        return '2020'\n",
    "    elif x==2021:\n",
    "        return '2021'\n",
    "    else:\n",
    "        return 'nan'\n",
    "df2['marketing_start_year'] = df2[df2['type']=='PAYMENT']['marketing_start_at'].dt.year.map(year)"
   ]
  },
  {
   "cell_type": "code",
   "execution_count": 29,
   "id": "35aa747f",
   "metadata": {
    "ExecuteTime": {
     "end_time": "2022-05-11T23:56:49.072441Z",
     "start_time": "2022-05-11T23:56:49.057435Z"
    },
    "scrolled": true
   },
   "outputs": [
    {
     "data": {
      "text/html": [
       "<div>\n",
       "<style scoped>\n",
       "    .dataframe tbody tr th:only-of-type {\n",
       "        vertical-align: middle;\n",
       "    }\n",
       "\n",
       "    .dataframe tbody tr th {\n",
       "        vertical-align: top;\n",
       "    }\n",
       "\n",
       "    .dataframe thead th {\n",
       "        text-align: right;\n",
       "    }\n",
       "</style>\n",
       "<table border=\"1\" class=\"dataframe\">\n",
       "  <thead>\n",
       "    <tr style=\"text-align: right;\">\n",
       "      <th></th>\n",
       "      <th>id</th>\n",
       "      <th>customer_id</th>\n",
       "      <th>course_id</th>\n",
       "      <th>type</th>\n",
       "      <th>state</th>\n",
       "      <th>course_title</th>\n",
       "      <th>category_title</th>\n",
       "      <th>format</th>\n",
       "      <th>completed_at</th>\n",
       "      <th>transaction_amount</th>\n",
       "      <th>coupon_title</th>\n",
       "      <th>coupon_discount_amount</th>\n",
       "      <th>sale_price</th>\n",
       "      <th>pg</th>\n",
       "      <th>method</th>\n",
       "      <th>subcategory_title</th>\n",
       "      <th>marketing_start_at</th>\n",
       "      <th>marketing_start_year</th>\n",
       "    </tr>\n",
       "  </thead>\n",
       "  <tbody>\n",
       "    <tr>\n",
       "      <th>2</th>\n",
       "      <td>970657</td>\n",
       "      <td>72297.0</td>\n",
       "      <td>204246.0</td>\n",
       "      <td>PAYMENT</td>\n",
       "      <td>COMPLETED</td>\n",
       "      <td>시크릿코드 : 프론트엔드 실무 완성편</td>\n",
       "      <td>프로그래밍</td>\n",
       "      <td>스쿨 온라인</td>\n",
       "      <td>2021-03-28 15:21:43</td>\n",
       "      <td>171810</td>\n",
       "      <td>[10% 할인] 시크릿코드 실무 완성편</td>\n",
       "      <td>19090.0</td>\n",
       "      <td>190900.0</td>\n",
       "      <td>NaN</td>\n",
       "      <td>CARD</td>\n",
       "      <td>NaN</td>\n",
       "      <td>2021-03-04</td>\n",
       "      <td>2021</td>\n",
       "    </tr>\n",
       "    <tr>\n",
       "      <th>4</th>\n",
       "      <td>970658</td>\n",
       "      <td>478028.0</td>\n",
       "      <td>201797.0</td>\n",
       "      <td>PAYMENT</td>\n",
       "      <td>COMPLETED</td>\n",
       "      <td>올인원 패키지 : 직장인 필수 스킬 3종 세트 MAX</td>\n",
       "      <td>업무생산성</td>\n",
       "      <td>올인원</td>\n",
       "      <td>2021-03-28 15:21:54</td>\n",
       "      <td>97500</td>\n",
       "      <td>[웰컴쿠폰] 올인원 패키지 2만원 할인 쿠폰</td>\n",
       "      <td>20000.0</td>\n",
       "      <td>117500.0</td>\n",
       "      <td>NaN</td>\n",
       "      <td>CARD</td>\n",
       "      <td>PPT/보고서</td>\n",
       "      <td>2019-11-14</td>\n",
       "      <td>2019</td>\n",
       "    </tr>\n",
       "    <tr>\n",
       "      <th>8</th>\n",
       "      <td>970669</td>\n",
       "      <td>478033.0</td>\n",
       "      <td>203178.0</td>\n",
       "      <td>PAYMENT</td>\n",
       "      <td>COMPLETED</td>\n",
       "      <td>초격차 패키지 : 한번에 끝내는 영상 촬영과 편집</td>\n",
       "      <td>영상/3D</td>\n",
       "      <td>올인원</td>\n",
       "      <td>2021-03-28 15:26:47</td>\n",
       "      <td>96000</td>\n",
       "      <td>[웰컴쿠폰] 올인원 패키지 2만원 할인 쿠폰</td>\n",
       "      <td>20000.0</td>\n",
       "      <td>116000.0</td>\n",
       "      <td>NaN</td>\n",
       "      <td>CARD</td>\n",
       "      <td>영상 편집</td>\n",
       "      <td>2020-12-02</td>\n",
       "      <td>2020</td>\n",
       "    </tr>\n",
       "    <tr>\n",
       "      <th>10</th>\n",
       "      <td>970671</td>\n",
       "      <td>469860.0</td>\n",
       "      <td>203644.0</td>\n",
       "      <td>PAYMENT</td>\n",
       "      <td>COMPLETED</td>\n",
       "      <td>올인원 패키지 : 권오상의 금융 아카데미 - 권오상의 재무제표 분석 기초(평생소장)</td>\n",
       "      <td>부동산/금융</td>\n",
       "      <td>올인원</td>\n",
       "      <td>2021-03-28 15:27:17</td>\n",
       "      <td>263000</td>\n",
       "      <td>NaN</td>\n",
       "      <td>NaN</td>\n",
       "      <td>263000.0</td>\n",
       "      <td>NaN</td>\n",
       "      <td>CARD</td>\n",
       "      <td>NaN</td>\n",
       "      <td>2020-11-27</td>\n",
       "      <td>2020</td>\n",
       "    </tr>\n",
       "    <tr>\n",
       "      <th>14</th>\n",
       "      <td>970676</td>\n",
       "      <td>478035.0</td>\n",
       "      <td>203720.0</td>\n",
       "      <td>PAYMENT</td>\n",
       "      <td>COMPLETED</td>\n",
       "      <td>초격차 패키지 : 한 번에 끝내는 프론트엔드 개발</td>\n",
       "      <td>프로그래밍</td>\n",
       "      <td>올인원</td>\n",
       "      <td>2021-03-28 15:31:01</td>\n",
       "      <td>91000</td>\n",
       "      <td>[웰컴쿠폰] 올인원 패키지 2만원 할인 쿠폰</td>\n",
       "      <td>20000.0</td>\n",
       "      <td>111000.0</td>\n",
       "      <td>NaN</td>\n",
       "      <td>CARD</td>\n",
       "      <td>프론트엔드 개발</td>\n",
       "      <td>2021-02-02</td>\n",
       "      <td>2021</td>\n",
       "    </tr>\n",
       "  </tbody>\n",
       "</table>\n",
       "</div>"
      ],
      "text/plain": [
       "        id  customer_id  course_id     type      state  \\\n",
       "2   970657      72297.0   204246.0  PAYMENT  COMPLETED   \n",
       "4   970658     478028.0   201797.0  PAYMENT  COMPLETED   \n",
       "8   970669     478033.0   203178.0  PAYMENT  COMPLETED   \n",
       "10  970671     469860.0   203644.0  PAYMENT  COMPLETED   \n",
       "14  970676     478035.0   203720.0  PAYMENT  COMPLETED   \n",
       "\n",
       "                                      course_title category_title  format  \\\n",
       "2                             시크릿코드 : 프론트엔드 실무 완성편          프로그래밍  스쿨 온라인   \n",
       "4                    올인원 패키지 : 직장인 필수 스킬 3종 세트 MAX          업무생산성     올인원   \n",
       "8                      초격차 패키지 : 한번에 끝내는 영상 촬영과 편집          영상/3D     올인원   \n",
       "10  올인원 패키지 : 권오상의 금융 아카데미 - 권오상의 재무제표 분석 기초(평생소장)         부동산/금융     올인원   \n",
       "14                     초격차 패키지 : 한 번에 끝내는 프론트엔드 개발          프로그래밍     올인원   \n",
       "\n",
       "          completed_at  transaction_amount              coupon_title  \\\n",
       "2  2021-03-28 15:21:43              171810     [10% 할인] 시크릿코드 실무 완성편   \n",
       "4  2021-03-28 15:21:54               97500  [웰컴쿠폰] 올인원 패키지 2만원 할인 쿠폰   \n",
       "8  2021-03-28 15:26:47               96000  [웰컴쿠폰] 올인원 패키지 2만원 할인 쿠폰   \n",
       "10 2021-03-28 15:27:17              263000                       NaN   \n",
       "14 2021-03-28 15:31:01               91000  [웰컴쿠폰] 올인원 패키지 2만원 할인 쿠폰   \n",
       "\n",
       "    coupon_discount_amount  sale_price   pg method subcategory_title  \\\n",
       "2                  19090.0    190900.0  NaN   CARD               NaN   \n",
       "4                  20000.0    117500.0  NaN   CARD           PPT/보고서   \n",
       "8                  20000.0    116000.0  NaN   CARD             영상 편집   \n",
       "10                     NaN    263000.0  NaN   CARD               NaN   \n",
       "14                 20000.0    111000.0  NaN   CARD          프론트엔드 개발   \n",
       "\n",
       "   marketing_start_at marketing_start_year  \n",
       "2          2021-03-04                 2021  \n",
       "4          2019-11-14                 2019  \n",
       "8          2020-12-02                 2020  \n",
       "10         2020-11-27                 2020  \n",
       "14         2021-02-02                 2021  "
      ]
     },
     "execution_count": 29,
     "metadata": {},
     "output_type": "execute_result"
    }
   ],
   "source": [
    "df2.head()"
   ]
  },
  {
   "cell_type": "code",
   "execution_count": 30,
   "id": "910c43de",
   "metadata": {
    "ExecuteTime": {
     "end_time": "2022-05-11T23:56:49.152464Z",
     "start_time": "2022-05-11T23:56:49.073441Z"
    }
   },
   "outputs": [
    {
     "data": {
      "image/png": "[encoded data removed]",
      "text/plain": [
       "<Figure size 720x720 with 1 Axes>"
      ]
     },
     "metadata": {
      "needs_background": "light"
     },
     "output_type": "display_data"
    }
   ],
   "source": [
    "plt.figure(figsize=(10,10))\n",
    "sns.countplot(data=df2, x='marketing_start_year', palette='Set2')\n",
    "plt.show()"
   ]
  },
  {
   "cell_type": "code",
   "execution_count": 31,
   "id": "65bdb94a",
   "metadata": {
    "ExecuteTime": {
     "end_time": "2022-05-11T23:56:49.183788Z",
     "start_time": "2022-05-11T23:56:49.152783Z"
    }
   },
   "outputs": [
    {
     "data": {
      "text/html": [
       "<div>\n",
       "<style scoped>\n",
       "    .dataframe tbody tr th:only-of-type {\n",
       "        vertical-align: middle;\n",
       "    }\n",
       "\n",
       "    .dataframe tbody tr th {\n",
       "        vertical-align: top;\n",
       "    }\n",
       "\n",
       "    .dataframe thead th {\n",
       "        text-align: right;\n",
       "    }\n",
       "</style>\n",
       "<table border=\"1\" class=\"dataframe\">\n",
       "  <thead>\n",
       "    <tr style=\"text-align: right;\">\n",
       "      <th></th>\n",
       "      <th>max</th>\n",
       "      <th>mean</th>\n",
       "      <th>min</th>\n",
       "    </tr>\n",
       "    <tr>\n",
       "      <th>marketing_start_year</th>\n",
       "      <th></th>\n",
       "      <th></th>\n",
       "      <th></th>\n",
       "    </tr>\n",
       "  </thead>\n",
       "  <tbody>\n",
       "    <tr>\n",
       "      <th>2019</th>\n",
       "      <td>330000</td>\n",
       "      <td>74944.508383</td>\n",
       "      <td>0</td>\n",
       "    </tr>\n",
       "    <tr>\n",
       "      <th>2020</th>\n",
       "      <td>750000</td>\n",
       "      <td>108765.073471</td>\n",
       "      <td>0</td>\n",
       "    </tr>\n",
       "    <tr>\n",
       "      <th>2021</th>\n",
       "      <td>1800000</td>\n",
       "      <td>136199.700349</td>\n",
       "      <td>0</td>\n",
       "    </tr>\n",
       "    <tr>\n",
       "      <th>nan</th>\n",
       "      <td>113400000</td>\n",
       "      <td>350714.221033</td>\n",
       "      <td>0</td>\n",
       "    </tr>\n",
       "  </tbody>\n",
       "</table>\n",
       "</div>"
      ],
      "text/plain": [
       "                            max           mean  min\n",
       "marketing_start_year                               \n",
       "2019                     330000   74944.508383    0\n",
       "2020                     750000  108765.073471    0\n",
       "2021                    1800000  136199.700349    0\n",
       "nan                   113400000  350714.221033    0"
      ]
     },
     "execution_count": 31,
     "metadata": {},
     "output_type": "execute_result"
    }
   ],
   "source": [
    "df2.pivot_table(index=['marketing_start_year'], values='transaction_amount', aggfunc=('mean','max','min'))"
   ]
  },
  {
   "cell_type": "code",
   "execution_count": 32,
   "id": "7065d2c1",
   "metadata": {
    "ExecuteTime": {
     "end_time": "2022-05-11T23:56:49.199893Z",
     "start_time": "2022-05-11T23:56:49.184785Z"
    }
   },
   "outputs": [
    {
     "data": {
      "text/plain": [
       "올인원    2637\n",
       "스쿨      875\n",
       "이벤트       7\n",
       "Name: format, dtype: int64"
      ]
     },
     "execution_count": 32,
     "metadata": {},
     "output_type": "execute_result"
    }
   ],
   "source": [
    "df2[df2['marketing_start_year'] == '2019']['format'].value_counts()"
   ]
  },
  {
   "cell_type": "code",
   "execution_count": 33,
   "id": "bb8dddcf",
   "metadata": {
    "ExecuteTime": {
     "end_time": "2022-05-11T23:56:49.215914Z",
     "start_time": "2022-05-11T23:56:49.200890Z"
    }
   },
   "outputs": [
    {
     "data": {
      "text/plain": [
       "초격차 패키지 : 한 번에 끝내는 node.js 웹 프로그래밍        828\n",
       "나의 칼퇴치트키 엑셀유치원                            793\n",
       "올인원 패키지 : 디지털 마케팅 MAX 2020                535\n",
       "올인원 패키지 : 알고리즘 기술면접 완전 정복                 534\n",
       "합격 패스 : 정보처리기사 필기&실기                      503\n",
       "                                         ... \n",
       "(B2B) (주)너울정보 온라인 구독 올 플랜 - 비대면바우처          1\n",
       "(B2B) 플라이크 온라인 구독 올 플랜 - 비대면바우처             1\n",
       "(B2B) (주)원탑스튜디오 온라인 구독 올 플랜 - 비대면바우처        1\n",
       "(B2B) 주식회사 퍼스텝컴퍼니 온라인 구독 올 플랜 - 비대면바우처      1\n",
       "(B2B) (주)오디 온라인 구독 올 플랜 - 비대면바우처            1\n",
       "Name: course_title, Length: 1304, dtype: int64"
      ]
     },
     "execution_count": 33,
     "metadata": {},
     "output_type": "execute_result"
    }
   ],
   "source": [
    "# 마케팅 시작 날짜가 없는 강의들\n",
    "\n",
    "df2[df2['marketing_start_year'] == 'nan']['course_title'].value_counts()"
   ]
  },
  {
   "cell_type": "code",
   "execution_count": 34,
   "id": "44df0379",
   "metadata": {
    "ExecuteTime": {
     "end_time": "2022-05-11T23:56:49.230920Z",
     "start_time": "2022-05-11T23:56:49.216917Z"
    }
   },
   "outputs": [
    {
     "data": {
      "text/plain": [
       "nan    828\n",
       "Name: marketing_start_year, dtype: int64"
      ]
     },
     "execution_count": 34,
     "metadata": {},
     "output_type": "execute_result"
    }
   ],
   "source": [
    "df2[df2['course_title'] =='초격차 패키지 : 한 번에 끝내는 node.js 웹 프로그래밍']['marketing_start_year'].value_counts()"
   ]
  },
  {
   "cell_type": "code",
   "execution_count": 35,
   "id": "afd0fbe9",
   "metadata": {
    "ExecuteTime": {
     "end_time": "2022-05-11T23:56:49.261462Z",
     "start_time": "2022-05-11T23:56:49.231917Z"
    },
    "scrolled": false
   },
   "outputs": [
    {
     "data": {
      "text/plain": [
       "nan     1704\n",
       "2021       1\n",
       "Name: marketing_start_year, dtype: int64"
      ]
     },
     "execution_count": 35,
     "metadata": {},
     "output_type": "execute_result"
    }
   ],
   "source": [
    "df2[df2['course_title'].str.contains(\"\\(B2B\\)\",na=False)]['marketing_start_year'].value_counts()\n",
    "\n",
    "# 유일하게 (B2B) 강의 중 마케팅 날짜가 있는 값\n",
    "#df2[(df2['course_title'].str.contains(\"\\(B2B\\)\",na=False)) & (df2['marketing_start_year'] == '2021')]"
   ]
  },
  {
   "cell_type": "markdown",
   "id": "e8c74158",
   "metadata": {},
   "source": [
    "# 구매한 월/요일/시간대별 분석"
   ]
  },
  {
   "cell_type": "code",
   "execution_count": 44,
   "id": "2be1f369",
   "metadata": {
    "ExecuteTime": {
     "end_time": "2022-05-12T00:20:21.471801Z",
     "start_time": "2022-05-12T00:20:21.454798Z"
    },
    "scrolled": true
   },
   "outputs": [
    {
     "data": {
      "text/plain": [
       "5    10067\n",
       "8    10038\n",
       "4     9659\n",
       "6     9445\n",
       "7     8919\n",
       "9     6244\n",
       "3     2366\n",
       "Name: completed_at, dtype: int64"
      ]
     },
     "execution_count": 44,
     "metadata": {},
     "output_type": "execute_result"
    }
   ],
   "source": [
    "df.completed_at.dt.month.value_counts()"
   ]
  },
  {
   "cell_type": "code",
   "execution_count": 52,
   "id": "50f35e9a",
   "metadata": {
    "ExecuteTime": {
     "end_time": "2022-05-12T00:24:34.735117Z",
     "start_time": "2022-05-12T00:24:34.709110Z"
    }
   },
   "outputs": [],
   "source": [
    "# '월' 기준\n",
    "def month(x):\n",
    "    if x==1:\n",
    "        return '1'\n",
    "    elif x==2:\n",
    "        return '2'\n",
    "    elif x==3:\n",
    "        return '3'\n",
    "    elif x==4:\n",
    "        return '4'\n",
    "    elif x==5:\n",
    "        return '5'\n",
    "    elif x==6:\n",
    "        return '6'\n",
    "    elif x==7:\n",
    "        return '7'\n",
    "    elif x==8:\n",
    "        return '8'\n",
    "    elif x==9:\n",
    "        return '9'\n",
    "    elif x==10:\n",
    "        return '10'\n",
    "    elif x==11:\n",
    "        return '11'   \n",
    "    else:\n",
    "        return '12'\n",
    "df2['completed_at_month'] = df2['completed_at'].dt.month.map(month)"
   ]
  },
  {
   "cell_type": "code",
   "execution_count": 58,
   "id": "2640dcb3",
   "metadata": {
    "ExecuteTime": {
     "end_time": "2022-05-12T00:28:51.451449Z",
     "start_time": "2022-05-12T00:28:51.372426Z"
    }
   },
   "outputs": [
    {
     "data": {
      "image/png": "[encoded data removed]",
      "text/plain": [
       "<Figure size 720x720 with 1 Axes>"
      ]
     },
     "metadata": {
      "needs_background": "light"
     },
     "output_type": "display_data"
    }
   ],
   "source": [
    "plt.figure(figsize=(10,10))\n",
    "sns.countplot(data=df2, x='completed_at_month', order=df2['completed_at_month'].value_counts().index ,palette='Set2')\n",
    "plt.show()"
   ]
  },
  {
   "cell_type": "code",
   "execution_count": 190,
   "id": "b58ca735",
   "metadata": {
    "ExecuteTime": {
     "end_time": "2022-05-12T01:31:34.211869Z",
     "start_time": "2022-05-12T01:31:34.187866Z"
    }
   },
   "outputs": [],
   "source": [
    "pivot_month = df2.pivot_table(index=['completed_at_month','type'], values='transaction_amount', aggfunc=('count'))"
   ]
  },
  {
   "cell_type": "code",
   "execution_count": 191,
   "id": "78724119",
   "metadata": {
    "ExecuteTime": {
     "end_time": "2022-05-12T01:31:38.997223Z",
     "start_time": "2022-05-12T01:31:38.985223Z"
    }
   },
   "outputs": [
    {
     "data": {
      "text/html": [
       "<div>\n",
       "<style scoped>\n",
       "    .dataframe tbody tr th:only-of-type {\n",
       "        vertical-align: middle;\n",
       "    }\n",
       "\n",
       "    .dataframe tbody tr th {\n",
       "        vertical-align: top;\n",
       "    }\n",
       "\n",
       "    .dataframe thead th {\n",
       "        text-align: right;\n",
       "    }\n",
       "</style>\n",
       "<table border=\"1\" class=\"dataframe\">\n",
       "  <thead>\n",
       "    <tr style=\"text-align: right;\">\n",
       "      <th></th>\n",
       "      <th></th>\n",
       "      <th>transaction_amount</th>\n",
       "    </tr>\n",
       "    <tr>\n",
       "      <th>completed_at_month</th>\n",
       "      <th>type</th>\n",
       "      <th></th>\n",
       "    </tr>\n",
       "  </thead>\n",
       "  <tbody>\n",
       "    <tr>\n",
       "      <th rowspan=\"2\" valign=\"top\">3</th>\n",
       "      <th>PAYMENT</th>\n",
       "      <td>2275</td>\n",
       "    </tr>\n",
       "    <tr>\n",
       "      <th>REFUND</th>\n",
       "      <td>91</td>\n",
       "    </tr>\n",
       "    <tr>\n",
       "      <th rowspan=\"2\" valign=\"top\">4</th>\n",
       "      <th>PAYMENT</th>\n",
       "      <td>8980</td>\n",
       "    </tr>\n",
       "    <tr>\n",
       "      <th>REFUND</th>\n",
       "      <td>679</td>\n",
       "    </tr>\n",
       "    <tr>\n",
       "      <th rowspan=\"2\" valign=\"top\">5</th>\n",
       "      <th>PAYMENT</th>\n",
       "      <td>9490</td>\n",
       "    </tr>\n",
       "    <tr>\n",
       "      <th>REFUND</th>\n",
       "      <td>577</td>\n",
       "    </tr>\n",
       "    <tr>\n",
       "      <th rowspan=\"2\" valign=\"top\">6</th>\n",
       "      <th>PAYMENT</th>\n",
       "      <td>8919</td>\n",
       "    </tr>\n",
       "    <tr>\n",
       "      <th>REFUND</th>\n",
       "      <td>526</td>\n",
       "    </tr>\n",
       "    <tr>\n",
       "      <th rowspan=\"2\" valign=\"top\">7</th>\n",
       "      <th>PAYMENT</th>\n",
       "      <td>8230</td>\n",
       "    </tr>\n",
       "    <tr>\n",
       "      <th>REFUND</th>\n",
       "      <td>689</td>\n",
       "    </tr>\n",
       "    <tr>\n",
       "      <th rowspan=\"2\" valign=\"top\">8</th>\n",
       "      <th>PAYMENT</th>\n",
       "      <td>9270</td>\n",
       "    </tr>\n",
       "    <tr>\n",
       "      <th>REFUND</th>\n",
       "      <td>768</td>\n",
       "    </tr>\n",
       "    <tr>\n",
       "      <th rowspan=\"2\" valign=\"top\">9</th>\n",
       "      <th>PAYMENT</th>\n",
       "      <td>5752</td>\n",
       "    </tr>\n",
       "    <tr>\n",
       "      <th>REFUND</th>\n",
       "      <td>492</td>\n",
       "    </tr>\n",
       "  </tbody>\n",
       "</table>\n",
       "</div>"
      ],
      "text/plain": [
       "                            transaction_amount\n",
       "completed_at_month type                       \n",
       "3                  PAYMENT                2275\n",
       "                   REFUND                   91\n",
       "4                  PAYMENT                8980\n",
       "                   REFUND                  679\n",
       "5                  PAYMENT                9490\n",
       "                   REFUND                  577\n",
       "6                  PAYMENT                8919\n",
       "                   REFUND                  526\n",
       "7                  PAYMENT                8230\n",
       "                   REFUND                  689\n",
       "8                  PAYMENT                9270\n",
       "                   REFUND                  768\n",
       "9                  PAYMENT                5752\n",
       "                   REFUND                  492"
      ]
     },
     "execution_count": 191,
     "metadata": {},
     "output_type": "execute_result"
    }
   ],
   "source": [
    "pivot_month"
   ]
  },
  {
   "cell_type": "code",
   "execution_count": 189,
   "id": "21474d81",
   "metadata": {
    "ExecuteTime": {
     "end_time": "2022-05-12T01:31:20.686698Z",
     "start_time": "2022-05-12T01:31:20.668699Z"
    }
   },
   "outputs": [
    {
     "data": {
      "text/plain": [
       "completed_at_month  type   \n",
       "3                   PAYMENT    0.961538\n",
       "                    REFUND     0.038462\n",
       "4                   PAYMENT    0.929703\n",
       "                    REFUND     0.070297\n",
       "5                   PAYMENT    0.942684\n",
       "                    REFUND     0.057316\n",
       "6                   PAYMENT    0.944309\n",
       "                    REFUND     0.055691\n",
       "7                   PAYMENT    0.922749\n",
       "                    REFUND     0.077251\n",
       "8                   PAYMENT    0.923491\n",
       "                    REFUND     0.076509\n",
       "9                   PAYMENT    0.921204\n",
       "                    REFUND     0.078796\n",
       "Name: transaction_amount, dtype: float64"
      ]
     },
     "execution_count": 189,
     "metadata": {},
     "output_type": "execute_result"
    }
   ],
   "source": [
    "# refund 비율\n",
    "\n",
    "df2.groupby(['completed_at_month','type'])['transaction_amount'].count()/df2.groupby(['completed_at_month'])['transaction_amount'].count()"
   ]
  },
  {
   "cell_type": "code",
   "execution_count": 222,
   "id": "f7a978a0",
   "metadata": {
    "ExecuteTime": {
     "end_time": "2022-05-12T01:46:03.937626Z",
     "start_time": "2022-05-12T01:46:03.929626Z"
    }
   },
   "outputs": [
    {
     "data": {
      "text/plain": [
       "Index(['5', '8', '4', '6', '7', '9', '3'], dtype='object')"
      ]
     },
     "execution_count": 222,
     "metadata": {},
     "output_type": "execute_result"
    }
   ],
   "source": [
    "df2['completed_at_month'].value_counts().index"
   ]
  },
  {
   "cell_type": "code",
   "execution_count": 228,
   "id": "c2971848",
   "metadata": {
    "ExecuteTime": {
     "end_time": "2022-05-12T01:48:25.022128Z",
     "start_time": "2022-05-12T01:48:24.859312Z"
    }
   },
   "outputs": [
    {
     "data": {
      "image/png": "[encoded data removed]",
      "text/plain": [
       "<Figure size 1008x720 with 1 Axes>"
      ]
     },
     "metadata": {
      "needs_background": "light"
     },
     "output_type": "display_data"
    }
   ],
   "source": [
    "elem = df2['completed_at_month'].value_counts().index\n",
    "\n",
    "plt.figure(figsize=(14,10))\n",
    "sns.histplot(data=df2, y='completed_at_month', hue='type', multiple='stack', palette='Set2')\n",
    "plt.show()\n",
    "\n",
    "sns.barplot()"
   ]
  },
  {
   "cell_type": "code",
   "execution_count": 198,
   "id": "32fc41fc",
   "metadata": {
    "ExecuteTime": {
     "end_time": "2022-05-12T01:37:08.689626Z",
     "start_time": "2022-05-12T01:37:08.664623Z"
    }
   },
   "outputs": [],
   "source": [
    "# 월별 쿠폰 사용량\n",
    "\n",
    "def coupon(x):\n",
    "    if x == True:\n",
    "        return 1\n",
    "    else:\n",
    "        return 0\n",
    "df2['is_coupon'] = df2['coupon_title'].notnull().map(coupon)"
   ]
  },
  {
   "cell_type": "code",
   "execution_count": 202,
   "id": "f9d2f9a9",
   "metadata": {
    "ExecuteTime": {
     "end_time": "2022-05-12T01:38:10.339715Z",
     "start_time": "2022-05-12T01:38:10.312715Z"
    }
   },
   "outputs": [
    {
     "data": {
      "text/html": [
       "<div>\n",
       "<style scoped>\n",
       "    .dataframe tbody tr th:only-of-type {\n",
       "        vertical-align: middle;\n",
       "    }\n",
       "\n",
       "    .dataframe tbody tr th {\n",
       "        vertical-align: top;\n",
       "    }\n",
       "\n",
       "    .dataframe thead th {\n",
       "        text-align: right;\n",
       "    }\n",
       "</style>\n",
       "<table border=\"1\" class=\"dataframe\">\n",
       "  <thead>\n",
       "    <tr style=\"text-align: right;\">\n",
       "      <th></th>\n",
       "      <th></th>\n",
       "      <th>transaction_amount</th>\n",
       "    </tr>\n",
       "    <tr>\n",
       "      <th>completed_at_month</th>\n",
       "      <th>is_coupon</th>\n",
       "      <th></th>\n",
       "    </tr>\n",
       "  </thead>\n",
       "  <tbody>\n",
       "    <tr>\n",
       "      <th rowspan=\"2\" valign=\"top\">3</th>\n",
       "      <th>0</th>\n",
       "      <td>766</td>\n",
       "    </tr>\n",
       "    <tr>\n",
       "      <th>1</th>\n",
       "      <td>1600</td>\n",
       "    </tr>\n",
       "    <tr>\n",
       "      <th rowspan=\"2\" valign=\"top\">4</th>\n",
       "      <th>0</th>\n",
       "      <td>4462</td>\n",
       "    </tr>\n",
       "    <tr>\n",
       "      <th>1</th>\n",
       "      <td>5197</td>\n",
       "    </tr>\n",
       "    <tr>\n",
       "      <th rowspan=\"2\" valign=\"top\">5</th>\n",
       "      <th>0</th>\n",
       "      <td>5645</td>\n",
       "    </tr>\n",
       "    <tr>\n",
       "      <th>1</th>\n",
       "      <td>4422</td>\n",
       "    </tr>\n",
       "    <tr>\n",
       "      <th rowspan=\"2\" valign=\"top\">6</th>\n",
       "      <th>0</th>\n",
       "      <td>7357</td>\n",
       "    </tr>\n",
       "    <tr>\n",
       "      <th>1</th>\n",
       "      <td>2088</td>\n",
       "    </tr>\n",
       "    <tr>\n",
       "      <th rowspan=\"2\" valign=\"top\">7</th>\n",
       "      <th>0</th>\n",
       "      <td>6336</td>\n",
       "    </tr>\n",
       "    <tr>\n",
       "      <th>1</th>\n",
       "      <td>2583</td>\n",
       "    </tr>\n",
       "    <tr>\n",
       "      <th rowspan=\"2\" valign=\"top\">8</th>\n",
       "      <th>0</th>\n",
       "      <td>5250</td>\n",
       "    </tr>\n",
       "    <tr>\n",
       "      <th>1</th>\n",
       "      <td>4788</td>\n",
       "    </tr>\n",
       "    <tr>\n",
       "      <th rowspan=\"2\" valign=\"top\">9</th>\n",
       "      <th>0</th>\n",
       "      <td>3159</td>\n",
       "    </tr>\n",
       "    <tr>\n",
       "      <th>1</th>\n",
       "      <td>3085</td>\n",
       "    </tr>\n",
       "  </tbody>\n",
       "</table>\n",
       "</div>"
      ],
      "text/plain": [
       "                              transaction_amount\n",
       "completed_at_month is_coupon                    \n",
       "3                  0                         766\n",
       "                   1                        1600\n",
       "4                  0                        4462\n",
       "                   1                        5197\n",
       "5                  0                        5645\n",
       "                   1                        4422\n",
       "6                  0                        7357\n",
       "                   1                        2088\n",
       "7                  0                        6336\n",
       "                   1                        2583\n",
       "8                  0                        5250\n",
       "                   1                        4788\n",
       "9                  0                        3159\n",
       "                   1                        3085"
      ]
     },
     "execution_count": 202,
     "metadata": {},
     "output_type": "execute_result"
    }
   ],
   "source": [
    "df2.pivot_table(index=['completed_at_month','is_coupon'], values='transaction_amount', aggfunc=('count'))"
   ]
  },
  {
   "cell_type": "code",
   "execution_count": 203,
   "id": "1280779a",
   "metadata": {
    "ExecuteTime": {
     "end_time": "2022-05-12T01:39:08.408649Z",
     "start_time": "2022-05-12T01:39:08.395609Z"
    }
   },
   "outputs": [
    {
     "data": {
      "text/plain": [
       "completed_at_month  is_coupon\n",
       "3                   0            0.323753\n",
       "                    1            0.676247\n",
       "4                   0            0.461953\n",
       "                    1            0.538047\n",
       "5                   0            0.560743\n",
       "                    1            0.439257\n",
       "6                   0            0.778931\n",
       "                    1            0.221069\n",
       "7                   0            0.710394\n",
       "                    1            0.289606\n",
       "8                   0            0.523013\n",
       "                    1            0.476987\n",
       "9                   0            0.505926\n",
       "                    1            0.494074\n",
       "Name: transaction_amount, dtype: float64"
      ]
     },
     "execution_count": 203,
     "metadata": {},
     "output_type": "execute_result"
    }
   ],
   "source": [
    "# 월별 쿠폰사용비율\n",
    "\n",
    "df2.groupby(['completed_at_month','is_coupon'])['transaction_amount'].count()/df2.groupby(['completed_at_month'])['transaction_amount'].count()"
   ]
  },
  {
   "cell_type": "code",
   "execution_count": 229,
   "id": "4f9a9e5f",
   "metadata": {
    "ExecuteTime": {
     "end_time": "2022-05-12T01:48:31.225673Z",
     "start_time": "2022-05-12T01:48:31.107621Z"
    }
   },
   "outputs": [
    {
     "data": {
      "image/png": "[encoded data removed]",
      "text/plain": [
       "<Figure size 1008x720 with 1 Axes>"
      ]
     },
     "metadata": {
      "needs_background": "light"
     },
     "output_type": "display_data"
    }
   ],
   "source": [
    "plt.figure(figsize=(14,10))\n",
    "sns.histplot(data=df2, y='completed_at_month', hue='is_coupon', multiple='stack', palette='Set2')\n",
    "plt.show()"
   ]
  },
  {
   "cell_type": "code",
   "execution_count": 239,
   "id": "dcd7cfd8",
   "metadata": {
    "ExecuteTime": {
     "end_time": "2022-05-12T08:55:48.008899Z",
     "start_time": "2022-05-12T08:55:47.994899Z"
    }
   },
   "outputs": [],
   "source": [
    "# 요일별\n",
    "\n",
    "def day(x):\n",
    "    if x== 0:\n",
    "        return '월요일'\n",
    "    elif x==1:\n",
    "        return '화요일'\n",
    "    elif x==2:\n",
    "        return '수요일'\n",
    "    elif x==3:\n",
    "        return '목요일'\n",
    "    elif x==4:\n",
    "        return '금요일'\n",
    "    elif x==5:\n",
    "        return '토요일'\n",
    "    elif x==6:\n",
    "        return '일요일'\n",
    "df2['completed_at_day'] = df2['completed_at'].dt.day_of_week.map(day)"
   ]
  },
  {
   "cell_type": "code",
   "execution_count": 240,
   "id": "055c55a4",
   "metadata": {
    "ExecuteTime": {
     "end_time": "2022-05-12T08:55:49.872366Z",
     "start_time": "2022-05-12T08:55:49.849367Z"
    }
   },
   "outputs": [
    {
     "data": {
      "text/html": [
       "<div>\n",
       "<style scoped>\n",
       "    .dataframe tbody tr th:only-of-type {\n",
       "        vertical-align: middle;\n",
       "    }\n",
       "\n",
       "    .dataframe tbody tr th {\n",
       "        vertical-align: top;\n",
       "    }\n",
       "\n",
       "    .dataframe thead th {\n",
       "        text-align: right;\n",
       "    }\n",
       "</style>\n",
       "<table border=\"1\" class=\"dataframe\">\n",
       "  <thead>\n",
       "    <tr style=\"text-align: right;\">\n",
       "      <th></th>\n",
       "      <th>id</th>\n",
       "      <th>customer_id</th>\n",
       "      <th>course_id</th>\n",
       "      <th>type</th>\n",
       "      <th>state</th>\n",
       "      <th>course_title</th>\n",
       "      <th>category_title</th>\n",
       "      <th>format</th>\n",
       "      <th>completed_at</th>\n",
       "      <th>transaction_amount</th>\n",
       "      <th>...</th>\n",
       "      <th>coupon_discount_amount</th>\n",
       "      <th>sale_price</th>\n",
       "      <th>pg</th>\n",
       "      <th>method</th>\n",
       "      <th>subcategory_title</th>\n",
       "      <th>marketing_start_at</th>\n",
       "      <th>marketing_start_year</th>\n",
       "      <th>completed_at_month</th>\n",
       "      <th>is_coupon</th>\n",
       "      <th>completed_at_day</th>\n",
       "    </tr>\n",
       "  </thead>\n",
       "  <tbody>\n",
       "    <tr>\n",
       "      <th>2</th>\n",
       "      <td>970657</td>\n",
       "      <td>72297.0</td>\n",
       "      <td>204246.0</td>\n",
       "      <td>PAYMENT</td>\n",
       "      <td>COMPLETED</td>\n",
       "      <td>시크릿코드 : 프론트엔드 실무 완성편</td>\n",
       "      <td>프로그래밍</td>\n",
       "      <td>스쿨 온라인</td>\n",
       "      <td>2021-03-28 15:21:43</td>\n",
       "      <td>171810</td>\n",
       "      <td>...</td>\n",
       "      <td>19090.0</td>\n",
       "      <td>190900.0</td>\n",
       "      <td>NaN</td>\n",
       "      <td>CARD</td>\n",
       "      <td>NaN</td>\n",
       "      <td>2021-03-04</td>\n",
       "      <td>2021</td>\n",
       "      <td>3</td>\n",
       "      <td>1</td>\n",
       "      <td>일요일</td>\n",
       "    </tr>\n",
       "    <tr>\n",
       "      <th>4</th>\n",
       "      <td>970658</td>\n",
       "      <td>478028.0</td>\n",
       "      <td>201797.0</td>\n",
       "      <td>PAYMENT</td>\n",
       "      <td>COMPLETED</td>\n",
       "      <td>올인원 패키지 : 직장인 필수 스킬 3종 세트 MAX</td>\n",
       "      <td>업무생산성</td>\n",
       "      <td>올인원</td>\n",
       "      <td>2021-03-28 15:21:54</td>\n",
       "      <td>97500</td>\n",
       "      <td>...</td>\n",
       "      <td>20000.0</td>\n",
       "      <td>117500.0</td>\n",
       "      <td>NaN</td>\n",
       "      <td>CARD</td>\n",
       "      <td>PPT/보고서</td>\n",
       "      <td>2019-11-14</td>\n",
       "      <td>2019</td>\n",
       "      <td>3</td>\n",
       "      <td>1</td>\n",
       "      <td>일요일</td>\n",
       "    </tr>\n",
       "    <tr>\n",
       "      <th>8</th>\n",
       "      <td>970669</td>\n",
       "      <td>478033.0</td>\n",
       "      <td>203178.0</td>\n",
       "      <td>PAYMENT</td>\n",
       "      <td>COMPLETED</td>\n",
       "      <td>초격차 패키지 : 한번에 끝내는 영상 촬영과 편집</td>\n",
       "      <td>영상/3D</td>\n",
       "      <td>올인원</td>\n",
       "      <td>2021-03-28 15:26:47</td>\n",
       "      <td>96000</td>\n",
       "      <td>...</td>\n",
       "      <td>20000.0</td>\n",
       "      <td>116000.0</td>\n",
       "      <td>NaN</td>\n",
       "      <td>CARD</td>\n",
       "      <td>영상 편집</td>\n",
       "      <td>2020-12-02</td>\n",
       "      <td>2020</td>\n",
       "      <td>3</td>\n",
       "      <td>1</td>\n",
       "      <td>일요일</td>\n",
       "    </tr>\n",
       "    <tr>\n",
       "      <th>10</th>\n",
       "      <td>970671</td>\n",
       "      <td>469860.0</td>\n",
       "      <td>203644.0</td>\n",
       "      <td>PAYMENT</td>\n",
       "      <td>COMPLETED</td>\n",
       "      <td>올인원 패키지 : 권오상의 금융 아카데미 - 권오상의 재무제표 분석 기초(평생소장)</td>\n",
       "      <td>부동산/금융</td>\n",
       "      <td>올인원</td>\n",
       "      <td>2021-03-28 15:27:17</td>\n",
       "      <td>263000</td>\n",
       "      <td>...</td>\n",
       "      <td>NaN</td>\n",
       "      <td>263000.0</td>\n",
       "      <td>NaN</td>\n",
       "      <td>CARD</td>\n",
       "      <td>NaN</td>\n",
       "      <td>2020-11-27</td>\n",
       "      <td>2020</td>\n",
       "      <td>3</td>\n",
       "      <td>0</td>\n",
       "      <td>일요일</td>\n",
       "    </tr>\n",
       "    <tr>\n",
       "      <th>14</th>\n",
       "      <td>970676</td>\n",
       "      <td>478035.0</td>\n",
       "      <td>203720.0</td>\n",
       "      <td>PAYMENT</td>\n",
       "      <td>COMPLETED</td>\n",
       "      <td>초격차 패키지 : 한 번에 끝내는 프론트엔드 개발</td>\n",
       "      <td>프로그래밍</td>\n",
       "      <td>올인원</td>\n",
       "      <td>2021-03-28 15:31:01</td>\n",
       "      <td>91000</td>\n",
       "      <td>...</td>\n",
       "      <td>20000.0</td>\n",
       "      <td>111000.0</td>\n",
       "      <td>NaN</td>\n",
       "      <td>CARD</td>\n",
       "      <td>프론트엔드 개발</td>\n",
       "      <td>2021-02-02</td>\n",
       "      <td>2021</td>\n",
       "      <td>3</td>\n",
       "      <td>1</td>\n",
       "      <td>일요일</td>\n",
       "    </tr>\n",
       "  </tbody>\n",
       "</table>\n",
       "<p>5 rows × 21 columns</p>\n",
       "</div>"
      ],
      "text/plain": [
       "        id  customer_id  course_id     type      state  \\\n",
       "2   970657      72297.0   204246.0  PAYMENT  COMPLETED   \n",
       "4   970658     478028.0   201797.0  PAYMENT  COMPLETED   \n",
       "8   970669     478033.0   203178.0  PAYMENT  COMPLETED   \n",
       "10  970671     469860.0   203644.0  PAYMENT  COMPLETED   \n",
       "14  970676     478035.0   203720.0  PAYMENT  COMPLETED   \n",
       "\n",
       "                                      course_title category_title  format  \\\n",
       "2                             시크릿코드 : 프론트엔드 실무 완성편          프로그래밍  스쿨 온라인   \n",
       "4                    올인원 패키지 : 직장인 필수 스킬 3종 세트 MAX          업무생산성     올인원   \n",
       "8                      초격차 패키지 : 한번에 끝내는 영상 촬영과 편집          영상/3D     올인원   \n",
       "10  올인원 패키지 : 권오상의 금융 아카데미 - 권오상의 재무제표 분석 기초(평생소장)         부동산/금융     올인원   \n",
       "14                     초격차 패키지 : 한 번에 끝내는 프론트엔드 개발          프로그래밍     올인원   \n",
       "\n",
       "          completed_at  transaction_amount  ... coupon_discount_amount  \\\n",
       "2  2021-03-28 15:21:43              171810  ...                19090.0   \n",
       "4  2021-03-28 15:21:54               97500  ...                20000.0   \n",
       "8  2021-03-28 15:26:47               96000  ...                20000.0   \n",
       "10 2021-03-28 15:27:17              263000  ...                    NaN   \n",
       "14 2021-03-28 15:31:01               91000  ...                20000.0   \n",
       "\n",
       "    sale_price   pg method subcategory_title marketing_start_at  \\\n",
       "2     190900.0  NaN   CARD               NaN         2021-03-04   \n",
       "4     117500.0  NaN   CARD           PPT/보고서         2019-11-14   \n",
       "8     116000.0  NaN   CARD             영상 편집         2020-12-02   \n",
       "10    263000.0  NaN   CARD               NaN         2020-11-27   \n",
       "14    111000.0  NaN   CARD          프론트엔드 개발         2021-02-02   \n",
       "\n",
       "   marketing_start_year completed_at_month is_coupon  completed_at_day  \n",
       "2                  2021                  3         1               일요일  \n",
       "4                  2019                  3         1               일요일  \n",
       "8                  2020                  3         1               일요일  \n",
       "10                 2020                  3         0               일요일  \n",
       "14                 2021                  3         1               일요일  \n",
       "\n",
       "[5 rows x 21 columns]"
      ]
     },
     "execution_count": 240,
     "metadata": {},
     "output_type": "execute_result"
    }
   ],
   "source": [
    "df2.head()"
   ]
  }
 ],
 "metadata": {
  "kernelspec": {
   "display_name": "Python 3 (ipykernel)",
   "language": "python",
   "name": "python3"
  },
  "language_info": {
   "codemirror_mode": {
    "name": "ipython",
    "version": 3
   },
   "file_extension": ".py",
   "mimetype": "text/x-python",
   "name": "python",
   "nbconvert_exporter": "python",
   "pygments_lexer": "ipython3",
   "version": "3.8.13"
  },
  "toc": {
   "base_numbering": 1,
   "nav_menu": {},
   "number_sections": true,
   "sideBar": true,
   "skip_h1_title": false,
   "title_cell": "Table of Contents",
   "title_sidebar": "Contents",
   "toc_cell": false,
   "toc_position": {
    "height": "calc(100% - 180px)",
    "left": "10px",
    "top": "150px",
    "width": "439.08px"
   },
   "toc_section_display": true,
   "toc_window_display": false
  },
  "varInspector": {
   "cols": {
    "lenName": 16,
    "lenType": 16,
    "lenVar": 40
   },
   "kernels_config": {
    "python": {
     "delete_cmd_postfix": "",
     "delete_cmd_prefix": "del ",
     "library": "var_list.py",
     "varRefreshCmd": "print(var_dic_list())"
    },
    "r": {
     "delete_cmd_postfix": ") ",
     "delete_cmd_prefix": "rm(",
     "library": "var_list.r",
     "varRefreshCmd": "cat(var_dic_list()) "
    }
   },
   "types_to_exclude": [
    "module",
    "function",
    "builtin_function_or_method",
    "instance",
    "_Feature"
   ],
   "window_display": false
  }
 },
 "nbformat": 4,
 "nbformat_minor": 5
}
