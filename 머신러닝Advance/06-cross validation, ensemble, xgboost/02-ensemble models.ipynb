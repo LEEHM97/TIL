{
 "cells": [
  {
   "cell_type": "markdown",
   "metadata": {},
   "source": [
    "**연속형 data ensemble**\n",
    "- BaggingRegressor : Bootstrap + Arregating\n",
    "- KNeighborsRegressor\n",
    "- RandomForest Regressor\n",
    "- AdaBoost Regressor"
   ]
  },
  {
   "cell_type": "code",
   "execution_count": 1,
   "metadata": {
    "ExecuteTime": {
     "end_time": "2022-06-03T05:03:48.974072Z",
     "start_time": "2022-06-03T05:03:48.008083Z"
    },
    "id": "VqK1LJmzyAu6"
   },
   "outputs": [],
   "source": [
    "# libraries\n",
    "import numpy as np\n",
    "import scipy as sp\n",
    "import pandas as pd\n",
    "import matplotlib.pyplot as plt\n",
    "from sklearn.model_selection import train_test_split\n",
    "from sklearn.model_selection import cross_val_score\n",
    "%matplotlib inline"
   ]
  },
  {
   "cell_type": "code",
   "execution_count": 2,
   "metadata": {
    "ExecuteTime": {
     "end_time": "2022-06-03T05:04:10.516939Z",
     "start_time": "2022-06-03T05:04:10.505975Z"
    },
    "id": "y8QPZuDJyEdB"
   },
   "outputs": [],
   "source": [
    "# read data\n",
    "df = pd.read_csv('C:/Users/gmlkd/data/data02_diabetes.csv')\n",
    "X = df.iloc[:,:-1]\n",
    "y = df['Y']\n",
    "xtrain, xtest, ytrain, ytest = train_test_split(X, y, test_size=0.5, random_state=1)"
   ]
  },
  {
   "cell_type": "code",
   "execution_count": 3,
   "metadata": {
    "ExecuteTime": {
     "end_time": "2022-06-03T05:04:17.254156Z",
     "start_time": "2022-06-03T05:04:17.241199Z"
    }
   },
   "outputs": [
    {
     "data": {
      "text/html": [
       "<div>\n",
       "<style scoped>\n",
       "    .dataframe tbody tr th:only-of-type {\n",
       "        vertical-align: middle;\n",
       "    }\n",
       "\n",
       "    .dataframe tbody tr th {\n",
       "        vertical-align: top;\n",
       "    }\n",
       "\n",
       "    .dataframe thead th {\n",
       "        text-align: right;\n",
       "    }\n",
       "</style>\n",
       "<table border=\"1\" class=\"dataframe\">\n",
       "  <thead>\n",
       "    <tr style=\"text-align: right;\">\n",
       "      <th></th>\n",
       "      <th>age</th>\n",
       "      <th>sex</th>\n",
       "      <th>bmi</th>\n",
       "      <th>map</th>\n",
       "      <th>tc</th>\n",
       "      <th>ldl</th>\n",
       "      <th>hdl</th>\n",
       "      <th>tch</th>\n",
       "      <th>ltg</th>\n",
       "      <th>glu</th>\n",
       "    </tr>\n",
       "  </thead>\n",
       "  <tbody>\n",
       "    <tr>\n",
       "      <th>100</th>\n",
       "      <td>0.016281</td>\n",
       "      <td>-0.044642</td>\n",
       "      <td>0.017506</td>\n",
       "      <td>-0.022885</td>\n",
       "      <td>0.060349</td>\n",
       "      <td>0.044406</td>\n",
       "      <td>0.030232</td>\n",
       "      <td>-0.002592</td>\n",
       "      <td>0.037232</td>\n",
       "      <td>-0.001078</td>\n",
       "    </tr>\n",
       "    <tr>\n",
       "      <th>34</th>\n",
       "      <td>0.016281</td>\n",
       "      <td>-0.044642</td>\n",
       "      <td>-0.063330</td>\n",
       "      <td>-0.057314</td>\n",
       "      <td>-0.057983</td>\n",
       "      <td>-0.048912</td>\n",
       "      <td>0.008142</td>\n",
       "      <td>-0.039493</td>\n",
       "      <td>-0.059473</td>\n",
       "      <td>-0.067351</td>\n",
       "    </tr>\n",
       "    <tr>\n",
       "      <th>188</th>\n",
       "      <td>0.005383</td>\n",
       "      <td>-0.044642</td>\n",
       "      <td>-0.002973</td>\n",
       "      <td>0.049415</td>\n",
       "      <td>0.074108</td>\n",
       "      <td>0.070710</td>\n",
       "      <td>0.044958</td>\n",
       "      <td>-0.002592</td>\n",
       "      <td>-0.001499</td>\n",
       "      <td>-0.009362</td>\n",
       "    </tr>\n",
       "    <tr>\n",
       "      <th>110</th>\n",
       "      <td>0.041708</td>\n",
       "      <td>0.050680</td>\n",
       "      <td>-0.032073</td>\n",
       "      <td>-0.022885</td>\n",
       "      <td>-0.049727</td>\n",
       "      <td>-0.040144</td>\n",
       "      <td>0.030232</td>\n",
       "      <td>-0.039493</td>\n",
       "      <td>-0.126097</td>\n",
       "      <td>0.015491</td>\n",
       "    </tr>\n",
       "    <tr>\n",
       "      <th>175</th>\n",
       "      <td>0.067136</td>\n",
       "      <td>-0.044642</td>\n",
       "      <td>-0.038540</td>\n",
       "      <td>-0.026328</td>\n",
       "      <td>-0.031840</td>\n",
       "      <td>-0.026366</td>\n",
       "      <td>0.008142</td>\n",
       "      <td>-0.039493</td>\n",
       "      <td>-0.027129</td>\n",
       "      <td>0.003064</td>\n",
       "    </tr>\n",
       "    <tr>\n",
       "      <th>...</th>\n",
       "      <td>...</td>\n",
       "      <td>...</td>\n",
       "      <td>...</td>\n",
       "      <td>...</td>\n",
       "      <td>...</td>\n",
       "      <td>...</td>\n",
       "      <td>...</td>\n",
       "      <td>...</td>\n",
       "      <td>...</td>\n",
       "      <td>...</td>\n",
       "    </tr>\n",
       "    <tr>\n",
       "      <th>255</th>\n",
       "      <td>0.001751</td>\n",
       "      <td>-0.044642</td>\n",
       "      <td>-0.065486</td>\n",
       "      <td>-0.005671</td>\n",
       "      <td>-0.007073</td>\n",
       "      <td>-0.019476</td>\n",
       "      <td>0.041277</td>\n",
       "      <td>-0.039493</td>\n",
       "      <td>-0.003304</td>\n",
       "      <td>0.007207</td>\n",
       "    </tr>\n",
       "    <tr>\n",
       "      <th>72</th>\n",
       "      <td>0.063504</td>\n",
       "      <td>0.050680</td>\n",
       "      <td>-0.004050</td>\n",
       "      <td>-0.012556</td>\n",
       "      <td>0.103003</td>\n",
       "      <td>0.048790</td>\n",
       "      <td>0.056003</td>\n",
       "      <td>-0.002592</td>\n",
       "      <td>0.084495</td>\n",
       "      <td>-0.017646</td>\n",
       "    </tr>\n",
       "    <tr>\n",
       "      <th>396</th>\n",
       "      <td>-0.085430</td>\n",
       "      <td>0.050680</td>\n",
       "      <td>-0.030996</td>\n",
       "      <td>-0.022885</td>\n",
       "      <td>-0.063487</td>\n",
       "      <td>-0.054236</td>\n",
       "      <td>0.019187</td>\n",
       "      <td>-0.039493</td>\n",
       "      <td>-0.096433</td>\n",
       "      <td>-0.034215</td>\n",
       "    </tr>\n",
       "    <tr>\n",
       "      <th>235</th>\n",
       "      <td>0.067136</td>\n",
       "      <td>0.050680</td>\n",
       "      <td>-0.014828</td>\n",
       "      <td>0.058596</td>\n",
       "      <td>-0.059359</td>\n",
       "      <td>-0.034508</td>\n",
       "      <td>-0.061809</td>\n",
       "      <td>0.012906</td>\n",
       "      <td>-0.005145</td>\n",
       "      <td>0.048628</td>\n",
       "    </tr>\n",
       "    <tr>\n",
       "      <th>37</th>\n",
       "      <td>-0.009147</td>\n",
       "      <td>-0.044642</td>\n",
       "      <td>0.011039</td>\n",
       "      <td>-0.057314</td>\n",
       "      <td>-0.024960</td>\n",
       "      <td>-0.042963</td>\n",
       "      <td>0.030232</td>\n",
       "      <td>-0.039493</td>\n",
       "      <td>0.017037</td>\n",
       "      <td>-0.005220</td>\n",
       "    </tr>\n",
       "  </tbody>\n",
       "</table>\n",
       "<p>221 rows × 10 columns</p>\n",
       "</div>"
      ],
      "text/plain": [
       "          age       sex       bmi       map        tc       ldl       hdl  \\\n",
       "100  0.016281 -0.044642  0.017506 -0.022885  0.060349  0.044406  0.030232   \n",
       "34   0.016281 -0.044642 -0.063330 -0.057314 -0.057983 -0.048912  0.008142   \n",
       "188  0.005383 -0.044642 -0.002973  0.049415  0.074108  0.070710  0.044958   \n",
       "110  0.041708  0.050680 -0.032073 -0.022885 -0.049727 -0.040144  0.030232   \n",
       "175  0.067136 -0.044642 -0.038540 -0.026328 -0.031840 -0.026366  0.008142   \n",
       "..        ...       ...       ...       ...       ...       ...       ...   \n",
       "255  0.001751 -0.044642 -0.065486 -0.005671 -0.007073 -0.019476  0.041277   \n",
       "72   0.063504  0.050680 -0.004050 -0.012556  0.103003  0.048790  0.056003   \n",
       "396 -0.085430  0.050680 -0.030996 -0.022885 -0.063487 -0.054236  0.019187   \n",
       "235  0.067136  0.050680 -0.014828  0.058596 -0.059359 -0.034508 -0.061809   \n",
       "37  -0.009147 -0.044642  0.011039 -0.057314 -0.024960 -0.042963  0.030232   \n",
       "\n",
       "          tch       ltg       glu  \n",
       "100 -0.002592  0.037232 -0.001078  \n",
       "34  -0.039493 -0.059473 -0.067351  \n",
       "188 -0.002592 -0.001499 -0.009362  \n",
       "110 -0.039493 -0.126097  0.015491  \n",
       "175 -0.039493 -0.027129  0.003064  \n",
       "..        ...       ...       ...  \n",
       "255 -0.039493 -0.003304  0.007207  \n",
       "72  -0.002592  0.084495 -0.017646  \n",
       "396 -0.039493 -0.096433 -0.034215  \n",
       "235  0.012906 -0.005145  0.048628  \n",
       "37  -0.039493  0.017037 -0.005220  \n",
       "\n",
       "[221 rows x 10 columns]"
      ]
     },
     "execution_count": 3,
     "metadata": {},
     "output_type": "execute_result"
    }
   ],
   "source": [
    "xtrain"
   ]
  },
  {
   "cell_type": "markdown",
   "metadata": {
    "id": "h-pd-GLRyEae"
   },
   "source": [
    "### Bagging Methods"
   ]
  },
  {
   "cell_type": "code",
   "execution_count": 4,
   "metadata": {
    "ExecuteTime": {
     "end_time": "2022-06-03T05:08:12.129315Z",
     "start_time": "2022-06-03T05:08:12.069298Z"
    },
    "id": "-nH58IuyyEXh"
   },
   "outputs": [],
   "source": [
    "from sklearn.ensemble import BaggingRegressor\n",
    "from sklearn.neighbors import KNeighborsRegressor"
   ]
  },
  {
   "cell_type": "code",
   "execution_count": 5,
   "metadata": {
    "ExecuteTime": {
     "end_time": "2022-06-03T05:08:12.568648Z",
     "start_time": "2022-06-03T05:08:12.550709Z"
    },
    "id": "GhjtbgU0yEVH"
   },
   "outputs": [
    {
     "name": "stdout",
     "output_type": "stream",
     "text": [
      "0.6447443202247629 0.30194445005036563\n"
     ]
    }
   ],
   "source": [
    "# usual knn\n",
    "knn = KNeighborsRegressor(n_neighbors=5)\n",
    "knn.fit(xtrain, ytrain)\n",
    "print(knn.score(xtrain, ytrain), knn.score(xtest, ytest))\n",
    "\n",
    "# score는 R-square값\n",
    "# testset에 대해 0.3"
   ]
  },
  {
   "cell_type": "code",
   "execution_count": 6,
   "metadata": {
    "ExecuteTime": {
     "end_time": "2022-06-03T05:11:18.885184Z",
     "start_time": "2022-06-03T05:11:18.686813Z"
    },
    "id": "asxTBIGFyESm"
   },
   "outputs": [
    {
     "name": "stdout",
     "output_type": "stream",
     "text": [
      "0.673701636213444 0.34106207785208675\n"
     ]
    }
   ],
   "source": [
    "# full bagging\n",
    "# 100개의 KNN을 ensemble한다.\n",
    "# max_sampes=1.0 : 전체 데이터를 학습시킨다.\n",
    "# max_features=1.0 : feature를 모두 사용한다.\n",
    "\n",
    "bf = BaggingRegressor(knn, n_estimators=100, max_samples=1.0, max_features=1.0, random_state=0) \n",
    "bf.fit(xtrain, ytrain)\n",
    "print(bf.score(xtrain, ytrain), bf.score(xtest, ytest))\n",
    "\n",
    "# score는 R-square값\n",
    "# 그냥 KNN보다는 test score가 조금 더 올랐다"
   ]
  },
  {
   "cell_type": "code",
   "execution_count": 8,
   "metadata": {
    "ExecuteTime": {
     "end_time": "2022-06-03T05:13:53.015785Z",
     "start_time": "2022-06-03T05:13:52.875934Z"
    },
    "id": "lPRdPh-RyEPm"
   },
   "outputs": [
    {
     "name": "stdout",
     "output_type": "stream",
     "text": [
      "0.5801532018029003 0.36337966190846294\n"
     ]
    }
   ],
   "source": [
    "# bagging with subsampling and feature randomization\n",
    "bf = BaggingRegressor(knn, n_estimators=100, max_samples=0.5, max_features=0.5, random_state=0)\n",
    "bf.fit(xtrain, ytrain)\n",
    "print(bf.score(xtrain, ytrain), bf.score(xtest, ytest))\n",
    "\n",
    "# 절반의 samples와 feature만 뽑으니 성능이 좋아졌다 -> 다양한 경우의 수를 교차검증할 수 있기 때문"
   ]
  },
  {
   "cell_type": "code",
   "execution_count": 9,
   "metadata": {
    "ExecuteTime": {
     "end_time": "2022-06-03T05:19:05.658839Z",
     "start_time": "2022-06-03T05:19:03.141377Z"
    },
    "id": "M1zBMV4ryEM7"
   },
   "outputs": [
    {
     "data": {
      "text/plain": [
       "[<matplotlib.lines.Line2D at 0x2a97017cc40>,\n",
       " <matplotlib.lines.Line2D at 0x2a97017cbe0>]"
      ]
     },
     "execution_count": 9,
     "metadata": {},
     "output_type": "execute_result"
    },
    {
     "data": {
      "image/png": "[encoded data removed]",
      "text/plain": [
       "<Figure size 432x288 with 1 Axes>"
      ]
     },
     "metadata": {
      "needs_background": "light"
     },
     "output_type": "display_data"
    }
   ],
   "source": [
    "# effect of estimators\n",
    "np.random.seed(0)\n",
    "n_list = [1,5,10,20,30,50,100,200,500,1000]\n",
    "s = np.zeros((len(n_list),2))\n",
    "for i in range(len(n_list)):\n",
    "    bf = BaggingRegressor(knn, n_estimators=n_list[i], max_samples=0.5, max_features=0.5)\n",
    "    bf.fit(xtrain, ytrain)\n",
    "    s[i,0] = bf.score(xtrain,ytrain)\n",
    "    s[i,1] = bf.score(xtest,ytest)\n",
    "plt.plot(np.log10(n_list),s,marker='o')"
   ]
  },
  {
   "cell_type": "code",
   "execution_count": 12,
   "metadata": {
    "ExecuteTime": {
     "end_time": "2022-06-03T05:23:46.302455Z",
     "start_time": "2022-06-03T05:23:31.090493Z"
    },
    "id": "nwSm_hEWyEKZ"
   },
   "outputs": [],
   "source": [
    "# parameter tunning\n",
    "np.random.seed(1)\n",
    "params = np.arange(2,20,2)\n",
    "s = np.zeros((len(params),3))\n",
    "for i in range(len(params)):\n",
    "    f = BaggingRegressor(KNeighborsRegressor(params[i]), n_estimators=200,\n",
    "                          random_state=0, max_samples=0.5, max_features=0.5, oob_score=True)\n",
    "    f.fit(xtrain, ytrain)\n",
    "    s[i,0] = f.score(xtrain, ytrain)\n",
    "    s[i,1] = cross_val_score(f,xtrain, ytrain, cv=5).mean()\n",
    "    s[i,2] = f.score(xtest, ytest)"
   ]
  },
  {
   "cell_type": "code",
   "execution_count": 13,
   "metadata": {
    "ExecuteTime": {
     "end_time": "2022-06-03T05:23:46.442704Z",
     "start_time": "2022-06-03T05:23:46.366452Z"
    },
    "id": "H8SxwLZsya7J"
   },
   "outputs": [
    {
     "data": {
      "text/plain": [
       "[<matplotlib.lines.Line2D at 0x2a971ac7130>,\n",
       " <matplotlib.lines.Line2D at 0x2a971ac79a0>,\n",
       " <matplotlib.lines.Line2D at 0x2a971ac7730>]"
      ]
     },
     "execution_count": 13,
     "metadata": {},
     "output_type": "execute_result"
    },
    {
     "data": {
      "image/png": "[encoded data removed]",
      "text/plain": [
       "<Figure size 432x288 with 1 Axes>"
      ]
     },
     "metadata": {
      "needs_background": "light"
     },
     "output_type": "display_data"
    }
   ],
   "source": [
    "plt.plot(s)"
   ]
  },
  {
   "cell_type": "markdown",
   "metadata": {
    "id": "F-nXoxBoya3N"
   },
   "source": [
    "### Random Forest Regressor"
   ]
  },
  {
   "cell_type": "code",
   "execution_count": 14,
   "metadata": {
    "ExecuteTime": {
     "end_time": "2022-06-03T05:25:38.810249Z",
     "start_time": "2022-06-03T05:25:38.683895Z"
    },
    "id": "0bBIQTG5ya0e"
   },
   "outputs": [
    {
     "name": "stdout",
     "output_type": "stream",
     "text": [
      "0.9344222892222186 0.26652306720579266\n"
     ]
    }
   ],
   "source": [
    "# random forest\n",
    "from sklearn.ensemble import RandomForestRegressor\n",
    "rf = RandomForestRegressor(random_state=0)\n",
    "rf.fit(xtrain, ytrain)\n",
    "yhat_test = rf.predict(xtest)\n",
    "print(rf.score(xtrain, ytrain), rf.score(xtest, ytest))"
   ]
  },
  {
   "cell_type": "code",
   "execution_count": 15,
   "metadata": {
    "ExecuteTime": {
     "end_time": "2022-06-03T05:25:50.177263Z",
     "start_time": "2022-06-03T05:25:50.078592Z"
    },
    "id": "M5wWHe9Gyaxy"
   },
   "outputs": [
    {
     "name": "stdout",
     "output_type": "stream",
     "text": [
      "0.9307158003923464 0.32452479852142846\n"
     ]
    }
   ],
   "source": [
    "# number of features to be chosen\n",
    "# max_features='sqrt': feature 개수에 루트를 씌움\n",
    "# 아래 tree size에 대한 training과 비교해서 test가 높지만 train이 낮은걸 보면 overfitting은 아닐 것이다.\n",
    "rf = RandomForestRegressor(n_estimators=100, random_state=0, max_features='sqrt')\n",
    "rf.fit(xtrain,ytrain)\n",
    "print(rf.score(xtrain,ytrain), rf.score(xtest,ytest))"
   ]
  },
  {
   "cell_type": "code",
   "execution_count": 16,
   "metadata": {
    "ExecuteTime": {
     "end_time": "2022-06-03T05:26:45.980925Z",
     "start_time": "2022-06-03T05:26:45.880226Z"
    },
    "id": "sK9pbCmkyaur"
   },
   "outputs": [
    {
     "name": "stdout",
     "output_type": "stream",
     "text": [
      "0.934844542444828 0.3186232382873758\n"
     ]
    }
   ],
   "source": [
    "# tree size\n",
    "rf = RandomForestRegressor(n_estimators=100, random_state=0,\n",
    "                           max_features='sqrt', max_leaf_nodes=100)\n",
    "rf.fit(xtrain,ytrain)\n",
    "print(rf.score(xtrain, ytrain), rf.score(xtest, ytest))"
   ]
  },
  {
   "attachments": {
    "image.png": {
     "image/png": "[encoded data removed]"
    }
   },
   "cell_type": "markdown",
   "metadata": {},
   "source": [
    "#### 참고\n",
    "![image.png](attachment:image.png)"
   ]
  },
  {
   "cell_type": "code",
   "execution_count": 17,
   "metadata": {
    "ExecuteTime": {
     "end_time": "2022-06-03T05:28:35.469785Z",
     "start_time": "2022-06-03T05:28:35.361146Z"
    },
    "id": "_cAZiHBvygWJ"
   },
   "outputs": [
    {
     "name": "stdout",
     "output_type": "stream",
     "text": [
      "0.934844542444828 0.3186232382873758\n",
      "0.5286735733070282\n"
     ]
    }
   ],
   "source": [
    "# oob score\n",
    "rf = RandomForestRegressor(n_estimators=100,random_state=0,\n",
    "                           max_features='sqrt',max_leaf_nodes=100,\n",
    "                           oob_score=True)\n",
    "rf.fit(xtrain,ytrain)\n",
    "print(rf.score(xtrain,ytrain), rf.score(xtest,ytest))\n",
    "print(rf.oob_score_)  # out-of-bag score\n",
    "\n",
    "# oob_score가 낮아질 수록 각 트리들이 학습을 잘하는 것이다."
   ]
  },
  {
   "cell_type": "code",
   "execution_count": 18,
   "metadata": {
    "ExecuteTime": {
     "end_time": "2022-06-03T05:29:41.658275Z",
     "start_time": "2022-06-03T05:29:30.019594Z"
    },
    "id": "efqT8F0KygTZ"
   },
   "outputs": [
    {
     "data": {
      "text/plain": [
       "[<matplotlib.lines.Line2D at 0x2a971a7b6a0>,\n",
       " <matplotlib.lines.Line2D at 0x2a971a7b700>,\n",
       " <matplotlib.lines.Line2D at 0x2a971a7b820>,\n",
       " <matplotlib.lines.Line2D at 0x2a971a7b940>]"
      ]
     },
     "execution_count": 18,
     "metadata": {},
     "output_type": "execute_result"
    },
    {
     "data": {
      "image/png": "[encoded data removed]",
      "text/plain": [
       "<Figure size 432x288 with 1 Axes>"
      ]
     },
     "metadata": {
      "needs_background": "light"
     },
     "output_type": "display_data"
    }
   ],
   "source": [
    "# parameter tuning using oob scores\n",
    "tree_size = np.arange(2, 50, 2)\n",
    "s = np.zeros((len(tree_size),4))\n",
    "\n",
    "for i in range(len(tree_size)):\n",
    "    rf = RandomForestRegressor(n_estimators=100, random_state=0,\n",
    "                           max_features='sqrt', max_leaf_nodes=tree_size[i],\n",
    "                           oob_score=True)\n",
    "    rf.fit(xtrain,ytrain)\n",
    "    s[i,0] = rf.score(xtrain,ytrain)\n",
    "    s[i,1] = rf.oob_score_ \n",
    "    s[i,2] = cross_val_score(rf,xtrain,ytrain,cv=5).mean()\n",
    "    s[i,3] = rf.score(xtest,ytest)\n",
    "\n",
    "plt.plot(tree_size, s)\n",
    "\n",
    "# 6~8 정도가 이상적인 tree size"
   ]
  },
  {
   "cell_type": "markdown",
   "metadata": {
    "id": "im7W_u4ZyoqI"
   },
   "source": [
    "### AdaBoost\n",
    "\n",
    "- [참고](http://www.incodom.kr/Adaboost)\n",
    "- boosting: 잘못 예측한 데이터에 가중치 부여를 통해 오류를 개선해 나가면서 학습하는 기계학습 방식\n",
    "- 예측 성능이 조금 낮은 약한 학습기(weak classifier)를 다량 구축 및 조합하여 가중치 수정을 통해 좀 더 나은 성능을 발휘하는 하나의 강한 분류기(strong classifier)를 합성하는 방법\n",
    "- 학습 데이터에 과적합(overfitting) 현상이 적게 발생하여 예측 성능을 저하하지 않는 장점"
   ]
  },
  {
   "cell_type": "code",
   "execution_count": 20,
   "metadata": {
    "ExecuteTime": {
     "end_time": "2022-06-03T05:34:35.534161Z",
     "start_time": "2022-06-03T05:34:35.528181Z"
    },
    "id": "_ZbwfDgkyom4"
   },
   "outputs": [],
   "source": [
    "from sklearn.ensemble import AdaBoostRegressor\n",
    "from sklearn.neighbors import KNeighborsRegressor\n",
    "knn = KNeighborsRegressor(n_neighbors=20)"
   ]
  },
  {
   "cell_type": "code",
   "execution_count": 21,
   "metadata": {
    "ExecuteTime": {
     "end_time": "2022-06-03T05:34:36.734146Z",
     "start_time": "2022-06-03T05:34:36.725176Z"
    },
    "id": "bSeh1-xryoj_"
   },
   "outputs": [
    {
     "name": "stdout",
     "output_type": "stream",
     "text": [
      "0.5080959725354963 0.3876364359427341\n"
     ]
    }
   ],
   "source": [
    "# usual knn\n",
    "knn.fit(xtrain,ytrain)\n",
    "print(knn.score(xtrain,ytrain), knn.score(xtest,ytest))"
   ]
  },
  {
   "cell_type": "code",
   "execution_count": 22,
   "metadata": {
    "ExecuteTime": {
     "end_time": "2022-06-03T05:35:02.470046Z",
     "start_time": "2022-06-03T05:35:02.416162Z"
    },
    "id": "7bJ1nSSRyohJ"
   },
   "outputs": [
    {
     "name": "stdout",
     "output_type": "stream",
     "text": [
      "0.5241872608426615 0.38040938090239296\n"
     ]
    }
   ],
   "source": [
    "# adaboost with knn\n",
    "f = AdaBoostRegressor(knn, n_estimators=20, learning_rate=1, random_state=0)\n",
    "f.fit(xtrain,ytrain)\n",
    "print(f.score(xtrain,ytrain), f.score(xtest,ytest))"
   ]
  },
  {
   "cell_type": "code",
   "execution_count": 25,
   "metadata": {
    "ExecuteTime": {
     "end_time": "2022-06-03T05:35:25.095537Z",
     "start_time": "2022-06-03T05:35:25.068582Z"
    },
    "id": "X_6P2mWvywxE"
   },
   "outputs": [
    {
     "name": "stdout",
     "output_type": "stream",
     "text": [
      "0.7099696568895637 0.31983289991227004\n"
     ]
    }
   ],
   "source": [
    "# adaboost with tree\n",
    "f = AdaBoostRegressor(None, n_estimators=10, learning_rate=1, random_state=0)\n",
    "f.fit(xtrain,ytrain)\n",
    "print(f.score(xtrain,ytrain), f.score(xtest,ytest))\n",
    "\n",
    "# KNN이 더 낫다."
   ]
  },
  {
   "cell_type": "markdown",
   "metadata": {},
   "source": [
    "### GridSearch"
   ]
  },
  {
   "cell_type": "code",
   "execution_count": 26,
   "metadata": {
    "ExecuteTime": {
     "end_time": "2022-06-03T05:39:10.643863Z",
     "start_time": "2022-06-03T05:38:44.231177Z"
    },
    "id": "HJcnqI4Qywun"
   },
   "outputs": [
    {
     "data": {
      "text/plain": [
       "GridSearchCV(cv=3, estimator=AdaBoostRegressor(),\n",
       "             param_grid={'base_estimator': [KNeighborsRegressor(n_neighbors=20),\n",
       "                                            None],\n",
       "                         'n_estimators': array([  2,   4,   6,   8,  10,  12,  14,  16,  18,  20,  22,  24,  26,\n",
       "        28,  30,  32,  34,  36,  38,  40,  42,  44,  46,  48,  50,  52,\n",
       "        54,  56,  58,  60,  62,  64,  66,  68,  70,  72,  74,  76,  78,\n",
       "        80,  82,  84,  86,  88,  90,  92,  94,  96,  98, 100, 102, 104,\n",
       "       106, 108, 110, 112, 114, 116, 118, 120, 122, 124, 126, 128, 130,\n",
       "       132, 134, 136, 138, 140, 142, 144, 146, 148, 150, 152, 154, 156,\n",
       "       158, 160, 162, 164, 166, 168, 170, 172, 174, 176, 178, 180, 182,\n",
       "       184, 186, 188, 190, 192, 194, 196, 198])})"
      ]
     },
     "execution_count": 26,
     "metadata": {},
     "output_type": "execute_result"
    }
   ],
   "source": [
    "# parameter tuning\n",
    "from sklearn.model_selection import GridSearchCV\n",
    "model = AdaBoostRegressor()\n",
    "parameters = {\n",
    "    'base_estimator': [knn, None],\n",
    "    'n_estimators': np.arange(2,200,2)\n",
    "    }\n",
    "f = GridSearchCV(model,parameters,cv=3)\n",
    "f.fit(xtrain,ytrain)"
   ]
  },
  {
   "cell_type": "code",
   "execution_count": 29,
   "metadata": {
    "ExecuteTime": {
     "end_time": "2022-06-03T05:40:52.937991Z",
     "start_time": "2022-06-03T05:40:52.920005Z"
    },
    "id": "ZJfQnT8jywr8"
   },
   "outputs": [
    {
     "name": "stdout",
     "output_type": "stream",
     "text": [
      "{'base_estimator': None, 'n_estimators': 16}\n",
      "0.48222290773467097\n",
      "AdaBoostRegressor(n_estimators=16)\n"
     ]
    }
   ],
   "source": [
    "print(f.best_params_)\n",
    "print(f.best_score_)\n",
    "print(f.best_estimator_)"
   ]
  },
  {
   "cell_type": "code",
   "execution_count": 30,
   "metadata": {
    "ExecuteTime": {
     "end_time": "2022-06-03T05:41:20.853923Z",
     "start_time": "2022-06-03T05:41:20.836980Z"
    },
    "id": "Kep-LEmUywpS"
   },
   "outputs": [
    {
     "name": "stdout",
     "output_type": "stream",
     "text": [
      "0.7267546488103471 0.2579615256474247\n"
     ]
    }
   ],
   "source": [
    "print(f.score(xtrain, ytrain), f.score(xtest, ytest))"
   ]
  },
  {
   "cell_type": "code",
   "execution_count": null,
   "metadata": {},
   "outputs": [],
   "source": []
  }
 ],
 "metadata": {
  "colab": {
   "collapsed_sections": [],
   "name": "script07_ensemble.ipynb",
   "provenance": []
  },
  "kernelspec": {
   "display_name": "Python 3 (ipykernel)",
   "language": "python",
   "name": "python3"
  },
  "language_info": {
   "codemirror_mode": {
    "name": "ipython",
    "version": 3
   },
   "file_extension": ".py",
   "mimetype": "text/x-python",
   "name": "python",
   "nbconvert_exporter": "python",
   "pygments_lexer": "ipython3",
   "version": "3.8.13"
  },
  "toc": {
   "base_numbering": 1,
   "nav_menu": {},
   "number_sections": true,
   "sideBar": true,
   "skip_h1_title": false,
   "title_cell": "Table of Contents",
   "title_sidebar": "Contents",
   "toc_cell": false,
   "toc_position": {},
   "toc_section_display": true,
   "toc_window_display": false
  },
  "varInspector": {
   "cols": {
    "lenName": 16,
    "lenType": 16,
    "lenVar": 40
   },
   "kernels_config": {
    "python": {
     "delete_cmd_postfix": "",
     "delete_cmd_prefix": "del ",
     "library": "var_list.py",
     "varRefreshCmd": "print(var_dic_list())"
    },
    "r": {
     "delete_cmd_postfix": ") ",
     "delete_cmd_prefix": "rm(",
     "library": "var_list.r",
     "varRefreshCmd": "cat(var_dic_list()) "
    }
   },
   "types_to_exclude": [
    "module",
    "function",
    "builtin_function_or_method",
    "instance",
    "_Feature"
   ],
   "window_display": false
  }
 },
 "nbformat": 4,
 "nbformat_minor": 1
}
