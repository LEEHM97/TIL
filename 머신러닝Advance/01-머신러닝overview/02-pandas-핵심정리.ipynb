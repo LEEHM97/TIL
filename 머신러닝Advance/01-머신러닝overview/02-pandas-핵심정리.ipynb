{
 "cells": [
  {
   "cell_type": "markdown",
   "id": "d66891e6",
   "metadata": {},
   "source": [
    "### Pandas\n",
    "- 데이터 분석을 위한 쉽고 성능이 좋은 오픈소스 python 라이브러리\n",
    "- Series : index, value로 이루어진 데이터 타입\n",
    "- DataFrame : index, column, value로 이루어진 데이터 타입\n",
    "    - CRUD : create, read, update, delete\n",
    "    - IO"
   ]
  },
  {
   "cell_type": "code",
   "execution_count": 1,
   "id": "17680920",
   "metadata": {
    "ExecuteTime": {
     "end_time": "2022-05-23T07:54:52.944681Z",
     "start_time": "2022-05-23T07:54:52.232147Z"
    }
   },
   "outputs": [],
   "source": [
    "import pandas as pd"
   ]
  },
  {
   "cell_type": "code",
   "execution_count": null,
   "id": "c85c3f47",
   "metadata": {},
   "outputs": [],
   "source": [
    "# 1. Series"
   ]
  },
  {
   "cell_type": "code",
   "execution_count": 2,
   "id": "48bfc5f5",
   "metadata": {
    "ExecuteTime": {
     "end_time": "2022-05-23T07:55:04.374676Z",
     "start_time": "2022-05-23T07:55:04.366890Z"
    }
   },
   "outputs": [
    {
     "data": {
      "text/plain": [
       "0    3\n",
       "1    1\n",
       "2    9\n",
       "dtype: int64"
      ]
     },
     "execution_count": 2,
     "metadata": {},
     "output_type": "execute_result"
    }
   ],
   "source": [
    "datas = pd.Series([3, 1, 9])\n",
    "datas"
   ]
  },
  {
   "cell_type": "code",
   "execution_count": 3,
   "id": "2861081f",
   "metadata": {
    "ExecuteTime": {
     "end_time": "2022-05-23T07:55:07.322364Z",
     "start_time": "2022-05-23T07:55:07.318471Z"
    }
   },
   "outputs": [
    {
     "data": {
      "text/plain": [
       "([0, 1, 2], array([3, 1, 9], dtype=int64), dtype('int64'))"
      ]
     },
     "execution_count": 3,
     "metadata": {},
     "output_type": "execute_result"
    }
   ],
   "source": [
    "list(datas.index), datas.values, datas.dtype"
   ]
  },
  {
   "cell_type": "code",
   "execution_count": 4,
   "id": "30ca66c9",
   "metadata": {
    "ExecuteTime": {
     "end_time": "2022-05-23T07:55:19.446746Z",
     "start_time": "2022-05-23T07:55:19.443826Z"
    }
   },
   "outputs": [],
   "source": [
    "# 2. DateFrame"
   ]
  },
  {
   "cell_type": "code",
   "execution_count": 5,
   "id": "a99b82f3",
   "metadata": {
    "ExecuteTime": {
     "end_time": "2022-05-23T07:55:19.728082Z",
     "start_time": "2022-05-23T07:55:19.724188Z"
    }
   },
   "outputs": [],
   "source": [
    "# create"
   ]
  },
  {
   "cell_type": "code",
   "execution_count": 6,
   "id": "5720e2bc",
   "metadata": {
    "ExecuteTime": {
     "end_time": "2022-05-23T07:55:20.114634Z",
     "start_time": "2022-05-23T07:55:20.110739Z"
    }
   },
   "outputs": [],
   "source": [
    "# 리스트 안에 딕셔너리 : row 데이터를 기준으로 저장"
   ]
  },
  {
   "cell_type": "code",
   "execution_count": 7,
   "id": "a8d39547",
   "metadata": {
    "ExecuteTime": {
     "end_time": "2022-05-23T07:55:20.700958Z",
     "start_time": "2022-05-23T07:55:20.691226Z"
    }
   },
   "outputs": [
    {
     "data": {
      "text/html": [
       "<div>\n",
       "<style scoped>\n",
       "    .dataframe tbody tr th:only-of-type {\n",
       "        vertical-align: middle;\n",
       "    }\n",
       "\n",
       "    .dataframe tbody tr th {\n",
       "        vertical-align: top;\n",
       "    }\n",
       "\n",
       "    .dataframe thead th {\n",
       "        text-align: right;\n",
       "    }\n",
       "</style>\n",
       "<table border=\"1\" class=\"dataframe\">\n",
       "  <thead>\n",
       "    <tr style=\"text-align: right;\">\n",
       "      <th></th>\n",
       "      <th>name</th>\n",
       "      <th>email</th>\n",
       "      <th>id</th>\n",
       "    </tr>\n",
       "  </thead>\n",
       "  <tbody>\n",
       "    <tr>\n",
       "      <th>0</th>\n",
       "      <td>peter</td>\n",
       "      <td>peter@gmail.com</td>\n",
       "      <td>1</td>\n",
       "    </tr>\n",
       "    <tr>\n",
       "      <th>1</th>\n",
       "      <td>jhon</td>\n",
       "      <td>jhon@gmail.com</td>\n",
       "      <td>2</td>\n",
       "    </tr>\n",
       "    <tr>\n",
       "      <th>2</th>\n",
       "      <td>andy</td>\n",
       "      <td>andy@naver.com</td>\n",
       "      <td>3</td>\n",
       "    </tr>\n",
       "  </tbody>\n",
       "</table>\n",
       "</div>"
      ],
      "text/plain": [
       "    name            email  id\n",
       "0  peter  peter@gmail.com   1\n",
       "1   jhon   jhon@gmail.com   2\n",
       "2   andy   andy@naver.com   3"
      ]
     },
     "execution_count": 7,
     "metadata": {},
     "output_type": "execute_result"
    }
   ],
   "source": [
    "datas = [\n",
    "    {\"name\": \"peter\", \"email\": \"peter@gmail.com\", \"id\": 1},\n",
    "    {\"name\": \"jhon\", \"email\": \"jhon@gmail.com\", \"id\": 2},\n",
    "    {\"name\": \"andy\", \"email\": \"andy@naver.com\", \"id\": 3},\n",
    "]\n",
    "df = pd.DataFrame(datas)\n",
    "df"
   ]
  },
  {
   "cell_type": "code",
   "execution_count": 8,
   "id": "75aca7d2",
   "metadata": {
    "ExecuteTime": {
     "end_time": "2022-05-23T07:55:37.098902Z",
     "start_time": "2022-05-23T07:55:37.095982Z"
    }
   },
   "outputs": [],
   "source": [
    "# 딕셔너리 안에 리스트 : column 데이터를 기준으로 저장"
   ]
  },
  {
   "cell_type": "code",
   "execution_count": 10,
   "id": "fe357d2d",
   "metadata": {
    "ExecuteTime": {
     "end_time": "2022-05-23T07:56:48.427523Z",
     "start_time": "2022-05-23T07:56:48.421683Z"
    }
   },
   "outputs": [
    {
     "name": "stdout",
     "output_type": "stream",
     "text": [
      "{'name': ['peter', 'jhon', 'andy'], 'email': ['peter@gmail.com', 'jhon@gmail.com', 'andy@naver.com'], 'id': [1, 2, 3]}\n"
     ]
    },
    {
     "data": {
      "text/html": [
       "<div>\n",
       "<style scoped>\n",
       "    .dataframe tbody tr th:only-of-type {\n",
       "        vertical-align: middle;\n",
       "    }\n",
       "\n",
       "    .dataframe tbody tr th {\n",
       "        vertical-align: top;\n",
       "    }\n",
       "\n",
       "    .dataframe thead th {\n",
       "        text-align: right;\n",
       "    }\n",
       "</style>\n",
       "<table border=\"1\" class=\"dataframe\">\n",
       "  <thead>\n",
       "    <tr style=\"text-align: right;\">\n",
       "      <th></th>\n",
       "      <th>name</th>\n",
       "      <th>email</th>\n",
       "      <th>id</th>\n",
       "    </tr>\n",
       "  </thead>\n",
       "  <tbody>\n",
       "    <tr>\n",
       "      <th>0</th>\n",
       "      <td>peter</td>\n",
       "      <td>peter@gmail.com</td>\n",
       "      <td>1</td>\n",
       "    </tr>\n",
       "    <tr>\n",
       "      <th>1</th>\n",
       "      <td>jhon</td>\n",
       "      <td>jhon@gmail.com</td>\n",
       "      <td>2</td>\n",
       "    </tr>\n",
       "    <tr>\n",
       "      <th>2</th>\n",
       "      <td>andy</td>\n",
       "      <td>andy@naver.com</td>\n",
       "      <td>3</td>\n",
       "    </tr>\n",
       "  </tbody>\n",
       "</table>\n",
       "</div>"
      ],
      "text/plain": [
       "    name            email  id\n",
       "0  peter  peter@gmail.com   1\n",
       "1   jhon   jhon@gmail.com   2\n",
       "2   andy   andy@naver.com   3"
      ]
     },
     "execution_count": 10,
     "metadata": {},
     "output_type": "execute_result"
    }
   ],
   "source": [
    "# from_dict\n",
    "\n",
    "datas = df.to_dict(\"list\")\n",
    "print(datas)\n",
    "df = pd.DataFrame(datas)\n",
    "df"
   ]
  },
  {
   "cell_type": "code",
   "execution_count": 11,
   "id": "ca77408b",
   "metadata": {
    "ExecuteTime": {
     "end_time": "2022-05-23T07:56:57.417711Z",
     "start_time": "2022-05-23T07:56:57.413818Z"
    }
   },
   "outputs": [
    {
     "data": {
      "text/plain": [
       "([0, 1, 2],\n",
       " ['name', 'email', 'id'],\n",
       " array([['peter', 'peter@gmail.com', 1],\n",
       "        ['jhon', 'jhon@gmail.com', 2],\n",
       "        ['andy', 'andy@naver.com', 3]], dtype=object))"
      ]
     },
     "execution_count": 11,
     "metadata": {},
     "output_type": "execute_result"
    }
   ],
   "source": [
    "list(df.index), list(df.columns), df.values"
   ]
  },
  {
   "cell_type": "code",
   "execution_count": 12,
   "id": "69f095b4",
   "metadata": {
    "ExecuteTime": {
     "end_time": "2022-05-23T07:57:22.686395Z",
     "start_time": "2022-05-23T07:57:22.682501Z"
    }
   },
   "outputs": [
    {
     "data": {
      "text/plain": [
       "array(['peter', 'jhon', 'andy'], dtype=object)"
      ]
     },
     "execution_count": 12,
     "metadata": {},
     "output_type": "execute_result"
    }
   ],
   "source": [
    "df.name.values"
   ]
  },
  {
   "cell_type": "code",
   "execution_count": 13,
   "id": "5d2ab699",
   "metadata": {
    "ExecuteTime": {
     "end_time": "2022-05-23T07:57:35.830235Z",
     "start_time": "2022-05-23T07:57:35.826342Z"
    }
   },
   "outputs": [
    {
     "data": {
      "text/plain": [
       "name     object\n",
       "email    object\n",
       "id        int64\n",
       "dtype: object"
      ]
     },
     "execution_count": 13,
     "metadata": {},
     "output_type": "execute_result"
    }
   ],
   "source": [
    "df.dtypes"
   ]
  },
  {
   "cell_type": "code",
   "execution_count": 14,
   "id": "00af538f",
   "metadata": {
    "ExecuteTime": {
     "end_time": "2022-05-23T07:57:40.162154Z",
     "start_time": "2022-05-23T07:57:40.159233Z"
    }
   },
   "outputs": [],
   "source": [
    "# read"
   ]
  },
  {
   "cell_type": "code",
   "execution_count": 15,
   "id": "c424c635",
   "metadata": {
    "ExecuteTime": {
     "end_time": "2022-05-23T07:58:02.714256Z",
     "start_time": "2022-05-23T07:58:02.708416Z"
    }
   },
   "outputs": [
    {
     "data": {
      "text/html": [
       "<div>\n",
       "<style scoped>\n",
       "    .dataframe tbody tr th:only-of-type {\n",
       "        vertical-align: middle;\n",
       "    }\n",
       "\n",
       "    .dataframe tbody tr th {\n",
       "        vertical-align: top;\n",
       "    }\n",
       "\n",
       "    .dataframe thead th {\n",
       "        text-align: right;\n",
       "    }\n",
       "</style>\n",
       "<table border=\"1\" class=\"dataframe\">\n",
       "  <thead>\n",
       "    <tr style=\"text-align: right;\">\n",
       "      <th></th>\n",
       "      <th>name</th>\n",
       "      <th>email</th>\n",
       "      <th>id</th>\n",
       "    </tr>\n",
       "  </thead>\n",
       "  <tbody>\n",
       "    <tr>\n",
       "      <th>2</th>\n",
       "      <td>andy</td>\n",
       "      <td>andy@naver.com</td>\n",
       "      <td>3</td>\n",
       "    </tr>\n",
       "    <tr>\n",
       "      <th>1</th>\n",
       "      <td>jhon</td>\n",
       "      <td>jhon@gmail.com</td>\n",
       "      <td>2</td>\n",
       "    </tr>\n",
       "    <tr>\n",
       "      <th>0</th>\n",
       "      <td>peter</td>\n",
       "      <td>peter@gmail.com</td>\n",
       "      <td>1</td>\n",
       "    </tr>\n",
       "  </tbody>\n",
       "</table>\n",
       "</div>"
      ],
      "text/plain": [
       "    name            email  id\n",
       "2   andy   andy@naver.com   3\n",
       "1   jhon   jhon@gmail.com   2\n",
       "0  peter  peter@gmail.com   1"
      ]
     },
     "execution_count": 15,
     "metadata": {},
     "output_type": "execute_result"
    }
   ],
   "source": [
    "# row : df.loc[row] : [index], [start:end], [start:end:stride]\n",
    "# df.loc[1]\n",
    "# df.loc[:1]\n",
    "df.loc[::-1]"
   ]
  },
  {
   "cell_type": "code",
   "execution_count": 16,
   "id": "479aabd4",
   "metadata": {
    "ExecuteTime": {
     "end_time": "2022-05-23T07:58:22.131667Z",
     "start_time": "2022-05-23T07:58:22.125827Z"
    }
   },
   "outputs": [
    {
     "data": {
      "text/html": [
       "<div>\n",
       "<style scoped>\n",
       "    .dataframe tbody tr th:only-of-type {\n",
       "        vertical-align: middle;\n",
       "    }\n",
       "\n",
       "    .dataframe tbody tr th {\n",
       "        vertical-align: top;\n",
       "    }\n",
       "\n",
       "    .dataframe thead th {\n",
       "        text-align: right;\n",
       "    }\n",
       "</style>\n",
       "<table border=\"1\" class=\"dataframe\">\n",
       "  <thead>\n",
       "    <tr style=\"text-align: right;\">\n",
       "      <th></th>\n",
       "      <th>id</th>\n",
       "      <th>name</th>\n",
       "    </tr>\n",
       "  </thead>\n",
       "  <tbody>\n",
       "    <tr>\n",
       "      <th>0</th>\n",
       "      <td>1</td>\n",
       "      <td>peter</td>\n",
       "    </tr>\n",
       "    <tr>\n",
       "      <th>1</th>\n",
       "      <td>2</td>\n",
       "      <td>jhon</td>\n",
       "    </tr>\n",
       "    <tr>\n",
       "      <th>2</th>\n",
       "      <td>3</td>\n",
       "      <td>andy</td>\n",
       "    </tr>\n",
       "  </tbody>\n",
       "</table>\n",
       "</div>"
      ],
      "text/plain": [
       "   id   name\n",
       "0   1  peter\n",
       "1   2   jhon\n",
       "2   3   andy"
      ]
     },
     "execution_count": 16,
     "metadata": {},
     "output_type": "execute_result"
    }
   ],
   "source": [
    "# column : df[column](Series), df[[columns]](DataFrame)\n",
    "# df[\"name\"]\n",
    "df[[\"id\", \"name\"]]"
   ]
  },
  {
   "cell_type": "code",
   "execution_count": 17,
   "id": "763179a7",
   "metadata": {
    "ExecuteTime": {
     "end_time": "2022-05-23T07:58:36.350234Z",
     "start_time": "2022-05-23T07:58:36.344395Z"
    }
   },
   "outputs": [
    {
     "data": {
      "text/html": [
       "<div>\n",
       "<style scoped>\n",
       "    .dataframe tbody tr th:only-of-type {\n",
       "        vertical-align: middle;\n",
       "    }\n",
       "\n",
       "    .dataframe tbody tr th {\n",
       "        vertical-align: top;\n",
       "    }\n",
       "\n",
       "    .dataframe thead th {\n",
       "        text-align: right;\n",
       "    }\n",
       "</style>\n",
       "<table border=\"1\" class=\"dataframe\">\n",
       "  <thead>\n",
       "    <tr style=\"text-align: right;\">\n",
       "      <th></th>\n",
       "      <th>id</th>\n",
       "      <th>name</th>\n",
       "    </tr>\n",
       "  </thead>\n",
       "  <tbody>\n",
       "    <tr>\n",
       "      <th>1</th>\n",
       "      <td>2</td>\n",
       "      <td>jhon</td>\n",
       "    </tr>\n",
       "    <tr>\n",
       "      <th>2</th>\n",
       "      <td>3</td>\n",
       "      <td>andy</td>\n",
       "    </tr>\n",
       "  </tbody>\n",
       "</table>\n",
       "</div>"
      ],
      "text/plain": [
       "   id  name\n",
       "1   2  jhon\n",
       "2   3  andy"
      ]
     },
     "execution_count": 17,
     "metadata": {},
     "output_type": "execute_result"
    }
   ],
   "source": [
    "# row + column : df.loc[row, columns]\n",
    "df.loc[1:, [\"id\", \"name\"]]"
   ]
  },
  {
   "cell_type": "code",
   "execution_count": 18,
   "id": "0730cc10",
   "metadata": {
    "ExecuteTime": {
     "end_time": "2022-05-23T07:58:53.846178Z",
     "start_time": "2022-05-23T07:58:53.843258Z"
    }
   },
   "outputs": [],
   "source": [
    "# condition : df[df[column] condition]"
   ]
  },
  {
   "cell_type": "code",
   "execution_count": 19,
   "id": "fd6dabdc",
   "metadata": {
    "ExecuteTime": {
     "end_time": "2022-05-23T07:58:54.278335Z",
     "start_time": "2022-05-23T07:58:54.273469Z"
    }
   },
   "outputs": [
    {
     "data": {
      "text/plain": [
       "0     True\n",
       "1    False\n",
       "2     True\n",
       "Name: id, dtype: bool"
      ]
     },
     "execution_count": 19,
     "metadata": {},
     "output_type": "execute_result"
    }
   ],
   "source": [
    "# 브로드캐스팅\n",
    "df[\"id\"] % 2 != 0"
   ]
  },
  {
   "cell_type": "code",
   "execution_count": 24,
   "id": "413e737c",
   "metadata": {
    "ExecuteTime": {
     "end_time": "2022-05-23T08:03:27.797698Z",
     "start_time": "2022-05-23T08:03:27.791857Z"
    }
   },
   "outputs": [
    {
     "data": {
      "text/html": [
       "<div>\n",
       "<style scoped>\n",
       "    .dataframe tbody tr th:only-of-type {\n",
       "        vertical-align: middle;\n",
       "    }\n",
       "\n",
       "    .dataframe tbody tr th {\n",
       "        vertical-align: top;\n",
       "    }\n",
       "\n",
       "    .dataframe thead th {\n",
       "        text-align: right;\n",
       "    }\n",
       "</style>\n",
       "<table border=\"1\" class=\"dataframe\">\n",
       "  <thead>\n",
       "    <tr style=\"text-align: right;\">\n",
       "      <th></th>\n",
       "      <th>name</th>\n",
       "      <th>email</th>\n",
       "      <th>id</th>\n",
       "    </tr>\n",
       "  </thead>\n",
       "  <tbody>\n",
       "    <tr>\n",
       "      <th>0</th>\n",
       "      <td>peter</td>\n",
       "      <td>peter@gmail.com</td>\n",
       "      <td>1</td>\n",
       "    </tr>\n",
       "    <tr>\n",
       "      <th>1</th>\n",
       "      <td>jhon</td>\n",
       "      <td>jhon@gmail.com</td>\n",
       "      <td>2</td>\n",
       "    </tr>\n",
       "    <tr>\n",
       "      <th>2</th>\n",
       "      <td>andy</td>\n",
       "      <td>andy@naver.com</td>\n",
       "      <td>3</td>\n",
       "    </tr>\n",
       "  </tbody>\n",
       "</table>\n",
       "</div>"
      ],
      "text/plain": [
       "    name            email  id\n",
       "0  peter  peter@gmail.com   1\n",
       "1   jhon   jhon@gmail.com   2\n",
       "2   andy   andy@naver.com   3"
      ]
     },
     "execution_count": 24,
     "metadata": {},
     "output_type": "execute_result"
    }
   ],
   "source": [
    "#df['name'].apply(lambda x: x+'_name')\n",
    "\n",
    "def my_func(x):\n",
    "    return x\n",
    "df.apply(lambda x: my_func(x))"
   ]
  },
  {
   "cell_type": "code",
   "execution_count": 21,
   "id": "e2a22897",
   "metadata": {
    "ExecuteTime": {
     "end_time": "2022-05-23T08:01:18.098574Z",
     "start_time": "2022-05-23T08:01:18.091762Z"
    }
   },
   "outputs": [
    {
     "data": {
      "text/html": [
       "<div>\n",
       "<style scoped>\n",
       "    .dataframe tbody tr th:only-of-type {\n",
       "        vertical-align: middle;\n",
       "    }\n",
       "\n",
       "    .dataframe tbody tr th {\n",
       "        vertical-align: top;\n",
       "    }\n",
       "\n",
       "    .dataframe thead th {\n",
       "        text-align: right;\n",
       "    }\n",
       "</style>\n",
       "<table border=\"1\" class=\"dataframe\">\n",
       "  <thead>\n",
       "    <tr style=\"text-align: right;\">\n",
       "      <th></th>\n",
       "      <th>name</th>\n",
       "      <th>email</th>\n",
       "      <th>id</th>\n",
       "    </tr>\n",
       "  </thead>\n",
       "  <tbody>\n",
       "    <tr>\n",
       "      <th>0</th>\n",
       "      <td>peter</td>\n",
       "      <td>peter@gmail.com</td>\n",
       "      <td>1</td>\n",
       "    </tr>\n",
       "    <tr>\n",
       "      <th>2</th>\n",
       "      <td>andy</td>\n",
       "      <td>andy@naver.com</td>\n",
       "      <td>3</td>\n",
       "    </tr>\n",
       "  </tbody>\n",
       "</table>\n",
       "</div>"
      ],
      "text/plain": [
       "    name            email  id\n",
       "0  peter  peter@gmail.com   1\n",
       "2   andy   andy@naver.com   3"
      ]
     },
     "execution_count": 21,
     "metadata": {},
     "output_type": "execute_result"
    }
   ],
   "source": [
    "df[df[\"id\"] % 2 != 0]"
   ]
  },
  {
   "cell_type": "code",
   "execution_count": 25,
   "id": "d07bc246",
   "metadata": {
    "ExecuteTime": {
     "end_time": "2022-05-23T08:03:34.482689Z",
     "start_time": "2022-05-23T08:03:34.479769Z"
    }
   },
   "outputs": [],
   "source": [
    "# update"
   ]
  },
  {
   "cell_type": "code",
   "execution_count": 26,
   "id": "a25bda0f",
   "metadata": {
    "ExecuteTime": {
     "end_time": "2022-05-23T08:03:35.474514Z",
     "start_time": "2022-05-23T08:03:35.469647Z"
    }
   },
   "outputs": [
    {
     "data": {
      "text/html": [
       "<div>\n",
       "<style scoped>\n",
       "    .dataframe tbody tr th:only-of-type {\n",
       "        vertical-align: middle;\n",
       "    }\n",
       "\n",
       "    .dataframe tbody tr th {\n",
       "        vertical-align: top;\n",
       "    }\n",
       "\n",
       "    .dataframe thead th {\n",
       "        text-align: right;\n",
       "    }\n",
       "</style>\n",
       "<table border=\"1\" class=\"dataframe\">\n",
       "  <thead>\n",
       "    <tr style=\"text-align: right;\">\n",
       "      <th></th>\n",
       "      <th>name</th>\n",
       "      <th>email</th>\n",
       "      <th>id</th>\n",
       "    </tr>\n",
       "  </thead>\n",
       "  <tbody>\n",
       "    <tr>\n",
       "      <th>0</th>\n",
       "      <td>peter</td>\n",
       "      <td>peter@gmail.com</td>\n",
       "      <td>4</td>\n",
       "    </tr>\n",
       "    <tr>\n",
       "      <th>1</th>\n",
       "      <td>jhon</td>\n",
       "      <td>jhon@gmail.com</td>\n",
       "      <td>4</td>\n",
       "    </tr>\n",
       "    <tr>\n",
       "      <th>2</th>\n",
       "      <td>andy</td>\n",
       "      <td>andy@naver.com</td>\n",
       "      <td>4</td>\n",
       "    </tr>\n",
       "  </tbody>\n",
       "</table>\n",
       "</div>"
      ],
      "text/plain": [
       "    name            email  id\n",
       "0  peter  peter@gmail.com   4\n",
       "1   jhon   jhon@gmail.com   4\n",
       "2   andy   andy@naver.com   4"
      ]
     },
     "execution_count": 26,
     "metadata": {},
     "output_type": "execute_result"
    }
   ],
   "source": [
    "df[\"id\"] = 4\n",
    "df"
   ]
  },
  {
   "cell_type": "code",
   "execution_count": 27,
   "id": "7fddd81f",
   "metadata": {
    "ExecuteTime": {
     "end_time": "2022-05-23T08:03:36.991202Z",
     "start_time": "2022-05-23T08:03:36.985363Z"
    }
   },
   "outputs": [
    {
     "data": {
      "text/html": [
       "<div>\n",
       "<style scoped>\n",
       "    .dataframe tbody tr th:only-of-type {\n",
       "        vertical-align: middle;\n",
       "    }\n",
       "\n",
       "    .dataframe tbody tr th {\n",
       "        vertical-align: top;\n",
       "    }\n",
       "\n",
       "    .dataframe thead th {\n",
       "        text-align: right;\n",
       "    }\n",
       "</style>\n",
       "<table border=\"1\" class=\"dataframe\">\n",
       "  <thead>\n",
       "    <tr style=\"text-align: right;\">\n",
       "      <th></th>\n",
       "      <th>name</th>\n",
       "      <th>email</th>\n",
       "      <th>id</th>\n",
       "    </tr>\n",
       "  </thead>\n",
       "  <tbody>\n",
       "    <tr>\n",
       "      <th>0</th>\n",
       "      <td>peter</td>\n",
       "      <td>peter@gmail.com</td>\n",
       "      <td>5</td>\n",
       "    </tr>\n",
       "    <tr>\n",
       "      <th>1</th>\n",
       "      <td>jhon</td>\n",
       "      <td>jhon@gmail.com</td>\n",
       "      <td>6</td>\n",
       "    </tr>\n",
       "    <tr>\n",
       "      <th>2</th>\n",
       "      <td>andy</td>\n",
       "      <td>andy@naver.com</td>\n",
       "      <td>7</td>\n",
       "    </tr>\n",
       "  </tbody>\n",
       "</table>\n",
       "</div>"
      ],
      "text/plain": [
       "    name            email  id\n",
       "0  peter  peter@gmail.com   5\n",
       "1   jhon   jhon@gmail.com   6\n",
       "2   andy   andy@naver.com   7"
      ]
     },
     "execution_count": 27,
     "metadata": {},
     "output_type": "execute_result"
    }
   ],
   "source": [
    "df[\"id\"] = [5, 6, 7]\n",
    "df"
   ]
  },
  {
   "cell_type": "code",
   "execution_count": 28,
   "id": "924985fe",
   "metadata": {
    "ExecuteTime": {
     "end_time": "2022-05-23T08:03:39.885879Z",
     "start_time": "2022-05-23T08:03:39.882958Z"
    }
   },
   "outputs": [],
   "source": [
    "# delete : df.drop(index=[], columns=[])"
   ]
  },
  {
   "cell_type": "code",
   "execution_count": 29,
   "id": "3a751949",
   "metadata": {
    "ExecuteTime": {
     "end_time": "2022-05-23T08:03:46.519061Z",
     "start_time": "2022-05-23T08:03:46.512248Z"
    }
   },
   "outputs": [
    {
     "data": {
      "text/html": [
       "<div>\n",
       "<style scoped>\n",
       "    .dataframe tbody tr th:only-of-type {\n",
       "        vertical-align: middle;\n",
       "    }\n",
       "\n",
       "    .dataframe tbody tr th {\n",
       "        vertical-align: top;\n",
       "    }\n",
       "\n",
       "    .dataframe thead th {\n",
       "        text-align: right;\n",
       "    }\n",
       "</style>\n",
       "<table border=\"1\" class=\"dataframe\">\n",
       "  <thead>\n",
       "    <tr style=\"text-align: right;\">\n",
       "      <th></th>\n",
       "      <th>name</th>\n",
       "      <th>id</th>\n",
       "    </tr>\n",
       "  </thead>\n",
       "  <tbody>\n",
       "    <tr>\n",
       "      <th>0</th>\n",
       "      <td>peter</td>\n",
       "      <td>5</td>\n",
       "    </tr>\n",
       "    <tr>\n",
       "      <th>2</th>\n",
       "      <td>andy</td>\n",
       "      <td>7</td>\n",
       "    </tr>\n",
       "  </tbody>\n",
       "</table>\n",
       "</div>"
      ],
      "text/plain": [
       "    name  id\n",
       "0  peter   5\n",
       "2   andy   7"
      ]
     },
     "execution_count": 29,
     "metadata": {},
     "output_type": "execute_result"
    }
   ],
   "source": [
    "df.drop(index=[1], columns=[\"email\"])"
   ]
  },
  {
   "cell_type": "code",
   "execution_count": 31,
   "id": "70ada1e9",
   "metadata": {
    "ExecuteTime": {
     "end_time": "2022-05-23T08:04:39.221598Z",
     "start_time": "2022-05-23T08:04:39.218678Z"
    }
   },
   "outputs": [],
   "source": [
    "# IO : .csv"
   ]
  },
  {
   "cell_type": "code",
   "execution_count": 32,
   "id": "1b3d78d0",
   "metadata": {
    "ExecuteTime": {
     "end_time": "2022-05-23T08:04:39.924343Z",
     "start_time": "2022-05-23T08:04:39.918503Z"
    }
   },
   "outputs": [],
   "source": [
    "# save\n",
    "df.to_csv(\"user.csv\", index=False)"
   ]
  },
  {
   "cell_type": "code",
   "execution_count": 44,
   "id": "79adb6e6",
   "metadata": {
    "ExecuteTime": {
     "end_time": "2022-05-23T08:08:46.476446Z",
     "start_time": "2022-05-23T08:08:46.459899Z"
    }
   },
   "outputs": [
    {
     "name": "stdout",
     "output_type": "stream",
     "text": [
      " C 드라이브의 볼륨에는 이름이 없습니다.\n",
      " 볼륨 일련 번호: 2284-1A14\n",
      "\n",
      " C:\\Users\\gmlkd\\TIL\\머신러닝Advance 디렉터리\n",
      "\n",
      "2022-05-23  오후 05:08    <DIR>          .\n",
      "2022-05-23  오후 05:08    <DIR>          ..\n",
      "2022-05-23  오후 04:59    <DIR>          .ipynb_checkpoints\n",
      "2022-05-23  오후 04:53           682,221 01-머신러닝과 딥러닝 기본_정리.ipynb\n",
      "2022-05-23  오후 05:08            36,648 02-pandas-핵심정리.ipynb\n",
      "2022-05-23  오후 05:04                86 user.csv\n",
      "2022-05-23  오후 05:06             5,508 user.xlsx\n",
      "               4개 파일             724,463 바이트\n",
      "               3개 디렉터리  747,982,979,072 바이트 남음\n"
     ]
    }
   ],
   "source": [
    "%ls"
   ]
  },
  {
   "cell_type": "code",
   "execution_count": 35,
   "id": "86f761d4",
   "metadata": {
    "ExecuteTime": {
     "end_time": "2022-05-23T08:05:57.689113Z",
     "start_time": "2022-05-23T08:05:57.680354Z"
    }
   },
   "outputs": [
    {
     "data": {
      "text/html": [
       "<div>\n",
       "<style scoped>\n",
       "    .dataframe tbody tr th:only-of-type {\n",
       "        vertical-align: middle;\n",
       "    }\n",
       "\n",
       "    .dataframe tbody tr th {\n",
       "        vertical-align: top;\n",
       "    }\n",
       "\n",
       "    .dataframe thead th {\n",
       "        text-align: right;\n",
       "    }\n",
       "</style>\n",
       "<table border=\"1\" class=\"dataframe\">\n",
       "  <thead>\n",
       "    <tr style=\"text-align: right;\">\n",
       "      <th></th>\n",
       "      <th>name</th>\n",
       "      <th>email</th>\n",
       "      <th>id</th>\n",
       "    </tr>\n",
       "  </thead>\n",
       "  <tbody>\n",
       "    <tr>\n",
       "      <th>0</th>\n",
       "      <td>peter</td>\n",
       "      <td>peter@gmail.com</td>\n",
       "      <td>5</td>\n",
       "    </tr>\n",
       "    <tr>\n",
       "      <th>1</th>\n",
       "      <td>jhon</td>\n",
       "      <td>jhon@gmail.com</td>\n",
       "      <td>6</td>\n",
       "    </tr>\n",
       "    <tr>\n",
       "      <th>2</th>\n",
       "      <td>andy</td>\n",
       "      <td>andy@naver.com</td>\n",
       "      <td>7</td>\n",
       "    </tr>\n",
       "  </tbody>\n",
       "</table>\n",
       "</div>"
      ],
      "text/plain": [
       "    name            email  id\n",
       "0  peter  peter@gmail.com   5\n",
       "1   jhon   jhon@gmail.com   6\n",
       "2   andy   andy@naver.com   7"
      ]
     },
     "execution_count": 35,
     "metadata": {},
     "output_type": "execute_result"
    }
   ],
   "source": [
    "# load\n",
    "load_df = pd.read_csv(\"user.csv\")\n",
    "load_df"
   ]
  },
  {
   "cell_type": "code",
   "execution_count": 37,
   "id": "03d56c97",
   "metadata": {
    "ExecuteTime": {
     "end_time": "2022-05-23T08:06:08.239696Z",
     "start_time": "2022-05-23T08:06:06.050979Z"
    }
   },
   "outputs": [
    {
     "name": "stdout",
     "output_type": "stream",
     "text": [
      "Collecting xlrd\n",
      "  Downloading xlrd-2.0.1-py2.py3-none-any.whl (96 kB)\n",
      "     ---------------------------------------- 96.5/96.5 KB ? eta 0:00:00\n",
      "Requirement already satisfied: openpyxl in c:\\users\\gmlkd\\miniforge3\\envs\\fastcampus\\lib\\site-packages (3.0.9)\n",
      "Collecting xlsxwriter\n",
      "  Downloading XlsxWriter-3.0.3-py3-none-any.whl (149 kB)\n",
      "     ---------------------------------------- 150.0/150.0 KB ? eta 0:00:00\n",
      "Requirement already satisfied: et-xmlfile in c:\\users\\gmlkd\\miniforge3\\envs\\fastcampus\\lib\\site-packages (from openpyxl) (1.1.0)\n",
      "Installing collected packages: xlsxwriter, xlrd\n",
      "Successfully installed xlrd-2.0.1 xlsxwriter-3.0.3\n"
     ]
    }
   ],
   "source": [
    "!pip install xlrd openpyxl xlsxwriter"
   ]
  },
  {
   "cell_type": "code",
   "execution_count": 38,
   "id": "abeef1ef",
   "metadata": {
    "ExecuteTime": {
     "end_time": "2022-05-23T08:06:09.947897Z",
     "start_time": "2022-05-23T08:06:09.895337Z"
    }
   },
   "outputs": [],
   "source": [
    "df.to_excel(\n",
    "    \"user.xlsx\", index=False, engine=\"xlsxwriter\", encoding=\"utf-8-sig\"\n",
    ")"
   ]
  },
  {
   "cell_type": "code",
   "execution_count": 42,
   "id": "9791d219",
   "metadata": {
    "ExecuteTime": {
     "end_time": "2022-05-23T08:08:40.277357Z",
     "start_time": "2022-05-23T08:08:40.260810Z"
    }
   },
   "outputs": [
    {
     "name": "stdout",
     "output_type": "stream",
     "text": [
      " C 드라이브의 볼륨에는 이름이 없습니다.\n",
      " 볼륨 일련 번호: 2284-1A14\n",
      "\n",
      " C:\\Users\\gmlkd\\TIL\\머신러닝Advance 디렉터리\n",
      "\n",
      "2022-05-23  오후 05:06    <DIR>          .\n",
      "2022-05-23  오후 05:06    <DIR>          ..\n",
      "2022-05-23  오후 04:59    <DIR>          .ipynb_checkpoints\n",
      "2022-05-23  오후 04:53           682,221 01-머신러닝과 딥러닝 기본_정리.ipynb\n",
      "2022-05-23  오후 05:06            36,648 02-pandas-핵심정리.ipynb\n",
      "2022-05-23  오후 05:04                86 user.csv\n",
      "2022-05-23  오후 05:06             5,508 user.xlsx\n",
      "               4개 파일             724,463 바이트\n",
      "               3개 디렉터리  747,982,979,072 바이트 남음\n"
     ]
    }
   ],
   "source": [
    "%ls"
   ]
  },
  {
   "cell_type": "code",
   "execution_count": 40,
   "id": "58c6bde6",
   "metadata": {
    "ExecuteTime": {
     "end_time": "2022-05-23T08:06:11.827834Z",
     "start_time": "2022-05-23T08:06:11.587422Z"
    }
   },
   "outputs": [
    {
     "data": {
      "text/html": [
       "<div>\n",
       "<style scoped>\n",
       "    .dataframe tbody tr th:only-of-type {\n",
       "        vertical-align: middle;\n",
       "    }\n",
       "\n",
       "    .dataframe tbody tr th {\n",
       "        vertical-align: top;\n",
       "    }\n",
       "\n",
       "    .dataframe thead th {\n",
       "        text-align: right;\n",
       "    }\n",
       "</style>\n",
       "<table border=\"1\" class=\"dataframe\">\n",
       "  <thead>\n",
       "    <tr style=\"text-align: right;\">\n",
       "      <th></th>\n",
       "      <th>name</th>\n",
       "      <th>email</th>\n",
       "      <th>id</th>\n",
       "    </tr>\n",
       "  </thead>\n",
       "  <tbody>\n",
       "    <tr>\n",
       "      <th>0</th>\n",
       "      <td>peter</td>\n",
       "      <td>peter@gmail.com</td>\n",
       "      <td>5</td>\n",
       "    </tr>\n",
       "    <tr>\n",
       "      <th>1</th>\n",
       "      <td>jhon</td>\n",
       "      <td>jhon@gmail.com</td>\n",
       "      <td>6</td>\n",
       "    </tr>\n",
       "    <tr>\n",
       "      <th>2</th>\n",
       "      <td>andy</td>\n",
       "      <td>andy@naver.com</td>\n",
       "      <td>7</td>\n",
       "    </tr>\n",
       "  </tbody>\n",
       "</table>\n",
       "</div>"
      ],
      "text/plain": [
       "    name            email  id\n",
       "0  peter  peter@gmail.com   5\n",
       "1   jhon   jhon@gmail.com   6\n",
       "2   andy   andy@naver.com   7"
      ]
     },
     "execution_count": 40,
     "metadata": {},
     "output_type": "execute_result"
    }
   ],
   "source": [
    "load_df = pd.read_excel(\"user.xlsx\")\n",
    "load_df"
   ]
  }
 ],
 "metadata": {
  "kernelspec": {
   "display_name": "Python 3 (ipykernel)",
   "language": "python",
   "name": "python3"
  },
  "language_info": {
   "codemirror_mode": {
    "name": "ipython",
    "version": 3
   },
   "file_extension": ".py",
   "mimetype": "text/x-python",
   "name": "python",
   "nbconvert_exporter": "python",
   "pygments_lexer": "ipython3",
   "version": "3.8.13"
  },
  "toc": {
   "base_numbering": 1,
   "nav_menu": {},
   "number_sections": true,
   "sideBar": true,
   "skip_h1_title": false,
   "title_cell": "Table of Contents",
   "title_sidebar": "Contents",
   "toc_cell": false,
   "toc_position": {},
   "toc_section_display": true,
   "toc_window_display": false
  },
  "varInspector": {
   "cols": {
    "lenName": 16,
    "lenType": 16,
    "lenVar": 40
   },
   "kernels_config": {
    "python": {
     "delete_cmd_postfix": "",
     "delete_cmd_prefix": "del ",
     "library": "var_list.py",
     "varRefreshCmd": "print(var_dic_list())"
    },
    "r": {
     "delete_cmd_postfix": ") ",
     "delete_cmd_prefix": "rm(",
     "library": "var_list.r",
     "varRefreshCmd": "cat(var_dic_list()) "
    }
   },
   "types_to_exclude": [
    "module",
    "function",
    "builtin_function_or_method",
    "instance",
    "_Feature"
   ],
   "window_display": false
  }
 },
 "nbformat": 4,
 "nbformat_minor": 5
}
