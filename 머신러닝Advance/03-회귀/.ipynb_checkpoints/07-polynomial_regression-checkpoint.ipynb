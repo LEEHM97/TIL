{
 "cells": [
  {
   "cell_type": "markdown",
   "metadata": {
    "id": "gy_xay7JpMmj"
   },
   "source": [
    "## 다항회귀분석 : polynomial regression\n",
    "### Index\n",
    "1. 샘플데이터 생성\n",
    "2. 선형회귀 분석\n",
    "3. 다항회귀 분석\n",
    "4. 과대적합과 과소적합"
   ]
  },
  {
   "cell_type": "code",
   "execution_count": 1,
   "metadata": {
    "ExecuteTime": {
     "end_time": "2022-05-25T08:21:42.812093Z",
     "start_time": "2022-05-25T08:21:41.789121Z"
    },
    "executionInfo": {
     "elapsed": 969,
     "status": "ok",
     "timestamp": 1628843658160,
     "user": {
      "displayName": "Doojin Park",
      "photoUrl": "",
      "userId": "13081019711214908217"
     },
     "user_tz": -540
    },
    "id": "m4eCQHsnpMml"
   },
   "outputs": [],
   "source": [
    "%config InlineBackend.figure_formats = {'png', 'retina'}\n",
    "\n",
    "import warnings\n",
    "warnings.filterwarnings('ignore')\n",
    "\n",
    "import numpy as np\n",
    "import pandas as pd\n",
    "import matplotlib as mpl\n",
    "import matplotlib.pyplot as plt\n",
    "import seaborn as sns"
   ]
  },
  {
   "cell_type": "markdown",
   "metadata": {
    "id": "n2zJkPZHpMmm"
   },
   "source": [
    "#### 1. 샘플데이터 생성\n",
    "- $Y= 0.5X^2 + X + 2 + \\varepsilon$"
   ]
  },
  {
   "cell_type": "code",
   "execution_count": 2,
   "metadata": {
    "ExecuteTime": {
     "end_time": "2022-05-25T08:21:47.124845Z",
     "start_time": "2022-05-25T08:21:47.120952Z"
    },
    "executionInfo": {
     "elapsed": 361,
     "status": "ok",
     "timestamp": 1628843676945,
     "user": {
      "displayName": "Doojin Park",
      "photoUrl": "",
      "userId": "13081019711214908217"
     },
     "user_tz": -540
    },
    "id": "dqF-vvd5pMmn"
   },
   "outputs": [],
   "source": [
    "m = 100\n",
    "np.random.seed(0)\n",
    "x = 6 * np.random.rand(m, 1) - 3\n",
    "y = 0.5 * x ** 2 + x + 2 + np.random.randn(m, 1)"
   ]
  },
  {
   "cell_type": "code",
   "execution_count": 3,
   "metadata": {
    "ExecuteTime": {
     "end_time": "2022-05-25T08:22:05.039891Z",
     "start_time": "2022-05-25T08:22:05.035024Z"
    },
    "colab": {
     "base_uri": "https://localhost:8080/"
    },
    "executionInfo": {
     "elapsed": 506,
     "status": "ok",
     "timestamp": 1628843680107,
     "user": {
      "displayName": "Doojin Park",
      "photoUrl": "",
      "userId": "13081019711214908217"
     },
     "user_tz": -540
    },
    "id": "4pr5e-cvpMmn",
    "outputId": "05dd237d-8d3a-432c-a190-5aa3d7b4754e"
   },
   "outputs": [
    {
     "data": {
      "text/plain": [
       "(array([[0.29288102],\n",
       "        [1.2911362 ],\n",
       "        [0.61658026]]),\n",
       " array([[1.17062083],\n",
       "        [5.02547903],\n",
       "        [3.2723283 ]]))"
      ]
     },
     "execution_count": 3,
     "metadata": {},
     "output_type": "execute_result"
    }
   ],
   "source": [
    "x[:3], y[:3]"
   ]
  },
  {
   "cell_type": "code",
   "execution_count": 4,
   "metadata": {
    "ExecuteTime": {
     "end_time": "2022-05-25T08:22:06.212493Z",
     "start_time": "2022-05-25T08:22:06.130733Z"
    },
    "colab": {
     "base_uri": "https://localhost:8080/",
     "height": 265
    },
    "executionInfo": {
     "elapsed": 735,
     "status": "ok",
     "timestamp": 1628843691265,
     "user": {
      "displayName": "Doojin Park",
      "photoUrl": "",
      "userId": "13081019711214908217"
     },
     "user_tz": -540
    },
    "id": "XDC_C5AupMmp",
    "outputId": "cc71ecfc-76ea-4ac8-e79a-d36654281f02"
   },
   "outputs": [
    {
     "data": {
      "image/png": "[encoded data removed]",
      "text/plain": [
       "<Figure size 432x288 with 1 Axes>"
      ]
     },
     "metadata": {
      "image/png": {
       "height": 249,
       "width": 367
      },
      "needs_background": "light"
     },
     "output_type": "display_data"
    }
   ],
   "source": [
    "# 산점도\n",
    "plt.scatter(x, y)\n",
    "plt.show()"
   ]
  },
  {
   "cell_type": "markdown",
   "metadata": {
    "id": "m9vY6kdxpMmq"
   },
   "source": [
    "#### 2. 선형회귀분석\n",
    "- statsmodels 사용\n",
    "- sklearn 사용"
   ]
  },
  {
   "cell_type": "markdown",
   "metadata": {
    "id": "s2OVKw99pMmr"
   },
   "source": [
    "##### statsmodels 사용"
   ]
  },
  {
   "cell_type": "code",
   "execution_count": 5,
   "metadata": {
    "ExecuteTime": {
     "end_time": "2022-05-25T08:23:19.163922Z",
     "start_time": "2022-05-25T08:23:19.159056Z"
    }
   },
   "outputs": [
    {
     "data": {
      "text/plain": [
       "array([[ 0.29288102],\n",
       "       [ 1.2911362 ],\n",
       "       [ 0.61658026],\n",
       "       [ 0.2692991 ],\n",
       "       [-0.4580712 ],\n",
       "       [ 0.87536468],\n",
       "       [-0.37447673],\n",
       "       [ 2.350638  ],\n",
       "       [ 2.78197656],\n",
       "       [-0.69935089],\n",
       "       [ 1.75035023],\n",
       "       [ 0.17336952],\n",
       "       [ 0.40826737],\n",
       "       [ 2.55357983],\n",
       "       [-2.57378365],\n",
       "       [-2.4772242 ],\n",
       "       [-2.87868962],\n",
       "       [ 1.99571907],\n",
       "       [ 1.66894051],\n",
       "       [ 2.22007289],\n",
       "       [ 2.87171005],\n",
       "       [ 1.79495139],\n",
       "       [-0.23112383],\n",
       "       [ 1.68317506],\n",
       "       [-2.29035344],\n",
       "       [ 0.83952613],\n",
       "       [-2.13988028],\n",
       "       [ 2.6680135 ],\n",
       "       [ 0.13108993],\n",
       "       [-0.51202836],\n",
       "       [-1.41266633],\n",
       "       [ 1.64540214],\n",
       "       [-0.26309801],\n",
       "       [ 0.41060369],\n",
       "       [-2.8872612 ],\n",
       "       [ 0.70581298],\n",
       "       [ 0.67257434],\n",
       "       [ 0.70160398],\n",
       "       [ 2.66248847],\n",
       "       [ 1.09092179],\n",
       "       [-0.8429526 ],\n",
       "       [-0.37780828],\n",
       "       [ 1.18578718],\n",
       "       [-2.63864717],\n",
       "       [ 1.00060029],\n",
       "       [ 1.02382722],\n",
       "       [-1.73770463],\n",
       "       [-2.22644221],\n",
       "       [-1.10742989],\n",
       "       [-0.81773537],\n",
       "       [ 0.42118062],\n",
       "       [-0.36839092],\n",
       "       [ 2.93024303],\n",
       "       [-2.38773114],\n",
       "       [-1.74673946],\n",
       "       [-2.03214289],\n",
       "       [ 0.91864995],\n",
       "       [-1.48025038],\n",
       "       [-0.20213536],\n",
       "       [-1.53344645],\n",
       "       [-2.0461825 ],\n",
       "       [-2.33774915],\n",
       "       [ 0.93797754],\n",
       "       [-2.17090229],\n",
       "       [-1.82050583],\n",
       "       [-0.78764898],\n",
       "       [ 1.92595938],\n",
       "       [-2.41739235],\n",
       "       [ 2.02766944],\n",
       "       [-2.42340955],\n",
       "       [ 2.85875679],\n",
       "       [-0.18809279],\n",
       "       [ 2.86056653],\n",
       "       [ 0.62907312],\n",
       "       [ 1.43558148],\n",
       "       [-2.76487325],\n",
       "       [-1.30315822],\n",
       "       [-2.27882063],\n",
       "       [-1.22315881],\n",
       "       [-2.28763369],\n",
       "       [-1.09210092],\n",
       "       [-0.51442203],\n",
       "       [-2.61511502],\n",
       "       [ 1.15483272],\n",
       "       [ 0.39960873],\n",
       "       [-1.40766305],\n",
       "       [ 0.13948832],\n",
       "       [-2.43635694],\n",
       "       [ 0.45567897],\n",
       "       [ 2.57577719],\n",
       "       [-1.08858629],\n",
       "       [ 1.00446228],\n",
       "       [-2.20921283],\n",
       "       [ 1.29796322],\n",
       "       [-1.26356344],\n",
       "       [-1.90085183],\n",
       "       [ 0.51907761],\n",
       "       [-2.87935472],\n",
       "       [ 1.97364018],\n",
       "       [-2.97182714]])"
      ]
     },
     "execution_count": 5,
     "metadata": {},
     "output_type": "execute_result"
    }
   ],
   "source": [
    "x"
   ]
  },
  {
   "cell_type": "code",
   "execution_count": 6,
   "metadata": {
    "ExecuteTime": {
     "end_time": "2022-05-25T08:23:39.708810Z",
     "start_time": "2022-05-25T08:23:39.420703Z"
    },
    "colab": {
     "base_uri": "https://localhost:8080/"
    },
    "executionInfo": {
     "elapsed": 1458,
     "status": "ok",
     "timestamp": 1628843767616,
     "user": {
      "displayName": "Doojin Park",
      "photoUrl": "",
      "userId": "13081019711214908217"
     },
     "user_tz": -540
    },
    "id": "CuIn_16mpMms",
    "outputId": "b20f5413-3334-4c27-89e2-8754e5bdcb20"
   },
   "outputs": [
    {
     "data": {
      "text/plain": [
       "(array([[0.29288102],\n",
       "        [1.2911362 ]]),\n",
       " array([[1.        , 0.29288102],\n",
       "        [1.        , 1.2911362 ]]))"
      ]
     },
     "execution_count": 6,
     "metadata": {},
     "output_type": "execute_result"
    }
   ],
   "source": [
    "import statsmodels.api as sm\n",
    "from sklearn.metrics import mean_absolute_error\n",
    "\n",
    "# 상수항 추가\n",
    "feature = sm.add_constant(x, has_constant='add')\n",
    "\n",
    "x[:2], feature[:2]"
   ]
  },
  {
   "cell_type": "code",
   "execution_count": 7,
   "metadata": {
    "ExecuteTime": {
     "end_time": "2022-05-25T08:23:59.481675Z",
     "start_time": "2022-05-25T08:23:59.476809Z"
    },
    "id": "RZkNPXg3pMms",
    "outputId": "d9a85cc1-c1c3-40d5-f4fc-6de5602ba3f4"
   },
   "outputs": [
    {
     "data": {
      "text/plain": [
       "(array([[1.17062083],\n",
       "        [5.02547903]]),\n",
       " array([3.9425214 , 4.82666832]))"
      ]
     },
     "execution_count": 7,
     "metadata": {},
     "output_type": "execute_result"
    }
   ],
   "source": [
    "# 모델 학습\n",
    "model_1 = sm.OLS(y, feature).fit()\n",
    "\n",
    "# 예측값 구하기\n",
    "pred_1 = np.dot(feature, model_1.params)\n",
    "\n",
    "y[:2], pred_1[:2]"
   ]
  },
  {
   "cell_type": "code",
   "execution_count": 8,
   "metadata": {
    "ExecuteTime": {
     "end_time": "2022-05-25T08:24:15.111019Z",
     "start_time": "2022-05-25T08:24:15.040939Z"
    },
    "id": "NGhfDlH6pMmt",
    "outputId": "e8e7bcf3-0709-49f4-eea9-3bf397904900"
   },
   "outputs": [
    {
     "data": {
      "image/png": "[encoded data removed]",
      "text/plain": [
       "<Figure size 432x288 with 1 Axes>"
      ]
     },
     "metadata": {
      "image/png": {
       "height": 249,
       "width": 367
      },
      "needs_background": "light"
     },
     "output_type": "display_data"
    }
   ],
   "source": [
    "# 그래프 그리기\n",
    "plt.scatter(x, y) # 실제 데이터\n",
    "plt.plot(x, pred_1, \"r\") # 예측 데이터 추세선\n",
    "plt.show()"
   ]
  },
  {
   "cell_type": "code",
   "execution_count": 9,
   "metadata": {
    "ExecuteTime": {
     "end_time": "2022-05-25T08:24:29.007379Z",
     "start_time": "2022-05-25T08:24:29.002513Z"
    },
    "id": "kce_ImW1pMmt",
    "outputId": "762ddb22-0cd7-41a3-dbb9-372309ff5b1b"
   },
   "outputs": [
    {
     "data": {
      "text/plain": [
       "(array([3.68311893, 0.8856923 ]), 1.2760253494659728)"
      ]
     },
     "execution_count": 9,
     "metadata": {},
     "output_type": "execute_result"
    }
   ],
   "source": [
    "# 회귀계수 출력, 모델 평가(MAE) : MAE > 1.2760\n",
    "model_1.params, mean_absolute_error(pred_1, y)"
   ]
  },
  {
   "cell_type": "code",
   "execution_count": 10,
   "metadata": {
    "ExecuteTime": {
     "end_time": "2022-05-25T08:24:49.994073Z",
     "start_time": "2022-05-25T08:24:49.989206Z"
    },
    "id": "zqkJP6dGpMmu",
    "outputId": "ac58198e-f463-460c-ceb9-efbc74236f33"
   },
   "outputs": [
    {
     "data": {
      "text/plain": [
       "(3.942521400486069, 3.942521400486069)"
      ]
     },
     "execution_count": 10,
     "metadata": {},
     "output_type": "execute_result"
    }
   ],
   "source": [
    "# 0번째 데이터를 계산한결과와 0번째 예측 결과의 데이터가 같음\n",
    "np.dot(feature[0], model_1.params), pred_1[0]"
   ]
  },
  {
   "cell_type": "markdown",
   "metadata": {
    "id": "M74MwyT2pMmu"
   },
   "source": [
    "#### sklearn 사용"
   ]
  },
  {
   "cell_type": "code",
   "execution_count": 11,
   "metadata": {
    "ExecuteTime": {
     "end_time": "2022-05-25T08:25:04.394016Z",
     "start_time": "2022-05-25T08:25:04.300576Z"
    },
    "colab": {
     "base_uri": "https://localhost:8080/",
     "height": 282
    },
    "executionInfo": {
     "elapsed": 387,
     "status": "ok",
     "timestamp": 1628843772195,
     "user": {
      "displayName": "Doojin Park",
      "photoUrl": "",
      "userId": "13081019711214908217"
     },
     "user_tz": -540
    },
    "id": "3JdaoiuVpMmv",
    "outputId": "b64bb599-915b-42c7-db8c-084bac74181d"
   },
   "outputs": [
    {
     "data": {
      "image/png": "[encoded data removed]",
      "text/plain": [
       "<Figure size 432x288 with 1 Axes>"
      ]
     },
     "metadata": {
      "image/png": {
       "height": 249,
       "width": 367
      },
      "needs_background": "light"
     },
     "output_type": "display_data"
    },
    {
     "data": {
      "text/plain": [
       "(array([3.68311893]), array([[0.8856923]]), 1.2760253494659728)"
      ]
     },
     "execution_count": 11,
     "metadata": {},
     "output_type": "execute_result"
    }
   ],
   "source": [
    "from sklearn.linear_model import LinearRegression\n",
    "\n",
    "# 모델 학습\n",
    "model_2 = LinearRegression().fit(x, y)\n",
    "\n",
    "# 예측값 구하기\n",
    "pred_2 = model_2.predict(x)\n",
    "\n",
    "# 그래프 그리기\n",
    "plt.scatter(x, y) # 실제 데이터\n",
    "plt.plot(x, pred_2, \"r\") # 예측 데이터 추세선\n",
    "plt.show()\n",
    "\n",
    "# 회귀계수 출력, 모델 평가(MAE)\n",
    "model_2.intercept_, model_2.coef_, mean_absolute_error(pred_2, y)"
   ]
  },
  {
   "cell_type": "markdown",
   "metadata": {
    "id": "UE6kr50UpMmv"
   },
   "source": [
    "#### 3. 다항회귀분석\n",
    "- statsmodels 사용\n",
    "- sklearn 사용"
   ]
  },
  {
   "cell_type": "code",
   "execution_count": 12,
   "metadata": {
    "ExecuteTime": {
     "end_time": "2022-05-25T08:26:09.057272Z",
     "start_time": "2022-05-25T08:26:09.052406Z"
    },
    "id": "cLgg6IY8pMmv",
    "outputId": "5e4a410f-bd61-4137-fe73-b552d37372fb"
   },
   "outputs": [
    {
     "data": {
      "text/plain": [
       "(array([[0.29288102],\n",
       "        [1.2911362 ],\n",
       "        [0.61658026]]),\n",
       " array([[0.08577929],\n",
       "        [1.66703268],\n",
       "        [0.38017121]]),\n",
       " array([[0.29288102, 0.08577929],\n",
       "        [1.2911362 , 1.66703268],\n",
       "        [0.61658026, 0.38017121]]))"
      ]
     },
     "execution_count": 12,
     "metadata": {},
     "output_type": "execute_result"
    }
   ],
   "source": [
    "# 2차 방정식으로 만들기\n",
    "x[:3], x[:3]**2, np.c_[x[:3], x[:3]**2]"
   ]
  },
  {
   "cell_type": "markdown",
   "metadata": {},
   "source": [
    "# x -> x_ploy"
   ]
  },
  {
   "cell_type": "code",
   "execution_count": 13,
   "metadata": {
    "ExecuteTime": {
     "end_time": "2022-05-25T08:26:09.369712Z",
     "start_time": "2022-05-25T08:26:09.364845Z"
    },
    "colab": {
     "base_uri": "https://localhost:8080/"
    },
    "executionInfo": {
     "elapsed": 495,
     "status": "ok",
     "timestamp": 1628843870882,
     "user": {
      "displayName": "Doojin Park",
      "photoUrl": "",
      "userId": "13081019711214908217"
     },
     "user_tz": -540
    },
    "id": "YFWX_XPdpMmw",
    "outputId": "b2cfea80-3119-4022-f475-5ec091a88331"
   },
   "outputs": [
    {
     "data": {
      "text/plain": [
       "(array([0.29288102, 0.08577929]), array([0.29288102, 0.08577929]))"
      ]
     },
     "execution_count": 13,
     "metadata": {},
     "output_type": "execute_result"
    }
   ],
   "source": [
    "# feature값 행렬 데이터로 변경\n",
    "# x_poly를 만들어 주는게 중요!\n",
    "\n",
    "from sklearn.preprocessing import PolynomialFeatures\n",
    "\n",
    "# 모델의 학습은 선형대수로 계산이 되기 때문에 제곱한 feature를 추가\n",
    "poly_features = PolynomialFeatures(degree=2, include_bias=False) # 2차방정식\n",
    "x_poly = poly_features.fit_transform(x)\n",
    "\n",
    "np.hstack([x[0], x[0]**2]), x_poly[0]"
   ]
  },
  {
   "cell_type": "markdown",
   "metadata": {
    "id": "1za4MGeQpMmx"
   },
   "source": [
    "##### statsmodels 사용"
   ]
  },
  {
   "cell_type": "code",
   "execution_count": 14,
   "metadata": {
    "ExecuteTime": {
     "end_time": "2022-05-25T08:27:09.519355Z",
     "start_time": "2022-05-25T08:27:09.513515Z"
    }
   },
   "outputs": [
    {
     "data": {
      "text/plain": [
       "array([[ 0.29288102,  0.08577929],\n",
       "       [ 1.2911362 ,  1.66703268],\n",
       "       [ 0.61658026,  0.38017121],\n",
       "       [ 0.2692991 ,  0.072522  ],\n",
       "       [-0.4580712 ,  0.20982923],\n",
       "       [ 0.87536468,  0.76626332],\n",
       "       [-0.37447673,  0.14023282],\n",
       "       [ 2.350638  ,  5.52549903],\n",
       "       [ 2.78197656,  7.7393936 ],\n",
       "       [-0.69935089,  0.48909166],\n",
       "       [ 1.75035023,  3.06372592],\n",
       "       [ 0.17336952,  0.03005699],\n",
       "       [ 0.40826737,  0.16668224],\n",
       "       [ 2.55357983,  6.52076995],\n",
       "       [-2.57378365,  6.62436228],\n",
       "       [-2.4772242 ,  6.13663975],\n",
       "       [-2.87868962,  8.2868539 ],\n",
       "       [ 1.99571907,  3.98289462],\n",
       "       [ 1.66894051,  2.78536241],\n",
       "       [ 2.22007289,  4.92872363],\n",
       "       [ 2.87171005,  8.24671863],\n",
       "       [ 1.79495139,  3.22185048],\n",
       "       [-0.23112383,  0.05341822],\n",
       "       [ 1.68317506,  2.83307827],\n",
       "       [-2.29035344,  5.2457189 ],\n",
       "       [ 0.83952613,  0.70480412],\n",
       "       [-2.13988028,  4.57908759],\n",
       "       [ 2.6680135 ,  7.11829605],\n",
       "       [ 0.13108993,  0.01718457],\n",
       "       [-0.51202836,  0.26217304],\n",
       "       [-1.41266633,  1.99562615],\n",
       "       [ 1.64540214,  2.70734819],\n",
       "       [-0.26309801,  0.06922056],\n",
       "       [ 0.41060369,  0.16859539],\n",
       "       [-2.8872612 ,  8.33627722],\n",
       "       [ 0.70581298,  0.49817197],\n",
       "       [ 0.67257434,  0.45235624],\n",
       "       [ 0.70160398,  0.49224815],\n",
       "       [ 2.66248847,  7.08884486],\n",
       "       [ 1.09092179,  1.19011036],\n",
       "       [-0.8429526 ,  0.71056908],\n",
       "       [-0.37780828,  0.14273909],\n",
       "       [ 1.18578718,  1.40609123],\n",
       "       [-2.63864717,  6.96245889],\n",
       "       [ 1.00060029,  1.00120095],\n",
       "       [ 1.02382722,  1.04822217],\n",
       "       [-1.73770463,  3.01961739],\n",
       "       [-2.22644221,  4.95704493],\n",
       "       [-1.10742989,  1.22640097],\n",
       "       [-0.81773537,  0.66869114],\n",
       "       [ 0.42118062,  0.17739312],\n",
       "       [-0.36839092,  0.13571187],\n",
       "       [ 2.93024303,  8.58632421],\n",
       "       [-2.38773114,  5.70125998],\n",
       "       [-1.74673946,  3.05109875],\n",
       "       [-2.03214289,  4.12960474],\n",
       "       [ 0.91864995,  0.84391774],\n",
       "       [-1.48025038,  2.1911412 ],\n",
       "       [-0.20213536,  0.0408587 ],\n",
       "       [-1.53344645,  2.35145801],\n",
       "       [-2.0461825 ,  4.18686282],\n",
       "       [-2.33774915,  5.4650711 ],\n",
       "       [ 0.93797754,  0.87980186],\n",
       "       [-2.17090229,  4.71281676],\n",
       "       [-1.82050583,  3.31424148],\n",
       "       [-0.78764898,  0.62039091],\n",
       "       [ 1.92595938,  3.70931953],\n",
       "       [-2.41739235,  5.84378575],\n",
       "       [ 2.02766944,  4.11144338],\n",
       "       [-2.42340955,  5.87291386],\n",
       "       [ 2.85875679,  8.17249038],\n",
       "       [-0.18809279,  0.0353789 ],\n",
       "       [ 2.86056653,  8.18284087],\n",
       "       [ 0.62907312,  0.39573299],\n",
       "       [ 1.43558148,  2.06089418],\n",
       "       [-2.76487325,  7.64452407],\n",
       "       [-1.30315822,  1.69822136],\n",
       "       [-2.27882063,  5.19302348],\n",
       "       [-1.22315881,  1.49611749],\n",
       "       [-2.28763369,  5.23326788],\n",
       "       [-1.09210092,  1.19268443],\n",
       "       [-0.51442203,  0.26463003],\n",
       "       [-2.61511502,  6.83882658],\n",
       "       [ 1.15483272,  1.3336386 ],\n",
       "       [ 0.39960873,  0.15968713],\n",
       "       [-1.40766305,  1.98151527],\n",
       "       [ 0.13948832,  0.01945699],\n",
       "       [-2.43635694,  5.93583512],\n",
       "       [ 0.45567897,  0.20764333],\n",
       "       [ 2.57577719,  6.63462811],\n",
       "       [-1.08858629,  1.1850201 ],\n",
       "       [ 1.00446228,  1.00894447],\n",
       "       [-2.20921283,  4.88062131],\n",
       "       [ 1.29796322,  1.68470853],\n",
       "       [-1.26356344,  1.59659257],\n",
       "       [-1.90085183,  3.61323767],\n",
       "       [ 0.51907761,  0.26944156],\n",
       "       [-2.87935472,  8.29068362],\n",
       "       [ 1.97364018,  3.89525554],\n",
       "       [-2.97182714,  8.83175657]])"
      ]
     },
     "execution_count": 14,
     "metadata": {},
     "output_type": "execute_result"
    }
   ],
   "source": [
    "x_poly"
   ]
  },
  {
   "cell_type": "code",
   "execution_count": 15,
   "metadata": {
    "ExecuteTime": {
     "end_time": "2022-05-25T08:27:29.559382Z",
     "start_time": "2022-05-25T08:27:29.555488Z"
    },
    "id": "Z40DXOK5pMmx",
    "outputId": "886b2b0d-6925-4c17-e84a-cd017d038002"
   },
   "outputs": [
    {
     "data": {
      "text/plain": [
       "array([[1.        , 0.29288102, 0.08577929],\n",
       "       [1.        , 1.2911362 , 1.66703268]])"
      ]
     },
     "execution_count": 15,
     "metadata": {},
     "output_type": "execute_result"
    }
   ],
   "source": [
    "# statsmodels 사용\n",
    "import statsmodels.api as sm\n",
    "from sklearn.metrics import mean_absolute_error, r2_score\n",
    "\n",
    "# 상수항 추가\n",
    "feature = sm.add_constant(x_poly, has_constant='add')\n",
    "\n",
    "feature[:2]"
   ]
  },
  {
   "cell_type": "code",
   "execution_count": 16,
   "metadata": {
    "ExecuteTime": {
     "end_time": "2022-05-25T08:27:30.442232Z",
     "start_time": "2022-05-25T08:27:30.436392Z"
    },
    "id": "Ltj15mowpMmx",
    "outputId": "57a872f8-ac41-44f2-cb95-f3ff416a22bf"
   },
   "outputs": [
    {
     "data": {
      "text/plain": [
       "(array([1.17062083, 5.02547903]), array([2.66583298, 4.35441937]))"
      ]
     },
     "execution_count": 16,
     "metadata": {},
     "output_type": "execute_result"
    }
   ],
   "source": [
    "# 모델 학습\n",
    "model_3 = sm.OLS(y, feature).fit()\n",
    "\n",
    "# 예측값 구하기\n",
    "pred_3 = np.dot(feature, model_3.params)\n",
    "\n",
    "y[:2][:, 0], pred_3[:2]"
   ]
  },
  {
   "cell_type": "code",
   "execution_count": 17,
   "metadata": {
    "ExecuteTime": {
     "end_time": "2022-05-25T08:27:34.345119Z",
     "start_time": "2022-05-25T08:27:34.027812Z"
    },
    "id": "qia4e81gpMmx",
    "outputId": "f70ac512-a5eb-4f8e-8506-c0f36ff1deda"
   },
   "outputs": [
    {
     "data": {
      "image/png": "[encoded data removed]",
      "text/plain": [
       "<Figure size 432x288 with 1 Axes>"
      ]
     },
     "metadata": {
      "image/png": {
       "height": 249,
       "width": 367
      },
      "needs_background": "light"
     },
     "output_type": "display_data"
    }
   ],
   "source": [
    "# 그래프 그리기\n",
    "plt.scatter(x, y) # 실제 데이터\n",
    "\n",
    "# 예측 데이터 추세선\n",
    "# plt.scatter(x, pred_3)\n",
    "df = pd.DataFrame({\"x\": x.reshape(1, -1)[0], \"pred_3\": pred_3}).sort_values(\"x\") # 정렬\n",
    "plt.plot(df[\"x\"], df[\"pred_3\"], \"r\")\n",
    "\n",
    "plt.show()"
   ]
  },
  {
   "cell_type": "code",
   "execution_count": 18,
   "metadata": {
    "ExecuteTime": {
     "end_time": "2022-05-25T08:27:53.458234Z",
     "start_time": "2022-05-25T08:27:53.454341Z"
    },
    "id": "RoBODH13pMmy",
    "outputId": "f7da89a5-f86f-401e-93a6-ae6fb33000f5"
   },
   "outputs": [
    {
     "data": {
      "text/plain": [
       "(array([2.34050076, 0.97906552, 0.44978823]), 0.8275368633442868)"
      ]
     },
     "execution_count": 18,
     "metadata": {},
     "output_type": "execute_result"
    }
   ],
   "source": [
    "# 회귀계수 출력, 모델 평가(MAE) : 0.827\n",
    "model_3.params, mean_absolute_error(pred_3, y)"
   ]
  },
  {
   "cell_type": "markdown",
   "metadata": {
    "id": "rejQpRy5pMmy"
   },
   "source": [
    "##### sklearn 사용"
   ]
  },
  {
   "cell_type": "code",
   "execution_count": 19,
   "metadata": {
    "ExecuteTime": {
     "end_time": "2022-05-25T08:28:17.510552Z",
     "start_time": "2022-05-25T08:28:17.412247Z"
    },
    "colab": {
     "base_uri": "https://localhost:8080/",
     "height": 282
    },
    "executionInfo": {
     "elapsed": 489,
     "status": "ok",
     "timestamp": 1628843990434,
     "user": {
      "displayName": "Doojin Park",
      "photoUrl": "",
      "userId": "13081019711214908217"
     },
     "user_tz": -540
    },
    "id": "OwTP-61hpMmy",
    "outputId": "e20a0bef-5cd3-45ed-a9a5-2f6d14b2eeab"
   },
   "outputs": [
    {
     "data": {
      "image/png": "[encoded data removed]",
      "text/plain": [
       "<Figure size 432x288 with 1 Axes>"
      ]
     },
     "metadata": {
      "image/png": {
       "height": 249,
       "width": 367
      },
      "needs_background": "light"
     },
     "output_type": "display_data"
    },
    {
     "data": {
      "text/plain": [
       "(array([2.34050076]), array([[0.97906552, 0.44978823]]), 0.8275368633442869)"
      ]
     },
     "execution_count": 19,
     "metadata": {},
     "output_type": "execute_result"
    }
   ],
   "source": [
    "from sklearn.linear_model import LinearRegression\n",
    "\n",
    "# 모델 학습\n",
    "model_4 = LinearRegression().fit(x_poly, y)\n",
    "\n",
    "# 예측값 구하기\n",
    "pred_4 = model_4.predict(x_poly)\n",
    "\n",
    "# 그래프 그리기\n",
    "plt.scatter(x, y) # 실제 데이터\n",
    "\n",
    "# 예측 데이터 추세선\n",
    "# plt.scatter(x, pred_4)\n",
    "df = pd.DataFrame({\"x\": x.reshape(1, -1)[0], \"pred_4\": pred_4.reshape(1,-1)[0]}).sort_values(\"x\") # 정렬\n",
    "plt.plot(df[\"x\"], df[\"pred_4\"], \"r\")\n",
    "\n",
    "plt.show()\n",
    "\n",
    "# 회귀계수 출력, 모델 평가(MAE)\n",
    "model_4.intercept_, model_4.coef_, mean_absolute_error(pred_4, y)"
   ]
  },
  {
   "cell_type": "markdown",
   "metadata": {
    "id": "O-cPDQNhpMmz"
   },
   "source": [
    "#### 다항회귀식\n",
    "- $Y=0.5X^2+X+2$\n",
    "- $\\hat{Y} = 0.44978823*X^2 + 0.97906552*X  + 2.34050076$"
   ]
  },
  {
   "cell_type": "markdown",
   "metadata": {
    "id": "jcarrUkZpMmz"
   },
   "source": [
    "#### 최적의 차원을 구하는 방법\n",
    "- 기울기값이 급격하게 감소하는 지점이 최적의 차원 - 2차원이 최적"
   ]
  },
  {
   "cell_type": "code",
   "execution_count": 20,
   "metadata": {
    "ExecuteTime": {
     "end_time": "2022-05-25T08:30:59.169568Z",
     "start_time": "2022-05-25T08:30:59.165675Z"
    },
    "executionInfo": {
     "elapsed": 408,
     "status": "ok",
     "timestamp": 1628844115112,
     "user": {
      "displayName": "Doojin Park",
      "photoUrl": "",
      "userId": "13081019711214908217"
     },
     "user_tz": -540
    },
    "id": "2aSUpQBUpMmz"
   },
   "outputs": [],
   "source": [
    "def get_mae(degree):\n",
    "    \n",
    "    # degree 차원으로 feature를 만듦\n",
    "    poly_features = PolynomialFeatures(degree=degree, include_bias=False)\n",
    "    x_poly = poly_features.fit_transform(x)\n",
    "    \n",
    "    # 모델 학습\n",
    "    model = LinearRegression().fit(x_poly, y)\n",
    "    \n",
    "    # 데이터 예측\n",
    "    pred = model.predict(poly_features.fit_transform(x))\n",
    "    \n",
    "    # MAE 구함\n",
    "    return mean_absolute_error(y, pred)"
   ]
  },
  {
   "cell_type": "code",
   "execution_count": 21,
   "metadata": {
    "ExecuteTime": {
     "end_time": "2022-05-25T08:31:00.278474Z",
     "start_time": "2022-05-25T08:31:00.196677Z"
    },
    "colab": {
     "base_uri": "https://localhost:8080/",
     "height": 265
    },
    "executionInfo": {
     "elapsed": 365,
     "status": "ok",
     "timestamp": 1628844117221,
     "user": {
      "displayName": "Doojin Park",
      "photoUrl": "",
      "userId": "13081019711214908217"
     },
     "user_tz": -540
    },
    "id": "jtI8aNDapMmz",
    "outputId": "e927f276-c73e-43b4-e8c6-9818b7eb2348"
   },
   "outputs": [
    {
     "data": {
      "image/png": "[encoded data removed]",
      "text/plain": [
       "<Figure size 432x288 with 1 Axes>"
      ]
     },
     "metadata": {
      "image/png": {
       "height": 249,
       "width": 369
      },
      "needs_background": "light"
     },
     "output_type": "display_data"
    }
   ],
   "source": [
    "# 1차원 부터 10차원까지 mae 결과를 구해서 그래프로 그리기\n",
    "degrees = range(1, 10)\n",
    "maes = [get_mae(degree) for degree in degrees]\n",
    "plt.plot(degrees, maes)\n",
    "plt.show()"
   ]
  },
  {
   "cell_type": "markdown",
   "metadata": {
    "id": "5PoAmLh7pMmz"
   },
   "source": [
    "#### 과대적합과 과소적합\n",
    "- 과소적합 : 1차원 \n",
    "- 과대적합(과적합) : 3차원 이상"
   ]
  }
 ],
 "metadata": {
  "colab": {
   "collapsed_sections": [],
   "name": "07_polynomial_regression.ipynb",
   "provenance": []
  },
  "kernelspec": {
   "display_name": "Python 3 (ipykernel)",
   "language": "python",
   "name": "python3"
  },
  "language_info": {
   "codemirror_mode": {
    "name": "ipython",
    "version": 3
   },
   "file_extension": ".py",
   "mimetype": "text/x-python",
   "name": "python",
   "nbconvert_exporter": "python",
   "pygments_lexer": "ipython3",
   "version": "3.8.13"
  },
  "toc": {
   "base_numbering": 1,
   "nav_menu": {},
   "number_sections": false,
   "sideBar": true,
   "skip_h1_title": false,
   "title_cell": "Table of Contents",
   "title_sidebar": "Contents",
   "toc_cell": false,
   "toc_position": {},
   "toc_section_display": true,
   "toc_window_display": false
  },
  "varInspector": {
   "cols": {
    "lenName": 16,
    "lenType": 16,
    "lenVar": 40
   },
   "kernels_config": {
    "python": {
     "delete_cmd_postfix": "",
     "delete_cmd_prefix": "del ",
     "library": "var_list.py",
     "varRefreshCmd": "print(var_dic_list())"
    },
    "r": {
     "delete_cmd_postfix": ") ",
     "delete_cmd_prefix": "rm(",
     "library": "var_list.r",
     "varRefreshCmd": "cat(var_dic_list()) "
    }
   },
   "types_to_exclude": [
    "module",
    "function",
    "builtin_function_or_method",
    "instance",
    "_Feature"
   ],
   "window_display": false
  }
 },
 "nbformat": 4,
 "nbformat_minor": 1
}
