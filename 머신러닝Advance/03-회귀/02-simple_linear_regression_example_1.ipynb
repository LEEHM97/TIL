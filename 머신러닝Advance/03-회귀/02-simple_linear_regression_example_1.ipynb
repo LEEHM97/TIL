{
 "cells": [
  {
   "cell_type": "markdown",
   "metadata": {
    "id": "401bwlVRHtsW"
   },
   "source": [
    "### 1: 프리미어리그의 승점 예측\n",
    "- 단순선형회귀"
   ]
  },
  {
   "cell_type": "code",
   "execution_count": 1,
   "metadata": {
    "ExecuteTime": {
     "end_time": "2022-05-25T11:19:29.795811Z",
     "start_time": "2022-05-25T11:19:26.752624Z"
    },
    "executionInfo": {
     "elapsed": 321,
     "status": "ok",
     "timestamp": 1628818538789,
     "user": {
      "displayName": "Doojin Park",
      "photoUrl": "",
      "userId": "13081019711214908217"
     },
     "user_tz": -540
    },
    "id": "8qv58DKIHmZV"
   },
   "outputs": [],
   "source": [
    "%config InlineBackend.figure_formats = {'png', 'retina'}\n",
    "import numpy as np\n",
    "import pandas as pd\n",
    "import matplotlib.pyplot as plt\n",
    "import seaborn as sns\n",
    "import pickle"
   ]
  },
  {
   "cell_type": "code",
   "execution_count": null,
   "metadata": {
    "executionInfo": {
     "elapsed": 329,
     "status": "ok",
     "timestamp": 1628818356756,
     "user": {
      "displayName": "Doojin Park",
      "photoUrl": "",
      "userId": "13081019711214908217"
     },
     "user_tz": -540
    },
    "id": "YoyAyREQIrMc"
   },
   "outputs": [],
   "source": [
    "# 1. 데이터 로드"
   ]
  },
  {
   "cell_type": "code",
   "execution_count": 24,
   "metadata": {
    "ExecuteTime": {
     "end_time": "2022-05-25T11:25:58.955614Z",
     "start_time": "2022-05-25T11:25:58.948800Z"
    },
    "colab": {
     "base_uri": "https://localhost:8080/",
     "height": 110
    },
    "executionInfo": {
     "elapsed": 338,
     "status": "ok",
     "timestamp": 1628818608472,
     "user": {
      "displayName": "Doojin Park",
      "photoUrl": "",
      "userId": "13081019711214908217"
     },
     "user_tz": -540
    },
    "id": "1P2Oa67GJj-q",
    "outputId": "c340aea2-a8df-4f4e-9dfc-66fe434cf053"
   },
   "outputs": [
    {
     "data": {
      "text/html": [
       "<div>\n",
       "<style scoped>\n",
       "    .dataframe tbody tr th:only-of-type {\n",
       "        vertical-align: middle;\n",
       "    }\n",
       "\n",
       "    .dataframe tbody tr th {\n",
       "        vertical-align: top;\n",
       "    }\n",
       "\n",
       "    .dataframe thead th {\n",
       "        text-align: right;\n",
       "    }\n",
       "</style>\n",
       "<table border=\"1\" class=\"dataframe\">\n",
       "  <thead>\n",
       "    <tr style=\"text-align: right;\">\n",
       "      <th></th>\n",
       "      <th>name</th>\n",
       "      <th>gf</th>\n",
       "      <th>ga</th>\n",
       "      <th>points</th>\n",
       "    </tr>\n",
       "  </thead>\n",
       "  <tbody>\n",
       "    <tr>\n",
       "      <th>18</th>\n",
       "      <td>Stoke City</td>\n",
       "      <td>35</td>\n",
       "      <td>68</td>\n",
       "      <td>33</td>\n",
       "    </tr>\n",
       "    <tr>\n",
       "      <th>19</th>\n",
       "      <td>West Bromwich Albion</td>\n",
       "      <td>31</td>\n",
       "      <td>56</td>\n",
       "      <td>31</td>\n",
       "    </tr>\n",
       "  </tbody>\n",
       "</table>\n",
       "</div>"
      ],
      "text/plain": [
       "                    name  gf  ga points\n",
       "18            Stoke City  35  68     33\n",
       "19  West Bromwich Albion  31  56     31"
      ]
     },
     "execution_count": 24,
     "metadata": {},
     "output_type": "execute_result"
    }
   ],
   "source": [
    "with open(\"data/premierleague.pkl\", \"rb\") as file:\n",
    "    datas = pickle.load(file)\n",
    "\n",
    "df = pd.DataFrame(datas, columns=[\"name\", \"gf\", \"ga\", \"points\"])\n",
    "df.tail(2)"
   ]
  },
  {
   "cell_type": "code",
   "execution_count": null,
   "metadata": {
    "executionInfo": {
     "elapsed": 353,
     "status": "ok",
     "timestamp": 1628818396840,
     "user": {
      "displayName": "Doojin Park",
      "photoUrl": "",
      "userId": "13081019711214908217"
     },
     "user_tz": -540
    },
    "id": "FZg1AK6WI7bJ"
   },
   "outputs": [],
   "source": [
    "# 2. 데이터 처리\n",
    "# feature, target 데이터 분리"
   ]
  },
  {
   "cell_type": "code",
   "execution_count": 25,
   "metadata": {
    "ExecuteTime": {
     "end_time": "2022-05-25T11:26:00.354093Z",
     "start_time": "2022-05-25T11:26:00.349226Z"
    },
    "executionInfo": {
     "elapsed": 436,
     "status": "ok",
     "timestamp": 1628818870858,
     "user": {
      "displayName": "Doojin Park",
      "photoUrl": "",
      "userId": "13081019711214908217"
     },
     "user_tz": -540
    },
    "id": "jnq1GV2_KUW7"
   },
   "outputs": [],
   "source": [
    "# df['gf']는 series / df[['gf']]는 df\n",
    "# feature는 df로, target은 series로 저징\n",
    "\n",
    "feature_gf = df[[\"gf\"]]\n",
    "feature_ga = df[[\"ga\"]]\n",
    "target = df[\"points\"]"
   ]
  },
  {
   "cell_type": "code",
   "execution_count": 26,
   "metadata": {
    "ExecuteTime": {
     "end_time": "2022-05-25T11:26:01.379912Z",
     "start_time": "2022-05-25T11:26:01.376019Z"
    },
    "executionInfo": {
     "elapsed": 314,
     "status": "ok",
     "timestamp": 1628818414531,
     "user": {
      "displayName": "Doojin Park",
      "photoUrl": "",
      "userId": "13081019711214908217"
     },
     "user_tz": -540
    },
    "id": "R_oyzJEtJFNG"
   },
   "outputs": [],
   "source": [
    "# 3. 모델링 : 모델학습해서 만들기"
   ]
  },
  {
   "cell_type": "code",
   "execution_count": 27,
   "metadata": {
    "ExecuteTime": {
     "end_time": "2022-05-25T11:26:01.654275Z",
     "start_time": "2022-05-25T11:26:01.650383Z"
    },
    "executionInfo": {
     "elapsed": 821,
     "status": "ok",
     "timestamp": 1628818949501,
     "user": {
      "displayName": "Doojin Park",
      "photoUrl": "",
      "userId": "13081019711214908217"
     },
     "user_tz": -540
    },
    "id": "z1FJIn5NK_5d"
   },
   "outputs": [],
   "source": [
    "from sklearn.linear_model import LinearRegression"
   ]
  },
  {
   "cell_type": "code",
   "execution_count": 28,
   "metadata": {
    "ExecuteTime": {
     "end_time": "2022-05-25T11:26:02.010765Z",
     "start_time": "2022-05-25T11:26:02.005898Z"
    },
    "executionInfo": {
     "elapsed": 372,
     "status": "ok",
     "timestamp": 1628819144449,
     "user": {
      "displayName": "Doojin Park",
      "photoUrl": "",
      "userId": "13081019711214908217"
     },
     "user_tz": -540
    },
    "id": "zMMNsPHWK9MP"
   },
   "outputs": [
    {
     "data": {
      "text/plain": [
       "LinearRegression()"
      ]
     },
     "execution_count": 28,
     "metadata": {},
     "output_type": "execute_result"
    }
   ],
   "source": [
    "model_gf = LinearRegression()\n",
    "model_gf.fit(feature_gf, target)"
   ]
  },
  {
   "cell_type": "code",
   "execution_count": 29,
   "metadata": {
    "ExecuteTime": {
     "end_time": "2022-05-25T11:26:02.997824Z",
     "start_time": "2022-05-25T11:26:02.994904Z"
    },
    "executionInfo": {
     "elapsed": 546,
     "status": "ok",
     "timestamp": 1628818474896,
     "user": {
      "displayName": "Doojin Park",
      "photoUrl": "",
      "userId": "13081019711214908217"
     },
     "user_tz": -540
    },
    "id": "lAn-loIzJJh5"
   },
   "outputs": [],
   "source": [
    "# 4. 모델 성능 평가 : MSE, RMSE, MAE, MAPE\n",
    "# MAE"
   ]
  },
  {
   "cell_type": "code",
   "execution_count": 30,
   "metadata": {
    "ExecuteTime": {
     "end_time": "2022-05-25T11:26:03.309352Z",
     "start_time": "2022-05-25T11:26:03.306433Z"
    },
    "executionInfo": {
     "elapsed": 366,
     "status": "ok",
     "timestamp": 1628819606907,
     "user": {
      "displayName": "Doojin Park",
      "photoUrl": "",
      "userId": "13081019711214908217"
     },
     "user_tz": -540
    },
    "id": "1rsJhnKBNnjU"
   },
   "outputs": [],
   "source": [
    "from sklearn.metrics import mean_absolute_error"
   ]
  },
  {
   "cell_type": "code",
   "execution_count": 31,
   "metadata": {
    "ExecuteTime": {
     "end_time": "2022-05-25T11:26:03.701565Z",
     "start_time": "2022-05-25T11:26:03.698137Z"
    },
    "executionInfo": {
     "elapsed": 406,
     "status": "ok",
     "timestamp": 1628819769777,
     "user": {
      "displayName": "Doojin Park",
      "photoUrl": "",
      "userId": "13081019711214908217"
     },
     "user_tz": -540
    },
    "id": "MUsPh58mMSD1"
   },
   "outputs": [],
   "source": [
    "pred = np.round(model_gf.predict(feature_gf))"
   ]
  },
  {
   "cell_type": "code",
   "execution_count": 32,
   "metadata": {
    "ExecuteTime": {
     "end_time": "2022-05-25T11:26:04.395355Z",
     "start_time": "2022-05-25T11:26:04.391462Z"
    },
    "colab": {
     "base_uri": "https://localhost:8080/"
    },
    "executionInfo": {
     "elapsed": 338,
     "status": "ok",
     "timestamp": 1628819801309,
     "user": {
      "displayName": "Doojin Park",
      "photoUrl": "",
      "userId": "13081019711214908217"
     },
     "user_tz": -540
    },
    "id": "IcAz971_N_qJ",
    "outputId": "fcdcaf7e-9b1d-4a10-ba0c-743ef10bc6d6"
   },
   "outputs": [
    {
     "data": {
      "text/plain": [
       "(array([106, 68, 74, 84, 62], dtype=object),\n",
       " array([99., 67., 72., 80., 62.]),\n",
       " array([100, 81, 77, 75, 70], dtype=object))"
      ]
     },
     "execution_count": 32,
     "metadata": {},
     "output_type": "execute_result"
    }
   ],
   "source": [
    "feature_gf.values[:5, 0], pred[:5], target.values[:5]"
   ]
  },
  {
   "cell_type": "code",
   "execution_count": 33,
   "metadata": {
    "ExecuteTime": {
     "end_time": "2022-05-25T11:26:05.589606Z",
     "start_time": "2022-05-25T11:26:05.585713Z"
    },
    "colab": {
     "base_uri": "https://localhost:8080/"
    },
    "executionInfo": {
     "elapsed": 470,
     "status": "ok",
     "timestamp": 1628819867863,
     "user": {
      "displayName": "Doojin Park",
      "photoUrl": "",
      "userId": "13081019711214908217"
     },
     "user_tz": -540
    },
    "id": "Y24v2R_7Ok4N",
    "outputId": "f030dc68-ecfe-4580-84d9-e0bb051daa8c"
   },
   "outputs": [
    {
     "data": {
      "text/plain": [
       "5.5"
      ]
     },
     "execution_count": 33,
     "metadata": {},
     "output_type": "execute_result"
    }
   ],
   "source": [
    "# error값\n",
    "mean_absolute_error(target, pred)"
   ]
  },
  {
   "cell_type": "code",
   "execution_count": 34,
   "metadata": {
    "ExecuteTime": {
     "end_time": "2022-05-25T11:26:07.507770Z",
     "start_time": "2022-05-25T11:26:07.503877Z"
    },
    "executionInfo": {
     "elapsed": 330,
     "status": "ok",
     "timestamp": 1628821028748,
     "user": {
      "displayName": "Doojin Park",
      "photoUrl": "",
      "userId": "13081019711214908217"
     },
     "user_tz": -540
    },
    "id": "vU32G0uYJYNa"
   },
   "outputs": [],
   "source": [
    "# 5. 모델 사용\n",
    "# Leicester City\t56\t60\t47\n",
    "# 득점이 60점이였으면 승점이 몇점이였을까?"
   ]
  },
  {
   "cell_type": "code",
   "execution_count": 35,
   "metadata": {
    "ExecuteTime": {
     "end_time": "2022-05-25T11:26:08.601054Z",
     "start_time": "2022-05-25T11:26:08.595215Z"
    },
    "colab": {
     "base_uri": "https://localhost:8080/"
    },
    "executionInfo": {
     "elapsed": 326,
     "status": "ok",
     "timestamp": 1628821247096,
     "user": {
      "displayName": "Doojin Park",
      "photoUrl": "",
      "userId": "13081019711214908217"
     },
     "user_tz": -540
    },
    "id": "JSYtbhoBMVA7",
    "outputId": "0aa4e37d-e384-4f7a-ca2e-b7b2085d0c33"
   },
   "outputs": [
    {
     "name": "stderr",
     "output_type": "stream",
     "text": [
      "C:\\Users\\gmlkd\\miniforge3\\envs\\fastcampus\\lib\\site-packages\\sklearn\\base.py:450: UserWarning: X does not have valid feature names, but LinearRegression was fitted with feature names\n",
      "  warnings.warn(\n"
     ]
    },
    {
     "data": {
      "text/plain": [
       "array([60.])"
      ]
     },
     "execution_count": 35,
     "metadata": {},
     "output_type": "execute_result"
    }
   ],
   "source": [
    "np.round(model_gf.predict([[60]]))"
   ]
  },
  {
   "cell_type": "code",
   "execution_count": null,
   "metadata": {
    "executionInfo": {
     "elapsed": 355,
     "status": "ok",
     "timestamp": 1628821224576,
     "user": {
      "displayName": "Doojin Park",
      "photoUrl": "",
      "userId": "13081019711214908217"
     },
     "user_tz": -540
    },
    "id": "ScIgDBVGT2Vr"
   },
   "outputs": [],
   "source": [
    "# 6. 시각화"
   ]
  },
  {
   "cell_type": "code",
   "execution_count": 23,
   "metadata": {
    "ExecuteTime": {
     "end_time": "2022-05-25T11:25:50.253043Z",
     "start_time": "2022-05-25T11:25:50.160073Z"
    },
    "colab": {
     "base_uri": "https://localhost:8080/",
     "height": 265
    },
    "executionInfo": {
     "elapsed": 585,
     "status": "ok",
     "timestamp": 1628821255868,
     "user": {
      "displayName": "Doojin Park",
      "photoUrl": "",
      "userId": "13081019711214908217"
     },
     "user_tz": -540
    },
    "id": "R7DpUtwlT3kn",
    "outputId": "5dd38ee2-7a75-44e0-806c-634f6f20b1dc"
   },
   "outputs": [
    {
     "data": {
      "image/png": "[encoded data removed]",
      "text/plain": [
       "<Figure size 432x288 with 1 Axes>"
      ]
     },
     "metadata": {
      "image/png": {
       "height": 249,
       "width": 372
      },
      "needs_background": "light"
     },
     "output_type": "display_data"
    }
   ],
   "source": [
    "plt.scatter(feature_gf, target)\n",
    "plt.scatter(feature_gf, pred)\n",
    "plt.show()"
   ]
  },
  {
   "cell_type": "code",
   "execution_count": null,
   "metadata": {
    "executionInfo": {
     "elapsed": 418,
     "status": "ok",
     "timestamp": 1628821329955,
     "user": {
      "displayName": "Doojin Park",
      "photoUrl": "",
      "userId": "13081019711214908217"
     },
     "user_tz": -540
    },
    "id": "iBrFt7FXT_FR"
   },
   "outputs": [],
   "source": [
    "# 7. 실점으로 모델 만들기\n",
    "# feature_ga, target"
   ]
  },
  {
   "cell_type": "code",
   "execution_count": null,
   "metadata": {
    "executionInfo": {
     "elapsed": 327,
     "status": "ok",
     "timestamp": 1628821347047,
     "user": {
      "displayName": "Doojin Park",
      "photoUrl": "",
      "userId": "13081019711214908217"
     },
     "user_tz": -540
    },
    "id": "JWTn40EdUPLn"
   },
   "outputs": [],
   "source": [
    "# 모델 학습"
   ]
  },
  {
   "cell_type": "code",
   "execution_count": 14,
   "metadata": {
    "ExecuteTime": {
     "end_time": "2022-05-25T05:42:51.910222Z",
     "start_time": "2022-05-25T05:42:51.905356Z"
    },
    "executionInfo": {
     "elapsed": 3,
     "status": "ok",
     "timestamp": 1628821615493,
     "user": {
      "displayName": "Doojin Park",
      "photoUrl": "",
      "userId": "13081019711214908217"
     },
     "user_tz": -540
    },
    "id": "-iYRggphVSR0"
   },
   "outputs": [
    {
     "data": {
      "text/plain": [
       "LinearRegression()"
      ]
     },
     "execution_count": 14,
     "metadata": {},
     "output_type": "execute_result"
    }
   ],
   "source": [
    "model_ga = LinearRegression()\n",
    "model_ga.fit(feature_ga, target)"
   ]
  },
  {
   "cell_type": "code",
   "execution_count": null,
   "metadata": {
    "executionInfo": {
     "elapsed": 397,
     "status": "ok",
     "timestamp": 1628821361058,
     "user": {
      "displayName": "Doojin Park",
      "photoUrl": "",
      "userId": "13081019711214908217"
     },
     "user_tz": -540
    },
    "id": "0JTaXpGrUVeY"
   },
   "outputs": [],
   "source": [
    "# 모델 성능 평가"
   ]
  },
  {
   "cell_type": "code",
   "execution_count": 15,
   "metadata": {
    "ExecuteTime": {
     "end_time": "2022-05-25T05:42:53.124940Z",
     "start_time": "2022-05-25T05:42:53.120074Z"
    },
    "colab": {
     "base_uri": "https://localhost:8080/"
    },
    "executionInfo": {
     "elapsed": 328,
     "status": "ok",
     "timestamp": 1628821652347,
     "user": {
      "displayName": "Doojin Park",
      "photoUrl": "",
      "userId": "13081019711214908217"
     },
     "user_tz": -540
    },
    "id": "3YFQNcoYVX6_",
    "outputId": "8651bbed-2e5e-49fa-ce72-a7e3ee5fd828"
   },
   "outputs": [
    {
     "data": {
      "text/plain": [
       "8.05"
      ]
     },
     "execution_count": 15,
     "metadata": {},
     "output_type": "execute_result"
    }
   ],
   "source": [
    "pred = np.round(model_ga.predict(feature_ga))\n",
    "mean_absolute_error(target, pred) # 득점 MAE : 5.5"
   ]
  },
  {
   "cell_type": "code",
   "execution_count": 16,
   "metadata": {
    "ExecuteTime": {
     "end_time": "2022-05-25T05:42:53.488343Z",
     "start_time": "2022-05-25T05:42:53.485423Z"
    },
    "executionInfo": {
     "elapsed": 324,
     "status": "ok",
     "timestamp": 1628821364798,
     "user": {
      "displayName": "Doojin Park",
      "photoUrl": "",
      "userId": "13081019711214908217"
     },
     "user_tz": -540
    },
    "id": "38LbqyWgUY4g"
   },
   "outputs": [],
   "source": [
    "# 시각화"
   ]
  },
  {
   "cell_type": "code",
   "execution_count": 17,
   "metadata": {
    "ExecuteTime": {
     "end_time": "2022-05-25T05:42:53.755293Z",
     "start_time": "2022-05-25T05:42:53.684250Z"
    },
    "colab": {
     "base_uri": "https://localhost:8080/",
     "height": 265
    },
    "executionInfo": {
     "elapsed": 388,
     "status": "ok",
     "timestamp": 1628821705263,
     "user": {
      "displayName": "Doojin Park",
      "photoUrl": "",
      "userId": "13081019711214908217"
     },
     "user_tz": -540
    },
    "id": "Bu8CaV7HVrbv",
    "outputId": "b7f44199-8467-454f-d0c4-951d0f040364"
   },
   "outputs": [
    {
     "data": {
      "image/png": "[encoded data removed]",
      "text/plain": [
       "<Figure size 432x288 with 1 Axes>"
      ]
     },
     "metadata": {
      "image/png": {
       "height": 249,
       "width": 377
      },
      "needs_background": "light"
     },
     "output_type": "display_data"
    }
   ],
   "source": [
    "plt.scatter(feature_ga, target)\n",
    "plt.scatter(feature_ga, pred)\n",
    "plt.show()"
   ]
  },
  {
   "cell_type": "code",
   "execution_count": null,
   "metadata": {
    "executionInfo": {
     "elapsed": 344,
     "status": "ok",
     "timestamp": 1628821755722,
     "user": {
      "displayName": "Doojin Park",
      "photoUrl": "",
      "userId": "13081019711214908217"
     },
     "user_tz": -540
    },
    "id": "G1_Lk2wVV4C4"
   },
   "outputs": [],
   "source": [
    "# 회귀계수 확인"
   ]
  },
  {
   "cell_type": "code",
   "execution_count": 18,
   "metadata": {
    "ExecuteTime": {
     "end_time": "2022-05-25T05:43:19.967702Z",
     "start_time": "2022-05-25T05:43:19.963808Z"
    },
    "colab": {
     "base_uri": "https://localhost:8080/"
    },
    "executionInfo": {
     "elapsed": 309,
     "status": "ok",
     "timestamp": 1628821821439,
     "user": {
      "displayName": "Doojin Park",
      "photoUrl": "",
      "userId": "13081019711214908217"
     },
     "user_tz": -540
    },
    "id": "iHCFvMteV6uF",
    "outputId": "1579d6b7-7bda-4c7d-acb3-f3b8e3708029"
   },
   "outputs": [
    {
     "data": {
      "text/plain": [
       "(array([0.85195959]), 8.685257008786422)"
      ]
     },
     "execution_count": 18,
     "metadata": {},
     "output_type": "execute_result"
    }
   ],
   "source": [
    "model_gf.coef_, model_gf.intercept_"
   ]
  },
  {
   "cell_type": "code",
   "execution_count": 19,
   "metadata": {
    "ExecuteTime": {
     "end_time": "2022-05-25T05:43:20.235369Z",
     "start_time": "2022-05-25T05:43:20.231475Z"
    },
    "colab": {
     "base_uri": "https://localhost:8080/"
    },
    "executionInfo": {
     "elapsed": 570,
     "status": "ok",
     "timestamp": 1628821837227,
     "user": {
      "displayName": "Doojin Park",
      "photoUrl": "",
      "userId": "13081019711214908217"
     },
     "user_tz": -540
    },
    "id": "NKEkwHlNWLHC",
    "outputId": "2662d69b-d8ab-430f-f420-ad199784b7f9"
   },
   "outputs": [
    {
     "data": {
      "text/plain": [
       "(array([-1.33858081]), 120.18376328796805)"
      ]
     },
     "execution_count": 19,
     "metadata": {},
     "output_type": "execute_result"
    }
   ],
   "source": [
    "model_ga.coef_, model_ga.intercept_"
   ]
  },
  {
   "cell_type": "code",
   "execution_count": null,
   "metadata": {
    "id": "REC8q106UZzU"
   },
   "outputs": [],
   "source": [
    "# 다하신분은 두개의 모델성능이 왜 차이가 날까? 를 고민해보세요."
   ]
  },
  {
   "cell_type": "code",
   "execution_count": null,
   "metadata": {
    "executionInfo": {
     "elapsed": 336,
     "status": "ok",
     "timestamp": 1628821945345,
     "user": {
      "displayName": "Doojin Park",
      "photoUrl": "",
      "userId": "13081019711214908217"
     },
     "user_tz": -540
    },
    "id": "_N3trznwWeWy"
   },
   "outputs": [],
   "source": [
    "# 상관계수출력"
   ]
  },
  {
   "cell_type": "code",
   "execution_count": 20,
   "metadata": {
    "ExecuteTime": {
     "end_time": "2022-05-25T05:47:34.197914Z",
     "start_time": "2022-05-25T05:47:34.193048Z"
    },
    "executionInfo": {
     "elapsed": 634,
     "status": "ok",
     "timestamp": 1628822094518,
     "user": {
      "displayName": "Doojin Park",
      "photoUrl": "",
      "userId": "13081019711214908217"
     },
     "user_tz": -540
    },
    "id": "RXqCRi8zWnjE"
   },
   "outputs": [],
   "source": [
    "for column in [\"gf\", \"ga\", \"points\"]:\n",
    "    df[column] = df[column].astype(\"int\")"
   ]
  },
  {
   "cell_type": "code",
   "execution_count": 21,
   "metadata": {
    "ExecuteTime": {
     "end_time": "2022-05-25T05:47:34.632994Z",
     "start_time": "2022-05-25T05:47:34.628127Z"
    },
    "colab": {
     "base_uri": "https://localhost:8080/"
    },
    "executionInfo": {
     "elapsed": 397,
     "status": "ok",
     "timestamp": 1628822102995,
     "user": {
      "displayName": "Doojin Park",
      "photoUrl": "",
      "userId": "13081019711214908217"
     },
     "user_tz": -540
    },
    "id": "KiYSpqPhWqu4",
    "outputId": "9f8175ac-be2a-4c88-8e1d-d0bf879090dd"
   },
   "outputs": [
    {
     "data": {
      "text/plain": [
       "name      object\n",
       "gf         int32\n",
       "ga         int32\n",
       "points     int32\n",
       "dtype: object"
      ]
     },
     "execution_count": 21,
     "metadata": {},
     "output_type": "execute_result"
    }
   ],
   "source": [
    "df.dtypes"
   ]
  },
  {
   "cell_type": "code",
   "execution_count": 22,
   "metadata": {
    "ExecuteTime": {
     "end_time": "2022-05-25T05:47:34.824740Z",
     "start_time": "2022-05-25T05:47:34.815980Z"
    },
    "colab": {
     "base_uri": "https://localhost:8080/",
     "height": 142
    },
    "executionInfo": {
     "elapsed": 318,
     "status": "ok",
     "timestamp": 1628822195531,
     "user": {
      "displayName": "Doojin Park",
      "photoUrl": "",
      "userId": "13081019711214908217"
     },
     "user_tz": -540
    },
    "id": "nPfHsiSgW-vr",
    "outputId": "7898d2a4-086e-4254-d318-0b31138215e7"
   },
   "outputs": [
    {
     "data": {
      "text/html": [
       "<div>\n",
       "<style scoped>\n",
       "    .dataframe tbody tr th:only-of-type {\n",
       "        vertical-align: middle;\n",
       "    }\n",
       "\n",
       "    .dataframe tbody tr th {\n",
       "        vertical-align: top;\n",
       "    }\n",
       "\n",
       "    .dataframe thead th {\n",
       "        text-align: right;\n",
       "    }\n",
       "</style>\n",
       "<table border=\"1\" class=\"dataframe\">\n",
       "  <thead>\n",
       "    <tr style=\"text-align: right;\">\n",
       "      <th></th>\n",
       "      <th>gf</th>\n",
       "      <th>ga</th>\n",
       "      <th>points</th>\n",
       "    </tr>\n",
       "  </thead>\n",
       "  <tbody>\n",
       "    <tr>\n",
       "      <th>gf</th>\n",
       "      <td>1.00</td>\n",
       "      <td>0.47</td>\n",
       "      <td>0.87</td>\n",
       "    </tr>\n",
       "    <tr>\n",
       "      <th>ga</th>\n",
       "      <td>0.47</td>\n",
       "      <td>1.00</td>\n",
       "      <td>0.76</td>\n",
       "    </tr>\n",
       "    <tr>\n",
       "      <th>points</th>\n",
       "      <td>0.87</td>\n",
       "      <td>0.76</td>\n",
       "      <td>1.00</td>\n",
       "    </tr>\n",
       "  </tbody>\n",
       "</table>\n",
       "</div>"
      ],
      "text/plain": [
       "          gf    ga  points\n",
       "gf      1.00  0.47    0.87\n",
       "ga      0.47  1.00    0.76\n",
       "points  0.87  0.76    1.00"
      ]
     },
     "execution_count": 22,
     "metadata": {},
     "output_type": "execute_result"
    }
   ],
   "source": [
    "# 결정계수 : R-squared\n",
    "np.round(df[[\"gf\", \"ga\", \"points\"]].corr() ** 2, 2)"
   ]
  },
  {
   "cell_type": "code",
   "execution_count": null,
   "metadata": {},
   "outputs": [],
   "source": [
    "#두개 feature 합치기"
   ]
  },
  {
   "cell_type": "code",
   "execution_count": 6,
   "metadata": {
    "ExecuteTime": {
     "end_time": "2022-05-25T06:11:55.837250Z",
     "start_time": "2022-05-25T06:11:55.834331Z"
    }
   },
   "outputs": [],
   "source": [
    "model_combined = LinearRegression()"
   ]
  },
  {
   "cell_type": "code",
   "execution_count": 7,
   "metadata": {
    "ExecuteTime": {
     "end_time": "2022-05-25T06:12:06.327859Z",
     "start_time": "2022-05-25T06:12:06.321046Z"
    }
   },
   "outputs": [
    {
     "name": "stdout",
     "output_type": "stream",
     "text": [
      "     gf  ga\n",
      "0   106  27\n",
      "1    68  28\n",
      "2    74  36\n",
      "3    84  38\n",
      "4    62  38\n",
      "5    74  51\n",
      "6    36  39\n",
      "7    44  58\n",
      "8    56  60\n",
      "9    39  47\n",
      "10   45  55\n",
      "11   45  61\n",
      "12   48  68\n",
      "13   44  64\n",
      "14   34  54\n",
      "15   28  58\n",
      "16   37  56\n",
      "17   28  56\n",
      "18   35  68\n",
      "19   31  56\n"
     ]
    }
   ],
   "source": [
    "feature_gf = df[[\"gf\"]]\n",
    "feature_ga = df[[\"ga\"]]\n",
    "target = df[\"points\"]\n",
    "\n",
    "features= pd.concat([feature_gf, feature_ga], axis=1)\n",
    "print(features)"
   ]
  },
  {
   "cell_type": "code",
   "execution_count": 9,
   "metadata": {
    "ExecuteTime": {
     "end_time": "2022-05-25T06:12:56.213499Z",
     "start_time": "2022-05-25T06:12:56.204739Z"
    }
   },
   "outputs": [
    {
     "data": {
      "text/plain": [
       "LinearRegression()"
      ]
     },
     "execution_count": 9,
     "metadata": {},
     "output_type": "execute_result"
    }
   ],
   "source": [
    "model_combined.fit(features, target)"
   ]
  },
  {
   "cell_type": "code",
   "execution_count": 10,
   "metadata": {
    "ExecuteTime": {
     "end_time": "2022-05-25T06:12:58.049203Z",
     "start_time": "2022-05-25T06:12:58.044336Z"
    }
   },
   "outputs": [
    {
     "data": {
      "text/plain": [
       "2.9"
      ]
     },
     "execution_count": 10,
     "metadata": {},
     "output_type": "execute_result"
    }
   ],
   "source": [
    "pred = np.round(model_combined.predict(features))\n",
    "mean_absolute_error(target, pred) # 득점 MAE : 5.5"
   ]
  }
 ],
 "metadata": {
  "colab": {
   "authorship_tag": "ABX9TyNpYi6iGcO9hh+toR20ei58",
   "collapsed_sections": [],
   "name": "02_linear_regression_example_1.ipynb",
   "provenance": []
  },
  "kernelspec": {
   "display_name": "Python 3 (ipykernel)",
   "language": "python",
   "name": "python3"
  },
  "language_info": {
   "codemirror_mode": {
    "name": "ipython",
    "version": 3
   },
   "file_extension": ".py",
   "mimetype": "text/x-python",
   "name": "python",
   "nbconvert_exporter": "python",
   "pygments_lexer": "ipython3",
   "version": "3.8.13"
  },
  "toc": {
   "base_numbering": 1,
   "nav_menu": {},
   "number_sections": false,
   "sideBar": true,
   "skip_h1_title": false,
   "title_cell": "Table of Contents",
   "title_sidebar": "Contents",
   "toc_cell": false,
   "toc_position": {},
   "toc_section_display": true,
   "toc_window_display": false
  },
  "varInspector": {
   "cols": {
    "lenName": 16,
    "lenType": 16,
    "lenVar": 40
   },
   "kernels_config": {
    "python": {
     "delete_cmd_postfix": "",
     "delete_cmd_prefix": "del ",
     "library": "var_list.py",
     "varRefreshCmd": "print(var_dic_list())"
    },
    "r": {
     "delete_cmd_postfix": ") ",
     "delete_cmd_prefix": "rm(",
     "library": "var_list.r",
     "varRefreshCmd": "cat(var_dic_list()) "
    }
   },
   "types_to_exclude": [
    "module",
    "function",
    "builtin_function_or_method",
    "instance",
    "_Feature"
   ],
   "window_display": false
  }
 },
 "nbformat": 4,
 "nbformat_minor": 1
}
