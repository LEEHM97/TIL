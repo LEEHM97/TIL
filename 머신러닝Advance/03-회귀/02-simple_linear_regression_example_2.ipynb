{
 "cells": [
  {
   "cell_type": "code",
   "execution_count": null,
   "metadata": {
    "executionInfo": {
     "elapsed": 419,
     "status": "ok",
     "timestamp": 1637647940390,
     "user": {
      "displayName": "Doojin Park",
      "photoUrl": "https://lh3.googleusercontent.com/a/default-user=s64",
      "userId": "13081019711214908217"
     },
     "user_tz": -540
    },
    "id": "UNxKpUfnaMpR"
   },
   "outputs": [],
   "source": [
    "# 광고 데이터에서 Sales를 가장 잘 예측하는 feature를 확인"
   ]
  },
  {
   "cell_type": "code",
   "execution_count": 1,
   "metadata": {
    "ExecuteTime": {
     "end_time": "2022-05-25T06:01:34.986145Z",
     "start_time": "2022-05-25T06:01:34.797636Z"
    },
    "executionInfo": {
     "elapsed": 513,
     "status": "ok",
     "timestamp": 1637648083568,
     "user": {
      "displayName": "Doojin Park",
      "photoUrl": "https://lh3.googleusercontent.com/a/default-user=s64",
      "userId": "13081019711214908217"
     },
     "user_tz": -540
    },
    "id": "Mmjo-do_boHO"
   },
   "outputs": [],
   "source": [
    "import numpy as np\n",
    "import pandas as pd"
   ]
  },
  {
   "cell_type": "code",
   "execution_count": 2,
   "metadata": {
    "ExecuteTime": {
     "end_time": "2022-05-25T06:01:35.630315Z",
     "start_time": "2022-05-25T06:01:35.623502Z"
    },
    "executionInfo": {
     "elapsed": 412,
     "status": "ok",
     "timestamp": 1637648204504,
     "user": {
      "displayName": "Doojin Park",
      "photoUrl": "https://lh3.googleusercontent.com/a/default-user=s64",
      "userId": "13081019711214908217"
     },
     "user_tz": -540
    },
    "id": "uGjN96SEbHd2"
   },
   "outputs": [],
   "source": [
    "# 1. 데이터 로드\n",
    "df = pd.read_csv(\"./data/advertising.csv\")"
   ]
  },
  {
   "cell_type": "code",
   "execution_count": 7,
   "metadata": {
    "ExecuteTime": {
     "end_time": "2022-05-25T06:02:02.283912Z",
     "start_time": "2022-05-25T06:02:02.272231Z"
    }
   },
   "outputs": [
    {
     "data": {
      "text/html": [
       "<div>\n",
       "<style scoped>\n",
       "    .dataframe tbody tr th:only-of-type {\n",
       "        vertical-align: middle;\n",
       "    }\n",
       "\n",
       "    .dataframe tbody tr th {\n",
       "        vertical-align: top;\n",
       "    }\n",
       "\n",
       "    .dataframe thead th {\n",
       "        text-align: right;\n",
       "    }\n",
       "</style>\n",
       "<table border=\"1\" class=\"dataframe\">\n",
       "  <thead>\n",
       "    <tr style=\"text-align: right;\">\n",
       "      <th></th>\n",
       "      <th>TV</th>\n",
       "      <th>radio</th>\n",
       "      <th>newspaper</th>\n",
       "      <th>sales</th>\n",
       "    </tr>\n",
       "  </thead>\n",
       "  <tbody>\n",
       "    <tr>\n",
       "      <th>0</th>\n",
       "      <td>230.1</td>\n",
       "      <td>37.8</td>\n",
       "      <td>69.2</td>\n",
       "      <td>22.1</td>\n",
       "    </tr>\n",
       "    <tr>\n",
       "      <th>1</th>\n",
       "      <td>44.5</td>\n",
       "      <td>39.3</td>\n",
       "      <td>45.1</td>\n",
       "      <td>10.4</td>\n",
       "    </tr>\n",
       "    <tr>\n",
       "      <th>2</th>\n",
       "      <td>17.2</td>\n",
       "      <td>45.9</td>\n",
       "      <td>69.3</td>\n",
       "      <td>9.3</td>\n",
       "    </tr>\n",
       "    <tr>\n",
       "      <th>3</th>\n",
       "      <td>151.5</td>\n",
       "      <td>41.3</td>\n",
       "      <td>58.5</td>\n",
       "      <td>18.5</td>\n",
       "    </tr>\n",
       "    <tr>\n",
       "      <th>4</th>\n",
       "      <td>180.8</td>\n",
       "      <td>10.8</td>\n",
       "      <td>58.4</td>\n",
       "      <td>12.9</td>\n",
       "    </tr>\n",
       "    <tr>\n",
       "      <th>...</th>\n",
       "      <td>...</td>\n",
       "      <td>...</td>\n",
       "      <td>...</td>\n",
       "      <td>...</td>\n",
       "    </tr>\n",
       "    <tr>\n",
       "      <th>195</th>\n",
       "      <td>38.2</td>\n",
       "      <td>3.7</td>\n",
       "      <td>13.8</td>\n",
       "      <td>7.6</td>\n",
       "    </tr>\n",
       "    <tr>\n",
       "      <th>196</th>\n",
       "      <td>94.2</td>\n",
       "      <td>4.9</td>\n",
       "      <td>8.1</td>\n",
       "      <td>9.7</td>\n",
       "    </tr>\n",
       "    <tr>\n",
       "      <th>197</th>\n",
       "      <td>177.0</td>\n",
       "      <td>9.3</td>\n",
       "      <td>6.4</td>\n",
       "      <td>12.8</td>\n",
       "    </tr>\n",
       "    <tr>\n",
       "      <th>198</th>\n",
       "      <td>283.6</td>\n",
       "      <td>42.0</td>\n",
       "      <td>66.2</td>\n",
       "      <td>25.5</td>\n",
       "    </tr>\n",
       "    <tr>\n",
       "      <th>199</th>\n",
       "      <td>232.1</td>\n",
       "      <td>8.6</td>\n",
       "      <td>8.7</td>\n",
       "      <td>13.4</td>\n",
       "    </tr>\n",
       "  </tbody>\n",
       "</table>\n",
       "<p>200 rows × 4 columns</p>\n",
       "</div>"
      ],
      "text/plain": [
       "        TV  radio  newspaper  sales\n",
       "0    230.1   37.8       69.2   22.1\n",
       "1     44.5   39.3       45.1   10.4\n",
       "2     17.2   45.9       69.3    9.3\n",
       "3    151.5   41.3       58.5   18.5\n",
       "4    180.8   10.8       58.4   12.9\n",
       "..     ...    ...        ...    ...\n",
       "195   38.2    3.7       13.8    7.6\n",
       "196   94.2    4.9        8.1    9.7\n",
       "197  177.0    9.3        6.4   12.8\n",
       "198  283.6   42.0       66.2   25.5\n",
       "199  232.1    8.6        8.7   13.4\n",
       "\n",
       "[200 rows x 4 columns]"
      ]
     },
     "execution_count": 7,
     "metadata": {},
     "output_type": "execute_result"
    }
   ],
   "source": [
    "df"
   ]
  },
  {
   "cell_type": "code",
   "execution_count": 3,
   "metadata": {
    "ExecuteTime": {
     "end_time": "2022-05-25T06:01:39.118538Z",
     "start_time": "2022-05-25T06:01:39.114644Z"
    },
    "executionInfo": {
     "elapsed": 516,
     "status": "ok",
     "timestamp": 1637648413815,
     "user": {
      "displayName": "Doojin Park",
      "photoUrl": "https://lh3.googleusercontent.com/a/default-user=s64",
      "userId": "13081019711214908217"
     },
     "user_tz": -540
    },
    "id": "stgx8xdgbKUH"
   },
   "outputs": [],
   "source": [
    "# 2. 데이터 전처리 : feature, target\n",
    "features = df.iloc[:, :-1]\n",
    "target = df.iloc[:, -1]"
   ]
  },
  {
   "cell_type": "code",
   "execution_count": null,
   "metadata": {
    "executionInfo": {
     "elapsed": 411,
     "status": "ok",
     "timestamp": 1637648654659,
     "user": {
      "displayName": "Doojin Park",
      "photoUrl": "https://lh3.googleusercontent.com/a/default-user=s64",
      "userId": "13081019711214908217"
     },
     "user_tz": -540
    },
    "id": "_H09LCanbNGJ"
   },
   "outputs": [],
   "source": [
    "# 3. 모델 학습"
   ]
  },
  {
   "cell_type": "code",
   "execution_count": 4,
   "metadata": {
    "ExecuteTime": {
     "end_time": "2022-05-25T06:01:41.219745Z",
     "start_time": "2022-05-25T06:01:40.832358Z"
    },
    "executionInfo": {
     "elapsed": 426,
     "status": "ok",
     "timestamp": 1637648672188,
     "user": {
      "displayName": "Doojin Park",
      "photoUrl": "https://lh3.googleusercontent.com/a/default-user=s64",
      "userId": "13081019711214908217"
     },
     "user_tz": -540
    },
    "id": "Dxc_ntIwd2Gi"
   },
   "outputs": [],
   "source": [
    "from sklearn.linear_model import LinearRegression"
   ]
  },
  {
   "cell_type": "code",
   "execution_count": 5,
   "metadata": {
    "ExecuteTime": {
     "end_time": "2022-05-25T06:01:42.687530Z",
     "start_time": "2022-05-25T06:01:42.676823Z"
    },
    "executionInfo": {
     "elapsed": 411,
     "status": "ok",
     "timestamp": 1637648763719,
     "user": {
      "displayName": "Doojin Park",
      "photoUrl": "https://lh3.googleusercontent.com/a/default-user=s64",
      "userId": "13081019711214908217"
     },
     "user_tz": -540
    },
    "id": "-7Ra8coyd6cC"
   },
   "outputs": [],
   "source": [
    "model_1 = LinearRegression().fit(features[[\"TV\"]], target)\n",
    "model_2 = LinearRegression().fit(features[[\"radio\"]], target)\n",
    "model_3 = LinearRegression().fit(features[[\"newspaper\"]], target)"
   ]
  },
  {
   "cell_type": "code",
   "execution_count": 6,
   "metadata": {
    "ExecuteTime": {
     "end_time": "2022-05-25T06:01:44.222341Z",
     "start_time": "2022-05-25T06:01:44.214555Z"
    },
    "executionInfo": {
     "elapsed": 3,
     "status": "ok",
     "timestamp": 1637648882610,
     "user": {
      "displayName": "Doojin Park",
      "photoUrl": "https://lh3.googleusercontent.com/a/default-user=s64",
      "userId": "13081019711214908217"
     },
     "user_tz": -540
    },
    "id": "DVxQoHH2eVRE"
   },
   "outputs": [],
   "source": [
    "models = {}\n",
    "for column in features.columns:\n",
    "    models[column] = LinearRegression().fit(features[[column]], target)"
   ]
  },
  {
   "cell_type": "code",
   "execution_count": 20,
   "metadata": {
    "ExecuteTime": {
     "end_time": "2022-05-25T06:19:25.256657Z",
     "start_time": "2022-05-25T06:19:25.252764Z"
    }
   },
   "outputs": [
    {
     "data": {
      "text/plain": [
       "{'TV': LinearRegression(),\n",
       " 'radio': LinearRegression(),\n",
       " 'newspaper': LinearRegression()}"
      ]
     },
     "execution_count": 20,
     "metadata": {},
     "output_type": "execute_result"
    }
   ],
   "source": [
    "models"
   ]
  },
  {
   "cell_type": "code",
   "execution_count": 8,
   "metadata": {
    "ExecuteTime": {
     "end_time": "2022-05-25T06:02:21.647292Z",
     "start_time": "2022-05-25T06:02:21.643400Z"
    },
    "colab": {
     "base_uri": "https://localhost:8080/"
    },
    "executionInfo": {
     "elapsed": 410,
     "status": "ok",
     "timestamp": 1637649120077,
     "user": {
      "displayName": "Doojin Park",
      "photoUrl": "https://lh3.googleusercontent.com/a/default-user=s64",
      "userId": "13081019711214908217"
     },
     "user_tz": -540
    },
    "id": "y5hXt_02euij",
    "outputId": "8aa41d4c-6572-4a64-8083-8181fbf540a3"
   },
   "outputs": [
    {
     "data": {
      "text/plain": [
       "[1, 9, 25, 49, 81]"
      ]
     },
     "execution_count": 8,
     "metadata": {},
     "output_type": "execute_result"
    }
   ],
   "source": [
    "# list comprehension\n",
    "datas = [data ** 2 for data in range(10) if data % 2]\n",
    "datas"
   ]
  },
  {
   "cell_type": "code",
   "execution_count": 9,
   "metadata": {
    "ExecuteTime": {
     "end_time": "2022-05-25T06:02:28.059351Z",
     "start_time": "2022-05-25T06:02:28.049619Z"
    },
    "executionInfo": {
     "elapsed": 515,
     "status": "ok",
     "timestamp": 1637649172405,
     "user": {
      "displayName": "Doojin Park",
      "photoUrl": "https://lh3.googleusercontent.com/a/default-user=s64",
      "userId": "13081019711214908217"
     },
     "user_tz": -540
    },
    "id": "r6WSSKq2fn2m"
   },
   "outputs": [],
   "source": [
    "# dict comprehention\n",
    "models = {\n",
    "    column: LinearRegression().fit(features[[column]], target) \n",
    "    for column in features.columns\n",
    "}"
   ]
  },
  {
   "cell_type": "code",
   "execution_count": null,
   "metadata": {
    "executionInfo": {
     "elapsed": 402,
     "status": "ok",
     "timestamp": 1637649830794,
     "user": {
      "displayName": "Doojin Park",
      "photoUrl": "https://lh3.googleusercontent.com/a/default-user=s64",
      "userId": "13081019711214908217"
     },
     "user_tz": -540
    },
    "id": "eoyN2ifYbQqV"
   },
   "outputs": [],
   "source": [
    "# 4. 모델 성능 평가 : MAE"
   ]
  },
  {
   "cell_type": "code",
   "execution_count": 10,
   "metadata": {
    "ExecuteTime": {
     "end_time": "2022-05-25T06:02:29.611965Z",
     "start_time": "2022-05-25T06:02:29.609045Z"
    },
    "executionInfo": {
     "elapsed": 406,
     "status": "ok",
     "timestamp": 1637649850057,
     "user": {
      "displayName": "Doojin Park",
      "photoUrl": "https://lh3.googleusercontent.com/a/default-user=s64",
      "userId": "13081019711214908217"
     },
     "user_tz": -540
    },
    "id": "-L_OZ6uNiVTG"
   },
   "outputs": [],
   "source": [
    "from sklearn.metrics import mean_absolute_error"
   ]
  },
  {
   "cell_type": "code",
   "execution_count": 11,
   "metadata": {
    "ExecuteTime": {
     "end_time": "2022-05-25T06:02:30.696296Z",
     "start_time": "2022-05-25T06:02:30.689483Z"
    },
    "colab": {
     "base_uri": "https://localhost:8080/"
    },
    "executionInfo": {
     "elapsed": 400,
     "status": "ok",
     "timestamp": 1637650096771,
     "user": {
      "displayName": "Doojin Park",
      "photoUrl": "https://lh3.googleusercontent.com/a/default-user=s64",
      "userId": "13081019711214908217"
     },
     "user_tz": -540
    },
    "id": "4s5El1SViaLz",
    "outputId": "d054b736-3e59-4941-ae76-508d13ee27c2"
   },
   "outputs": [
    {
     "name": "stdout",
     "output_type": "stream",
     "text": [
      "TV 2.55\n",
      "radio 3.32\n",
      "newspaper 4.15\n"
     ]
    }
   ],
   "source": [
    "for column in features.columns:\n",
    "    pred = models[column].predict(features[[column]])\n",
    "    mae = mean_absolute_error(pred, target) \n",
    "    print(column, np.round(mae, 2))"
   ]
  },
  {
   "cell_type": "code",
   "execution_count": null,
   "metadata": {
    "executionInfo": {
     "elapsed": 420,
     "status": "ok",
     "timestamp": 1637648037062,
     "user": {
      "displayName": "Doojin Park",
      "photoUrl": "https://lh3.googleusercontent.com/a/default-user=s64",
      "userId": "13081019711214908217"
     },
     "user_tz": -540
    },
    "id": "fULceVRXbYS3"
   },
   "outputs": [],
   "source": [
    "# 5. 각 feature의 결정 계수 출력, 모델의 성능과 비교"
   ]
  },
  {
   "cell_type": "code",
   "execution_count": 12,
   "metadata": {
    "ExecuteTime": {
     "end_time": "2022-05-25T06:02:34.840374Z",
     "start_time": "2022-05-25T06:02:34.833560Z"
    },
    "colab": {
     "base_uri": "https://localhost:8080/",
     "height": 175
    },
    "executionInfo": {
     "elapsed": 421,
     "status": "ok",
     "timestamp": 1637650186188,
     "user": {
      "displayName": "Doojin Park",
      "photoUrl": "https://lh3.googleusercontent.com/a/default-user=s64",
      "userId": "13081019711214908217"
     },
     "user_tz": -540
    },
    "id": "5ImFGef-bfEP",
    "outputId": "a4be4f30-c173-485f-f392-4d7d15d1b546"
   },
   "outputs": [
    {
     "data": {
      "text/html": [
       "<div>\n",
       "<style scoped>\n",
       "    .dataframe tbody tr th:only-of-type {\n",
       "        vertical-align: middle;\n",
       "    }\n",
       "\n",
       "    .dataframe tbody tr th {\n",
       "        vertical-align: top;\n",
       "    }\n",
       "\n",
       "    .dataframe thead th {\n",
       "        text-align: right;\n",
       "    }\n",
       "</style>\n",
       "<table border=\"1\" class=\"dataframe\">\n",
       "  <thead>\n",
       "    <tr style=\"text-align: right;\">\n",
       "      <th></th>\n",
       "      <th>TV</th>\n",
       "      <th>radio</th>\n",
       "      <th>newspaper</th>\n",
       "      <th>sales</th>\n",
       "    </tr>\n",
       "  </thead>\n",
       "  <tbody>\n",
       "    <tr>\n",
       "      <th>TV</th>\n",
       "      <td>1.000000</td>\n",
       "      <td>0.003004</td>\n",
       "      <td>0.003209</td>\n",
       "      <td>0.611875</td>\n",
       "    </tr>\n",
       "    <tr>\n",
       "      <th>radio</th>\n",
       "      <td>0.003004</td>\n",
       "      <td>1.000000</td>\n",
       "      <td>0.125389</td>\n",
       "      <td>0.332032</td>\n",
       "    </tr>\n",
       "    <tr>\n",
       "      <th>newspaper</th>\n",
       "      <td>0.003209</td>\n",
       "      <td>0.125389</td>\n",
       "      <td>1.000000</td>\n",
       "      <td>0.052120</td>\n",
       "    </tr>\n",
       "    <tr>\n",
       "      <th>sales</th>\n",
       "      <td>0.611875</td>\n",
       "      <td>0.332032</td>\n",
       "      <td>0.052120</td>\n",
       "      <td>1.000000</td>\n",
       "    </tr>\n",
       "  </tbody>\n",
       "</table>\n",
       "</div>"
      ],
      "text/plain": [
       "                 TV     radio  newspaper     sales\n",
       "TV         1.000000  0.003004   0.003209  0.611875\n",
       "radio      0.003004  1.000000   0.125389  0.332032\n",
       "newspaper  0.003209  0.125389   1.000000  0.052120\n",
       "sales      0.611875  0.332032   0.052120  1.000000"
      ]
     },
     "execution_count": 12,
     "metadata": {},
     "output_type": "execute_result"
    }
   ],
   "source": [
    "df.corr() ** 2"
   ]
  },
  {
   "cell_type": "code",
   "execution_count": null,
   "metadata": {},
   "outputs": [],
   "source": [
    "# 세개의 feature합치기"
   ]
  },
  {
   "cell_type": "code",
   "execution_count": 17,
   "metadata": {
    "ExecuteTime": {
     "end_time": "2022-05-25T06:09:35.611508Z",
     "start_time": "2022-05-25T06:09:35.602748Z"
    }
   },
   "outputs": [
    {
     "data": {
      "text/html": [
       "<div>\n",
       "<style scoped>\n",
       "    .dataframe tbody tr th:only-of-type {\n",
       "        vertical-align: middle;\n",
       "    }\n",
       "\n",
       "    .dataframe tbody tr th {\n",
       "        vertical-align: top;\n",
       "    }\n",
       "\n",
       "    .dataframe thead th {\n",
       "        text-align: right;\n",
       "    }\n",
       "</style>\n",
       "<table border=\"1\" class=\"dataframe\">\n",
       "  <thead>\n",
       "    <tr style=\"text-align: right;\">\n",
       "      <th></th>\n",
       "      <th>TV</th>\n",
       "      <th>radio</th>\n",
       "      <th>newspaper</th>\n",
       "    </tr>\n",
       "  </thead>\n",
       "  <tbody>\n",
       "    <tr>\n",
       "      <th>0</th>\n",
       "      <td>230.1</td>\n",
       "      <td>37.8</td>\n",
       "      <td>69.2</td>\n",
       "    </tr>\n",
       "    <tr>\n",
       "      <th>1</th>\n",
       "      <td>44.5</td>\n",
       "      <td>39.3</td>\n",
       "      <td>45.1</td>\n",
       "    </tr>\n",
       "    <tr>\n",
       "      <th>2</th>\n",
       "      <td>17.2</td>\n",
       "      <td>45.9</td>\n",
       "      <td>69.3</td>\n",
       "    </tr>\n",
       "    <tr>\n",
       "      <th>3</th>\n",
       "      <td>151.5</td>\n",
       "      <td>41.3</td>\n",
       "      <td>58.5</td>\n",
       "    </tr>\n",
       "    <tr>\n",
       "      <th>4</th>\n",
       "      <td>180.8</td>\n",
       "      <td>10.8</td>\n",
       "      <td>58.4</td>\n",
       "    </tr>\n",
       "    <tr>\n",
       "      <th>...</th>\n",
       "      <td>...</td>\n",
       "      <td>...</td>\n",
       "      <td>...</td>\n",
       "    </tr>\n",
       "    <tr>\n",
       "      <th>195</th>\n",
       "      <td>38.2</td>\n",
       "      <td>3.7</td>\n",
       "      <td>13.8</td>\n",
       "    </tr>\n",
       "    <tr>\n",
       "      <th>196</th>\n",
       "      <td>94.2</td>\n",
       "      <td>4.9</td>\n",
       "      <td>8.1</td>\n",
       "    </tr>\n",
       "    <tr>\n",
       "      <th>197</th>\n",
       "      <td>177.0</td>\n",
       "      <td>9.3</td>\n",
       "      <td>6.4</td>\n",
       "    </tr>\n",
       "    <tr>\n",
       "      <th>198</th>\n",
       "      <td>283.6</td>\n",
       "      <td>42.0</td>\n",
       "      <td>66.2</td>\n",
       "    </tr>\n",
       "    <tr>\n",
       "      <th>199</th>\n",
       "      <td>232.1</td>\n",
       "      <td>8.6</td>\n",
       "      <td>8.7</td>\n",
       "    </tr>\n",
       "  </tbody>\n",
       "</table>\n",
       "<p>200 rows × 3 columns</p>\n",
       "</div>"
      ],
      "text/plain": [
       "        TV  radio  newspaper\n",
       "0    230.1   37.8       69.2\n",
       "1     44.5   39.3       45.1\n",
       "2     17.2   45.9       69.3\n",
       "3    151.5   41.3       58.5\n",
       "4    180.8   10.8       58.4\n",
       "..     ...    ...        ...\n",
       "195   38.2    3.7       13.8\n",
       "196   94.2    4.9        8.1\n",
       "197  177.0    9.3        6.4\n",
       "198  283.6   42.0       66.2\n",
       "199  232.1    8.6        8.7\n",
       "\n",
       "[200 rows x 3 columns]"
      ]
     },
     "execution_count": 17,
     "metadata": {},
     "output_type": "execute_result"
    }
   ],
   "source": [
    "feature_tv = df[[\"TV\"]]\n",
    "feature_radio = df[[\"radio\"]]\n",
    "feature_newspaper = df[[\"newspaper\"]]\n",
    "target = df[\"sales\"]\n",
    "\n",
    "features = pd.concat([feature_tv, feature_radio, feature_newspaper], axis=1)\n",
    "features"
   ]
  },
  {
   "cell_type": "code",
   "execution_count": 18,
   "metadata": {
    "ExecuteTime": {
     "end_time": "2022-05-25T06:10:32.093850Z",
     "start_time": "2022-05-25T06:10:32.086063Z"
    }
   },
   "outputs": [
    {
     "data": {
      "text/plain": [
       "LinearRegression()"
      ]
     },
     "execution_count": 18,
     "metadata": {},
     "output_type": "execute_result"
    }
   ],
   "source": [
    "model= LinearRegression()\n",
    "model.fit(features, target)"
   ]
  },
  {
   "cell_type": "code",
   "execution_count": 19,
   "metadata": {
    "ExecuteTime": {
     "end_time": "2022-05-25T06:10:54.320923Z",
     "start_time": "2022-05-25T06:10:54.316057Z"
    }
   },
   "outputs": [
    {
     "data": {
      "text/plain": [
       "1.3014999999999999"
      ]
     },
     "execution_count": 19,
     "metadata": {},
     "output_type": "execute_result"
    }
   ],
   "source": [
    "pred = np.round(model.predict(features))\n",
    "mean_absolute_error(target, pred)"
   ]
  },
  {
   "cell_type": "code",
   "execution_count": 21,
   "metadata": {
    "ExecuteTime": {
     "end_time": "2022-05-25T06:23:24.367824Z",
     "start_time": "2022-05-25T06:23:24.364904Z"
    }
   },
   "outputs": [],
   "source": [
    "# mean square error"
   ]
  },
  {
   "cell_type": "code",
   "execution_count": 22,
   "metadata": {
    "ExecuteTime": {
     "end_time": "2022-05-25T06:25:33.359064Z",
     "start_time": "2022-05-25T06:25:33.344111Z"
    }
   },
   "outputs": [
    {
     "data": {
      "text/plain": [
       "2.89125"
      ]
     },
     "execution_count": 22,
     "metadata": {},
     "output_type": "execute_result"
    }
   ],
   "source": [
    "from sklearn.metrics import mean_squared_error\n",
    "mean_squared_error(y_pred=pred, y_true = target)"
   ]
  }
 ],
 "metadata": {
  "colab": {
   "authorship_tag": "ABX9TyMd9IaDxoYoRWKpBh3hlIk1",
   "collapsed_sections": [],
   "name": "03_simple_linear_regression_exam_2.ipynb",
   "provenance": []
  },
  "kernelspec": {
   "display_name": "Python 3 (ipykernel)",
   "language": "python",
   "name": "python3"
  },
  "language_info": {
   "codemirror_mode": {
    "name": "ipython",
    "version": 3
   },
   "file_extension": ".py",
   "mimetype": "text/x-python",
   "name": "python",
   "nbconvert_exporter": "python",
   "pygments_lexer": "ipython3",
   "version": "3.8.13"
  },
  "toc": {
   "base_numbering": 1,
   "nav_menu": {},
   "number_sections": false,
   "sideBar": true,
   "skip_h1_title": false,
   "title_cell": "Table of Contents",
   "title_sidebar": "Contents",
   "toc_cell": false,
   "toc_position": {},
   "toc_section_display": true,
   "toc_window_display": false
  },
  "varInspector": {
   "cols": {
    "lenName": 16,
    "lenType": 16,
    "lenVar": 40
   },
   "kernels_config": {
    "python": {
     "delete_cmd_postfix": "",
     "delete_cmd_prefix": "del ",
     "library": "var_list.py",
     "varRefreshCmd": "print(var_dic_list())"
    },
    "r": {
     "delete_cmd_postfix": ") ",
     "delete_cmd_prefix": "rm(",
     "library": "var_list.r",
     "varRefreshCmd": "cat(var_dic_list()) "
    }
   },
   "types_to_exclude": [
    "module",
    "function",
    "builtin_function_or_method",
    "instance",
    "_Feature"
   ],
   "window_display": false
  }
 },
 "nbformat": 4,
 "nbformat_minor": 1
}
