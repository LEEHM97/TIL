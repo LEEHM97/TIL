{
 "cells": [
  {
   "cell_type": "markdown",
   "metadata": {
    "id": "KuEJDYWSxibF"
   },
   "source": [
    "# 회귀분석 : Regression Analysis"
   ]
  },
  {
   "cell_type": "markdown",
   "metadata": {
    "id": "rMDBlasDxibH"
   },
   "source": [
    "## 1. 회귀분석이란?\n",
    "- 회귀분석의 목적\n",
    "    - 독립변수로 종속변수를 예측하는것\n",
    "    - 종속변수는 수치형 데이터\n",
    "- 회귀분석의 종류\n",
    "    - 단순회귀 : simple regression\n",
    "        - 독립변수 1개, 종속변수 1개, 1차원 수식\n",
    "    - 다중회귀 : multiple regression\n",
    "        - 독립변수 2개 이상, 종속변수 1개, 1차원 수식\n",
    "    - 다항회귀 : polynomial regression\n",
    "        - 독립변수 1개 이상, 종속변수 1개, 2차원 이상의 수식"
   ]
  },
  {
   "cell_type": "code",
   "execution_count": 1,
   "metadata": {
    "ExecuteTime": {
     "end_time": "2022-05-25T04:47:15.872793Z",
     "start_time": "2022-05-25T04:47:15.865007Z"
    },
    "id": "aQ0XaBi1xibI"
   },
   "outputs": [],
   "source": [
    "%config InlineBackend.figure_formats = {'png', 'retina'}"
   ]
  },
  {
   "cell_type": "code",
   "execution_count": 2,
   "metadata": {
    "ExecuteTime": {
     "end_time": "2022-05-25T04:47:18.159071Z",
     "start_time": "2022-05-25T04:47:16.599762Z"
    },
    "id": "c97DVtfdxibJ"
   },
   "outputs": [],
   "source": [
    "import pandas as pd \n",
    "import numpy as np\n",
    "import matplotlib as mpl\n",
    "import matplotlib.pyplot as plt"
   ]
  },
  {
   "cell_type": "markdown",
   "metadata": {
    "id": "vmSNGE-TxibJ"
   },
   "source": [
    "## 2. 회귀분석의 수식"
   ]
  },
  {
   "cell_type": "markdown",
   "metadata": {
    "id": "G8EnxAPexibJ"
   },
   "source": [
    "### 2.1 샘플 데이터 생성"
   ]
  },
  {
   "cell_type": "code",
   "execution_count": 3,
   "metadata": {
    "ExecuteTime": {
     "end_time": "2022-05-25T04:47:22.214606Z",
     "start_time": "2022-05-25T04:47:22.175673Z"
    },
    "colab": {
     "base_uri": "https://localhost:8080/",
     "height": 143
    },
    "executionInfo": {
     "elapsed": 411,
     "status": "ok",
     "timestamp": 1628815426750,
     "user": {
      "displayName": "Doojin Park",
      "photoUrl": "",
      "userId": "13081019711214908217"
     },
     "user_tz": -540
    },
    "id": "0ANy1kiHxibK",
    "outputId": "ab1abca5-3a08-444a-f5ad-8d6e660aac9f"
   },
   "outputs": [
    {
     "data": {
      "text/html": [
       "<div>\n",
       "<style scoped>\n",
       "    .dataframe tbody tr th:only-of-type {\n",
       "        vertical-align: middle;\n",
       "    }\n",
       "\n",
       "    .dataframe tbody tr th {\n",
       "        vertical-align: top;\n",
       "    }\n",
       "\n",
       "    .dataframe thead th {\n",
       "        text-align: right;\n",
       "    }\n",
       "</style>\n",
       "<table border=\"1\" class=\"dataframe\">\n",
       "  <thead>\n",
       "    <tr style=\"text-align: right;\">\n",
       "      <th></th>\n",
       "      <th>x</th>\n",
       "      <th>y</th>\n",
       "    </tr>\n",
       "  </thead>\n",
       "  <tbody>\n",
       "    <tr>\n",
       "      <th>0</th>\n",
       "      <td>1</td>\n",
       "      <td>3</td>\n",
       "    </tr>\n",
       "    <tr>\n",
       "      <th>1</th>\n",
       "      <td>2</td>\n",
       "      <td>5</td>\n",
       "    </tr>\n",
       "    <tr>\n",
       "      <th>2</th>\n",
       "      <td>3</td>\n",
       "      <td>7</td>\n",
       "    </tr>\n",
       "  </tbody>\n",
       "</table>\n",
       "</div>"
      ],
      "text/plain": [
       "   x  y\n",
       "0  1  3\n",
       "1  2  5\n",
       "2  3  7"
      ]
     },
     "execution_count": 3,
     "metadata": {},
     "output_type": "execute_result"
    }
   ],
   "source": [
    "datas = np.array([[1, 3], [2, 5], [3, 7]])\n",
    "df = pd.DataFrame(datas, columns=list(\"xy\"))\n",
    "df"
   ]
  },
  {
   "cell_type": "markdown",
   "metadata": {
    "id": "bpOJ11eyxibM"
   },
   "source": [
    "### 2.2 산점도 그리기"
   ]
  },
  {
   "cell_type": "code",
   "execution_count": 4,
   "metadata": {
    "ExecuteTime": {
     "end_time": "2022-05-25T04:47:24.003368Z",
     "start_time": "2022-05-25T04:47:23.842250Z"
    },
    "colab": {
     "base_uri": "https://localhost:8080/",
     "height": 265
    },
    "executionInfo": {
     "elapsed": 17,
     "status": "ok",
     "timestamp": 1628812315395,
     "user": {
      "displayName": "Doojin Park",
      "photoUrl": "",
      "userId": "13081019711214908217"
     },
     "user_tz": -540
    },
    "id": "HRk9O7LdxibM",
    "outputId": "dced9e8f-61d1-4021-9b92-3af228ec0df9"
   },
   "outputs": [
    {
     "data": {
      "image/png": "[encoded data removed]",
      "text/plain": [
       "<Figure size 432x288 with 1 Axes>"
      ]
     },
     "metadata": {
      "image/png": {
       "height": 249,
       "width": 364
      },
      "needs_background": "light"
     },
     "output_type": "display_data"
    }
   ],
   "source": [
    "plt.scatter(df[\"x\"], df[\"y\"])\n",
    "plt.xticks(range(0, 8))\n",
    "plt.yticks(range(0, 8))\n",
    "plt.show()"
   ]
  },
  {
   "cell_type": "markdown",
   "metadata": {
    "id": "ZZzpVmcexibN"
   },
   "source": [
    "### 2.3 추세선을 구하는 방법 1 : 방정식\n",
    "- 샘플 데이터를 직선 방정식으로 표현\n",
    "- 일반적인 우리가 배운 수학에서는 방정식으로 해결\n",
    "- $y = a + bx$ \n",
    "    - 데이터 : [1, 3], [2, 5], [3, 7]\n",
    "    - 계산과정\n",
    "        - $3 = a + 1b$\n",
    "        - $5 = a + 2b$\n",
    "        - $(3 = a + b) - (5 = a + 2b) = (-2 = -1b)$ -> $b = 2$\n",
    "        - $3 = a + b (b = 2)$ -> $a = 1$\n",
    "    - 추세선 : $y = 1 + 2x$ "
   ]
  },
  {
   "cell_type": "markdown",
   "metadata": {
    "id": "LJTeSD9lxibO"
   },
   "source": [
    "수식으로 값 예측하기"
   ]
  },
  {
   "cell_type": "code",
   "execution_count": 5,
   "metadata": {
    "ExecuteTime": {
     "end_time": "2022-05-25T04:49:19.330849Z",
     "start_time": "2022-05-25T04:49:19.325983Z"
    },
    "colab": {
     "base_uri": "https://localhost:8080/"
    },
    "executionInfo": {
     "elapsed": 353,
     "status": "ok",
     "timestamp": 1628816712729,
     "user": {
      "displayName": "Doojin Park",
      "photoUrl": "",
      "userId": "13081019711214908217"
     },
     "user_tz": -540
    },
    "id": "64JHSsDYxibO",
    "outputId": "b048ac40-a9d9-4412-ee41-620d17781161"
   },
   "outputs": [
    {
     "data": {
      "text/plain": [
       "[1, 9]"
      ]
     },
     "execution_count": 5,
     "metadata": {},
     "output_type": "execute_result"
    }
   ],
   "source": [
    "# 리스트 컴프리헨션 : 리스트 데이터를 만들때 사용\n",
    "data = [1, 2, 3]\n",
    "result = [num**2 for num in data if num % 2]\n",
    "result"
   ]
  },
  {
   "cell_type": "code",
   "execution_count": 6,
   "metadata": {
    "ExecuteTime": {
     "end_time": "2022-05-25T04:49:40.769284Z",
     "start_time": "2022-05-25T04:49:40.765391Z"
    },
    "colab": {
     "base_uri": "https://localhost:8080/"
    },
    "executionInfo": {
     "elapsed": 465,
     "status": "ok",
     "timestamp": 1628816717756,
     "user": {
      "displayName": "Doojin Park",
      "photoUrl": "",
      "userId": "13081019711214908217"
     },
     "user_tz": -540
    },
    "id": "jJQ5LbazxibO",
    "outputId": "dc081219-ac73-4dec-e0b5-d14582c3b7fd"
   },
   "outputs": [
    {
     "data": {
      "text/plain": [
       "[1, 3, 5, 7, 9]"
      ]
     },
     "execution_count": 6,
     "metadata": {},
     "output_type": "execute_result"
    }
   ],
   "source": [
    "# 추세선 함수\n",
    "def pred_func(x):\n",
    "    return 1 + 2 * x\n",
    "\n",
    "# 예측값 구하기\n",
    "pred_y = [pred_func(data) for data in range(0, 5)]\n",
    "\n",
    "pred_y"
   ]
  },
  {
   "cell_type": "markdown",
   "metadata": {
    "id": "--Um8GGdxibP"
   },
   "source": [
    "추세선 그리기"
   ]
  },
  {
   "cell_type": "code",
   "execution_count": 7,
   "metadata": {
    "ExecuteTime": {
     "end_time": "2022-05-25T04:49:53.652803Z",
     "start_time": "2022-05-25T04:49:53.581174Z"
    },
    "colab": {
     "base_uri": "https://localhost:8080/",
     "height": 265
    },
    "executionInfo": {
     "elapsed": 428,
     "status": "ok",
     "timestamp": 1628816723204,
     "user": {
      "displayName": "Doojin Park",
      "photoUrl": "",
      "userId": "13081019711214908217"
     },
     "user_tz": -540
    },
    "id": "iCl29QnnxibP",
    "outputId": "4fb4dd2d-ccc3-497b-e705-8de9e8c0d76f"
   },
   "outputs": [
    {
     "data": {
      "image/png": "[encoded data removed]",
      "text/plain": [
       "<Figure size 432x288 with 1 Axes>"
      ]
     },
     "metadata": {
      "image/png": {
       "height": 249,
       "width": 364
      },
      "needs_background": "light"
     },
     "output_type": "display_data"
    }
   ],
   "source": [
    "plt.scatter(df[\"x\"], df[\"y\"])\n",
    "plt.plot(range(0, 5), pred_y, \"r-\")\n",
    "plt.xticks(range(0, 10))\n",
    "plt.yticks(range(0, 10))\n",
    "plt.show()"
   ]
  },
  {
   "cell_type": "markdown",
   "metadata": {
    "id": "j7QIySfyxibP"
   },
   "source": [
    "### 2.4 추세선을 구하는 방법 2 : 선형대수"
   ]
  },
  {
   "cell_type": "markdown",
   "metadata": {
    "id": "8h8O6rKvxibP"
   },
   "source": [
    "$$Datas : (1, 3), (2, 5)$$"
   ]
  },
  {
   "cell_type": "markdown",
   "metadata": {
    "id": "RnDLRn24xibP"
   },
   "source": [
    "$$y = a + bx$$"
   ]
  },
  {
   "cell_type": "markdown",
   "metadata": {
    "id": "UxE0btDoxibQ"
   },
   "source": [
    "- 방정식"
   ]
  },
  {
   "cell_type": "markdown",
   "metadata": {
    "id": "i9kykrE6xibQ"
   },
   "source": [
    "$$3 = a + b$$\n",
    "$$5 = a + 2b$$"
   ]
  },
  {
   "cell_type": "markdown",
   "metadata": {
    "id": "Vk58OVPHxibQ"
   },
   "source": [
    "$$(3 = a + b) - (5 = a + 2b) => (2 = b)$$"
   ]
  },
  {
   "cell_type": "markdown",
   "metadata": {
    "id": "9H1ZFrtJxibQ"
   },
   "source": [
    "$$ y = 1 + 2x $$"
   ]
  },
  {
   "cell_type": "markdown",
   "metadata": {
    "id": "wN6ZLfH6xibQ"
   },
   "source": [
    "- 선형대수"
   ]
  },
  {
   "cell_type": "markdown",
   "metadata": {
    "id": "Xkgm0gfwxibQ"
   },
   "source": [
    "$$Datas : (1, 3), (2, 5)$$\n",
    "\n",
    "$$y = a \\cdot 1 + bx$$"
   ]
  },
  {
   "cell_type": "markdown",
   "metadata": {
    "id": "ErpVUBHDxibR"
   },
   "source": [
    "- 방정식을 선형대수로 표현"
   ]
  },
  {
   "cell_type": "markdown",
   "metadata": {
    "id": "rrTc8TAyxibR"
   },
   "source": [
    "$$\n",
    "\\begin{bmatrix}\n",
    "y_1\\\\\n",
    "y_2\\\\\n",
    "\\end{bmatrix}\n",
    "=\n",
    "\\begin{bmatrix}\n",
    "1 \\quad x_{1}\\\\\n",
    "1 \\quad x_{2}\\\\\n",
    "\\end{bmatrix}\n",
    "\\begin{bmatrix}\n",
    "a\\\\\n",
    "b\\\\\n",
    "\\end{bmatrix}\n",
    "$$"
   ]
  },
  {
   "cell_type": "markdown",
   "metadata": {
    "id": "JvxEBMk5xibR"
   },
   "source": [
    "$$y_1 = 1 \\cdot a + x_1 \\times b$$\n",
    "$$y_2 = 1 \\cdot a + x_2 \\times b$$"
   ]
  },
  {
   "cell_type": "markdown",
   "metadata": {
    "id": "e4qCMvwuxibR"
   },
   "source": [
    "- 데이터 적용"
   ]
  },
  {
   "cell_type": "markdown",
   "metadata": {
    "id": "5lYWAEpkxibR"
   },
   "source": [
    "$$\n",
    "\\begin{bmatrix}\n",
    "3\\\\\n",
    "5\\\\\n",
    "\\end{bmatrix}\n",
    "=\n",
    "\\begin{bmatrix}\n",
    "1 \\quad 1\\\\\n",
    "1 \\quad 2\\\\\n",
    "\\end{bmatrix}\n",
    "\\begin{bmatrix}\n",
    "a\\\\\n",
    "b\\\\\n",
    "\\end{bmatrix}\n",
    "$$"
   ]
  },
  {
   "cell_type": "markdown",
   "metadata": {
    "id": "ROoTy5eGxibS"
   },
   "source": [
    "$$3 = a + b$$\n",
    "$$5 = a + 2b$$"
   ]
  },
  {
   "cell_type": "markdown",
   "metadata": {
    "id": "a48tz6DbxibS"
   },
   "source": [
    "- 역행렬을 이용해서 풀이"
   ]
  },
  {
   "cell_type": "markdown",
   "metadata": {
    "id": "VAFkvZlwxibS"
   },
   "source": [
    "$$\n",
    "\\begin{bmatrix}\n",
    "1 \\quad 1\\\\\n",
    "1 \\quad 2\\\\\n",
    "\\end{bmatrix}^{-1}\n",
    "\\begin{bmatrix}\n",
    "3\\\\\n",
    "5\\\\\n",
    "\\end{bmatrix}\n",
    "=\n",
    "\\begin{bmatrix}\n",
    "a\\\\\n",
    "b\\\\\n",
    "\\end{bmatrix}\n",
    "$$"
   ]
  },
  {
   "cell_type": "markdown",
   "metadata": {
    "id": "utK6nInXxibS"
   },
   "source": [
    "$$\n",
    "A^{-1}=\n",
    "\\frac{1}{ad-bc}\n",
    "\\begin{bmatrix}\n",
    "d \\quad -b\\\\\n",
    "-c\\quad a\\\\\n",
    "\\end{bmatrix}\n",
    "$$"
   ]
  },
  {
   "cell_type": "markdown",
   "metadata": {
    "id": "TA6-Y_xKxibS"
   },
   "source": [
    "$$\n",
    "\\begin{bmatrix}\n",
    "2 \\quad -1\\\\\n",
    "-1 \\quad 1\\\\\n",
    "\\end{bmatrix}\n",
    "\\begin{bmatrix}\n",
    "3\\\\\n",
    "5\\\\\n",
    "\\end{bmatrix}\n",
    "=\n",
    "\\begin{bmatrix}\n",
    "1\\\\\n",
    "2\\\\\n",
    "\\end{bmatrix}\n",
    "$$"
   ]
  },
  {
   "cell_type": "markdown",
   "metadata": {
    "id": "fKdpLMmcxibS"
   },
   "source": [
    "$$ y = a + bx => y = 1 + 2x $$"
   ]
  },
  {
   "cell_type": "markdown",
   "metadata": {
    "id": "aXvbBUhOxibT"
   },
   "source": [
    "### 2.5 모든 데이터가 직선위에 있지 않는경우 : 최소제곱법\n",
    "- 추세선을 구하는 방법 1은 항상 데이터가 추세선위에 직선으로 위치할때만 정확히 구할수 있습니다.\n",
    "- 하지만 모든 데이터는 위에서와 같이 항상 직선의 추세선 위에만 존재하지 않습니다."
   ]
  },
  {
   "cell_type": "markdown",
   "metadata": {
    "id": "0bsbw7bXxibT"
   },
   "source": [
    "#### 추세선의 수식\n",
    "- $\\hat{y} = a + bx$\n",
    "    - $\\hat{y}$ : 추세선 : 종속변수의 예측값\n",
    "    - $x$ : 독립변수\n",
    "    - $a$ : y절편(constant)\n",
    "    - $b$ : 기울기(slope)\n",
    "        - $\\frac{\\Delta{y}}{\\Delta{x}}$ : y의 증가량 / x의 증가량\n",
    "    - $a, b$ : 회귀계수"
   ]
  },
  {
   "cell_type": "markdown",
   "metadata": {
    "id": "eRU_3OkfxibT"
   },
   "source": [
    "샘플 데이터 및 산포도"
   ]
  },
  {
   "cell_type": "code",
   "execution_count": 8,
   "metadata": {
    "ExecuteTime": {
     "end_time": "2022-05-25T05:13:22.388165Z",
     "start_time": "2022-05-25T05:13:22.323926Z"
    },
    "colab": {
     "base_uri": "https://localhost:8080/",
     "height": 282
    },
    "executionInfo": {
     "elapsed": 804,
     "status": "ok",
     "timestamp": 1628817219228,
     "user": {
      "displayName": "Doojin Park",
      "photoUrl": "",
      "userId": "13081019711214908217"
     },
     "user_tz": -540
    },
    "id": "Ewe69OlcxibT",
    "outputId": "d110bbf6-6be1-484b-adbe-55e53c140930"
   },
   "outputs": [
    {
     "name": "stdout",
     "output_type": "stream",
     "text": [
      "[array([1, 2]), array([2, 8]), array([3, 5])]\n"
     ]
    },
    {
     "data": {
      "image/png": "[encoded data removed]",
      "text/plain": [
       "<Figure size 432x288 with 1 Axes>"
      ]
     },
     "metadata": {
      "image/png": {
       "height": 249,
       "width": 364
      },
      "needs_background": "light"
     },
     "output_type": "display_data"
    }
   ],
   "source": [
    "# 샘플 데이터 생성\n",
    "datas = np.array([[1, 2], [2, 8], [3, 5]])\n",
    "print(list(datas))\n",
    "\n",
    "# 데이터 프레임으로 만들기\n",
    "df = pd.DataFrame(datas, columns=list(\"xy\"))\n",
    "\n",
    "# 그래프 그리기\n",
    "plt.scatter(df[\"x\"], df[\"y\"])\n",
    "plt.xticks(range(0, 8))\n",
    "plt.yticks(range(0, 8))\n",
    "plt.show()"
   ]
  },
  {
   "cell_type": "markdown",
   "metadata": {
    "id": "rg_bElrwxibT"
   },
   "source": [
    "#### 실제 점들의 수식\n",
    "- $y_i = a + bx_i + \\varepsilon$\n",
    "    - $y$ : 승점 : 종속변수의 실제값\n",
    "    - $x$ : 득점 : 독립변수\n",
    "    - $\\varepsilon$ : 오차 : 추세선과 실제값의 차이\n",
    "    - $i$ : 개별 값"
   ]
  },
  {
   "cell_type": "code",
   "execution_count": 9,
   "metadata": {
    "ExecuteTime": {
     "end_time": "2022-05-25T05:14:12.152202Z",
     "start_time": "2022-05-25T05:14:10.229872Z"
    },
    "collapsed": true
   },
   "outputs": [
    {
     "name": "stdout",
     "output_type": "stream",
     "text": [
      "Requirement already satisfied: statsmodels in c:\\users\\gmlkd\\miniforge3\\envs\\fastcampus\\lib\\site-packages (0.13.2)\n",
      "Requirement already satisfied: numpy>=1.17 in c:\\users\\gmlkd\\miniforge3\\envs\\fastcampus\\lib\\site-packages (from statsmodels) (1.22.3)\n",
      "Requirement already satisfied: patsy>=0.5.2 in c:\\users\\gmlkd\\miniforge3\\envs\\fastcampus\\lib\\site-packages (from statsmodels) (0.5.2)\n",
      "Requirement already satisfied: packaging>=21.3 in c:\\users\\gmlkd\\miniforge3\\envs\\fastcampus\\lib\\site-packages (from statsmodels) (21.3)\n",
      "Requirement already satisfied: pandas>=0.25 in c:\\users\\gmlkd\\miniforge3\\envs\\fastcampus\\lib\\site-packages (from statsmodels) (1.4.2)\n",
      "Requirement already satisfied: scipy>=1.3 in c:\\users\\gmlkd\\miniforge3\\envs\\fastcampus\\lib\\site-packages (from statsmodels) (1.8.0)\n",
      "Requirement already satisfied: pyparsing!=3.0.5,>=2.0.2 in c:\\users\\gmlkd\\miniforge3\\envs\\fastcampus\\lib\\site-packages (from packaging>=21.3->statsmodels) (3.0.8)\n",
      "Requirement already satisfied: python-dateutil>=2.8.1 in c:\\users\\gmlkd\\miniforge3\\envs\\fastcampus\\lib\\site-packages (from pandas>=0.25->statsmodels) (2.8.2)\n",
      "Requirement already satisfied: pytz>=2020.1 in c:\\users\\gmlkd\\miniforge3\\envs\\fastcampus\\lib\\site-packages (from pandas>=0.25->statsmodels) (2022.1)\n",
      "Requirement already satisfied: six in c:\\users\\gmlkd\\miniforge3\\envs\\fastcampus\\lib\\site-packages (from patsy>=0.5.2->statsmodels) (1.16.0)\n"
     ]
    }
   ],
   "source": [
    "!pip install statsmodels"
   ]
  },
  {
   "cell_type": "code",
   "execution_count": 10,
   "metadata": {
    "ExecuteTime": {
     "end_time": "2022-05-25T05:15:19.159364Z",
     "start_time": "2022-05-25T05:15:16.193537Z"
    },
    "colab": {
     "base_uri": "https://localhost:8080/",
     "height": 316
    },
    "executionInfo": {
     "elapsed": 623,
     "status": "ok",
     "timestamp": 1628817236211,
     "user": {
      "displayName": "Doojin Park",
      "photoUrl": "",
      "userId": "13081019711214908217"
     },
     "user_tz": -540
    },
    "id": "2PX4DNM6xibT",
    "outputId": "931763a6-8981-4111-a313-535d38b8e76a"
   },
   "outputs": [
    {
     "name": "stdout",
     "output_type": "stream",
     "text": [
      "const    2.0\n",
      "x        1.5\n",
      "dtype: float64\n"
     ]
    },
    {
     "data": {
      "image/png": "[encoded data removed]",
      "text/plain": [
       "<Figure size 432x288 with 1 Axes>"
      ]
     },
     "metadata": {
      "image/png": {
       "height": 249,
       "width": 364
      },
      "needs_background": "light"
     },
     "output_type": "display_data"
    }
   ],
   "source": [
    "# 추세선 구하는 코드 : 추후에 학습\n",
    "import statsmodels.api as sm\n",
    "\n",
    "# 모델 학습\n",
    "feature = sm.add_constant(df[\"x\"], has_constant='add')\n",
    "model = sm.OLS(df[\"y\"], feature)\n",
    "fitted_model = model.fit()\n",
    "print(fitted_model.params)\n",
    "\n",
    "# 예측값 구하기\n",
    "pred_datas = np.dot(feature, fitted_model.params)\n",
    "\n",
    "# 그래프 그리기\n",
    "plt.scatter(df[\"x\"], df[\"y\"])\n",
    "plt.plot(df[\"x\"], pred_datas, \"r-\")\n",
    "plt.xticks(range(0, 8))\n",
    "plt.yticks(range(0, 8))\n",
    "plt.show()"
   ]
  },
  {
   "cell_type": "markdown",
   "metadata": {
    "id": "3xJf-bUBxibU"
   },
   "source": [
    "#### 최소제곱법 : Least Square Method\n",
    "\n",
    "- 최적의 추세선을 구하기 위한 방법\n",
    "    - 추세선과 모든 데이터의 오차가 적은 추세선이 가장 좋은 추세선 입니다."
   ]
  },
  {
   "cell_type": "markdown",
   "metadata": {
    "id": "j7wU8xfexibU"
   },
   "source": [
    "#### 오차 수식\n",
    "\n",
    "- 오차($e_i$) = 실제값($y_i$) - 예측값($\\hat{y_i}$)\n",
    "- 가장 좋은 추세선 : $e_i$가 가장 작은 추세선\n",
    "\n",
    "$$e_i = y_i - \\hat{y_i}$$\n"
   ]
  },
  {
   "cell_type": "markdown",
   "metadata": {
    "id": "UqRmtES3xibU"
   },
   "source": [
    "#### 모든 데이터의 오차를 구하는 수식\n",
    "\n",
    "- 제곱을 해주는 이유\n",
    "    - $e_i$ 는 음수도 있고 양수도 있습니다. \n",
    "    - 제곱을 해주지 않으면 음수와 양수가 더해져서 오차가 커도 다 더해주면 0에 가까운 값이 나올수 있습니다.\n",
    "    - 절대값으로 계산을하면 최소 오차를 구할때 미분이 필요한데 미분의 수식이 복잡해집니다.\n",
    "- 모든 오차의 제곱합($\\sum_{i=1}^n e_i^2$)을 가장 작게 만드는 $a$와 $b$값이 최적의 추세선 수식이 됩니다.\n",
    "        \n",
    "        \n",
    "$$\\sum_{i=1}^n e_i^2 = \\sum_{i=1}^{n}(y_i - \\hat{y_i})^2$$\n",
    "\n",
    "\n",
    "$$\\hat{y} = a + bx$$\n",
    "\n",
    "\n",
    "$$ \\sum_{i=1}^n e_i^2 = \\sum_{i=1}^n(y_i - a - bx_i)^2$$"
   ]
  },
  {
   "cell_type": "markdown",
   "metadata": {
    "id": "gxuRbPZjxibU"
   },
   "source": [
    "#### 오차의 제곱합이 가장 작아지는 a와 b를 구하는 방법 1\n",
    "- 특정 범위에서 $a$와 $b$를 증가시켜가면서 최적의 $a$와 $b$를 찾습니다. -> 모델이 학습된다."
   ]
  },
  {
   "cell_type": "code",
   "execution_count": 11,
   "metadata": {
    "ExecuteTime": {
     "end_time": "2022-05-25T05:25:22.482948Z",
     "start_time": "2022-05-25T05:25:22.479055Z"
    },
    "id": "1Rt_Fw_7xibU"
   },
   "outputs": [],
   "source": [
    "# 모든 오차의 제곱합 구하는 함수\n",
    "def error_func(df, a=0, b=1):\n",
    "    e = 0\n",
    "    for idx, data in df.iterrows():\n",
    "        e += (data.y - a - b * data.x) ** 2\n",
    "    return e"
   ]
  },
  {
   "cell_type": "code",
   "execution_count": 12,
   "metadata": {
    "ExecuteTime": {
     "end_time": "2022-05-25T05:25:48.416867Z",
     "start_time": "2022-05-25T05:25:48.401294Z"
    },
    "colab": {
     "base_uri": "https://localhost:8080/",
     "height": 1000
    },
    "executionInfo": {
     "elapsed": 17,
     "status": "ok",
     "timestamp": 1628817326332,
     "user": {
      "displayName": "Doojin Park",
      "photoUrl": "",
      "userId": "13081019711214908217"
     },
     "user_tz": -540
    },
    "id": "1T3pD-aQxibV",
    "outputId": "3b61b3f6-2883-4cbb-de4c-d671dca8d428"
   },
   "outputs": [
    {
     "data": {
      "text/html": [
       "<div>\n",
       "<style scoped>\n",
       "    .dataframe tbody tr th:only-of-type {\n",
       "        vertical-align: middle;\n",
       "    }\n",
       "\n",
       "    .dataframe tbody tr th {\n",
       "        vertical-align: top;\n",
       "    }\n",
       "\n",
       "    .dataframe thead th {\n",
       "        text-align: right;\n",
       "    }\n",
       "</style>\n",
       "<table border=\"1\" class=\"dataframe\">\n",
       "  <thead>\n",
       "    <tr style=\"text-align: right;\">\n",
       "      <th></th>\n",
       "      <th>a_data</th>\n",
       "      <th>b_data</th>\n",
       "      <th>error</th>\n",
       "    </tr>\n",
       "  </thead>\n",
       "  <tbody>\n",
       "    <tr>\n",
       "      <th>0</th>\n",
       "      <td>0.0</td>\n",
       "      <td>0.0</td>\n",
       "      <td>93.00</td>\n",
       "    </tr>\n",
       "    <tr>\n",
       "      <th>1</th>\n",
       "      <td>0.0</td>\n",
       "      <td>0.5</td>\n",
       "      <td>63.50</td>\n",
       "    </tr>\n",
       "    <tr>\n",
       "      <th>2</th>\n",
       "      <td>0.0</td>\n",
       "      <td>1.0</td>\n",
       "      <td>41.00</td>\n",
       "    </tr>\n",
       "    <tr>\n",
       "      <th>3</th>\n",
       "      <td>0.0</td>\n",
       "      <td>1.5</td>\n",
       "      <td>25.50</td>\n",
       "    </tr>\n",
       "    <tr>\n",
       "      <th>4</th>\n",
       "      <td>0.0</td>\n",
       "      <td>2.0</td>\n",
       "      <td>17.00</td>\n",
       "    </tr>\n",
       "    <tr>\n",
       "      <th>5</th>\n",
       "      <td>0.0</td>\n",
       "      <td>2.5</td>\n",
       "      <td>15.50</td>\n",
       "    </tr>\n",
       "    <tr>\n",
       "      <th>6</th>\n",
       "      <td>0.5</td>\n",
       "      <td>0.0</td>\n",
       "      <td>78.75</td>\n",
       "    </tr>\n",
       "    <tr>\n",
       "      <th>7</th>\n",
       "      <td>0.5</td>\n",
       "      <td>0.5</td>\n",
       "      <td>52.25</td>\n",
       "    </tr>\n",
       "    <tr>\n",
       "      <th>8</th>\n",
       "      <td>0.5</td>\n",
       "      <td>1.0</td>\n",
       "      <td>32.75</td>\n",
       "    </tr>\n",
       "    <tr>\n",
       "      <th>9</th>\n",
       "      <td>0.5</td>\n",
       "      <td>1.5</td>\n",
       "      <td>20.25</td>\n",
       "    </tr>\n",
       "    <tr>\n",
       "      <th>10</th>\n",
       "      <td>0.5</td>\n",
       "      <td>2.0</td>\n",
       "      <td>14.75</td>\n",
       "    </tr>\n",
       "    <tr>\n",
       "      <th>11</th>\n",
       "      <td>0.5</td>\n",
       "      <td>2.5</td>\n",
       "      <td>16.25</td>\n",
       "    </tr>\n",
       "    <tr>\n",
       "      <th>12</th>\n",
       "      <td>1.0</td>\n",
       "      <td>0.0</td>\n",
       "      <td>66.00</td>\n",
       "    </tr>\n",
       "    <tr>\n",
       "      <th>13</th>\n",
       "      <td>1.0</td>\n",
       "      <td>0.5</td>\n",
       "      <td>42.50</td>\n",
       "    </tr>\n",
       "    <tr>\n",
       "      <th>14</th>\n",
       "      <td>1.0</td>\n",
       "      <td>1.0</td>\n",
       "      <td>26.00</td>\n",
       "    </tr>\n",
       "    <tr>\n",
       "      <th>15</th>\n",
       "      <td>1.0</td>\n",
       "      <td>1.5</td>\n",
       "      <td>16.50</td>\n",
       "    </tr>\n",
       "    <tr>\n",
       "      <th>16</th>\n",
       "      <td>1.0</td>\n",
       "      <td>2.0</td>\n",
       "      <td>14.00</td>\n",
       "    </tr>\n",
       "    <tr>\n",
       "      <th>17</th>\n",
       "      <td>1.0</td>\n",
       "      <td>2.5</td>\n",
       "      <td>18.50</td>\n",
       "    </tr>\n",
       "    <tr>\n",
       "      <th>18</th>\n",
       "      <td>1.5</td>\n",
       "      <td>0.0</td>\n",
       "      <td>54.75</td>\n",
       "    </tr>\n",
       "    <tr>\n",
       "      <th>19</th>\n",
       "      <td>1.5</td>\n",
       "      <td>0.5</td>\n",
       "      <td>34.25</td>\n",
       "    </tr>\n",
       "    <tr>\n",
       "      <th>20</th>\n",
       "      <td>1.5</td>\n",
       "      <td>1.0</td>\n",
       "      <td>20.75</td>\n",
       "    </tr>\n",
       "    <tr>\n",
       "      <th>21</th>\n",
       "      <td>1.5</td>\n",
       "      <td>1.5</td>\n",
       "      <td>14.25</td>\n",
       "    </tr>\n",
       "    <tr>\n",
       "      <th>22</th>\n",
       "      <td>1.5</td>\n",
       "      <td>2.0</td>\n",
       "      <td>14.75</td>\n",
       "    </tr>\n",
       "    <tr>\n",
       "      <th>23</th>\n",
       "      <td>1.5</td>\n",
       "      <td>2.5</td>\n",
       "      <td>22.25</td>\n",
       "    </tr>\n",
       "    <tr>\n",
       "      <th>24</th>\n",
       "      <td>2.0</td>\n",
       "      <td>0.0</td>\n",
       "      <td>45.00</td>\n",
       "    </tr>\n",
       "    <tr>\n",
       "      <th>25</th>\n",
       "      <td>2.0</td>\n",
       "      <td>0.5</td>\n",
       "      <td>27.50</td>\n",
       "    </tr>\n",
       "    <tr>\n",
       "      <th>26</th>\n",
       "      <td>2.0</td>\n",
       "      <td>1.0</td>\n",
       "      <td>17.00</td>\n",
       "    </tr>\n",
       "    <tr>\n",
       "      <th>27</th>\n",
       "      <td>2.0</td>\n",
       "      <td>1.5</td>\n",
       "      <td>13.50</td>\n",
       "    </tr>\n",
       "    <tr>\n",
       "      <th>28</th>\n",
       "      <td>2.0</td>\n",
       "      <td>2.0</td>\n",
       "      <td>17.00</td>\n",
       "    </tr>\n",
       "    <tr>\n",
       "      <th>29</th>\n",
       "      <td>2.0</td>\n",
       "      <td>2.5</td>\n",
       "      <td>27.50</td>\n",
       "    </tr>\n",
       "    <tr>\n",
       "      <th>30</th>\n",
       "      <td>2.5</td>\n",
       "      <td>0.0</td>\n",
       "      <td>36.75</td>\n",
       "    </tr>\n",
       "    <tr>\n",
       "      <th>31</th>\n",
       "      <td>2.5</td>\n",
       "      <td>0.5</td>\n",
       "      <td>22.25</td>\n",
       "    </tr>\n",
       "    <tr>\n",
       "      <th>32</th>\n",
       "      <td>2.5</td>\n",
       "      <td>1.0</td>\n",
       "      <td>14.75</td>\n",
       "    </tr>\n",
       "    <tr>\n",
       "      <th>33</th>\n",
       "      <td>2.5</td>\n",
       "      <td>1.5</td>\n",
       "      <td>14.25</td>\n",
       "    </tr>\n",
       "    <tr>\n",
       "      <th>34</th>\n",
       "      <td>2.5</td>\n",
       "      <td>2.0</td>\n",
       "      <td>20.75</td>\n",
       "    </tr>\n",
       "    <tr>\n",
       "      <th>35</th>\n",
       "      <td>2.5</td>\n",
       "      <td>2.5</td>\n",
       "      <td>34.25</td>\n",
       "    </tr>\n",
       "  </tbody>\n",
       "</table>\n",
       "</div>"
      ],
      "text/plain": [
       "    a_data  b_data  error\n",
       "0      0.0     0.0  93.00\n",
       "1      0.0     0.5  63.50\n",
       "2      0.0     1.0  41.00\n",
       "3      0.0     1.5  25.50\n",
       "4      0.0     2.0  17.00\n",
       "5      0.0     2.5  15.50\n",
       "6      0.5     0.0  78.75\n",
       "7      0.5     0.5  52.25\n",
       "8      0.5     1.0  32.75\n",
       "9      0.5     1.5  20.25\n",
       "10     0.5     2.0  14.75\n",
       "11     0.5     2.5  16.25\n",
       "12     1.0     0.0  66.00\n",
       "13     1.0     0.5  42.50\n",
       "14     1.0     1.0  26.00\n",
       "15     1.0     1.5  16.50\n",
       "16     1.0     2.0  14.00\n",
       "17     1.0     2.5  18.50\n",
       "18     1.5     0.0  54.75\n",
       "19     1.5     0.5  34.25\n",
       "20     1.5     1.0  20.75\n",
       "21     1.5     1.5  14.25\n",
       "22     1.5     2.0  14.75\n",
       "23     1.5     2.5  22.25\n",
       "24     2.0     0.0  45.00\n",
       "25     2.0     0.5  27.50\n",
       "26     2.0     1.0  17.00\n",
       "27     2.0     1.5  13.50\n",
       "28     2.0     2.0  17.00\n",
       "29     2.0     2.5  27.50\n",
       "30     2.5     0.0  36.75\n",
       "31     2.5     0.5  22.25\n",
       "32     2.5     1.0  14.75\n",
       "33     2.5     1.5  14.25\n",
       "34     2.5     2.0  20.75\n",
       "35     2.5     2.5  34.25"
      ]
     },
     "execution_count": 12,
     "metadata": {},
     "output_type": "execute_result"
    }
   ],
   "source": [
    "batch_size = 0.5 # batch_size, epoch\n",
    "\n",
    "a_datas = np.arange(0, 3, batch_size)\n",
    "b_datas = np.arange(0, 3, batch_size)\n",
    "\n",
    "error_datas = []\n",
    "\n",
    "for a_data in a_datas:\n",
    "    for b_data in b_datas:\n",
    "        error_datas.append({\n",
    "            \"a_data\": a_data,\n",
    "            \"b_data\": b_data,\n",
    "            \"error\": error_func(df, a_data, b_data),\n",
    "        })\n",
    "\n",
    "error_df = pd.DataFrame(error_datas)\n",
    "error_df"
   ]
  },
  {
   "cell_type": "code",
   "execution_count": 13,
   "metadata": {
    "ExecuteTime": {
     "end_time": "2022-05-25T05:27:23.948261Z",
     "start_time": "2022-05-25T05:27:23.941448Z"
    },
    "colab": {
     "base_uri": "https://localhost:8080/",
     "height": 81
    },
    "executionInfo": {
     "elapsed": 439,
     "status": "ok",
     "timestamp": 1628817422740,
     "user": {
      "displayName": "Doojin Park",
      "photoUrl": "",
      "userId": "13081019711214908217"
     },
     "user_tz": -540
    },
    "id": "15DWju7TxibV",
    "outputId": "1cbdd9e5-f665-4dfb-d780-ae74ae9500f4"
   },
   "outputs": [
    {
     "data": {
      "text/html": [
       "<div>\n",
       "<style scoped>\n",
       "    .dataframe tbody tr th:only-of-type {\n",
       "        vertical-align: middle;\n",
       "    }\n",
       "\n",
       "    .dataframe tbody tr th {\n",
       "        vertical-align: top;\n",
       "    }\n",
       "\n",
       "    .dataframe thead th {\n",
       "        text-align: right;\n",
       "    }\n",
       "</style>\n",
       "<table border=\"1\" class=\"dataframe\">\n",
       "  <thead>\n",
       "    <tr style=\"text-align: right;\">\n",
       "      <th></th>\n",
       "      <th>a_data</th>\n",
       "      <th>b_data</th>\n",
       "      <th>error</th>\n",
       "    </tr>\n",
       "  </thead>\n",
       "  <tbody>\n",
       "    <tr>\n",
       "      <th>27</th>\n",
       "      <td>2.0</td>\n",
       "      <td>1.5</td>\n",
       "      <td>13.5</td>\n",
       "    </tr>\n",
       "  </tbody>\n",
       "</table>\n",
       "</div>"
      ],
      "text/plain": [
       "    a_data  b_data  error\n",
       "27     2.0     1.5   13.5"
      ]
     },
     "execution_count": 13,
     "metadata": {},
     "output_type": "execute_result"
    }
   ],
   "source": [
    "# 에러의 최소값\n",
    "error_df[error_df.error == np.min(error_df.error)]"
   ]
  },
  {
   "cell_type": "markdown",
   "metadata": {
    "id": "vQgQcCqhxibV"
   },
   "source": [
    "#### 오차의 제곱합이 가장 작아지는 a와 b를 구하는 방법 2\n",
    "- 경사하강법(gradient descent)\n",
    "  - $a$와 $b$의 미분값으로 기울기 구하기\n",
    "    - 기울기가 음수이면 값을 증가(오른쪽으로 이동)\n",
    "    - 기울기가 양수이면 값을 감소(왼쪽으로 이동)"
   ]
  },
  {
   "cell_type": "markdown",
   "metadata": {
    "id": "3ciVFR6BxibV"
   },
   "source": [
    "- 경사하강법의 이해 1\n",
    "  - 추세선의 수식을 $\\hat{y} = bx$ 라고 가정 : 경사하강법의 이해를 돕기위해 a를 제거\n",
    "  - b값에 따른 오차\n",
    "    $$ \\sum_{i=1}^n e_i^2 = \\sum_{i=1}^n(y_i - bx_i)^2$$"
   ]
  },
  {
   "cell_type": "code",
   "execution_count": 14,
   "metadata": {
    "ExecuteTime": {
     "end_time": "2022-05-25T05:28:45.435174Z",
     "start_time": "2022-05-25T05:28:45.426412Z"
    },
    "colab": {
     "base_uri": "https://localhost:8080/",
     "height": 362
    },
    "executionInfo": {
     "elapsed": 355,
     "status": "ok",
     "timestamp": 1628817467551,
     "user": {
      "displayName": "Doojin Park",
      "photoUrl": "",
      "userId": "13081019711214908217"
     },
     "user_tz": -540
    },
    "id": "aLf1zi0wxibV",
    "outputId": "0566d2e4-040f-48fc-dcad-86988cb5c722"
   },
   "outputs": [
    {
     "data": {
      "text/html": [
       "<div>\n",
       "<style scoped>\n",
       "    .dataframe tbody tr th:only-of-type {\n",
       "        vertical-align: middle;\n",
       "    }\n",
       "\n",
       "    .dataframe tbody tr th {\n",
       "        vertical-align: top;\n",
       "    }\n",
       "\n",
       "    .dataframe thead th {\n",
       "        text-align: right;\n",
       "    }\n",
       "</style>\n",
       "<table border=\"1\" class=\"dataframe\">\n",
       "  <thead>\n",
       "    <tr style=\"text-align: right;\">\n",
       "      <th></th>\n",
       "      <th>b_data</th>\n",
       "      <th>error</th>\n",
       "    </tr>\n",
       "  </thead>\n",
       "  <tbody>\n",
       "    <tr>\n",
       "      <th>0</th>\n",
       "      <td>0.0</td>\n",
       "      <td>93.0</td>\n",
       "    </tr>\n",
       "    <tr>\n",
       "      <th>1</th>\n",
       "      <td>0.5</td>\n",
       "      <td>63.5</td>\n",
       "    </tr>\n",
       "    <tr>\n",
       "      <th>2</th>\n",
       "      <td>1.0</td>\n",
       "      <td>41.0</td>\n",
       "    </tr>\n",
       "    <tr>\n",
       "      <th>3</th>\n",
       "      <td>1.5</td>\n",
       "      <td>25.5</td>\n",
       "    </tr>\n",
       "    <tr>\n",
       "      <th>4</th>\n",
       "      <td>2.0</td>\n",
       "      <td>17.0</td>\n",
       "    </tr>\n",
       "    <tr>\n",
       "      <th>5</th>\n",
       "      <td>2.5</td>\n",
       "      <td>15.5</td>\n",
       "    </tr>\n",
       "    <tr>\n",
       "      <th>6</th>\n",
       "      <td>3.0</td>\n",
       "      <td>21.0</td>\n",
       "    </tr>\n",
       "    <tr>\n",
       "      <th>7</th>\n",
       "      <td>3.5</td>\n",
       "      <td>33.5</td>\n",
       "    </tr>\n",
       "    <tr>\n",
       "      <th>8</th>\n",
       "      <td>4.0</td>\n",
       "      <td>53.0</td>\n",
       "    </tr>\n",
       "    <tr>\n",
       "      <th>9</th>\n",
       "      <td>4.5</td>\n",
       "      <td>79.5</td>\n",
       "    </tr>\n",
       "  </tbody>\n",
       "</table>\n",
       "</div>"
      ],
      "text/plain": [
       "   b_data  error\n",
       "0     0.0   93.0\n",
       "1     0.5   63.5\n",
       "2     1.0   41.0\n",
       "3     1.5   25.5\n",
       "4     2.0   17.0\n",
       "5     2.5   15.5\n",
       "6     3.0   21.0\n",
       "7     3.5   33.5\n",
       "8     4.0   53.0\n",
       "9     4.5   79.5"
      ]
     },
     "execution_count": 14,
     "metadata": {},
     "output_type": "execute_result"
    }
   ],
   "source": [
    "b_datas = np.arange(0, 5, 0.5)\n",
    "# b_datas = np.arange(0, 5, 0.001)\n",
    "# print(b_datas)\n",
    "\n",
    "# 에러 함수\n",
    "def error_func(df, b=1):\n",
    "    e = 0\n",
    "    for idx, data in df.iterrows():\n",
    "        e += (data.y - b * data.x) ** 2\n",
    "    return e\n",
    "\n",
    "error_datas = []\n",
    "\n",
    "# 0 ~ 4.5 까지 에러를 출력\n",
    "for b_data in b_datas:\n",
    "    \n",
    "    e = error_func(df, b_data)\n",
    "    \n",
    "    error_datas.append({\n",
    "        \"b_data\":b_data,\n",
    "        \"error\": e,\n",
    "    })\n",
    "    \n",
    "# b 값이 2.5일때 가장 오차제곱합이 가장 작다.\n",
    "# 최적의 추세선 -> y = 2.5x\n",
    "error_df = pd.DataFrame(error_datas)\n",
    "error_df"
   ]
  },
  {
   "cell_type": "code",
   "execution_count": 15,
   "metadata": {
    "ExecuteTime": {
     "end_time": "2022-05-25T05:28:48.850255Z",
     "start_time": "2022-05-25T05:28:48.844415Z"
    },
    "colab": {
     "base_uri": "https://localhost:8080/",
     "height": 81
    },
    "executionInfo": {
     "elapsed": 398,
     "status": "ok",
     "timestamp": 1628817474902,
     "user": {
      "displayName": "Doojin Park",
      "photoUrl": "",
      "userId": "13081019711214908217"
     },
     "user_tz": -540
    },
    "id": "Jw1KuztlxibW",
    "outputId": "190e8a1c-ae69-4cd6-9512-f229e5f380cc"
   },
   "outputs": [
    {
     "data": {
      "text/html": [
       "<div>\n",
       "<style scoped>\n",
       "    .dataframe tbody tr th:only-of-type {\n",
       "        vertical-align: middle;\n",
       "    }\n",
       "\n",
       "    .dataframe tbody tr th {\n",
       "        vertical-align: top;\n",
       "    }\n",
       "\n",
       "    .dataframe thead th {\n",
       "        text-align: right;\n",
       "    }\n",
       "</style>\n",
       "<table border=\"1\" class=\"dataframe\">\n",
       "  <thead>\n",
       "    <tr style=\"text-align: right;\">\n",
       "      <th></th>\n",
       "      <th>b_data</th>\n",
       "      <th>error</th>\n",
       "    </tr>\n",
       "  </thead>\n",
       "  <tbody>\n",
       "    <tr>\n",
       "      <th>5</th>\n",
       "      <td>2.5</td>\n",
       "      <td>15.5</td>\n",
       "    </tr>\n",
       "  </tbody>\n",
       "</table>\n",
       "</div>"
      ],
      "text/plain": [
       "   b_data  error\n",
       "5     2.5   15.5"
      ]
     },
     "execution_count": 15,
     "metadata": {},
     "output_type": "execute_result"
    }
   ],
   "source": [
    "error_df[error_df.error == np.min(error_df.error)]"
   ]
  },
  {
   "cell_type": "code",
   "execution_count": 17,
   "metadata": {
    "ExecuteTime": {
     "end_time": "2022-05-25T05:31:59.215223Z",
     "start_time": "2022-05-25T05:31:59.150007Z"
    },
    "colab": {
     "base_uri": "https://localhost:8080/",
     "height": 265
    },
    "executionInfo": {
     "elapsed": 413,
     "status": "ok",
     "timestamp": 1628817788530,
     "user": {
      "displayName": "Doojin Park",
      "photoUrl": "",
      "userId": "13081019711214908217"
     },
     "user_tz": -540
    },
    "id": "-jNYmWHMxibW",
    "outputId": "2f7de9bb-e58f-4577-c12e-7005e8fe25b2"
   },
   "outputs": [
    {
     "data": {
      "image/png": "[encoded data removed]",
      "text/plain": [
       "<Figure size 432x288 with 1 Axes>"
      ]
     },
     "metadata": {
      "image/png": {
       "height": 249,
       "width": 367
      },
      "needs_background": "light"
     },
     "output_type": "display_data"
    }
   ],
   "source": [
    "# b값에 대한 error 값의 그래프\n",
    "# 그래프에서 기울기가 가장 작아지는 값이 최적의 b값이 된다.\n",
    "# 우리는 local minimum을 찾는 것이지 global minimum을 구할 순 없다.\n",
    "\n",
    "plt.scatter(error_df.b_data, error_df.error)\n",
    "plt.show()"
   ]
  },
  {
   "cell_type": "markdown",
   "metadata": {
    "id": "a1eb8aLexibW"
   },
   "source": [
    "- 경사하강법의 이해 2\n",
    "    \n",
    "- $\\hat{y} = bx$ : 이해를 돕기위해 $a$는 제거\n",
    "    - $b$를 편미분 \n",
    "$$ \\sum_{i=1}^n e_i^2 = \\sum_{i=1}^n(y_i - bx_i)^2$$\n",
    "$$ \\frac{\\partial{L}}{\\partial{b}} = -2 \\sum_{i=1}^{n}(y_i - bx_i)x_i  $$\n",
    "- 위와 같이 일정한 비율로 찾으면 찾는데 오래 걸립니다.\n",
    "- b값의 이동 규칙\n",
    "    - 기울기가 음수이면 값을 증가(오른쪽으로 이동)\n",
    "    - 기울기가 양수이면 값을 증가(왼쪽으로 이동)\n",
    "    - $ b:=b-{batch size} \\centerdot \\frac{\\partial{L}}{\\partial{b}}$"
   ]
  },
  {
   "cell_type": "code",
   "execution_count": 18,
   "metadata": {
    "ExecuteTime": {
     "end_time": "2022-05-25T05:35:04.036583Z",
     "start_time": "2022-05-25T05:35:04.033664Z"
    },
    "id": "xXNFOKckxibW"
   },
   "outputs": [],
   "source": [
    "# b의 초기값\n",
    "b = 50\n",
    "\n",
    "# 최적값을 찾기위한 실행 횟수\n",
    "# epoch가 낮으면 정확한 값을 찾기 어려움\n",
    "epoch = 50\n",
    "\n",
    "# 한번에 이동하는 크기제어\n",
    "batch_size = 0.01\n",
    "\n",
    "log_datas = []"
   ]
  },
  {
   "cell_type": "markdown",
   "metadata": {
    "id": "2FMSePoCxibW"
   },
   "source": [
    "#### 기울기 구하는 함수\n",
    "$ \\frac{\\partial{L}}{\\partial{b}} = -2 \\sum_{i=1}^{n}(y_i - bx_i)x_i  $"
   ]
  },
  {
   "cell_type": "code",
   "execution_count": 19,
   "metadata": {
    "ExecuteTime": {
     "end_time": "2022-05-25T05:35:07.998946Z",
     "start_time": "2022-05-25T05:35:07.995053Z"
    },
    "id": "8rNEJGeCxibW"
   },
   "outputs": [],
   "source": [
    "# 기울기 구하는 함수\n",
    "def slope_func(df, b):\n",
    "    slope = 0\n",
    "    for idx, data in df.iterrows():\n",
    "        slope += -2 * (data.y - b * data.x) * data.x\n",
    "    return round(slope, 2)"
   ]
  },
  {
   "cell_type": "markdown",
   "metadata": {
    "id": "x8G2-bHXxibX"
   },
   "source": [
    "#### b값의 이동 규칙\n",
    "- 기울기가 음수이면 값을 증가(오른쪽으로 이동)\n",
    "- 기울기가 양수이면 값을 증가(왼쪽으로 이동)\n",
    "- $ b:=b-{batch size} \\centerdot \\frac{\\partial{L}}{\\partial{b}}$"
   ]
  },
  {
   "cell_type": "code",
   "execution_count": 20,
   "metadata": {
    "ExecuteTime": {
     "end_time": "2022-05-25T05:35:28.731078Z",
     "start_time": "2022-05-25T05:35:28.712585Z"
    },
    "colab": {
     "base_uri": "https://localhost:8080/",
     "height": 112
    },
    "executionInfo": {
     "elapsed": 382,
     "status": "ok",
     "timestamp": 1628817812240,
     "user": {
      "displayName": "Doojin Park",
      "photoUrl": "",
      "userId": "13081019711214908217"
     },
     "user_tz": -540
    },
    "id": "34u_6tF3xibX",
    "outputId": "7c9e70e9-750b-4f85-a5a8-7b8c792e3de0"
   },
   "outputs": [
    {
     "data": {
      "text/html": [
       "<div>\n",
       "<style scoped>\n",
       "    .dataframe tbody tr th:only-of-type {\n",
       "        vertical-align: middle;\n",
       "    }\n",
       "\n",
       "    .dataframe tbody tr th {\n",
       "        vertical-align: top;\n",
       "    }\n",
       "\n",
       "    .dataframe thead th {\n",
       "        text-align: right;\n",
       "    }\n",
       "</style>\n",
       "<table border=\"1\" class=\"dataframe\">\n",
       "  <thead>\n",
       "    <tr style=\"text-align: right;\">\n",
       "      <th></th>\n",
       "      <th>b</th>\n",
       "      <th>e</th>\n",
       "      <th>slope</th>\n",
       "    </tr>\n",
       "  </thead>\n",
       "  <tbody>\n",
       "    <tr>\n",
       "      <th>0</th>\n",
       "      <td>36.66</td>\n",
       "      <td>16488.818400</td>\n",
       "      <td>1334.00</td>\n",
       "    </tr>\n",
       "    <tr>\n",
       "      <th>1</th>\n",
       "      <td>27.06</td>\n",
       "      <td>8555.130659</td>\n",
       "      <td>960.48</td>\n",
       "    </tr>\n",
       "  </tbody>\n",
       "</table>\n",
       "</div>"
      ],
      "text/plain": [
       "       b             e    slope\n",
       "0  36.66  16488.818400  1334.00\n",
       "1  27.06   8555.130659   960.48"
      ]
     },
     "execution_count": 20,
     "metadata": {},
     "output_type": "execute_result"
    }
   ],
   "source": [
    "# b 값의 이동규칙을 이용하여 최적의 b구하기\n",
    "for _ in range(epoch):\n",
    "    \n",
    "    # b 값에 대한 기울기 구하기\n",
    "    slope = slope_func(df, b)\n",
    "    \n",
    "    # print(np.round(b, 2), slope)\n",
    "    \n",
    "    # 기울기가 0이면 반복문 빠져나가기\n",
    "    if slope == 0:\n",
    "        break\n",
    "    \n",
    "    # 기울기가 0 미만이면 b값이 증가 (slope가 음수이므로 b 값이 증가)\n",
    "    # 기울기가 0 초과이면 b값이 증가 (slope가 양수이므로 b 값이 감소)\n",
    "    b -= batch_size * slope\n",
    "    b = np.round(b, 5)\n",
    "    \n",
    "    # 에러 구하기\n",
    "    e = error_func(df, b)\n",
    "    \n",
    "    # 데이터 저장\n",
    "    log_datas.append({\n",
    "        \"b\": np.round(b, 2),\n",
    "        \"e\": e,\n",
    "        \"slope\": slope,\n",
    "    })\n",
    "\n",
    "log_df = pd.DataFrame(log_datas)\n",
    "log_df.head(2)"
   ]
  },
  {
   "cell_type": "code",
   "execution_count": 21,
   "metadata": {
    "ExecuteTime": {
     "end_time": "2022-05-25T05:35:37.251308Z",
     "start_time": "2022-05-25T05:35:37.247414Z"
    },
    "colab": {
     "base_uri": "https://localhost:8080/"
    },
    "executionInfo": {
     "elapsed": 8,
     "status": "ok",
     "timestamp": 1628817814371,
     "user": {
      "displayName": "Doojin Park",
      "photoUrl": "",
      "userId": "13081019711214908217"
     },
     "user_tz": -540
    },
    "id": "mBb8ZG1jxibX",
    "outputId": "c100d52f-a16b-4c1c-fdac-ea69f1a9581f"
   },
   "outputs": [
    {
     "data": {
      "text/plain": [
       "(38, 2.3573)"
      ]
     },
     "execution_count": 21,
     "metadata": {},
     "output_type": "execute_result"
    }
   ],
   "source": [
    "len(log_df), b # 초기값이 찾으려고 하는 값과 차이가 클수록 b의 최적값을 찾는데 오래걸림"
   ]
  },
  {
   "cell_type": "code",
   "execution_count": 22,
   "metadata": {
    "ExecuteTime": {
     "end_time": "2022-05-25T05:35:38.487308Z",
     "start_time": "2022-05-25T05:35:38.419566Z"
    },
    "colab": {
     "base_uri": "https://localhost:8080/",
     "height": 265
    },
    "executionInfo": {
     "elapsed": 595,
     "status": "ok",
     "timestamp": 1628817815409,
     "user": {
      "displayName": "Doojin Park",
      "photoUrl": "",
      "userId": "13081019711214908217"
     },
     "user_tz": -540
    },
    "id": "ZpJjNznwxibX",
    "outputId": "8c299ee9-4860-4373-a6cc-a91cded8c55d",
    "scrolled": true
   },
   "outputs": [
    {
     "data": {
      "image/png": "[encoded data removed]",
      "text/plain": [
       "<Figure size 432x288 with 1 Axes>"
      ]
     },
     "metadata": {
      "image/png": {
       "height": 249,
       "width": 383
      },
      "needs_background": "light"
     },
     "output_type": "display_data"
    }
   ],
   "source": [
    "# 최적의 b를 찾기위한 b값과 e값의 그래프\n",
    "# 최적의 b에 다가갈수록 미분값(기울기)이 작아져서 이동폭을 줄여가며 최적의 b값에 다가감\n",
    "plt.scatter(log_df.b, log_df.e)\n",
    "plt.show()"
   ]
  },
  {
   "cell_type": "markdown",
   "metadata": {
    "id": "4xNwreMYxibX"
   },
   "source": [
    "- $a$를 제거하지 않은 수식과 규칙은 아래와 같습니다.\n",
    "    - $\\hat{y} = a + bx$\n",
    "        - $a$와 $b$를 편미분\n",
    "\n",
    "    $$ \\sum_{i=1}^n e_i^2 = \\sum_{i=1}^n(y_i - a - bx_i)^2$$\n",
    "\n",
    "    $$ \\frac{\\partial{L}}{\\partial{a}} = -2 \\sum_{i=1}^{n}(y_i - a - bx_i)  $$\n",
    "\n",
    "    $$ \\frac{\\partial{L}}{\\partial{b}} = -2 \\sum_{i=1}^{n}(y_i - a - bx_i)x_i  $$\n",
    "\n",
    "    - $a$, $b$값을 변경하면서 가장 오차가 작은 $a$, $b$값을 찾음\n",
    "        - 기울기가 음수이면 값을 증가(오른쪽으로 이동)\n",
    "        - 기울기가 양수이면 값을 증가(왼쪽으로 이동)\n",
    "        - 이동 거리\n",
    "        - $ b:=b-{batch size} \\centerdot \\frac{\\partial{L}}{\\partial{b}}$\n",
    "        - $ a:=a-{batch size} \\centerdot \\frac{\\partial{L}}{\\partial{a}}$"
   ]
  },
  {
   "cell_type": "markdown",
   "metadata": {
    "id": "deVDr7uexibX"
   },
   "source": [
    "### OLS(Ordinary Least Square)\n",
    "    - 최소 제곱법으로 구해진 추세선은 평균을 지납니다.\n",
    "    - 추세선이 평균으로의 회귀라고 해서 회귀 분석이라고 합니다."
   ]
  },
  {
   "cell_type": "markdown",
   "metadata": {
    "id": "Ecm13NIBxibX"
   },
   "source": [
    "#### 정리\n",
    "- 단순 선형 회귀 분석은 하나의 x 데이터로 y 데이터를 예측하기 위해 최적의 추세선 수식을 구함\n",
    "- x 데이터로 y 데이터를 예측\n",
    "\n",
    "$$y = a + bx + e$$\n",
    "\n",
    "- 가장 작은 오차($e$)를 갖는 회귀계수인 a와 b를 구하는것이 목적\n",
    "- 수학에서의 방정식을 컴퓨터에서는 선형대수로 계산\n",
    "- 최소제곱법 : 가장 오차가 작은 추세선을 구하기 위한 방법\n",
    "- 경사하강법 : 효율적으로 회귀계수를 구하기 위한 방법"
   ]
  }
 ],
 "metadata": {
  "colab": {
   "collapsed_sections": [
    "3xJf-bUBxibU",
    "j7wU8xfexibU",
    "UqRmtES3xibU",
    "Ecm13NIBxibX"
   ],
   "name": "01_simple_linear_regression.ipynb",
   "provenance": []
  },
  "kernelspec": {
   "display_name": "Python 3 (ipykernel)",
   "language": "python",
   "name": "python3"
  },
  "language_info": {
   "codemirror_mode": {
    "name": "ipython",
    "version": 3
   },
   "file_extension": ".py",
   "mimetype": "text/x-python",
   "name": "python",
   "nbconvert_exporter": "python",
   "pygments_lexer": "ipython3",
   "version": "3.8.13"
  },
  "toc": {
   "base_numbering": 1,
   "nav_menu": {},
   "number_sections": false,
   "sideBar": true,
   "skip_h1_title": false,
   "title_cell": "Table of Contents",
   "title_sidebar": "Contents",
   "toc_cell": false,
   "toc_position": {},
   "toc_section_display": true,
   "toc_window_display": false
  },
  "varInspector": {
   "cols": {
    "lenName": 16,
    "lenType": 16,
    "lenVar": 40
   },
   "kernels_config": {
    "python": {
     "delete_cmd_postfix": "",
     "delete_cmd_prefix": "del ",
     "library": "var_list.py",
     "varRefreshCmd": "print(var_dic_list())"
    },
    "r": {
     "delete_cmd_postfix": ") ",
     "delete_cmd_prefix": "rm(",
     "library": "var_list.r",
     "varRefreshCmd": "cat(var_dic_list()) "
    }
   },
   "types_to_exclude": [
    "module",
    "function",
    "builtin_function_or_method",
    "instance",
    "_Feature"
   ],
   "window_display": false
  }
 },
 "nbformat": 4,
 "nbformat_minor": 1
}
