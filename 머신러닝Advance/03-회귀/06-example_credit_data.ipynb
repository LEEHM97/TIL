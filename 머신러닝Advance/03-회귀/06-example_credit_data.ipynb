{
 "cells": [
  {
   "cell_type": "code",
   "execution_count": 1,
   "metadata": {
    "ExecuteTime": {
     "end_time": "2022-05-26T01:19:01.804135Z",
     "start_time": "2022-05-26T01:19:00.339271Z"
    },
    "executionInfo": {
     "elapsed": 698,
     "status": "ok",
     "timestamp": 1635059255309,
     "user": {
      "displayName": "Doojin Park",
      "photoUrl": "https://lh3.googleusercontent.com/a/default-user=s64",
      "userId": "13081019711214908217"
     },
     "user_tz": -540
    },
    "id": "YnahBrbLrzn6"
   },
   "outputs": [],
   "source": [
    "%config InlineBackend.figure_formats = {'png', 'retina'}\n",
    "import numpy as np\n",
    "import pandas as pd\n",
    "import matplotlib.pyplot as plt\n",
    "import seaborn as sns\n",
    "import warnings\n",
    "warnings.filterwarnings('ignore')"
   ]
  },
  {
   "cell_type": "markdown",
   "metadata": {
    "id": "f7b9DwGlUQ3x"
   },
   "source": [
    "## 1: 데이터 로드"
   ]
  },
  {
   "cell_type": "code",
   "execution_count": 15,
   "metadata": {
    "ExecuteTime": {
     "end_time": "2022-05-26T01:22:38.915595Z",
     "start_time": "2022-05-26T01:22:38.904889Z"
    },
    "colab": {
     "base_uri": "https://localhost:8080/",
     "height": 454
    },
    "executionInfo": {
     "elapsed": 11,
     "status": "ok",
     "timestamp": 1635059255310,
     "user": {
      "displayName": "Doojin Park",
      "photoUrl": "https://lh3.googleusercontent.com/a/default-user=s64",
      "userId": "13081019711214908217"
     },
     "user_tz": -540
    },
    "id": "zogl66qasATe",
    "outputId": "19b33f2f-cd21-4472-b869-19b68f653585"
   },
   "outputs": [
    {
     "data": {
      "text/html": [
       "<div>\n",
       "<style scoped>\n",
       "    .dataframe tbody tr th:only-of-type {\n",
       "        vertical-align: middle;\n",
       "    }\n",
       "\n",
       "    .dataframe tbody tr th {\n",
       "        vertical-align: top;\n",
       "    }\n",
       "\n",
       "    .dataframe thead th {\n",
       "        text-align: right;\n",
       "    }\n",
       "</style>\n",
       "<table border=\"1\" class=\"dataframe\">\n",
       "  <thead>\n",
       "    <tr style=\"text-align: right;\">\n",
       "      <th></th>\n",
       "      <th>ID</th>\n",
       "      <th>Income</th>\n",
       "      <th>Limit</th>\n",
       "      <th>Rating</th>\n",
       "      <th>Cards</th>\n",
       "      <th>Age</th>\n",
       "      <th>Education</th>\n",
       "      <th>Gender</th>\n",
       "      <th>Student</th>\n",
       "      <th>Married</th>\n",
       "      <th>Ethnicity</th>\n",
       "      <th>Balance</th>\n",
       "    </tr>\n",
       "  </thead>\n",
       "  <tbody>\n",
       "    <tr>\n",
       "      <th>0</th>\n",
       "      <td>1</td>\n",
       "      <td>14.891</td>\n",
       "      <td>3606</td>\n",
       "      <td>283</td>\n",
       "      <td>2</td>\n",
       "      <td>34</td>\n",
       "      <td>11</td>\n",
       "      <td>Male</td>\n",
       "      <td>No</td>\n",
       "      <td>Yes</td>\n",
       "      <td>Caucasian</td>\n",
       "      <td>333</td>\n",
       "    </tr>\n",
       "    <tr>\n",
       "      <th>1</th>\n",
       "      <td>2</td>\n",
       "      <td>106.025</td>\n",
       "      <td>6645</td>\n",
       "      <td>483</td>\n",
       "      <td>3</td>\n",
       "      <td>82</td>\n",
       "      <td>15</td>\n",
       "      <td>Female</td>\n",
       "      <td>Yes</td>\n",
       "      <td>Yes</td>\n",
       "      <td>Asian</td>\n",
       "      <td>903</td>\n",
       "    </tr>\n",
       "    <tr>\n",
       "      <th>2</th>\n",
       "      <td>3</td>\n",
       "      <td>104.593</td>\n",
       "      <td>7075</td>\n",
       "      <td>514</td>\n",
       "      <td>4</td>\n",
       "      <td>71</td>\n",
       "      <td>11</td>\n",
       "      <td>Male</td>\n",
       "      <td>No</td>\n",
       "      <td>No</td>\n",
       "      <td>Asian</td>\n",
       "      <td>580</td>\n",
       "    </tr>\n",
       "    <tr>\n",
       "      <th>3</th>\n",
       "      <td>4</td>\n",
       "      <td>148.924</td>\n",
       "      <td>9504</td>\n",
       "      <td>681</td>\n",
       "      <td>3</td>\n",
       "      <td>36</td>\n",
       "      <td>11</td>\n",
       "      <td>Female</td>\n",
       "      <td>No</td>\n",
       "      <td>No</td>\n",
       "      <td>Asian</td>\n",
       "      <td>964</td>\n",
       "    </tr>\n",
       "    <tr>\n",
       "      <th>4</th>\n",
       "      <td>5</td>\n",
       "      <td>55.882</td>\n",
       "      <td>4897</td>\n",
       "      <td>357</td>\n",
       "      <td>2</td>\n",
       "      <td>68</td>\n",
       "      <td>16</td>\n",
       "      <td>Male</td>\n",
       "      <td>No</td>\n",
       "      <td>Yes</td>\n",
       "      <td>Caucasian</td>\n",
       "      <td>331</td>\n",
       "    </tr>\n",
       "    <tr>\n",
       "      <th>...</th>\n",
       "      <td>...</td>\n",
       "      <td>...</td>\n",
       "      <td>...</td>\n",
       "      <td>...</td>\n",
       "      <td>...</td>\n",
       "      <td>...</td>\n",
       "      <td>...</td>\n",
       "      <td>...</td>\n",
       "      <td>...</td>\n",
       "      <td>...</td>\n",
       "      <td>...</td>\n",
       "      <td>...</td>\n",
       "    </tr>\n",
       "    <tr>\n",
       "      <th>395</th>\n",
       "      <td>396</td>\n",
       "      <td>12.096</td>\n",
       "      <td>4100</td>\n",
       "      <td>307</td>\n",
       "      <td>3</td>\n",
       "      <td>32</td>\n",
       "      <td>13</td>\n",
       "      <td>Male</td>\n",
       "      <td>No</td>\n",
       "      <td>Yes</td>\n",
       "      <td>Caucasian</td>\n",
       "      <td>560</td>\n",
       "    </tr>\n",
       "    <tr>\n",
       "      <th>396</th>\n",
       "      <td>397</td>\n",
       "      <td>13.364</td>\n",
       "      <td>3838</td>\n",
       "      <td>296</td>\n",
       "      <td>5</td>\n",
       "      <td>65</td>\n",
       "      <td>17</td>\n",
       "      <td>Male</td>\n",
       "      <td>No</td>\n",
       "      <td>No</td>\n",
       "      <td>African American</td>\n",
       "      <td>480</td>\n",
       "    </tr>\n",
       "    <tr>\n",
       "      <th>397</th>\n",
       "      <td>398</td>\n",
       "      <td>57.872</td>\n",
       "      <td>4171</td>\n",
       "      <td>321</td>\n",
       "      <td>5</td>\n",
       "      <td>67</td>\n",
       "      <td>12</td>\n",
       "      <td>Female</td>\n",
       "      <td>No</td>\n",
       "      <td>Yes</td>\n",
       "      <td>Caucasian</td>\n",
       "      <td>138</td>\n",
       "    </tr>\n",
       "    <tr>\n",
       "      <th>398</th>\n",
       "      <td>399</td>\n",
       "      <td>37.728</td>\n",
       "      <td>2525</td>\n",
       "      <td>192</td>\n",
       "      <td>1</td>\n",
       "      <td>44</td>\n",
       "      <td>13</td>\n",
       "      <td>Male</td>\n",
       "      <td>No</td>\n",
       "      <td>Yes</td>\n",
       "      <td>Caucasian</td>\n",
       "      <td>0</td>\n",
       "    </tr>\n",
       "    <tr>\n",
       "      <th>399</th>\n",
       "      <td>400</td>\n",
       "      <td>18.701</td>\n",
       "      <td>5524</td>\n",
       "      <td>415</td>\n",
       "      <td>5</td>\n",
       "      <td>64</td>\n",
       "      <td>7</td>\n",
       "      <td>Female</td>\n",
       "      <td>No</td>\n",
       "      <td>No</td>\n",
       "      <td>Asian</td>\n",
       "      <td>966</td>\n",
       "    </tr>\n",
       "  </tbody>\n",
       "</table>\n",
       "<p>400 rows × 12 columns</p>\n",
       "</div>"
      ],
      "text/plain": [
       "      ID   Income  Limit  Rating  Cards  Age  Education  Gender Student  \\\n",
       "0      1   14.891   3606     283      2   34         11    Male      No   \n",
       "1      2  106.025   6645     483      3   82         15  Female     Yes   \n",
       "2      3  104.593   7075     514      4   71         11    Male      No   \n",
       "3      4  148.924   9504     681      3   36         11  Female      No   \n",
       "4      5   55.882   4897     357      2   68         16    Male      No   \n",
       "..   ...      ...    ...     ...    ...  ...        ...     ...     ...   \n",
       "395  396   12.096   4100     307      3   32         13    Male      No   \n",
       "396  397   13.364   3838     296      5   65         17    Male      No   \n",
       "397  398   57.872   4171     321      5   67         12  Female      No   \n",
       "398  399   37.728   2525     192      1   44         13    Male      No   \n",
       "399  400   18.701   5524     415      5   64          7  Female      No   \n",
       "\n",
       "    Married         Ethnicity  Balance  \n",
       "0       Yes         Caucasian      333  \n",
       "1       Yes             Asian      903  \n",
       "2        No             Asian      580  \n",
       "3        No             Asian      964  \n",
       "4       Yes         Caucasian      331  \n",
       "..      ...               ...      ...  \n",
       "395     Yes         Caucasian      560  \n",
       "396      No  African American      480  \n",
       "397     Yes         Caucasian      138  \n",
       "398     Yes         Caucasian        0  \n",
       "399      No             Asian      966  \n",
       "\n",
       "[400 rows x 12 columns]"
      ]
     },
     "execution_count": 15,
     "metadata": {},
     "output_type": "execute_result"
    }
   ],
   "source": [
    "# target : Balance\n",
    "df = pd.read_csv(\"./data/credit.csv\")\n",
    "df"
   ]
  },
  {
   "cell_type": "code",
   "execution_count": 5,
   "metadata": {
    "ExecuteTime": {
     "end_time": "2022-05-26T01:19:53.127706Z",
     "start_time": "2022-05-26T01:19:53.124786Z"
    },
    "executionInfo": {
     "elapsed": 426,
     "status": "ok",
     "timestamp": 1635059255727,
     "user": {
      "displayName": "Doojin Park",
      "photoUrl": "https://lh3.googleusercontent.com/a/default-user=s64",
      "userId": "13081019711214908217"
     },
     "user_tz": -540
    },
    "id": "JuDF_39KsEOZ"
   },
   "outputs": [],
   "source": [
    "# summary\n",
    "# 회귀분석 : 단순선형, 다중\n",
    "# 다중회귀 : feture selection : 산점도, 상관계수, VIF\n",
    "# sklearn, statsmodels\n",
    "# mae\n",
    "\n",
    "# mse\n",
    "from sklearn.metrics import mean_squared_error"
   ]
  },
  {
   "cell_type": "markdown",
   "metadata": {
    "id": "XyHAs3XUUUW9"
   },
   "source": [
    "## 2: 데이터 전처리"
   ]
  },
  {
   "cell_type": "code",
   "execution_count": null,
   "metadata": {
    "executionInfo": {
     "elapsed": 135,
     "status": "ok",
     "timestamp": 1635059255728,
     "user": {
      "displayName": "Doojin Park",
      "photoUrl": "https://lh3.googleusercontent.com/a/default-user=s64",
      "userId": "13081019711214908217"
     },
     "user_tz": -540
    },
    "id": "IraS7rTzUY2_"
   },
   "outputs": [],
   "source": [
    "# 수치형 데이터만 필터링"
   ]
  },
  {
   "cell_type": "code",
   "execution_count": 16,
   "metadata": {
    "ExecuteTime": {
     "end_time": "2022-05-26T01:22:42.799343Z",
     "start_time": "2022-05-26T01:22:42.794476Z"
    },
    "colab": {
     "base_uri": "https://localhost:8080/"
    },
    "executionInfo": {
     "elapsed": 135,
     "status": "ok",
     "timestamp": 1635059255729,
     "user": {
      "displayName": "Doojin Park",
      "photoUrl": "https://lh3.googleusercontent.com/a/default-user=s64",
      "userId": "13081019711214908217"
     },
     "user_tz": -540
    },
    "id": "OnFB9vD5RVPV",
    "outputId": "0ee73162-32be-4f93-80da-c656c5a2295e"
   },
   "outputs": [
    {
     "data": {
      "text/plain": [
       "ID             int64\n",
       "Income       float64\n",
       "Limit          int64\n",
       "Rating         int64\n",
       "Cards          int64\n",
       "Age            int64\n",
       "Education      int64\n",
       "Gender        object\n",
       "Student       object\n",
       "Married       object\n",
       "Ethnicity     object\n",
       "Balance        int64\n",
       "dtype: object"
      ]
     },
     "execution_count": 16,
     "metadata": {},
     "output_type": "execute_result"
    }
   ],
   "source": [
    "df.dtypes"
   ]
  },
  {
   "cell_type": "code",
   "execution_count": 21,
   "metadata": {
    "ExecuteTime": {
     "end_time": "2022-05-26T01:26:14.889274Z",
     "start_time": "2022-05-26T01:26:14.884407Z"
    },
    "colab": {
     "base_uri": "https://localhost:8080/"
    },
    "executionInfo": {
     "elapsed": 131,
     "status": "ok",
     "timestamp": 1635059255729,
     "user": {
      "displayName": "Doojin Park",
      "photoUrl": "https://lh3.googleusercontent.com/a/default-user=s64",
      "userId": "13081019711214908217"
     },
     "user_tz": -540
    },
    "id": "QHiRHmI4Rois",
    "outputId": "1105c23b-52a6-45b8-f269-c1112655e73c"
   },
   "outputs": [
    {
     "data": {
      "text/plain": [
       "['ID', 'Income', 'Limit', 'Rating', 'Cards', 'Age', 'Education', 'Balance']"
      ]
     },
     "execution_count": 21,
     "metadata": {},
     "output_type": "execute_result"
    }
   ],
   "source": [
    "numerical_columns = [column for column in df.columns if df[column].dtype in (\"int64\", \"float\")]\n",
    "numerical_columns"
   ]
  },
  {
   "cell_type": "code",
   "execution_count": 22,
   "metadata": {
    "ExecuteTime": {
     "end_time": "2022-05-26T01:26:21.899777Z",
     "start_time": "2022-05-26T01:26:21.891990Z"
    },
    "colab": {
     "base_uri": "https://localhost:8080/",
     "height": 130
    },
    "executionInfo": {
     "elapsed": 132,
     "status": "ok",
     "timestamp": 1635059255734,
     "user": {
      "displayName": "Doojin Park",
      "photoUrl": "https://lh3.googleusercontent.com/a/default-user=s64",
      "userId": "13081019711214908217"
     },
     "user_tz": -540
    },
    "id": "6uuV0jLqRpX4",
    "outputId": "3743425a-3690-4490-bc97-bb768c5f16fb"
   },
   "outputs": [
    {
     "data": {
      "text/html": [
       "<div>\n",
       "<style scoped>\n",
       "    .dataframe tbody tr th:only-of-type {\n",
       "        vertical-align: middle;\n",
       "    }\n",
       "\n",
       "    .dataframe tbody tr th {\n",
       "        vertical-align: top;\n",
       "    }\n",
       "\n",
       "    .dataframe thead th {\n",
       "        text-align: right;\n",
       "    }\n",
       "</style>\n",
       "<table border=\"1\" class=\"dataframe\">\n",
       "  <thead>\n",
       "    <tr style=\"text-align: right;\">\n",
       "      <th></th>\n",
       "      <th>Income</th>\n",
       "      <th>Limit</th>\n",
       "      <th>Rating</th>\n",
       "      <th>Cards</th>\n",
       "      <th>Age</th>\n",
       "      <th>Education</th>\n",
       "      <th>Balance</th>\n",
       "    </tr>\n",
       "  </thead>\n",
       "  <tbody>\n",
       "    <tr>\n",
       "      <th>398</th>\n",
       "      <td>37.728</td>\n",
       "      <td>2525</td>\n",
       "      <td>192</td>\n",
       "      <td>1</td>\n",
       "      <td>44</td>\n",
       "      <td>13</td>\n",
       "      <td>0</td>\n",
       "    </tr>\n",
       "    <tr>\n",
       "      <th>399</th>\n",
       "      <td>18.701</td>\n",
       "      <td>5524</td>\n",
       "      <td>415</td>\n",
       "      <td>5</td>\n",
       "      <td>64</td>\n",
       "      <td>7</td>\n",
       "      <td>966</td>\n",
       "    </tr>\n",
       "  </tbody>\n",
       "</table>\n",
       "</div>"
      ],
      "text/plain": [
       "     Income  Limit  Rating  Cards  Age  Education  Balance\n",
       "398  37.728   2525     192      1   44         13        0\n",
       "399  18.701   5524     415      5   64          7      966"
      ]
     },
     "execution_count": 22,
     "metadata": {},
     "output_type": "execute_result"
    }
   ],
   "source": [
    "# 불필요하다고 생각하는 컬럼 제거 : ID\n",
    "filtered_df = df[numerical_columns].drop(columns=[\"ID\"])\n",
    "filtered_df.tail(2)"
   ]
  },
  {
   "cell_type": "code",
   "execution_count": null,
   "metadata": {
    "executionInfo": {
     "elapsed": 130,
     "status": "ok",
     "timestamp": 1635059255740,
     "user": {
      "displayName": "Doojin Park",
      "photoUrl": "https://lh3.googleusercontent.com/a/default-user=s64",
      "userId": "13081019711214908217"
     },
     "user_tz": -540
    },
    "id": "jZ1MF3-qSUOi"
   },
   "outputs": [],
   "source": [
    "# feature, target 데이터 분리"
   ]
  },
  {
   "cell_type": "code",
   "execution_count": 23,
   "metadata": {
    "ExecuteTime": {
     "end_time": "2022-05-26T01:26:30.813170Z",
     "start_time": "2022-05-26T01:26:30.806357Z"
    },
    "colab": {
     "base_uri": "https://localhost:8080/",
     "height": 100
    },
    "executionInfo": {
     "elapsed": 131,
     "status": "ok",
     "timestamp": 1635059255741,
     "user": {
      "displayName": "Doojin Park",
      "photoUrl": "https://lh3.googleusercontent.com/a/default-user=s64",
      "userId": "13081019711214908217"
     },
     "user_tz": -540
    },
    "id": "YxLZeHHuRwXP",
    "outputId": "18d8273a-0bf1-4051-b98e-dbb4d5f204e6"
   },
   "outputs": [
    {
     "data": {
      "text/html": [
       "<div>\n",
       "<style scoped>\n",
       "    .dataframe tbody tr th:only-of-type {\n",
       "        vertical-align: middle;\n",
       "    }\n",
       "\n",
       "    .dataframe tbody tr th {\n",
       "        vertical-align: top;\n",
       "    }\n",
       "\n",
       "    .dataframe thead th {\n",
       "        text-align: right;\n",
       "    }\n",
       "</style>\n",
       "<table border=\"1\" class=\"dataframe\">\n",
       "  <thead>\n",
       "    <tr style=\"text-align: right;\">\n",
       "      <th></th>\n",
       "      <th>Income</th>\n",
       "      <th>Limit</th>\n",
       "      <th>Rating</th>\n",
       "      <th>Cards</th>\n",
       "      <th>Age</th>\n",
       "      <th>Education</th>\n",
       "    </tr>\n",
       "  </thead>\n",
       "  <tbody>\n",
       "    <tr>\n",
       "      <th>399</th>\n",
       "      <td>18.701</td>\n",
       "      <td>5524</td>\n",
       "      <td>415</td>\n",
       "      <td>5</td>\n",
       "      <td>64</td>\n",
       "      <td>7</td>\n",
       "    </tr>\n",
       "  </tbody>\n",
       "</table>\n",
       "</div>"
      ],
      "text/plain": [
       "     Income  Limit  Rating  Cards  Age  Education\n",
       "399  18.701   5524     415      5   64          7"
      ]
     },
     "execution_count": 23,
     "metadata": {},
     "output_type": "execute_result"
    }
   ],
   "source": [
    "features = filtered_df[filtered_df.columns[:-1]]\n",
    "features.tail(1)"
   ]
  },
  {
   "cell_type": "code",
   "execution_count": 24,
   "metadata": {
    "ExecuteTime": {
     "end_time": "2022-05-26T01:26:43.417416Z",
     "start_time": "2022-05-26T01:26:43.413522Z"
    },
    "colab": {
     "base_uri": "https://localhost:8080/"
    },
    "executionInfo": {
     "elapsed": 129,
     "status": "ok",
     "timestamp": 1635059255741,
     "user": {
      "displayName": "Doojin Park",
      "photoUrl": "https://lh3.googleusercontent.com/a/default-user=s64",
      "userId": "13081019711214908217"
     },
     "user_tz": -540
    },
    "id": "2lN7dDFER35O",
    "outputId": "85c94689-0e29-494e-c173-7470a899b74b"
   },
   "outputs": [
    {
     "data": {
      "text/plain": [
       "0    333\n",
       "1    903\n",
       "Name: Balance, dtype: int64"
      ]
     },
     "execution_count": 24,
     "metadata": {},
     "output_type": "execute_result"
    }
   ],
   "source": [
    "target = filtered_df[\"Balance\"]\n",
    "target[:2]"
   ]
  },
  {
   "cell_type": "markdown",
   "metadata": {
    "id": "nH2o_7OqTOE3"
   },
   "source": [
    "## 3: 모델 학습"
   ]
  },
  {
   "cell_type": "code",
   "execution_count": 25,
   "metadata": {
    "ExecuteTime": {
     "end_time": "2022-05-26T01:26:47.184742Z",
     "start_time": "2022-05-26T01:26:47.131032Z"
    },
    "executionInfo": {
     "elapsed": 316,
     "status": "ok",
     "timestamp": 1635059255962,
     "user": {
      "displayName": "Doojin Park",
      "photoUrl": "https://lh3.googleusercontent.com/a/default-user=s64",
      "userId": "13081019711214908217"
     },
     "user_tz": -540
    },
    "id": "JmMfl85LSKwo"
   },
   "outputs": [],
   "source": [
    "from sklearn.linear_model import LinearRegression"
   ]
  },
  {
   "cell_type": "code",
   "execution_count": 26,
   "metadata": {
    "ExecuteTime": {
     "end_time": "2022-05-26T01:26:47.904034Z",
     "start_time": "2022-05-26T01:26:47.871914Z"
    },
    "executionInfo": {
     "elapsed": 15,
     "status": "ok",
     "timestamp": 1635059255962,
     "user": {
      "displayName": "Doojin Park",
      "photoUrl": "https://lh3.googleusercontent.com/a/default-user=s64",
      "userId": "13081019711214908217"
     },
     "user_tz": -540
    },
    "id": "j8rgvtgkSCTH"
   },
   "outputs": [],
   "source": [
    "model = LinearRegression().fit(features, target)"
   ]
  },
  {
   "cell_type": "markdown",
   "metadata": {
    "id": "IiR4hhIRTUJ_"
   },
   "source": [
    "## 4. 모델 성능확인"
   ]
  },
  {
   "cell_type": "code",
   "execution_count": 27,
   "metadata": {
    "ExecuteTime": {
     "end_time": "2022-05-26T01:26:50.233849Z",
     "start_time": "2022-05-26T01:26:50.230929Z"
    },
    "executionInfo": {
     "elapsed": 16,
     "status": "ok",
     "timestamp": 1635059255963,
     "user": {
      "displayName": "Doojin Park",
      "photoUrl": "https://lh3.googleusercontent.com/a/default-user=s64",
      "userId": "13081019711214908217"
     },
     "user_tz": -540
    },
    "id": "SfIRDjVBTYFA"
   },
   "outputs": [],
   "source": [
    "from sklearn.metrics import mean_absolute_error"
   ]
  },
  {
   "cell_type": "code",
   "execution_count": 28,
   "metadata": {
    "ExecuteTime": {
     "end_time": "2022-05-26T01:26:51.998735Z",
     "start_time": "2022-05-26T01:26:51.992896Z"
    },
    "colab": {
     "base_uri": "https://localhost:8080/"
    },
    "executionInfo": {
     "elapsed": 15,
     "status": "ok",
     "timestamp": 1635059255963,
     "user": {
      "displayName": "Doojin Park",
      "photoUrl": "https://lh3.googleusercontent.com/a/default-user=s64",
      "userId": "13081019711214908217"
     },
     "user_tz": -540
    },
    "id": "S0IIlNUiTSHw",
    "outputId": "16a19590-5b37-4360-c03a-56feacc8b222"
   },
   "outputs": [
    {
     "data": {
      "text/plain": [
       "119.3"
      ]
     },
     "execution_count": 28,
     "metadata": {},
     "output_type": "execute_result"
    }
   ],
   "source": [
    "pred = model.predict(features)\n",
    "mae = np.round(mean_absolute_error(target, pred), 2)\n",
    "mae"
   ]
  },
  {
   "cell_type": "markdown",
   "metadata": {
    "id": "hy9ZyWZnTazN"
   },
   "source": [
    "## 5: 모델 feature 최적화"
   ]
  },
  {
   "cell_type": "code",
   "execution_count": null,
   "metadata": {
    "executionInfo": {
     "elapsed": 11,
     "status": "ok",
     "timestamp": 1635059255964,
     "user": {
      "displayName": "Doojin Park",
      "photoUrl": "https://lh3.googleusercontent.com/a/default-user=s64",
      "userId": "13081019711214908217"
     },
     "user_tz": -540
    },
    "id": "awrSWTICTY2W"
   },
   "outputs": [],
   "source": [
    "# 1. 상관계수 확인"
   ]
  },
  {
   "cell_type": "code",
   "execution_count": 29,
   "metadata": {
    "ExecuteTime": {
     "end_time": "2022-05-26T01:27:07.504675Z",
     "start_time": "2022-05-26T01:27:07.495916Z"
    },
    "colab": {
     "base_uri": "https://localhost:8080/",
     "height": 285
    },
    "executionInfo": {
     "elapsed": 11,
     "status": "ok",
     "timestamp": 1635059255965,
     "user": {
      "displayName": "Doojin Park",
      "photoUrl": "https://lh3.googleusercontent.com/a/default-user=s64",
      "userId": "13081019711214908217"
     },
     "user_tz": -540
    },
    "id": "mmFSeuv8Tfdn",
    "outputId": "0c2b2693-9a72-450a-bbc5-26a6c9760dae"
   },
   "outputs": [
    {
     "data": {
      "text/html": [
       "<div>\n",
       "<style scoped>\n",
       "    .dataframe tbody tr th:only-of-type {\n",
       "        vertical-align: middle;\n",
       "    }\n",
       "\n",
       "    .dataframe tbody tr th {\n",
       "        vertical-align: top;\n",
       "    }\n",
       "\n",
       "    .dataframe thead th {\n",
       "        text-align: right;\n",
       "    }\n",
       "</style>\n",
       "<table border=\"1\" class=\"dataframe\">\n",
       "  <thead>\n",
       "    <tr style=\"text-align: right;\">\n",
       "      <th></th>\n",
       "      <th>Income</th>\n",
       "      <th>Limit</th>\n",
       "      <th>Rating</th>\n",
       "      <th>Cards</th>\n",
       "      <th>Age</th>\n",
       "      <th>Education</th>\n",
       "      <th>Balance</th>\n",
       "    </tr>\n",
       "  </thead>\n",
       "  <tbody>\n",
       "    <tr>\n",
       "      <th>Income</th>\n",
       "      <td>1.000000</td>\n",
       "      <td>0.792088</td>\n",
       "      <td>0.791378</td>\n",
       "      <td>-0.018273</td>\n",
       "      <td>0.175338</td>\n",
       "      <td>-0.027692</td>\n",
       "      <td>0.463656</td>\n",
       "    </tr>\n",
       "    <tr>\n",
       "      <th>Limit</th>\n",
       "      <td>0.792088</td>\n",
       "      <td>1.000000</td>\n",
       "      <td>0.996880</td>\n",
       "      <td>0.010231</td>\n",
       "      <td>0.100888</td>\n",
       "      <td>-0.023549</td>\n",
       "      <td>0.861697</td>\n",
       "    </tr>\n",
       "    <tr>\n",
       "      <th>Rating</th>\n",
       "      <td>0.791378</td>\n",
       "      <td>0.996880</td>\n",
       "      <td>1.000000</td>\n",
       "      <td>0.053239</td>\n",
       "      <td>0.103165</td>\n",
       "      <td>-0.030136</td>\n",
       "      <td>0.863625</td>\n",
       "    </tr>\n",
       "    <tr>\n",
       "      <th>Cards</th>\n",
       "      <td>-0.018273</td>\n",
       "      <td>0.010231</td>\n",
       "      <td>0.053239</td>\n",
       "      <td>1.000000</td>\n",
       "      <td>0.042948</td>\n",
       "      <td>-0.051084</td>\n",
       "      <td>0.086456</td>\n",
       "    </tr>\n",
       "    <tr>\n",
       "      <th>Age</th>\n",
       "      <td>0.175338</td>\n",
       "      <td>0.100888</td>\n",
       "      <td>0.103165</td>\n",
       "      <td>0.042948</td>\n",
       "      <td>1.000000</td>\n",
       "      <td>0.003619</td>\n",
       "      <td>0.001835</td>\n",
       "    </tr>\n",
       "    <tr>\n",
       "      <th>Education</th>\n",
       "      <td>-0.027692</td>\n",
       "      <td>-0.023549</td>\n",
       "      <td>-0.030136</td>\n",
       "      <td>-0.051084</td>\n",
       "      <td>0.003619</td>\n",
       "      <td>1.000000</td>\n",
       "      <td>-0.008062</td>\n",
       "    </tr>\n",
       "    <tr>\n",
       "      <th>Balance</th>\n",
       "      <td>0.463656</td>\n",
       "      <td>0.861697</td>\n",
       "      <td>0.863625</td>\n",
       "      <td>0.086456</td>\n",
       "      <td>0.001835</td>\n",
       "      <td>-0.008062</td>\n",
       "      <td>1.000000</td>\n",
       "    </tr>\n",
       "  </tbody>\n",
       "</table>\n",
       "</div>"
      ],
      "text/plain": [
       "             Income     Limit    Rating     Cards       Age  Education  \\\n",
       "Income     1.000000  0.792088  0.791378 -0.018273  0.175338  -0.027692   \n",
       "Limit      0.792088  1.000000  0.996880  0.010231  0.100888  -0.023549   \n",
       "Rating     0.791378  0.996880  1.000000  0.053239  0.103165  -0.030136   \n",
       "Cards     -0.018273  0.010231  0.053239  1.000000  0.042948  -0.051084   \n",
       "Age        0.175338  0.100888  0.103165  0.042948  1.000000   0.003619   \n",
       "Education -0.027692 -0.023549 -0.030136 -0.051084  0.003619   1.000000   \n",
       "Balance    0.463656  0.861697  0.863625  0.086456  0.001835  -0.008062   \n",
       "\n",
       "            Balance  \n",
       "Income     0.463656  \n",
       "Limit      0.861697  \n",
       "Rating     0.863625  \n",
       "Cards      0.086456  \n",
       "Age        0.001835  \n",
       "Education -0.008062  \n",
       "Balance    1.000000  "
      ]
     },
     "execution_count": 29,
     "metadata": {},
     "output_type": "execute_result"
    }
   ],
   "source": [
    "filtered_df.corr()"
   ]
  },
  {
   "cell_type": "code",
   "execution_count": 30,
   "metadata": {
    "ExecuteTime": {
     "end_time": "2022-05-26T01:27:22.066287Z",
     "start_time": "2022-05-26T01:27:21.826842Z"
    },
    "colab": {
     "base_uri": "https://localhost:8080/",
     "height": 323
    },
    "executionInfo": {
     "elapsed": 1079,
     "status": "ok",
     "timestamp": 1635059257034,
     "user": {
      "displayName": "Doojin Park",
      "photoUrl": "https://lh3.googleusercontent.com/a/default-user=s64",
      "userId": "13081019711214908217"
     },
     "user_tz": -540
    },
    "id": "6hsD_Ak7TiTl",
    "outputId": "3f3c33da-ca53-4adf-d59b-3b0c5ece3450"
   },
   "outputs": [
    {
     "data": {
      "image/png": "[encoded data removed]",
      "text/plain": [
       "<Figure size 1440x360 with 2 Axes>"
      ]
     },
     "metadata": {
      "image/png": {
       "height": 307,
       "width": 1048
      },
      "needs_background": "light"
     },
     "output_type": "display_data"
    }
   ],
   "source": [
    "plt.figure(figsize=(20, 5))\n",
    "sns.heatmap( filtered_df.corr() ** 2, annot=True, fmt=\".2f\")\n",
    "plt.show()"
   ]
  },
  {
   "cell_type": "code",
   "execution_count": null,
   "metadata": {
    "executionInfo": {
     "elapsed": 16,
     "status": "ok",
     "timestamp": 1635059257035,
     "user": {
      "displayName": "Doojin Park",
      "photoUrl": "https://lh3.googleusercontent.com/a/default-user=s64",
      "userId": "13081019711214908217"
     },
     "user_tz": -540
    },
    "id": "vP4JRgExTjWd"
   },
   "outputs": [],
   "source": [
    "# Balance와 관계가 없는 컬럼 Cards, Age, Education 확인"
   ]
  },
  {
   "cell_type": "code",
   "execution_count": 31,
   "metadata": {
    "ExecuteTime": {
     "end_time": "2022-05-26T01:27:33.394899Z",
     "start_time": "2022-05-26T01:27:33.391006Z"
    },
    "colab": {
     "base_uri": "https://localhost:8080/"
    },
    "executionInfo": {
     "elapsed": 17,
     "status": "ok",
     "timestamp": 1635059257036,
     "user": {
      "displayName": "Doojin Park",
      "photoUrl": "https://lh3.googleusercontent.com/a/default-user=s64",
      "userId": "13081019711214908217"
     },
     "user_tz": -540
    },
    "id": "Cu3pYeIVTvCb",
    "outputId": "2f959168-74d5-4502-9a4c-2b94ab697088"
   },
   "outputs": [
    {
     "data": {
      "text/plain": [
       "Index(['Income', 'Limit', 'Rating', 'Cards', 'Age', 'Education'], dtype='object')"
      ]
     },
     "execution_count": 31,
     "metadata": {},
     "output_type": "execute_result"
    }
   ],
   "source": [
    "features.columns"
   ]
  },
  {
   "cell_type": "code",
   "execution_count": 32,
   "metadata": {
    "ExecuteTime": {
     "end_time": "2022-05-26T01:27:34.851084Z",
     "start_time": "2022-05-26T01:27:34.847191Z"
    },
    "colab": {
     "base_uri": "https://localhost:8080/"
    },
    "executionInfo": {
     "elapsed": 13,
     "status": "ok",
     "timestamp": 1635059257036,
     "user": {
      "displayName": "Doojin Park",
      "photoUrl": "https://lh3.googleusercontent.com/a/default-user=s64",
      "userId": "13081019711214908217"
     },
     "user_tz": -540
    },
    "id": "LkblV1hJT1Rd",
    "outputId": "af141a3e-7a03-4b9b-dca4-289e8cf11ff2"
   },
   "outputs": [
    {
     "data": {
      "text/plain": [
       "Index(['Income', 'Limit', 'Rating'], dtype='object')"
      ]
     },
     "execution_count": 32,
     "metadata": {},
     "output_type": "execute_result"
    }
   ],
   "source": [
    "features.columns[:-3]"
   ]
  },
  {
   "cell_type": "code",
   "execution_count": 33,
   "metadata": {
    "ExecuteTime": {
     "end_time": "2022-05-26T01:27:37.906101Z",
     "start_time": "2022-05-26T01:27:37.900261Z"
    },
    "colab": {
     "base_uri": "https://localhost:8080/",
     "height": 110
    },
    "executionInfo": {
     "elapsed": 12,
     "status": "ok",
     "timestamp": 1635059257037,
     "user": {
      "displayName": "Doojin Park",
      "photoUrl": "https://lh3.googleusercontent.com/a/default-user=s64",
      "userId": "13081019711214908217"
     },
     "user_tz": -540
    },
    "id": "J3K5fgYSTxJl",
    "outputId": "3941e47e-fee2-4afe-fb0e-fbe80e879133"
   },
   "outputs": [
    {
     "data": {
      "text/html": [
       "<div>\n",
       "<style scoped>\n",
       "    .dataframe tbody tr th:only-of-type {\n",
       "        vertical-align: middle;\n",
       "    }\n",
       "\n",
       "    .dataframe tbody tr th {\n",
       "        vertical-align: top;\n",
       "    }\n",
       "\n",
       "    .dataframe thead th {\n",
       "        text-align: right;\n",
       "    }\n",
       "</style>\n",
       "<table border=\"1\" class=\"dataframe\">\n",
       "  <thead>\n",
       "    <tr style=\"text-align: right;\">\n",
       "      <th></th>\n",
       "      <th>Income</th>\n",
       "      <th>Limit</th>\n",
       "      <th>Rating</th>\n",
       "    </tr>\n",
       "  </thead>\n",
       "  <tbody>\n",
       "    <tr>\n",
       "      <th>398</th>\n",
       "      <td>37.728</td>\n",
       "      <td>2525</td>\n",
       "      <td>192</td>\n",
       "    </tr>\n",
       "    <tr>\n",
       "      <th>399</th>\n",
       "      <td>18.701</td>\n",
       "      <td>5524</td>\n",
       "      <td>415</td>\n",
       "    </tr>\n",
       "  </tbody>\n",
       "</table>\n",
       "</div>"
      ],
      "text/plain": [
       "     Income  Limit  Rating\n",
       "398  37.728   2525     192\n",
       "399  18.701   5524     415"
      ]
     },
     "execution_count": 33,
     "metadata": {},
     "output_type": "execute_result"
    }
   ],
   "source": [
    "features_2 = features[features.columns[:-3]]\n",
    "features_2.tail(2)"
   ]
  },
  {
   "cell_type": "code",
   "execution_count": 34,
   "metadata": {
    "ExecuteTime": {
     "end_time": "2022-05-26T01:27:39.915173Z",
     "start_time": "2022-05-26T01:27:39.908360Z"
    },
    "colab": {
     "base_uri": "https://localhost:8080/"
    },
    "executionInfo": {
     "elapsed": 11,
     "status": "ok",
     "timestamp": 1635059257037,
     "user": {
      "displayName": "Doojin Park",
      "photoUrl": "https://lh3.googleusercontent.com/a/default-user=s64",
      "userId": "13081019711214908217"
     },
     "user_tz": -540
    },
    "id": "7nraTvq6TokO",
    "outputId": "6ee24c94-3cf0-4b35-fd75-bb85e2b5056c"
   },
   "outputs": [
    {
     "data": {
      "text/plain": [
       "120.44"
      ]
     },
     "execution_count": 34,
     "metadata": {},
     "output_type": "execute_result"
    }
   ],
   "source": [
    "model = LinearRegression().fit(features_2, target)\n",
    "pred = model.predict(features_2)\n",
    "mae = np.round(mean_absolute_error(target, pred), 2)\n",
    "mae"
   ]
  },
  {
   "cell_type": "code",
   "execution_count": null,
   "metadata": {
    "executionInfo": {
     "elapsed": 10,
     "status": "ok",
     "timestamp": 1635059257038,
     "user": {
      "displayName": "Doojin Park",
      "photoUrl": "https://lh3.googleusercontent.com/a/default-user=s64",
      "userId": "13081019711214908217"
     },
     "user_tz": -540
    },
    "id": "1i9jFzfMT81r"
   },
   "outputs": [],
   "source": [
    "# Cards, Age, Education 3개의 컬럼을 제거해도 성능에 큰 변화가 없음 "
   ]
  },
  {
   "cell_type": "code",
   "execution_count": null,
   "metadata": {
    "executionInfo": {
     "elapsed": 10,
     "status": "ok",
     "timestamp": 1635059257039,
     "user": {
      "displayName": "Doojin Park",
      "photoUrl": "https://lh3.googleusercontent.com/a/default-user=s64",
      "userId": "13081019711214908217"
     },
     "user_tz": -540
    },
    "id": "8GyXCANEUEnr"
   },
   "outputs": [],
   "source": [
    "# 2. 요약표 확인"
   ]
  },
  {
   "cell_type": "code",
   "execution_count": 35,
   "metadata": {
    "ExecuteTime": {
     "end_time": "2022-05-26T01:27:49.154772Z",
     "start_time": "2022-05-26T01:27:48.447160Z"
    },
    "executionInfo": {
     "elapsed": 929,
     "status": "ok",
     "timestamp": 1635059257958,
     "user": {
      "displayName": "Doojin Park",
      "photoUrl": "https://lh3.googleusercontent.com/a/default-user=s64",
      "userId": "13081019711214908217"
     },
     "user_tz": -540
    },
    "id": "n5grUrR7U-Um"
   },
   "outputs": [],
   "source": [
    "import statsmodels.api as sm"
   ]
  },
  {
   "cell_type": "code",
   "execution_count": 36,
   "metadata": {
    "ExecuteTime": {
     "end_time": "2022-05-26T01:27:51.273083Z",
     "start_time": "2022-05-26T01:27:51.269190Z"
    },
    "executionInfo": {
     "elapsed": 64,
     "status": "ok",
     "timestamp": 1635059257992,
     "user": {
      "displayName": "Doojin Park",
      "photoUrl": "https://lh3.googleusercontent.com/a/default-user=s64",
      "userId": "13081019711214908217"
     },
     "user_tz": -540
    },
    "id": "vZ8OkwOkVBrl"
   },
   "outputs": [],
   "source": [
    "# features 로 확인하면 Education 컬럼의 p-value가 높게 나와서 Education 컬럼 제거하는것이 좋음\n",
    "sm_feature = sm.add_constant(features_2)"
   ]
  },
  {
   "cell_type": "code",
   "execution_count": 37,
   "metadata": {
    "ExecuteTime": {
     "end_time": "2022-05-26T01:27:55.950964Z",
     "start_time": "2022-05-26T01:27:55.943177Z"
    },
    "executionInfo": {
     "elapsed": 63,
     "status": "ok",
     "timestamp": 1635059257993,
     "user": {
      "displayName": "Doojin Park",
      "photoUrl": "https://lh3.googleusercontent.com/a/default-user=s64",
      "userId": "13081019711214908217"
     },
     "user_tz": -540
    },
    "id": "__czBkR5U7Yp"
   },
   "outputs": [],
   "source": [
    "model = sm.OLS(target, sm_feature).fit()"
   ]
  },
  {
   "cell_type": "code",
   "execution_count": 38,
   "metadata": {
    "ExecuteTime": {
     "end_time": "2022-05-26T01:27:57.023607Z",
     "start_time": "2022-05-26T01:27:57.007060Z"
    },
    "colab": {
     "base_uri": "https://localhost:8080/"
    },
    "executionInfo": {
     "elapsed": 62,
     "status": "ok",
     "timestamp": 1635059257993,
     "user": {
      "displayName": "Doojin Park",
      "photoUrl": "https://lh3.googleusercontent.com/a/default-user=s64",
      "userId": "13081019711214908217"
     },
     "user_tz": -540
    },
    "id": "JaY0usc4U0tC",
    "outputId": "1593ccde-8d7a-48d3-9b33-ed746f15aaa7"
   },
   "outputs": [
    {
     "name": "stdout",
     "output_type": "stream",
     "text": [
      "                 Results: Ordinary least squares\n",
      "==================================================================\n",
      "Model:              OLS              Adj. R-squared:     0.875    \n",
      "Dependent Variable: Balance          AIC:                5210.9503\n",
      "Date:               2022-05-26 10:27 BIC:                5226.9161\n",
      "No. Observations:   400              Log-Likelihood:     -2601.5  \n",
      "Df Model:           3                F-statistic:        934.6    \n",
      "Df Residuals:       396              Prob (F-statistic): 3.20e-179\n",
      "R-squared:          0.876            Scale:              26359.   \n",
      "-------------------------------------------------------------------\n",
      "          Coef.    Std.Err.     t      P>|t|     [0.025     0.975] \n",
      "-------------------------------------------------------------------\n",
      "const   -489.7275   32.0989  -15.2568  0.0000  -552.8331  -426.6219\n",
      "Income    -7.7193    0.3781  -20.4184  0.0000    -8.4626    -6.9761\n",
      "Limit      0.0847    0.0447    1.8939  0.0590    -0.0032     0.1726\n",
      "Rating     2.6986    0.6659    4.0523  0.0001     1.3894     4.0078\n",
      "------------------------------------------------------------------\n",
      "Omnibus:              95.253       Durbin-Watson:          1.905  \n",
      "Prob(Omnibus):        0.000        Jarque-Bera (JB):       168.312\n",
      "Skew:                 1.373        Prob(JB):               0.000  \n",
      "Kurtosis:             4.601        Condition No.:          20886  \n",
      "==================================================================\n",
      "* The condition number is large (2e+04). This might indicate\n",
      "strong multicollinearity or other numerical problems.\n"
     ]
    }
   ],
   "source": [
    "print(model.summary2())"
   ]
  },
  {
   "cell_type": "code",
   "execution_count": 39,
   "metadata": {
    "ExecuteTime": {
     "end_time": "2022-05-26T01:28:31.179926Z",
     "start_time": "2022-05-26T01:28:31.174086Z"
    },
    "colab": {
     "base_uri": "https://localhost:8080/"
    },
    "executionInfo": {
     "elapsed": 60,
     "status": "ok",
     "timestamp": 1635059257997,
     "user": {
      "displayName": "Doojin Park",
      "photoUrl": "https://lh3.googleusercontent.com/a/default-user=s64",
      "userId": "13081019711214908217"
     },
     "user_tz": -540
    },
    "id": "yrQXq-vHWN2Z",
    "outputId": "d120ae56-c3c8-42b9-c6e0-0cd198c06abe"
   },
   "outputs": [
    {
     "data": {
      "text/plain": [
       "120.44"
      ]
     },
     "execution_count": 39,
     "metadata": {},
     "output_type": "execute_result"
    }
   ],
   "source": [
    "# MAE 확인\n",
    "pred =  np.dot(sm_feature, model.params)\n",
    "mae = np.round(mean_absolute_error(target, pred), 2)\n",
    "mae"
   ]
  },
  {
   "cell_type": "code",
   "execution_count": null,
   "metadata": {
    "executionInfo": {
     "elapsed": 56,
     "status": "ok",
     "timestamp": 1635059257997,
     "user": {
      "displayName": "Doojin Park",
      "photoUrl": "https://lh3.googleusercontent.com/a/default-user=s64",
      "userId": "13081019711214908217"
     },
     "user_tz": -540
    },
    "id": "P2D6eJs7Vmf5"
   },
   "outputs": [],
   "source": [
    "# 3. VIF 지표 확인"
   ]
  },
  {
   "cell_type": "code",
   "execution_count": 40,
   "metadata": {
    "ExecuteTime": {
     "end_time": "2022-05-26T01:28:33.638475Z",
     "start_time": "2022-05-26T01:28:33.633607Z"
    },
    "executionInfo": {
     "elapsed": 93,
     "status": "ok",
     "timestamp": 1635059258034,
     "user": {
      "displayName": "Doojin Park",
      "photoUrl": "https://lh3.googleusercontent.com/a/default-user=s64",
      "userId": "13081019711214908217"
     },
     "user_tz": -540
    },
    "id": "UAQy-dm3VNOG"
   },
   "outputs": [],
   "source": [
    "from statsmodels.stats.outliers_influence import variance_inflation_factor"
   ]
  },
  {
   "cell_type": "code",
   "execution_count": 41,
   "metadata": {
    "ExecuteTime": {
     "end_time": "2022-05-26T01:28:35.554247Z",
     "start_time": "2022-05-26T01:28:35.546460Z"
    },
    "colab": {
     "base_uri": "https://localhost:8080/",
     "height": 0
    },
    "executionInfo": {
     "elapsed": 94,
     "status": "ok",
     "timestamp": 1635059258036,
     "user": {
      "displayName": "Doojin Park",
      "photoUrl": "https://lh3.googleusercontent.com/a/default-user=s64",
      "userId": "13081019711214908217"
     },
     "user_tz": -540
    },
    "id": "ni-mcgWkVhn1",
    "outputId": "ca390d06-ae30-42b9-bad8-23a331ca4c10"
   },
   "outputs": [
    {
     "data": {
      "text/html": [
       "<div>\n",
       "<style scoped>\n",
       "    .dataframe tbody tr th:only-of-type {\n",
       "        vertical-align: middle;\n",
       "    }\n",
       "\n",
       "    .dataframe tbody tr th {\n",
       "        vertical-align: top;\n",
       "    }\n",
       "\n",
       "    .dataframe thead th {\n",
       "        text-align: right;\n",
       "    }\n",
       "</style>\n",
       "<table border=\"1\" class=\"dataframe\">\n",
       "  <thead>\n",
       "    <tr style=\"text-align: right;\">\n",
       "      <th></th>\n",
       "      <th>feature</th>\n",
       "      <th>VIF</th>\n",
       "    </tr>\n",
       "  </thead>\n",
       "  <tbody>\n",
       "    <tr>\n",
       "      <th>0</th>\n",
       "      <td>Income</td>\n",
       "      <td>6.913744</td>\n",
       "    </tr>\n",
       "    <tr>\n",
       "      <th>1</th>\n",
       "      <td>Limit</td>\n",
       "      <td>378.629519</td>\n",
       "    </tr>\n",
       "    <tr>\n",
       "      <th>2</th>\n",
       "      <td>Rating</td>\n",
       "      <td>357.000572</td>\n",
       "    </tr>\n",
       "  </tbody>\n",
       "</table>\n",
       "</div>"
      ],
      "text/plain": [
       "  feature         VIF\n",
       "0  Income    6.913744\n",
       "1   Limit  378.629519\n",
       "2  Rating  357.000572"
      ]
     },
     "execution_count": 41,
     "metadata": {},
     "output_type": "execute_result"
    }
   ],
   "source": [
    "pd.DataFrame({\n",
    "    \"feature\": features_2.columns,\n",
    "    \"VIF\": [variance_inflation_factor(features_2.values, idx)\n",
    "            for idx in range(features_2.shape[1])]\n",
    "})"
   ]
  },
  {
   "cell_type": "code",
   "execution_count": 42,
   "metadata": {
    "ExecuteTime": {
     "end_time": "2022-05-26T01:28:40.978786Z",
     "start_time": "2022-05-26T01:28:40.972946Z"
    },
    "colab": {
     "base_uri": "https://localhost:8080/",
     "height": 110
    },
    "executionInfo": {
     "elapsed": 93,
     "status": "ok",
     "timestamp": 1635059258036,
     "user": {
      "displayName": "Doojin Park",
      "photoUrl": "https://lh3.googleusercontent.com/a/default-user=s64",
      "userId": "13081019711214908217"
     },
     "user_tz": -540
    },
    "id": "ZbEGA9W5Vva9",
    "outputId": "3ae1fb7b-c9fb-4647-c55f-dbca79f54864"
   },
   "outputs": [
    {
     "data": {
      "text/html": [
       "<div>\n",
       "<style scoped>\n",
       "    .dataframe tbody tr th:only-of-type {\n",
       "        vertical-align: middle;\n",
       "    }\n",
       "\n",
       "    .dataframe tbody tr th {\n",
       "        vertical-align: top;\n",
       "    }\n",
       "\n",
       "    .dataframe thead th {\n",
       "        text-align: right;\n",
       "    }\n",
       "</style>\n",
       "<table border=\"1\" class=\"dataframe\">\n",
       "  <thead>\n",
       "    <tr style=\"text-align: right;\">\n",
       "      <th></th>\n",
       "      <th>Income</th>\n",
       "      <th>Rating</th>\n",
       "    </tr>\n",
       "  </thead>\n",
       "  <tbody>\n",
       "    <tr>\n",
       "      <th>398</th>\n",
       "      <td>37.728</td>\n",
       "      <td>192</td>\n",
       "    </tr>\n",
       "    <tr>\n",
       "      <th>399</th>\n",
       "      <td>18.701</td>\n",
       "      <td>415</td>\n",
       "    </tr>\n",
       "  </tbody>\n",
       "</table>\n",
       "</div>"
      ],
      "text/plain": [
       "     Income  Rating\n",
       "398  37.728     192\n",
       "399  18.701     415"
      ]
     },
     "execution_count": 42,
     "metadata": {},
     "output_type": "execute_result"
    }
   ],
   "source": [
    "# Limit 제거\n",
    "features_3 = features_2.drop(columns=[\"Limit\"])\n",
    "features_3.tail(2)"
   ]
  },
  {
   "cell_type": "code",
   "execution_count": 43,
   "metadata": {
    "ExecuteTime": {
     "end_time": "2022-05-26T01:28:44.968686Z",
     "start_time": "2022-05-26T01:28:44.959926Z"
    },
    "colab": {
     "base_uri": "https://localhost:8080/",
     "height": 110
    },
    "executionInfo": {
     "elapsed": 94,
     "status": "ok",
     "timestamp": 1635059258037,
     "user": {
      "displayName": "Doojin Park",
      "photoUrl": "https://lh3.googleusercontent.com/a/default-user=s64",
      "userId": "13081019711214908217"
     },
     "user_tz": -540
    },
    "id": "KH8LbADsV6ZH",
    "outputId": "b8afcdda-74d1-4041-898c-5367c5add46b"
   },
   "outputs": [
    {
     "data": {
      "text/html": [
       "<div>\n",
       "<style scoped>\n",
       "    .dataframe tbody tr th:only-of-type {\n",
       "        vertical-align: middle;\n",
       "    }\n",
       "\n",
       "    .dataframe tbody tr th {\n",
       "        vertical-align: top;\n",
       "    }\n",
       "\n",
       "    .dataframe thead th {\n",
       "        text-align: right;\n",
       "    }\n",
       "</style>\n",
       "<table border=\"1\" class=\"dataframe\">\n",
       "  <thead>\n",
       "    <tr style=\"text-align: right;\">\n",
       "      <th></th>\n",
       "      <th>feature</th>\n",
       "      <th>VIF</th>\n",
       "    </tr>\n",
       "  </thead>\n",
       "  <tbody>\n",
       "    <tr>\n",
       "      <th>0</th>\n",
       "      <td>Income</td>\n",
       "      <td>6.325112</td>\n",
       "    </tr>\n",
       "    <tr>\n",
       "      <th>1</th>\n",
       "      <td>Rating</td>\n",
       "      <td>6.325112</td>\n",
       "    </tr>\n",
       "  </tbody>\n",
       "</table>\n",
       "</div>"
      ],
      "text/plain": [
       "  feature       VIF\n",
       "0  Income  6.325112\n",
       "1  Rating  6.325112"
      ]
     },
     "execution_count": 43,
     "metadata": {},
     "output_type": "execute_result"
    }
   ],
   "source": [
    "pd.DataFrame({\n",
    "    \"feature\": features_3.columns,\n",
    "    \"VIF\": [variance_inflation_factor(features_3.values, idx)\n",
    "            for idx in range(features_3.shape[1])]\n",
    "})"
   ]
  },
  {
   "cell_type": "code",
   "execution_count": 44,
   "metadata": {
    "ExecuteTime": {
     "end_time": "2022-05-26T01:28:47.924925Z",
     "start_time": "2022-05-26T01:28:47.910289Z"
    },
    "colab": {
     "base_uri": "https://localhost:8080/"
    },
    "executionInfo": {
     "elapsed": 93,
     "status": "ok",
     "timestamp": 1635059258037,
     "user": {
      "displayName": "Doojin Park",
      "photoUrl": "https://lh3.googleusercontent.com/a/default-user=s64",
      "userId": "13081019711214908217"
     },
     "user_tz": -540
    },
    "id": "FU7fafE0V9j2",
    "outputId": "0f4c19c6-89de-4508-8b81-88a9c5287187"
   },
   "outputs": [
    {
     "name": "stdout",
     "output_type": "stream",
     "text": [
      "                 Results: Ordinary least squares\n",
      "==================================================================\n",
      "Model:              OLS              Adj. R-squared:     0.874    \n",
      "Dependent Variable: Balance          AIC:                5212.5571\n",
      "Date:               2022-05-26 10:28 BIC:                5224.5315\n",
      "No. Observations:   400              Log-Likelihood:     -2603.3  \n",
      "Df Model:           2                F-statistic:        1391.    \n",
      "Df Residuals:       397              Prob (F-statistic): 4.52e-180\n",
      "R-squared:          0.875            Scale:              26530.   \n",
      "-------------------------------------------------------------------\n",
      "          Coef.    Std.Err.     t      P>|t|     [0.025     0.975] \n",
      "-------------------------------------------------------------------\n",
      "const   -534.8122   21.6027  -24.7567  0.0000  -577.2821  -492.3422\n",
      "Income    -7.6721    0.3785  -20.2718  0.0000    -8.4162    -6.9281\n",
      "Rating     3.9493    0.0862   45.8103  0.0000     3.7798     4.1187\n",
      "------------------------------------------------------------------\n",
      "Omnibus:              91.478       Durbin-Watson:          1.896  \n",
      "Prob(Omnibus):        0.000        Jarque-Bera (JB):       159.964\n",
      "Skew:                 1.320        Prob(JB):               0.000  \n",
      "Kurtosis:             4.621        Condition No.:          1036   \n",
      "==================================================================\n",
      "* The condition number is large (1e+03). This might indicate\n",
      "strong multicollinearity or other numerical problems.\n"
     ]
    }
   ],
   "source": [
    "# 요약표 확인\n",
    "sm_feature = sm.add_constant(features_3)\n",
    "model = sm.OLS(target, sm_feature).fit()\n",
    "print(model.summary2())"
   ]
  },
  {
   "cell_type": "code",
   "execution_count": 45,
   "metadata": {
    "ExecuteTime": {
     "end_time": "2022-05-26T01:28:52.412674Z",
     "start_time": "2022-05-26T01:28:52.407807Z"
    },
    "colab": {
     "base_uri": "https://localhost:8080/"
    },
    "executionInfo": {
     "elapsed": 90,
     "status": "ok",
     "timestamp": 1635059258037,
     "user": {
      "displayName": "Doojin Park",
      "photoUrl": "https://lh3.googleusercontent.com/a/default-user=s64",
      "userId": "13081019711214908217"
     },
     "user_tz": -540
    },
    "id": "pRCav0VjWuv_",
    "outputId": "0c95d3fa-b787-408d-b750-3fb1563fbb80"
   },
   "outputs": [
    {
     "data": {
      "text/plain": [
       "120.8"
      ]
     },
     "execution_count": 45,
     "metadata": {},
     "output_type": "execute_result"
    }
   ],
   "source": [
    "# MAE 확인\n",
    "pred =  np.dot(sm_feature, model.params)\n",
    "mae = np.round(mean_absolute_error(target, pred), 2)\n",
    "mae"
   ]
  },
  {
   "cell_type": "code",
   "execution_count": null,
   "metadata": {
    "executionInfo": {
     "elapsed": 88,
     "status": "ok",
     "timestamp": 1635059258038,
     "user": {
      "displayName": "Doojin Park",
      "photoUrl": "https://lh3.googleusercontent.com/a/default-user=s64",
      "userId": "13081019711214908217"
     },
     "user_tz": -540
    },
    "id": "oVzVTvfJWFeI"
   },
   "outputs": [],
   "source": [
    "# R-squared의 변화가 거의 없음\n",
    "# mae : 120.44 > 120.8 거의 변화 없음\n",
    "# 결론 Income, Rating 컬럼만 사용해서 모델을 만드는것이 가장 좋음"
   ]
  }
 ],
 "metadata": {
  "colab": {
   "authorship_tag": "ABX9TyNfpIA2ZeLzDQqLg7RVNwKD",
   "collapsed_sections": [],
   "name": "08_example_credit_data.ipynb",
   "provenance": []
  },
  "kernelspec": {
   "display_name": "Python 3 (ipykernel)",
   "language": "python",
   "name": "python3"
  },
  "language_info": {
   "codemirror_mode": {
    "name": "ipython",
    "version": 3
   },
   "file_extension": ".py",
   "mimetype": "text/x-python",
   "name": "python",
   "nbconvert_exporter": "python",
   "pygments_lexer": "ipython3",
   "version": "3.8.13"
  },
  "toc": {
   "base_numbering": 1,
   "nav_menu": {},
   "number_sections": false,
   "sideBar": true,
   "skip_h1_title": false,
   "title_cell": "Table of Contents",
   "title_sidebar": "Contents",
   "toc_cell": false,
   "toc_position": {},
   "toc_section_display": true,
   "toc_window_display": false
  },
  "varInspector": {
   "cols": {
    "lenName": 16,
    "lenType": 16,
    "lenVar": 40
   },
   "kernels_config": {
    "python": {
     "delete_cmd_postfix": "",
     "delete_cmd_prefix": "del ",
     "library": "var_list.py",
     "varRefreshCmd": "print(var_dic_list())"
    },
    "r": {
     "delete_cmd_postfix": ") ",
     "delete_cmd_prefix": "rm(",
     "library": "var_list.r",
     "varRefreshCmd": "cat(var_dic_list()) "
    }
   },
   "types_to_exclude": [
    "module",
    "function",
    "builtin_function_or_method",
    "instance",
    "_Feature"
   ],
   "window_display": false
  }
 },
 "nbformat": 4,
 "nbformat_minor": 1
}
