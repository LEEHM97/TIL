{
 "cells": [
  {
   "cell_type": "markdown",
   "id": "c1e7b8c3",
   "metadata": {},
   "source": [
    "## 머신러닝이란?\n",
    "> 기계가 사람처럼 학습을 할 수 있도록 하는 연구분야  \n",
    "\"환경과의 상호작용을 통해서 축적되는 경험적인 데이터를 바탕으로 모델을 자동으로 구축하고 스스로 성능을 향상시키는 시스템\" (Mitchell, 1977)"
   ]
  },
  {
   "cell_type": "markdown",
   "id": "b3031539",
   "metadata": {},
   "source": [
    "### 머신러닝 이전의 데이터 분석 혹은 모델링과의 차이\n",
    "> 기존 모델링  \n",
    ">> **사람이 알고리즘 설계 및 코딩**  \n",
    "**전문가 혹은 도메인 지식을 바탕**으로 한 조건에 따른 작업 지시 혹은 결과 도출(모델링)  \n",
    "**사람의 주관**이 많이 개입 된 모델링, 경험적 모델링  \n",
    "\n",
    "> 머신러닝 모델링  \n",
    ">> 사람이 코딩을 하는 것은 같음  \n",
    "**머신러닝 알고리즘에 따라 데이터를 학습하고 그에 따라 컴퓨터가 모델링**  \n",
    "**데이터 기반의 모델학습**에 따른 모델링, 데이터 모델링"
   ]
  },
  {
   "cell_type": "markdown",
   "id": "6e1fbe80",
   "metadata": {},
   "source": [
    "### 머신러닝의 정의 및 범위\n",
    "![Venn diagram](./image/machine_venndiagram.png)\n",
    "출처 : https://www.deeplearningbook.org/contents/intro.html\n",
    "\n",
    "Representation learning: "
   ]
  },
  {
   "cell_type": "markdown",
   "id": "70a0c1f7",
   "metadata": {},
   "source": [
    "### 머신러닝 발전배경\n",
    "\n",
    "#### 데이터의 폭발적인 생산\n",
    "> 지수적으로 늘어나는 데이터의 생산량  \n",
    "온라인 기반 활동이 늘어나며 데이터의 생산 및 누적이 쉬워짐  \n",
    "전세계 데이터의 90%가 과거 2년 동안 수집 된 데이터  \n",
    "그렇다면 데이터를 기반으로 한 생산활동은? (SSG.com 일일데이터 4GB)  \n",
    "\n",
    "#### 컴퓨팅 환경의 발전\n",
    "> CPU 및 GPU 기반 연산속도 증가  \n",
    "기존 컴퓨팅 환경으로 오랜 기간이 걸리던 작업들이 가능해짐  \n",
    "데이터 처리 기술의 발전 (병렬 처리 연산, 클라우드 컴퓨팅등)  \n",
    "python 등 오픈소스 기반의 프로그래밍 언어의 대중화  \n",
    "\n",
    "#### 알고리즘의 발전\n",
    "> 기존 통계베이스의 알고리즘 뿐 아니라 데이터 기반 알고리즘의 발전  \n",
    "연산량 감소를 위한 데이터 분석 및 자료구조 알고리즘의 발전  \n",
    "비정형데이터를 다루기 위한 딥러닝 알고리즘"
   ]
  },
  {
   "cell_type": "markdown",
   "id": "5f8d25b6",
   "metadata": {},
   "source": [
    "#### 딥러닝만 배우면 되지 않을까?\n",
    "\n",
    "> "
   ]
  },
  {
   "cell_type": "markdown",
   "id": "cd576b10",
   "metadata": {},
   "source": [
    "### 용어정리\n",
    "머신러닝은 태생적으로 여러 분야가 결합된 분야이기 때문에 실무자들은 종종 동일한 의미에 대해 다양한 용어들을 사용합니다. 혼용하는 용어를 정리해보겠습니다.\n",
    "> **알고리즘(algorithm)** : 모델, 혹은 머신러닝 기법을 실행하기 위한 특정 절차  \n",
    "**특징(feature)** : 입력값으로 사용되는 변수들 속성, 입력변수, 독립변수, X라고도 부름(input data)  \n",
    "**샘플(sample)** : 데이터의 기본 단위. 하나의 사건 혹은 시점. 레코드, 인스턴스로 부름  \n",
    "**레이블(label)** : 한 샘플에 대한 정답 값. 클래스, 정답, 종속변수, y라고 부름"
   ]
  },
  {
   "cell_type": "markdown",
   "id": "05749fac",
   "metadata": {},
   "source": [
    "### 머신러닝의 기본컨셉\n",
    "\n",
    " **$$y = f(x)$$**\n",
    "\n",
    "* $y$ = 해결해야 하는 문제 (종속변수, target data)\n",
    "* $f()$ = 머신러닝 알고리즘 (모델)\n",
    "* $x$ = 훈련데이터 (설명변수, train data)\n",
    "\n",
    "###### 머신러닝 프로젝트의 기획은 결국 $y$를 어떻게 풀어낼 것인가에 대한 기획"
   ]
  },
  {
   "cell_type": "markdown",
   "id": "019e61f4",
   "metadata": {},
   "source": [
    "### 머신러닝 데이터 플로우 프로세스\n",
    "#### 데이터셋 제작 및 확보\n",
    "<img src=\"./image/process1.png\" height=\"150px\" width=\"400px\">"
   ]
  },
  {
   "cell_type": "markdown",
   "id": "31ba7637",
   "metadata": {},
   "source": [
    "#### 타겟데이터(y) 분리\n",
    "<img src=\"./image/process2.png\" height=\"150px\" width=\"400px\">"
   ]
  },
  {
   "cell_type": "markdown",
   "id": "e5a0995c",
   "metadata": {},
   "source": [
    "#### train test split\n",
    "<img src=\"./image/process3.png\" height=\"150px\" width=\"400px\">"
   ]
  },
  {
   "cell_type": "markdown",
   "id": "c262080c",
   "metadata": {},
   "source": [
    "#### 모델생성\n",
    "<img src=\"./image/process4.png\" height=\"500px\" width=\"800px\">"
   ]
  },
  {
   "cell_type": "markdown",
   "id": "9749abf5",
   "metadata": {},
   "source": [
    "#### 모델학습"
   ]
  },
  {
   "cell_type": "code",
   "execution_count": 1,
   "id": "9c722c2c",
   "metadata": {
    "ExecuteTime": {
     "end_time": "2022-05-23T06:59:52.988988Z",
     "start_time": "2022-05-23T06:59:52.680891Z"
    },
    "collapsed": true
   },
   "outputs": [
    {
     "ename": "NameError",
     "evalue": "name 'model' is not defined",
     "output_type": "error",
     "traceback": [
      "\u001b[1;31m---------------------------------------------------------------------------\u001b[0m",
      "\u001b[1;31mNameError\u001b[0m                                 Traceback (most recent call last)",
      "Input \u001b[1;32mIn [1]\u001b[0m, in \u001b[0;36m<cell line: 1>\u001b[1;34m()\u001b[0m\n\u001b[1;32m----> 1\u001b[0m \u001b[43mmodel\u001b[49m\u001b[38;5;241m.\u001b[39mfit(train_x, train_y)\n",
      "\u001b[1;31mNameError\u001b[0m: name 'model' is not defined"
     ]
    }
   ],
   "source": [
    "model.fit(train_x, train_y)"
   ]
  },
  {
   "cell_type": "markdown",
   "id": "4d81980b",
   "metadata": {},
   "source": [
    "#### 모델 평가\n",
    "<img src=\"./image/process6.png\" height=\"500px\" width=\"800px\">"
   ]
  },
  {
   "cell_type": "markdown",
   "id": "e6fb2693",
   "metadata": {},
   "source": []
  },
  {
   "cell_type": "markdown",
   "id": "042512e3",
   "metadata": {},
   "source": []
  },
  {
   "cell_type": "markdown",
   "id": "df8c4a22",
   "metadata": {},
   "source": []
  },
  {
   "cell_type": "markdown",
   "id": "f95b7319",
   "metadata": {},
   "source": []
  },
  {
   "cell_type": "markdown",
   "id": "8145d9eb",
   "metadata": {},
   "source": []
  },
  {
   "cell_type": "markdown",
   "id": "3e4c377b",
   "metadata": {},
   "source": []
  },
  {
   "cell_type": "markdown",
   "id": "4aa30e16",
   "metadata": {},
   "source": []
  },
  {
   "cell_type": "markdown",
   "id": "6a96229d",
   "metadata": {},
   "source": []
  }
 ],
 "metadata": {
  "kernelspec": {
   "display_name": "Python 3 (ipykernel)",
   "language": "python",
   "name": "python3"
  },
  "language_info": {
   "codemirror_mode": {
    "name": "ipython",
    "version": 3
   },
   "file_extension": ".py",
   "mimetype": "text/x-python",
   "name": "python",
   "nbconvert_exporter": "python",
   "pygments_lexer": "ipython3",
   "version": "3.8.13"
  },
  "toc": {
   "base_numbering": 1,
   "nav_menu": {},
   "number_sections": true,
   "sideBar": true,
   "skip_h1_title": false,
   "title_cell": "Table of Contents",
   "title_sidebar": "Contents",
   "toc_cell": false,
   "toc_position": {
    "height": "calc(100% - 180px)",
    "left": "10px",
    "top": "150px",
    "width": "243.552px"
   },
   "toc_section_display": true,
   "toc_window_display": false
  },
  "varInspector": {
   "cols": {
    "lenName": 16,
    "lenType": 16,
    "lenVar": 40
   },
   "kernels_config": {
    "python": {
     "delete_cmd_postfix": "",
     "delete_cmd_prefix": "del ",
     "library": "var_list.py",
     "varRefreshCmd": "print(var_dic_list())"
    },
    "r": {
     "delete_cmd_postfix": ") ",
     "delete_cmd_prefix": "rm(",
     "library": "var_list.r",
     "varRefreshCmd": "cat(var_dic_list()) "
    }
   },
   "types_to_exclude": [
    "module",
    "function",
    "builtin_function_or_method",
    "instance",
    "_Feature"
   ],
   "window_display": false
  }
 },
 "nbformat": 4,
 "nbformat_minor": 5
}
