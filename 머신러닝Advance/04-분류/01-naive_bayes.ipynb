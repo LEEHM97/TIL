{
 "cells": [
  {
   "cell_type": "markdown",
   "metadata": {
    "id": "N18B7_x0BhtB"
   },
   "source": [
    "#### 머신러닝 모델\n",
    "- 수치형 데이터 예측 : 회귀모델 : 지도학습 : target 이 있음\n",
    "- 범주형 데이터 예측 : 분류모델 : 지도학습 : target 이 있음\n",
    "    - 나이브베이즈 : 텍스트 데이터 분류\n",
    "    - SVM : 이미지, 음향\n",
    "    - 디시전트리(랜덤포레스트) : 그외의 경우\n",
    "- 군집분석 : 비지도학습 : target 이 없음"
   ]
  },
  {
   "cell_type": "markdown",
   "metadata": {
    "id": "IaqU1SBXBhtF"
   },
   "source": [
    "## 나이브 베이즈 : Naive Bayes\n",
    "- 특성들 사이의 독립을 가정(상관관계x)하는 베이즈 정리를 적용한 확률 분류기"
   ]
  },
  {
   "cell_type": "markdown",
   "metadata": {
    "id": "lkYVxcspBhtG"
   },
   "source": [
    "### Index\n",
    "1. 조건부 확률\n",
    "2. 베이즈 정리\n",
    "3. 조건부 확률과 베이즈 정리의 관계\n",
    "4. 테니스 데이터 예시\n",
    "5. 나이브 베이즈 적용\n",
    "6. 나이브 베이즈 종류\n",
    "7. 평가 결과의 해석"
   ]
  },
  {
   "cell_type": "markdown",
   "metadata": {
    "id": "JwfzXQBTBhtH"
   },
   "source": [
    "### 1. 조건부 확률\n",
    "- 사건 A가 발생했다는 조건에 사건 B가 발생할 확률\n",
    "- 사건 A가 발생했을때 사건 B의 조건부 확률\n",
    "- $P(B|A) = \\frac{P(B \\cap A)}{P(A)}$\n",
    "- 특징\n",
    "    - $P(B|A) \\neq P(A|B)$\n",
    "    - $P(A \\cap B) = P(B)P(A|B) = P(A)P(B|A)$\n",
    "    - $P(A|B) = \\frac{P(A \\cap B)}{P(B)} = \\frac{P(A)P(B|A)}{P(B)}$\n",
    "    - 사건 B가 발생했을때 사건 A가 발생할 확률을 사건 A가 발생했을때 사건 B가 발생할 확률로 알아낼수 있다.\n",
    "    - $P(B|A)$ 로 $P(A|B)$ 를 알아낼수 있다."
   ]
  },
  {
   "cell_type": "markdown",
   "metadata": {
    "id": "2g5QuJw_BhtH"
   },
   "source": [
    "#### 조건부 확률 예시\n",
    "\n",
    "- A를 구매한 사람에게 B를 구매하라고 추천하는게 좋을까?\n",
    "  - $P(A) = 0.7, P(B) = 0.6, P(A \\cap B) = 0.5$\n",
    "  - A를 구매한 사람이 B를 구매할 확률 : $P(B|A) = \\frac{P(A \\cap B)}{P(A)}$ = $\\frac{0.5}{0.7} = 0.714$\n",
    "  - B를 구매할 확률 : $P(B)=0.6$\n",
    "  - 결론 : A를 구매하고 B를 구매하는것이 그냥 B를 구매하는 확률보다 높다. -> 추천하는것이 좋다!  \n",
    "- A를 구매한 사람이 B를 구매할 확률로 B를 구매한사람이 A를 구매할 확률을 구할수 있다.    \n",
    "  - B를 구매한사람이 A를 구매할 확률 : $P(A|B) = \\frac{P(A)P(B|A)}{P(B)} = \\frac{0.7*0.714}{0.6}=0.833$"
   ]
  },
  {
   "cell_type": "markdown",
   "metadata": {
    "id": "wEsx8qv2BhtI"
   },
   "source": [
    "### 2. 베이즈 정리\n",
    "- 이전의 경험과 현재의 증거를 토대로 어떤 사건의 확률을 구하는 방법\n",
    "- 조건부 확률을 이용하여 사전확률과 사후확률을 계산\n",
    "- 사후확률로 사전확률을 예측 -> 결과로 원인의 추론이 가능\n",
    "- A과거의 경험, B현재의 경험 -> 사건 B(사후확률)가 일어났을때 사건 A(사전확률)가 일어날 확률\n",
    "- 베이즈 정리의 조건\n",
    "  - $A_1, ..., A_k$: 배반사건 : 확률의 중복이 없음\n",
    "  - $\\cup_{i=1,...,k} A_i = S$: A의 합집합의 확률 1\n"
   ]
  },
  {
   "cell_type": "code",
   "execution_count": null,
   "metadata": {
    "colab": {
     "base_uri": "https://localhost:8080/",
     "height": 313
    },
    "executionInfo": {
     "elapsed": 658,
     "status": "ok",
     "timestamp": 1635175122971,
     "user": {
      "displayName": "Doojin Park",
      "photoUrl": "https://lh3.googleusercontent.com/a/default-user=s64",
      "userId": "13081019711214908217"
     },
     "user_tz": -540
    },
    "id": "vrkOvuxkCCAt",
    "outputId": "e187bde4-8c38-45a2-c928-8d110b6969c5"
   },
   "outputs": [],
   "source": [
    "from IPython.display import Image\n",
    "Image('imgs/naive_bayes_1.png')"
   ]
  },
  {
   "cell_type": "markdown",
   "metadata": {
    "id": "9bUUgWJLBhtJ"
   },
   "source": [
    "- $B$가 주어졌을때 $A_i$일 확률\n",
    "$$P(A_i|B)=\\frac{P(A_i \\cap B)}{P(B)}$$    \n",
    "\n",
    "- $A$는 배반사건이므로 확률의 합집합은 +로 표현가능\n",
    "- $P(B)$는 $P(A_1 \\cap B) + ... + P(A_k \\cap B)$로 표현가능\n",
    "$$\\Rightarrow \\frac{P(A_i \\cap B)}{P(A_1 \\cap B) + ... + P(A_k \\cap B)}$$\n",
    "\n",
    "\n",
    "- 조건부 확률\n",
    "\n",
    "$$ P(A \\cap B) = P(B)P(A|B) = P(A)P(B|A)$$\n",
    "\n",
    "\n",
    "- 최종 표현 수식\n",
    "\n",
    "$$ \\Rightarrow\\frac{P(B|A_i)P(A_i)}{P(B|A_1)P(A_1)+...+P(B|A_k)P(A_k)}$$"
   ]
  },
  {
   "cell_type": "markdown",
   "metadata": {
    "id": "DV2c2VHrBhtJ"
   },
   "source": [
    "#### 베이즈 정리 예시\n",
    "- 1번 라인 : 불량 10%, 10000개 생산\n",
    "- 2번 라인 : 불량 15%, 10000개 생산\n",
    "- 문제 : 노트북을 꺼냈더니 불량이 나왔다 이 노트북이 1번 라인에서 조립되었을 확률은?\n",
    "\n",
    "\n",
    "$$P(1|불량) = \\frac{P(1 \\cap 불량)}{P(불량)} = \\frac{P(불량|1)P(1)}{P(불량)} = \\frac{P(불량|1)P(1)}{P(불량|1)P(1) + P(불량|2)P(2)}$$\n",
    "\n",
    "\n",
    "$$ = \\frac{0.1}{0.1 + 0.15}=0.4 $$"
   ]
  },
  {
   "cell_type": "markdown",
   "metadata": {
    "id": "iqdCOW-eBhtK"
   },
   "source": [
    "### 3. 조건부 확률과 베이즈 정리의 관계"
   ]
  },
  {
   "cell_type": "markdown",
   "metadata": {
    "id": "SKHNXiImBhtK"
   },
   "source": [
    "- 조건부 확률\n",
    "\n",
    "$$P(B|A) = \\frac{P(B \\cap A)}{P(A)}$$\n",
    "\n",
    "\n",
    "$$ P(A \\cap B) = P(B)P(A|B) = P(A)P(B|A)$$\n",
    "\n",
    "\n",
    "- 베이즈 정리\n",
    "\n",
    "\n",
    "$$ P(A_i|B)=\\frac{P(A_i \\cap B)}{P(B)}=\\frac{P(A_i)P(B|A_i)}{P(B)}$$\n",
    "\n",
    "\n",
    "\n",
    "- $P(B)$ 를 모를 경우 조건부 확률을 사용해서 구할수 있음\n",
    "\n",
    "\n",
    "$$ P(A_i|B)=\\frac{P(A_i \\cap B)}{P(B)}=\\frac{P(B|A_i)P(A_i)}{P(B|A_1)P(A_1)+...+P(B|A_k)P(A_k)}$$"
   ]
  },
  {
   "cell_type": "code",
   "execution_count": 1,
   "metadata": {
    "ExecuteTime": {
     "end_time": "2022-06-04T05:07:53.218499Z",
     "start_time": "2022-06-04T05:07:50.392833Z"
    },
    "id": "nEMkk9moBhtL"
   },
   "outputs": [],
   "source": [
    "%config InlineBackend.figure_formats = {'png', 'retina'}\n",
    "\n",
    "import warnings\n",
    "warnings.filterwarnings('ignore')\n",
    "\n",
    "import pandas as pd \n",
    "import numpy as np\n",
    "import matplotlib as mpl\n",
    "import matplotlib.pyplot as plt\n",
    "import seaborn as sns"
   ]
  },
  {
   "cell_type": "markdown",
   "metadata": {
    "id": "OWyKLguSBhtM"
   },
   "source": [
    "### 4. 나이브 베이즈 예시"
   ]
  },
  {
   "cell_type": "code",
   "execution_count": 2,
   "metadata": {
    "ExecuteTime": {
     "end_time": "2022-06-04T05:07:53.951583Z",
     "start_time": "2022-06-04T05:07:53.924673Z"
    },
    "colab": {
     "base_uri": "https://localhost:8080/",
     "height": 480
    },
    "executionInfo": {
     "elapsed": 627,
     "status": "ok",
     "timestamp": 1635175201303,
     "user": {
      "displayName": "Doojin Park",
      "photoUrl": "https://lh3.googleusercontent.com/a/default-user=s64",
      "userId": "13081019711214908217"
     },
     "user_tz": -540
    },
    "id": "_Xhzi_waBhtM",
    "outputId": "be4b7e64-021f-470d-e2af-051051a6eb94"
   },
   "outputs": [
    {
     "data": {
      "text/html": [
       "<div>\n",
       "<style scoped>\n",
       "    .dataframe tbody tr th:only-of-type {\n",
       "        vertical-align: middle;\n",
       "    }\n",
       "\n",
       "    .dataframe tbody tr th {\n",
       "        vertical-align: top;\n",
       "    }\n",
       "\n",
       "    .dataframe thead th {\n",
       "        text-align: right;\n",
       "    }\n",
       "</style>\n",
       "<table border=\"1\" class=\"dataframe\">\n",
       "  <thead>\n",
       "    <tr style=\"text-align: right;\">\n",
       "      <th></th>\n",
       "      <th>day</th>\n",
       "      <th>outlook</th>\n",
       "      <th>temp</th>\n",
       "      <th>humidity</th>\n",
       "      <th>wind</th>\n",
       "      <th>play</th>\n",
       "    </tr>\n",
       "  </thead>\n",
       "  <tbody>\n",
       "    <tr>\n",
       "      <th>0</th>\n",
       "      <td>D1</td>\n",
       "      <td>Sunny</td>\n",
       "      <td>Hot</td>\n",
       "      <td>High</td>\n",
       "      <td>Weak</td>\n",
       "      <td>No</td>\n",
       "    </tr>\n",
       "    <tr>\n",
       "      <th>1</th>\n",
       "      <td>D2</td>\n",
       "      <td>Sunny</td>\n",
       "      <td>Hot</td>\n",
       "      <td>High</td>\n",
       "      <td>Strong</td>\n",
       "      <td>No</td>\n",
       "    </tr>\n",
       "    <tr>\n",
       "      <th>2</th>\n",
       "      <td>D3</td>\n",
       "      <td>Overcast</td>\n",
       "      <td>Hot</td>\n",
       "      <td>High</td>\n",
       "      <td>Weak</td>\n",
       "      <td>Yes</td>\n",
       "    </tr>\n",
       "    <tr>\n",
       "      <th>3</th>\n",
       "      <td>D4</td>\n",
       "      <td>Rain</td>\n",
       "      <td>Mild</td>\n",
       "      <td>High</td>\n",
       "      <td>Weak</td>\n",
       "      <td>Yes</td>\n",
       "    </tr>\n",
       "    <tr>\n",
       "      <th>4</th>\n",
       "      <td>D5</td>\n",
       "      <td>Rain</td>\n",
       "      <td>Cool</td>\n",
       "      <td>Normal</td>\n",
       "      <td>Weak</td>\n",
       "      <td>Yes</td>\n",
       "    </tr>\n",
       "    <tr>\n",
       "      <th>5</th>\n",
       "      <td>D6</td>\n",
       "      <td>Rain</td>\n",
       "      <td>Cool</td>\n",
       "      <td>Normal</td>\n",
       "      <td>Strong</td>\n",
       "      <td>No</td>\n",
       "    </tr>\n",
       "    <tr>\n",
       "      <th>6</th>\n",
       "      <td>D7</td>\n",
       "      <td>Overcast</td>\n",
       "      <td>Cool</td>\n",
       "      <td>Normal</td>\n",
       "      <td>Strong</td>\n",
       "      <td>Yes</td>\n",
       "    </tr>\n",
       "    <tr>\n",
       "      <th>7</th>\n",
       "      <td>D8</td>\n",
       "      <td>Sunny</td>\n",
       "      <td>Mild</td>\n",
       "      <td>High</td>\n",
       "      <td>Weak</td>\n",
       "      <td>No</td>\n",
       "    </tr>\n",
       "    <tr>\n",
       "      <th>8</th>\n",
       "      <td>D9</td>\n",
       "      <td>Sunny</td>\n",
       "      <td>Cool</td>\n",
       "      <td>Normal</td>\n",
       "      <td>Weak</td>\n",
       "      <td>Yes</td>\n",
       "    </tr>\n",
       "    <tr>\n",
       "      <th>9</th>\n",
       "      <td>D10</td>\n",
       "      <td>Rain</td>\n",
       "      <td>Mild</td>\n",
       "      <td>Normal</td>\n",
       "      <td>Weak</td>\n",
       "      <td>Yes</td>\n",
       "    </tr>\n",
       "    <tr>\n",
       "      <th>10</th>\n",
       "      <td>D11</td>\n",
       "      <td>Sunny</td>\n",
       "      <td>Mild</td>\n",
       "      <td>Normal</td>\n",
       "      <td>Strong</td>\n",
       "      <td>Yes</td>\n",
       "    </tr>\n",
       "    <tr>\n",
       "      <th>11</th>\n",
       "      <td>D12</td>\n",
       "      <td>Overcast</td>\n",
       "      <td>Mild</td>\n",
       "      <td>High</td>\n",
       "      <td>Strong</td>\n",
       "      <td>Yes</td>\n",
       "    </tr>\n",
       "    <tr>\n",
       "      <th>12</th>\n",
       "      <td>D13</td>\n",
       "      <td>Overcast</td>\n",
       "      <td>Hot</td>\n",
       "      <td>Normal</td>\n",
       "      <td>Weak</td>\n",
       "      <td>Yes</td>\n",
       "    </tr>\n",
       "    <tr>\n",
       "      <th>13</th>\n",
       "      <td>D14</td>\n",
       "      <td>Rain</td>\n",
       "      <td>Mild</td>\n",
       "      <td>High</td>\n",
       "      <td>Strong</td>\n",
       "      <td>No</td>\n",
       "    </tr>\n",
       "  </tbody>\n",
       "</table>\n",
       "</div>"
      ],
      "text/plain": [
       "    day   outlook  temp humidity    wind play\n",
       "0    D1     Sunny   Hot     High    Weak   No\n",
       "1    D2     Sunny   Hot     High  Strong   No\n",
       "2    D3  Overcast   Hot     High    Weak  Yes\n",
       "3    D4      Rain  Mild     High    Weak  Yes\n",
       "4    D5      Rain  Cool   Normal    Weak  Yes\n",
       "5    D6      Rain  Cool   Normal  Strong   No\n",
       "6    D7  Overcast  Cool   Normal  Strong  Yes\n",
       "7    D8     Sunny  Mild     High    Weak   No\n",
       "8    D9     Sunny  Cool   Normal    Weak  Yes\n",
       "9   D10      Rain  Mild   Normal    Weak  Yes\n",
       "10  D11     Sunny  Mild   Normal  Strong  Yes\n",
       "11  D12  Overcast  Mild     High  Strong  Yes\n",
       "12  D13  Overcast   Hot   Normal    Weak  Yes\n",
       "13  D14      Rain  Mild     High  Strong   No"
      ]
     },
     "execution_count": 2,
     "metadata": {},
     "output_type": "execute_result"
    }
   ],
   "source": [
    "tennis = pd.read_csv(\"./data/play_tennis.csv\")\n",
    "tennis"
   ]
  },
  {
   "cell_type": "markdown",
   "metadata": {
    "id": "lymDXgKFBhtN"
   },
   "source": [
    "- 조건부 확률\n",
    "    - 날씨와 습도가 Rain, Normal 할때 테니스를 칠 확률\n",
    "    \n",
    "$$P(Yes|Rain,Nomal)=\\frac{P(Yes,Rain,Nomal)}{P(Rain,Nomal)}=\\frac{\\frac{2}{14}}{\\frac{3}{14}}=\\frac{2}{3}$$"
   ]
  },
  {
   "cell_type": "code",
   "execution_count": 3,
   "metadata": {
    "ExecuteTime": {
     "end_time": "2022-06-04T05:07:57.502742Z",
     "start_time": "2022-06-04T05:07:57.495766Z"
    },
    "colab": {
     "base_uri": "https://localhost:8080/"
    },
    "executionInfo": {
     "elapsed": 6,
     "status": "ok",
     "timestamp": 1635175204370,
     "user": {
      "displayName": "Doojin Park",
      "photoUrl": "https://lh3.googleusercontent.com/a/default-user=s64",
      "userId": "13081019711214908217"
     },
     "user_tz": -540
    },
    "id": "rkjzVq0_BhtN",
    "outputId": "d7197bf4-d977-4e6c-8fc1-75288aa3e392"
   },
   "outputs": [
    {
     "data": {
      "text/plain": [
       "(3, 2, 14)"
      ]
     },
     "execution_count": 3,
     "metadata": {},
     "output_type": "execute_result"
    }
   ],
   "source": [
    "# 날씨, 습도 : Rain, Normal : 3회\n",
    "rain_normal = tennis[(tennis[\"outlook\"] == \"Rain\") & (tennis[\"humidity\"] == \"Normal\")]\n",
    "\n",
    "# 날씨, 습도, 테니스 : Rain, Normal, Yes : 2회\n",
    "rain_normal_yes = tennis[(tennis[\"outlook\"] == \"Rain\") & (tennis[\"humidity\"] == \"Normal\") & (tennis[\"play\"] == \"Yes\")]\n",
    "\n",
    "# Rain Normal, Rain Normal Yes, Total \n",
    "len(rain_normal), len(rain_normal_yes), len(tennis)"
   ]
  },
  {
   "cell_type": "markdown",
   "metadata": {
    "id": "wdkkFvvaBhtO"
   },
   "source": [
    "- 베이지안 정리\n",
    "  - 테니스를 칠 확률 : $P(Yes)=\\frac{9}{14}$\n",
    "  - 테니스를 안칠 확률 : $P(No)=\\frac{5}{14}$\n",
    "  - 테니스를 쳤을때 Rain Normal할 확률 : $P(Rain, Normal|Yes)=\\frac{2}{9}$\n",
    "  - 테니스를 안쳤을때 Rain Normal할 확률 : $P(Rain, Normal|No)=\\frac{1}{5}$\n",
    "  - 테니스를 치고 Rain Normal할때 테니스를 칠 확률 : $P(Rain,Normal|Yes)P(Yes)=\\frac{2}{9}*\\frac{9}{14}=\\frac{18}{126}$\n",
    "  - 테니스를 안치고 Rain Normal할때 테니스를 안칠 확률 : $P(Rain,Normal|No)P(No)=\\frac{1}{5}*\\frac{5}{14}=\\frac{1}{14}$\n",
    "  - Rain Normal할 확률 : $P(Rain,Normal)=\\frac{3}{14}$"
   ]
  },
  {
   "cell_type": "markdown",
   "metadata": {
    "id": "1EPNQoVOBhtO"
   },
   "source": [
    "- 날씨와 습도가 Rain, Nomal 할때 테니스를 칠 확률\n",
    "    - 아래의 두가지로 표현이 가능\n",
    "    \n",
    "    - 조건부 확률\n",
    "\n",
    "$$P(Yes|Rain,Normal)=\\frac{P(Rain, Normal|Yes)P(Yes)}{P(Rain, Normal)}=\\frac{\\frac{18}{126}}{\\frac{3}{14}}=\\frac{6}{9}=\\frac{2}{3}$$\n",
    "\n",
    "    - 베이지안 정리\n",
    "\n",
    "$$\\frac{P(Rain,Normal|Yes)P(Yes)}{P(Rain,Normal|Yes)P(Yes)+P(Rain,Normal|No)P(No)}=\\frac{\\frac{18}{126}}{\\frac{18}{126}+\\frac{1}{14}(=\\frac{9}{126})}=\\frac{\\frac{18}{126}}{\\frac{27}{126}}=\\frac{2}{3}$$"
   ]
  },
  {
   "cell_type": "code",
   "execution_count": 7,
   "metadata": {
    "ExecuteTime": {
     "end_time": "2022-06-04T05:11:48.344536Z",
     "start_time": "2022-06-04T05:11:48.336563Z"
    },
    "colab": {
     "base_uri": "https://localhost:8080/"
    },
    "executionInfo": {
     "elapsed": 339,
     "status": "ok",
     "timestamp": 1635175238044,
     "user": {
      "displayName": "Doojin Park",
      "photoUrl": "https://lh3.googleusercontent.com/a/default-user=s64",
      "userId": "13081019711214908217"
     },
     "user_tz": -540
    },
    "id": "Rqi3RYHaBhtO",
    "outputId": "ed631eb5-a76b-4fa1-9e5b-ed39a34ebc97"
   },
   "outputs": [
    {
     "data": {
      "text/plain": [
       "(9, 14, 0.6428571428571429)"
      ]
     },
     "execution_count": 7,
     "metadata": {},
     "output_type": "execute_result"
    }
   ],
   "source": [
    "# 테니스를 칠 확률 : 9 / 14\n",
    "yes = len(tennis[tennis[\"play\"] == \"Yes\"]) / len(tennis)\n",
    "len(tennis[tennis[\"play\"] == \"Yes\"]), len(tennis), yes"
   ]
  },
  {
   "cell_type": "code",
   "execution_count": 8,
   "metadata": {
    "ExecuteTime": {
     "end_time": "2022-06-04T05:11:49.682545Z",
     "start_time": "2022-06-04T05:11:49.669589Z"
    },
    "colab": {
     "base_uri": "https://localhost:8080/"
    },
    "executionInfo": {
     "elapsed": 4,
     "status": "ok",
     "timestamp": 1635175238399,
     "user": {
      "displayName": "Doojin Park",
      "photoUrl": "https://lh3.googleusercontent.com/a/default-user=s64",
      "userId": "13081019711214908217"
     },
     "user_tz": -540
    },
    "id": "cMXOCH0lBhtP",
    "outputId": "0be6e7ca-5433-4826-9f2b-704f1b3b46a4"
   },
   "outputs": [
    {
     "data": {
      "text/plain": [
       "(2, 9, 0.2222222222222222)"
      ]
     },
     "execution_count": 8,
     "metadata": {},
     "output_type": "execute_result"
    }
   ],
   "source": [
    "# 테니스를 쳤을때 Rain Normal할 확률 : 2 / 9\n",
    "yes_rain_normal = len(tennis[(tennis[\"outlook\"] == \"Rain\") & (tennis[\"humidity\"] == \"Normal\") & (tennis[\"play\"] == \"Yes\")])\\\n",
    "/ len(tennis[tennis[\"play\"] == \"Yes\"])\n",
    "len(tennis[(tennis[\"outlook\"] == \"Rain\") & (tennis[\"humidity\"] == \"Normal\") & (tennis[\"play\"] == \"Yes\")])\\\n",
    ", len(tennis[tennis[\"play\"] == \"Yes\"]), yes_rain_normal"
   ]
  },
  {
   "cell_type": "code",
   "execution_count": 9,
   "metadata": {
    "ExecuteTime": {
     "end_time": "2022-06-04T05:11:50.843876Z",
     "start_time": "2022-06-04T05:11:50.826157Z"
    },
    "colab": {
     "base_uri": "https://localhost:8080/"
    },
    "executionInfo": {
     "elapsed": 353,
     "status": "ok",
     "timestamp": 1635175245529,
     "user": {
      "displayName": "Doojin Park",
      "photoUrl": "https://lh3.googleusercontent.com/a/default-user=s64",
      "userId": "13081019711214908217"
     },
     "user_tz": -540
    },
    "id": "AeMEsv9DBhtP",
    "outputId": "7e006b42-e1d6-4254-c0b6-e667fe7dc848"
   },
   "outputs": [
    {
     "data": {
      "text/plain": [
       "(1, 5, 0.2)"
      ]
     },
     "execution_count": 9,
     "metadata": {},
     "output_type": "execute_result"
    }
   ],
   "source": [
    "# 테니스를 안쳤을때 Rain Normal할 확률 : 1 / 5\n",
    "no_rain_normal = len(tennis[(tennis[\"outlook\"] == \"Rain\") & (tennis[\"humidity\"] == \"Normal\") & (tennis[\"play\"] == \"No\")])\\\n",
    "/ len(tennis[tennis[\"play\"] == \"No\"])\n",
    "len(tennis[(tennis[\"outlook\"] == \"Rain\") & (tennis[\"humidity\"] == \"Normal\") & (tennis[\"play\"] == \"No\")])\\\n",
    ", len(tennis[tennis[\"play\"] == \"No\"]), no_rain_normal"
   ]
  },
  {
   "cell_type": "code",
   "execution_count": 10,
   "metadata": {
    "ExecuteTime": {
     "end_time": "2022-06-04T05:11:51.248364Z",
     "start_time": "2022-06-04T05:11:51.238397Z"
    },
    "colab": {
     "base_uri": "https://localhost:8080/"
    },
    "executionInfo": {
     "elapsed": 326,
     "status": "ok",
     "timestamp": 1635175248323,
     "user": {
      "displayName": "Doojin Park",
      "photoUrl": "https://lh3.googleusercontent.com/a/default-user=s64",
      "userId": "13081019711214908217"
     },
     "user_tz": -540
    },
    "id": "hPKForUCBhtQ",
    "outputId": "f2ddbb99-bc1d-48f3-e29c-01f77e021dab"
   },
   "outputs": [
    {
     "data": {
      "text/plain": [
       "0.14285714285714285"
      ]
     },
     "execution_count": 10,
     "metadata": {},
     "output_type": "execute_result"
    }
   ],
   "source": [
    "# 테니스를 치고 Rain Normal할때 테니스를 칠 확률  : (2 / 9) * (9 / 14)\n",
    "yes_rain_normal * yes"
   ]
  },
  {
   "cell_type": "code",
   "execution_count": 11,
   "metadata": {
    "ExecuteTime": {
     "end_time": "2022-06-04T05:11:51.620923Z",
     "start_time": "2022-06-04T05:11:51.614944Z"
    },
    "colab": {
     "base_uri": "https://localhost:8080/"
    },
    "executionInfo": {
     "elapsed": 5,
     "status": "ok",
     "timestamp": 1635175248647,
     "user": {
      "displayName": "Doojin Park",
      "photoUrl": "https://lh3.googleusercontent.com/a/default-user=s64",
      "userId": "13081019711214908217"
     },
     "user_tz": -540
    },
    "id": "iPna5QrVBhtQ",
    "outputId": "51ae2f19-e1e6-45d4-f8bd-8cb4341ec4fe"
   },
   "outputs": [
    {
     "data": {
      "text/plain": [
       "(3, 14, 0.21428571428571427)"
      ]
     },
     "execution_count": 11,
     "metadata": {},
     "output_type": "execute_result"
    }
   ],
   "source": [
    "# Rain Normal할 확률 : 3 / 14\n",
    "len(tennis[(tennis[\"outlook\"] == \"Rain\") & (tennis[\"humidity\"] == \"Normal\")]), len(tennis),\\\n",
    "len(tennis[(tennis[\"outlook\"] == \"Rain\") & (tennis[\"humidity\"] == \"Normal\")]) / len(tennis)"
   ]
  },
  {
   "cell_type": "markdown",
   "metadata": {
    "id": "erkiycX2BhtQ"
   },
   "source": [
    "### 5. 나이브베이즈 적용\n",
    "- GaussianNB : 데이터가 정규분포를 따를때 사용"
   ]
  },
  {
   "cell_type": "code",
   "execution_count": 12,
   "metadata": {
    "ExecuteTime": {
     "end_time": "2022-06-04T05:11:54.703634Z",
     "start_time": "2022-06-04T05:11:54.541644Z"
    },
    "id": "HXl627n4BhtQ"
   },
   "outputs": [],
   "source": [
    "from sklearn.naive_bayes import GaussianNB"
   ]
  },
  {
   "cell_type": "code",
   "execution_count": 13,
   "metadata": {
    "ExecuteTime": {
     "end_time": "2022-06-04T05:12:05.671571Z",
     "start_time": "2022-06-04T05:12:05.660650Z"
    },
    "id": "UT4O8CIGBhtR"
   },
   "outputs": [],
   "source": [
    "# 전처리\n",
    "outlook = pd.get_dummies(tennis[\"outlook\"])\n",
    "humidity = pd.get_dummies(tennis[\"humidity\"])\n",
    "feature = pd.concat([outlook, humidity], axis=1)\n",
    "target = tennis[\"play\"].map({'Yes': 0, 'No': 1})"
   ]
  },
  {
   "cell_type": "code",
   "execution_count": 24,
   "metadata": {
    "ExecuteTime": {
     "end_time": "2022-06-04T05:20:19.647101Z",
     "start_time": "2022-06-04T05:20:19.627167Z"
    },
    "scrolled": true
   },
   "outputs": [
    {
     "data": {
      "text/html": [
       "<div>\n",
       "<style scoped>\n",
       "    .dataframe tbody tr th:only-of-type {\n",
       "        vertical-align: middle;\n",
       "    }\n",
       "\n",
       "    .dataframe tbody tr th {\n",
       "        vertical-align: top;\n",
       "    }\n",
       "\n",
       "    .dataframe thead th {\n",
       "        text-align: right;\n",
       "    }\n",
       "</style>\n",
       "<table border=\"1\" class=\"dataframe\">\n",
       "  <thead>\n",
       "    <tr style=\"text-align: right;\">\n",
       "      <th></th>\n",
       "      <th>Overcast</th>\n",
       "      <th>Rain</th>\n",
       "      <th>Sunny</th>\n",
       "      <th>High</th>\n",
       "      <th>Normal</th>\n",
       "    </tr>\n",
       "  </thead>\n",
       "  <tbody>\n",
       "    <tr>\n",
       "      <th>0</th>\n",
       "      <td>0</td>\n",
       "      <td>0</td>\n",
       "      <td>1</td>\n",
       "      <td>1</td>\n",
       "      <td>0</td>\n",
       "    </tr>\n",
       "    <tr>\n",
       "      <th>1</th>\n",
       "      <td>0</td>\n",
       "      <td>0</td>\n",
       "      <td>1</td>\n",
       "      <td>1</td>\n",
       "      <td>0</td>\n",
       "    </tr>\n",
       "    <tr>\n",
       "      <th>2</th>\n",
       "      <td>1</td>\n",
       "      <td>0</td>\n",
       "      <td>0</td>\n",
       "      <td>1</td>\n",
       "      <td>0</td>\n",
       "    </tr>\n",
       "    <tr>\n",
       "      <th>3</th>\n",
       "      <td>0</td>\n",
       "      <td>1</td>\n",
       "      <td>0</td>\n",
       "      <td>1</td>\n",
       "      <td>0</td>\n",
       "    </tr>\n",
       "    <tr>\n",
       "      <th>4</th>\n",
       "      <td>0</td>\n",
       "      <td>1</td>\n",
       "      <td>0</td>\n",
       "      <td>0</td>\n",
       "      <td>1</td>\n",
       "    </tr>\n",
       "    <tr>\n",
       "      <th>5</th>\n",
       "      <td>0</td>\n",
       "      <td>1</td>\n",
       "      <td>0</td>\n",
       "      <td>0</td>\n",
       "      <td>1</td>\n",
       "    </tr>\n",
       "    <tr>\n",
       "      <th>6</th>\n",
       "      <td>1</td>\n",
       "      <td>0</td>\n",
       "      <td>0</td>\n",
       "      <td>0</td>\n",
       "      <td>1</td>\n",
       "    </tr>\n",
       "    <tr>\n",
       "      <th>7</th>\n",
       "      <td>0</td>\n",
       "      <td>0</td>\n",
       "      <td>1</td>\n",
       "      <td>1</td>\n",
       "      <td>0</td>\n",
       "    </tr>\n",
       "    <tr>\n",
       "      <th>8</th>\n",
       "      <td>0</td>\n",
       "      <td>0</td>\n",
       "      <td>1</td>\n",
       "      <td>0</td>\n",
       "      <td>1</td>\n",
       "    </tr>\n",
       "    <tr>\n",
       "      <th>9</th>\n",
       "      <td>0</td>\n",
       "      <td>1</td>\n",
       "      <td>0</td>\n",
       "      <td>0</td>\n",
       "      <td>1</td>\n",
       "    </tr>\n",
       "    <tr>\n",
       "      <th>10</th>\n",
       "      <td>0</td>\n",
       "      <td>0</td>\n",
       "      <td>1</td>\n",
       "      <td>0</td>\n",
       "      <td>1</td>\n",
       "    </tr>\n",
       "    <tr>\n",
       "      <th>11</th>\n",
       "      <td>1</td>\n",
       "      <td>0</td>\n",
       "      <td>0</td>\n",
       "      <td>1</td>\n",
       "      <td>0</td>\n",
       "    </tr>\n",
       "    <tr>\n",
       "      <th>12</th>\n",
       "      <td>1</td>\n",
       "      <td>0</td>\n",
       "      <td>0</td>\n",
       "      <td>0</td>\n",
       "      <td>1</td>\n",
       "    </tr>\n",
       "    <tr>\n",
       "      <th>13</th>\n",
       "      <td>0</td>\n",
       "      <td>1</td>\n",
       "      <td>0</td>\n",
       "      <td>1</td>\n",
       "      <td>0</td>\n",
       "    </tr>\n",
       "  </tbody>\n",
       "</table>\n",
       "</div>"
      ],
      "text/plain": [
       "    Overcast  Rain  Sunny  High  Normal\n",
       "0          0     0      1     1       0\n",
       "1          0     0      1     1       0\n",
       "2          1     0      0     1       0\n",
       "3          0     1      0     1       0\n",
       "4          0     1      0     0       1\n",
       "5          0     1      0     0       1\n",
       "6          1     0      0     0       1\n",
       "7          0     0      1     1       0\n",
       "8          0     0      1     0       1\n",
       "9          0     1      0     0       1\n",
       "10         0     0      1     0       1\n",
       "11         1     0      0     1       0\n",
       "12         1     0      0     0       1\n",
       "13         0     1      0     1       0"
      ]
     },
     "execution_count": 24,
     "metadata": {},
     "output_type": "execute_result"
    }
   ],
   "source": [
    "feature"
   ]
  },
  {
   "cell_type": "code",
   "execution_count": 25,
   "metadata": {
    "ExecuteTime": {
     "end_time": "2022-06-04T05:20:26.189930Z",
     "start_time": "2022-06-04T05:20:26.171989Z"
    }
   },
   "outputs": [
    {
     "data": {
      "text/plain": [
       "0     1\n",
       "1     1\n",
       "2     0\n",
       "3     0\n",
       "4     0\n",
       "5     1\n",
       "6     0\n",
       "7     1\n",
       "8     0\n",
       "9     0\n",
       "10    0\n",
       "11    0\n",
       "12    0\n",
       "13    1\n",
       "Name: play, dtype: int64"
      ]
     },
     "execution_count": 25,
     "metadata": {},
     "output_type": "execute_result"
    }
   ],
   "source": [
    "target"
   ]
  },
  {
   "cell_type": "code",
   "execution_count": 32,
   "metadata": {
    "ExecuteTime": {
     "end_time": "2022-06-04T05:23:31.245690Z",
     "start_time": "2022-06-04T05:23:31.230740Z"
    },
    "colab": {
     "base_uri": "https://localhost:8080/",
     "height": 110
    },
    "executionInfo": {
     "elapsed": 5,
     "status": "ok",
     "timestamp": 1635175254138,
     "user": {
      "displayName": "Doojin Park",
      "photoUrl": "https://lh3.googleusercontent.com/a/default-user=s64",
      "userId": "13081019711214908217"
     },
     "user_tz": -540
    },
    "id": "hXvE5N7pBhtR",
    "outputId": "f9740213-8ec5-463f-d830-ea79dbb8fd54"
   },
   "outputs": [
    {
     "data": {
      "text/html": [
       "<div>\n",
       "<style scoped>\n",
       "    .dataframe tbody tr th:only-of-type {\n",
       "        vertical-align: middle;\n",
       "    }\n",
       "\n",
       "    .dataframe tbody tr th {\n",
       "        vertical-align: top;\n",
       "    }\n",
       "\n",
       "    .dataframe thead th {\n",
       "        text-align: right;\n",
       "    }\n",
       "</style>\n",
       "<table border=\"1\" class=\"dataframe\">\n",
       "  <thead>\n",
       "    <tr style=\"text-align: right;\">\n",
       "      <th></th>\n",
       "      <th>Overcast</th>\n",
       "      <th>Rain</th>\n",
       "      <th>Sunny</th>\n",
       "      <th>High</th>\n",
       "      <th>Normal</th>\n",
       "      <th>play</th>\n",
       "    </tr>\n",
       "  </thead>\n",
       "  <tbody>\n",
       "    <tr>\n",
       "      <th>12</th>\n",
       "      <td>1</td>\n",
       "      <td>0</td>\n",
       "      <td>0</td>\n",
       "      <td>0</td>\n",
       "      <td>1</td>\n",
       "      <td>0</td>\n",
       "    </tr>\n",
       "    <tr>\n",
       "      <th>13</th>\n",
       "      <td>0</td>\n",
       "      <td>1</td>\n",
       "      <td>0</td>\n",
       "      <td>1</td>\n",
       "      <td>0</td>\n",
       "      <td>1</td>\n",
       "    </tr>\n",
       "  </tbody>\n",
       "</table>\n",
       "</div>"
      ],
      "text/plain": [
       "    Overcast  Rain  Sunny  High  Normal  play\n",
       "12         1     0      0     0       1     0\n",
       "13         0     1      0     1       0     1"
      ]
     },
     "execution_count": 32,
     "metadata": {},
     "output_type": "execute_result"
    }
   ],
   "source": [
    "tennis_df = pd.concat([feature, target], axis=1)\n",
    "tennis_df.tail(2)"
   ]
  },
  {
   "cell_type": "code",
   "execution_count": 33,
   "metadata": {
    "ExecuteTime": {
     "end_time": "2022-06-04T05:23:31.962347Z",
     "start_time": "2022-06-04T05:23:31.957364Z"
    },
    "id": "e1kkPIT8BhtR"
   },
   "outputs": [],
   "source": [
    "# 모델 학습\n",
    "model_1 = GaussianNB().fit(feature, target)"
   ]
  },
  {
   "cell_type": "code",
   "execution_count": 34,
   "metadata": {
    "ExecuteTime": {
     "end_time": "2022-06-04T05:23:32.303897Z",
     "start_time": "2022-06-04T05:23:32.289944Z"
    },
    "id": "wa3NaWDVBhtR"
   },
   "outputs": [],
   "source": [
    "# 예측 데이터\n",
    "pred_1 = model_1.predict(feature)"
   ]
  },
  {
   "cell_type": "code",
   "execution_count": 35,
   "metadata": {
    "ExecuteTime": {
     "end_time": "2022-06-04T05:23:32.537083Z",
     "start_time": "2022-06-04T05:23:32.532100Z"
    },
    "colab": {
     "base_uri": "https://localhost:8080/"
    },
    "executionInfo": {
     "elapsed": 4,
     "status": "ok",
     "timestamp": 1635175256472,
     "user": {
      "displayName": "Doojin Park",
      "photoUrl": "https://lh3.googleusercontent.com/a/default-user=s64",
      "userId": "13081019711214908217"
     },
     "user_tz": -540
    },
    "id": "pvlzSQRNBhtR",
    "outputId": "d157a3ec-cb84-4c42-d2e5-f8df90425c1d"
   },
   "outputs": [
    {
     "data": {
      "text/plain": [
       "array([1, 1, 0, 1, 1, 1, 0, 1, 1, 1, 1, 0, 0, 1], dtype=int64)"
      ]
     },
     "execution_count": 35,
     "metadata": {},
     "output_type": "execute_result"
    }
   ],
   "source": [
    "# 예측 데이터 \n",
    "pred_1"
   ]
  },
  {
   "cell_type": "code",
   "execution_count": 36,
   "metadata": {
    "ExecuteTime": {
     "end_time": "2022-06-04T05:23:32.742484Z",
     "start_time": "2022-06-04T05:23:32.736504Z"
    },
    "colab": {
     "base_uri": "https://localhost:8080/"
    },
    "executionInfo": {
     "elapsed": 616,
     "status": "ok",
     "timestamp": 1635175259052,
     "user": {
      "displayName": "Doojin Park",
      "photoUrl": "https://lh3.googleusercontent.com/a/default-user=s64",
      "userId": "13081019711214908217"
     },
     "user_tz": -540
    },
    "id": "-Jkt2PKsBhtS",
    "outputId": "06c2239b-2d78-4e9c-e41a-89f1afb0c3eb",
    "scrolled": true
   },
   "outputs": [
    {
     "data": {
      "text/plain": [
       "array([1, 1, 0, 0, 0, 1, 0, 1, 0, 0, 0, 0, 0, 1], dtype=int64)"
      ]
     },
     "execution_count": 36,
     "metadata": {},
     "output_type": "execute_result"
    }
   ],
   "source": [
    "# 실제 데이터\n",
    "target.values"
   ]
  },
  {
   "cell_type": "code",
   "execution_count": 37,
   "metadata": {
    "ExecuteTime": {
     "end_time": "2022-06-04T05:23:33.068098Z",
     "start_time": "2022-06-04T05:23:33.054144Z"
    },
    "colab": {
     "base_uri": "https://localhost:8080/"
    },
    "executionInfo": {
     "elapsed": 5,
     "status": "ok",
     "timestamp": 1635175259053,
     "user": {
      "displayName": "Doojin Park",
      "photoUrl": "https://lh3.googleusercontent.com/a/default-user=s64",
      "userId": "13081019711214908217"
     },
     "user_tz": -540
    },
    "id": "lrVuxs7zBhtS",
    "outputId": "d53eb000-9e91-45c5-9913-c5bf274bb351"
   },
   "outputs": [
    {
     "data": {
      "text/plain": [
       "0.6428571428571429"
      ]
     },
     "execution_count": 37,
     "metadata": {},
     "output_type": "execute_result"
    }
   ],
   "source": [
    "# 모델 평가 : 찍어도 50%인데 64.2% 성능이 안좋음\n",
    "# 독립변수가 범주형 데이터 : BernoulliNB, MultinomialNB 을 사용하는것이 좋다.\n",
    "len(pred_1[pred_1 == target.values]) / len(target)"
   ]
  },
  {
   "cell_type": "code",
   "execution_count": 38,
   "metadata": {
    "ExecuteTime": {
     "end_time": "2022-06-04T05:23:33.439723Z",
     "start_time": "2022-06-04T05:23:33.344096Z"
    },
    "colab": {
     "base_uri": "https://localhost:8080/",
     "height": 282
    },
    "executionInfo": {
     "elapsed": 665,
     "status": "ok",
     "timestamp": 1635175261251,
     "user": {
      "displayName": "Doojin Park",
      "photoUrl": "https://lh3.googleusercontent.com/a/default-user=s64",
      "userId": "13081019711214908217"
     },
     "user_tz": -540
    },
    "id": "HdbqIOmrBhtS",
    "outputId": "2b9483e6-0513-4a57-e59c-2e6ae93dbe52"
   },
   "outputs": [
    {
     "data": {
      "text/plain": [
       "<AxesSubplot:ylabel='Density'>"
      ]
     },
     "execution_count": 38,
     "metadata": {},
     "output_type": "execute_result"
    },
    {
     "data": {
      "image/png": "[encoded data removed]",
      "text/plain": [
       "<Figure size 432x288 with 1 Axes>"
      ]
     },
     "metadata": {
      "image/png": {
       "height": 249,
       "width": 389
      },
      "needs_background": "light"
     },
     "output_type": "display_data"
    }
   ],
   "source": [
    "sns.distplot(feature) # 데이터가 정규분포가 아님 : 이산형 데이터"
   ]
  },
  {
   "cell_type": "markdown",
   "metadata": {
    "id": "_t_WVK92BhtS"
   },
   "source": [
    "### 6. 나이브 베이즈 종류\n",
    "- GaussianNB : 정규분포\n",
    "    - 독립변수가 연속적일때 사용\n",
    "    - 독립변수가 정규분포일때 사용\n",
    "- BernoulliNB : 베르누이분포\n",
    "    - 독립변수가 범주형인경우 사용\n",
    "    - 종속변수가 0 또는 1의 두가지를 갖는 이산형인 경우 사용\n",
    "- MultinomialNB : 다항분포\n",
    "    - 독립변수가 범주형인경우 사용\n",
    "    - 종속변수가 여러개의 범주를 갖는 이산형인 경우 사용"
   ]
  },
  {
   "cell_type": "code",
   "execution_count": 51,
   "metadata": {
    "ExecuteTime": {
     "end_time": "2022-06-04T05:27:44.997158Z",
     "start_time": "2022-06-04T05:27:44.983206Z"
    },
    "id": "KjCYedwEBhtS"
   },
   "outputs": [],
   "source": [
    "from sklearn.naive_bayes import MultinomialNB"
   ]
  },
  {
   "cell_type": "code",
   "execution_count": 52,
   "metadata": {
    "ExecuteTime": {
     "end_time": "2022-06-04T05:27:45.548613Z",
     "start_time": "2022-06-04T05:27:45.531671Z"
    },
    "id": "QSM_6ZRCBhtT"
   },
   "outputs": [],
   "source": [
    "# 모델 학습\n",
    "model_2 = MultinomialNB().fit(feature, target)"
   ]
  },
  {
   "cell_type": "code",
   "execution_count": 53,
   "metadata": {
    "ExecuteTime": {
     "end_time": "2022-06-04T05:27:46.187798Z",
     "start_time": "2022-06-04T05:27:46.177831Z"
    },
    "id": "7Lj71y07BhtT"
   },
   "outputs": [],
   "source": [
    "# 예측\n",
    "pred_2 = model_2.predict(feature)"
   ]
  },
  {
   "cell_type": "code",
   "execution_count": 54,
   "metadata": {
    "ExecuteTime": {
     "end_time": "2022-06-04T05:27:46.575913Z",
     "start_time": "2022-06-04T05:27:46.557973Z"
    },
    "colab": {
     "base_uri": "https://localhost:8080/"
    },
    "executionInfo": {
     "elapsed": 5,
     "status": "ok",
     "timestamp": 1635175267050,
     "user": {
      "displayName": "Doojin Park",
      "photoUrl": "https://lh3.googleusercontent.com/a/default-user=s64",
      "userId": "13081019711214908217"
     },
     "user_tz": -540
    },
    "id": "3t2pSmkWBhtT",
    "outputId": "82994946-509f-4f14-c599-1a834af992c7",
    "scrolled": true
   },
   "outputs": [
    {
     "data": {
      "text/plain": [
       "0.8571428571428571"
      ]
     },
     "execution_count": 54,
     "metadata": {},
     "output_type": "execute_result"
    }
   ],
   "source": [
    "# 평가 : GaussianNB 보다 성능이 좋다. : 독립변수가 정규분포가 아니기 때문에\n",
    "len(pred_2[pred_2 == target.values]) / len(target)"
   ]
  },
  {
   "cell_type": "code",
   "execution_count": 43,
   "metadata": {
    "ExecuteTime": {
     "end_time": "2022-06-04T05:23:35.693233Z",
     "start_time": "2022-06-04T05:23:35.679280Z"
    },
    "id": "5P2IUDDgBhtT"
   },
   "outputs": [],
   "source": [
    "# 데이터를 만들어서 예측\n",
    "# 흐린날 습도가 보통일때 테니스를 칠까?\n",
    "# Overcast, Rain, Sunny, High, Normal -> [1, 0, 0, 0, 1]"
   ]
  },
  {
   "cell_type": "code",
   "execution_count": 45,
   "metadata": {
    "ExecuteTime": {
     "end_time": "2022-06-04T05:24:11.117743Z",
     "start_time": "2022-06-04T05:24:11.114786Z"
    },
    "id": "18J09cSqBhtT"
   },
   "outputs": [],
   "source": [
    "sample = np.array([1, 0, 0, 0, 1])"
   ]
  },
  {
   "cell_type": "code",
   "execution_count": null,
   "metadata": {},
   "outputs": [],
   "source": [
    "# model1_2.predict_proba() -> y가 0 또는 1일 확률 값 제공"
   ]
  },
  {
   "cell_type": "code",
   "execution_count": 46,
   "metadata": {
    "ExecuteTime": {
     "end_time": "2022-06-04T05:24:22.152223Z",
     "start_time": "2022-06-04T05:24:22.141260Z"
    },
    "colab": {
     "base_uri": "https://localhost:8080/"
    },
    "executionInfo": {
     "elapsed": 6,
     "status": "ok",
     "timestamp": 1635175270344,
     "user": {
      "displayName": "Doojin Park",
      "photoUrl": "https://lh3.googleusercontent.com/a/default-user=s64",
      "userId": "13081019711214908217"
     },
     "user_tz": -540
    },
    "id": "0HuoaYhEBhtU",
    "outputId": "435dbb8b-e06e-4b8e-dae6-623466eeb0be"
   },
   "outputs": [
    {
     "data": {
      "text/plain": [
       "(array([0.93054553, 0.06945447]), 0)"
      ]
     },
     "execution_count": 46,
     "metadata": {},
     "output_type": "execute_result"
    }
   ],
   "source": [
    "proba = model_2.predict_proba([sample])[0]\n",
    "result = model_2.predict([sample])[0]\n",
    "proba, result"
   ]
  },
  {
   "cell_type": "code",
   "execution_count": 25,
   "metadata": {
    "ExecuteTime": {
     "end_time": "2022-05-26T05:08:16.106953Z",
     "start_time": "2022-05-26T05:08:16.103060Z"
    },
    "colab": {
     "base_uri": "https://localhost:8080/"
    },
    "executionInfo": {
     "elapsed": 6,
     "status": "ok",
     "timestamp": 1635175271215,
     "user": {
      "displayName": "Doojin Park",
      "photoUrl": "https://lh3.googleusercontent.com/a/default-user=s64",
      "userId": "13081019711214908217"
     },
     "user_tz": -540
    },
    "id": "jkQXSLNmBhtU",
    "outputId": "b0ec924e-ed77-44c3-e64c-51082ee2ce46"
   },
   "outputs": [
    {
     "name": "stdout",
     "output_type": "stream",
     "text": [
      "안 칠 확률: 0.93, 칠 확률: 0.07, 결과 : 테니스 안친다.\n"
     ]
    }
   ],
   "source": [
    "print(\"안 칠 확률: {}, 칠 확률: {},\".format(np.round(proba[0], 2), np.round(proba[1], 2)), end=\" \")\n",
    "print(\"결과 : {}\".format( \"테니스 친다.\" if result else \"테니스 안친다.\"))"
   ]
  },
  {
   "cell_type": "code",
   "execution_count": 55,
   "metadata": {
    "ExecuteTime": {
     "end_time": "2022-06-04T05:27:52.103243Z",
     "start_time": "2022-06-04T05:27:52.088294Z"
    }
   },
   "outputs": [],
   "source": [
    "from sklearn.naive_bayes import BernoulliNB"
   ]
  },
  {
   "cell_type": "code",
   "execution_count": 56,
   "metadata": {
    "ExecuteTime": {
     "end_time": "2022-06-04T05:27:52.536066Z",
     "start_time": "2022-06-04T05:27:52.524106Z"
    }
   },
   "outputs": [],
   "source": [
    "model_3 = BernoulliNB().fit(feature, target)"
   ]
  },
  {
   "cell_type": "code",
   "execution_count": 57,
   "metadata": {
    "ExecuteTime": {
     "end_time": "2022-06-04T05:27:52.769550Z",
     "start_time": "2022-06-04T05:27:52.754600Z"
    }
   },
   "outputs": [],
   "source": [
    "pred_3 = model_3.predict(feature)"
   ]
  },
  {
   "cell_type": "code",
   "execution_count": 58,
   "metadata": {
    "ExecuteTime": {
     "end_time": "2022-06-04T05:27:53.160092Z",
     "start_time": "2022-06-04T05:27:53.142152Z"
    }
   },
   "outputs": [
    {
     "data": {
      "text/plain": [
       "0.8571428571428571"
      ]
     },
     "execution_count": 58,
     "metadata": {},
     "output_type": "execute_result"
    }
   ],
   "source": [
    "len(pred_3[pred_3 == target.values]) / len(target)"
   ]
  },
  {
   "cell_type": "code",
   "execution_count": 59,
   "metadata": {
    "ExecuteTime": {
     "end_time": "2022-06-04T05:28:48.124069Z",
     "start_time": "2022-06-04T05:28:48.105130Z"
    }
   },
   "outputs": [
    {
     "data": {
      "text/plain": [
       "(array([0.9817159, 0.0182841]), 0)"
      ]
     },
     "execution_count": 59,
     "metadata": {},
     "output_type": "execute_result"
    }
   ],
   "source": [
    "# multinomial보다 정확하게 0임을 예측\n",
    "\n",
    "proba = model_3.predict_proba([sample])[0]\n",
    "result = model_3.predict([sample])[0]\n",
    "proba, result"
   ]
  },
  {
   "cell_type": "markdown",
   "metadata": {
    "id": "CXcAxUulBhtU"
   },
   "source": [
    "### 7. 평가 결과의 해석"
   ]
  },
  {
   "cell_type": "code",
   "execution_count": 60,
   "metadata": {
    "ExecuteTime": {
     "end_time": "2022-06-04T05:29:20.157020Z",
     "start_time": "2022-06-04T05:29:19.993890Z"
    },
    "id": "zqG3hNeEBhtU"
   },
   "outputs": [],
   "source": [
    "from sklearn.metrics import confusion_matrix, classification_report"
   ]
  },
  {
   "cell_type": "code",
   "execution_count": 61,
   "metadata": {
    "ExecuteTime": {
     "end_time": "2022-06-04T05:29:34.928121Z",
     "start_time": "2022-06-04T05:29:34.922141Z"
    }
   },
   "outputs": [
    {
     "name": "stdout",
     "output_type": "stream",
     "text": [
      "[1 1 0 0 0 1 0 1 0 0 0 0 0 1]\n",
      "[1 1 0 1 0 0 0 1 0 0 0 0 0 1]\n",
      "[1 1 0 1 0 0 0 1 0 0 0 0 0 1]\n"
     ]
    }
   ],
   "source": [
    "print(target.values)\n",
    "print(pred_2)\n",
    "print(pred_3)"
   ]
  },
  {
   "cell_type": "markdown",
   "metadata": {
    "id": "c8Un-TWfBhtU"
   },
   "source": [
    "- TP : True Positive : 테니스를 치는 데이터에서 테니스를 친다고 예측 : 8 \n",
    "- TN : True Nagative : 테니스를 안치는 데이터에서 테니스를 안친다고 예측 : 4\n",
    "- FP : False Positive : 테니스를 치는 데이터에서 테니스를 안친다고 예측 : 1\n",
    "- FN : False Nagative : 테니스를 안치는 데이터에서 테니스를 친다고 예측 : 1"
   ]
  },
  {
   "cell_type": "code",
   "execution_count": 62,
   "metadata": {
    "ExecuteTime": {
     "end_time": "2022-06-04T05:30:30.218861Z",
     "start_time": "2022-06-04T05:30:30.206901Z"
    },
    "colab": {
     "base_uri": "https://localhost:8080/"
    },
    "executionInfo": {
     "elapsed": 9,
     "status": "ok",
     "timestamp": 1635175283601,
     "user": {
      "displayName": "Doojin Park",
      "photoUrl": "https://lh3.googleusercontent.com/a/default-user=s64",
      "userId": "13081019711214908217"
     },
     "user_tz": -540
    },
    "id": "YLs9xGWyBhtU",
    "outputId": "b8cb0b5b-8a5e-47e0-88b0-ecf82ea132e2"
   },
   "outputs": [
    {
     "name": "stdout",
     "output_type": "stream",
     "text": [
      "[[8 1]\n",
      " [1 4]]\n",
      "[[8 1]\n",
      " [1 4]]\n"
     ]
    }
   ],
   "source": [
    "cm_mnb = confusion_matrix(target.values, pred_2)\n",
    "cm_bnb = confusion_matrix(target.values, pred_3)\n",
    "\n",
    "print(cm_mnb)\n",
    "print(cm_bnb)"
   ]
  },
  {
   "cell_type": "code",
   "execution_count": 63,
   "metadata": {
    "ExecuteTime": {
     "end_time": "2022-06-04T05:30:36.504694Z",
     "start_time": "2022-06-04T05:30:36.488747Z"
    },
    "colab": {
     "base_uri": "https://localhost:8080/"
    },
    "executionInfo": {
     "elapsed": 6,
     "status": "ok",
     "timestamp": 1635175283602,
     "user": {
      "displayName": "Doojin Park",
      "photoUrl": "https://lh3.googleusercontent.com/a/default-user=s64",
      "userId": "13081019711214908217"
     },
     "user_tz": -540
    },
    "id": "E5cgw-pkBhtV",
    "outputId": "ba45cd01-9895-4f80-a350-e750ab5df123"
   },
   "outputs": [
    {
     "name": "stdout",
     "output_type": "stream",
     "text": [
      "              precision    recall  f1-score   support\n",
      "\n",
      "           0       0.89      0.89      0.89         9\n",
      "           1       0.80      0.80      0.80         5\n",
      "\n",
      "    accuracy                           0.86        14\n",
      "   macro avg       0.84      0.84      0.84        14\n",
      "weighted avg       0.86      0.86      0.86        14\n",
      "\n"
     ]
    }
   ],
   "source": [
    "# 0이 9개, 1이 5개로 비율이 맞지 않아 정확한 결과값 나오지 x\n",
    "# 1. classification에서는 같은 비율로 나눠져야한다.\n",
    "# 2. 문제 정의에 따라 precision, recall 중 무엇에 비중을 높게 생각할지 고민해봐야 한다. (ex-코로나 양성인데 음성으로 판단은 치명적)\n",
    "\n",
    "print(classification_report(target.values, pred_2))"
   ]
  },
  {
   "cell_type": "code",
   "execution_count": 64,
   "metadata": {
    "ExecuteTime": {
     "end_time": "2022-06-04T05:30:47.798812Z",
     "start_time": "2022-06-04T05:30:47.780872Z"
    }
   },
   "outputs": [
    {
     "name": "stdout",
     "output_type": "stream",
     "text": [
      "              precision    recall  f1-score   support\n",
      "\n",
      "           0       0.89      0.89      0.89         9\n",
      "           1       0.80      0.80      0.80         5\n",
      "\n",
      "    accuracy                           0.86        14\n",
      "   macro avg       0.84      0.84      0.84        14\n",
      "weighted avg       0.86      0.86      0.86        14\n",
      "\n"
     ]
    }
   ],
   "source": [
    "print(classification_report(target.values, pred_3))"
   ]
  },
  {
   "cell_type": "markdown",
   "metadata": {
    "id": "IIWqgF3wBhtV"
   },
   "source": [
    "- 정확도(accuracy)\n",
    "    - 전체 샘플 중 맞게 예측한 샘플 수의 비율을 뜻한다. 높을수록 좋은 모형이다.\n",
    "    - 12 / 14 = 0.86"
   ]
  },
  {
   "cell_type": "markdown",
   "metadata": {
    "id": "BEAjsZTZBhtV"
   },
   "source": [
    "$$ \\text{accuracy} = \\dfrac{TP + TN}{TP + TN + FP + FN} $$"
   ]
  },
  {
   "cell_type": "markdown",
   "metadata": {
    "id": "zYucmijkBhtV"
   },
   "source": [
    "- 정밀도(precision)\n",
    "    - 예측 데이터를 기준으로 예측된 데이터를 맞춘 비율 : 세로로 연산\n",
    "    - 0 : 8 / 9 = 0.89\n",
    "    - 1 : 4 / 5 = 0.80"
   ]
  },
  {
   "cell_type": "code",
   "execution_count": null,
   "metadata": {
    "colab": {
     "base_uri": "https://localhost:8080/"
    },
    "executionInfo": {
     "elapsed": 6,
     "status": "ok",
     "timestamp": 1635175286393,
     "user": {
      "displayName": "Doojin Park",
      "photoUrl": "https://lh3.googleusercontent.com/a/default-user=s64",
      "userId": "13081019711214908217"
     },
     "user_tz": -540
    },
    "id": "dSjT49VrBhtV",
    "outputId": "8275ce4a-27c2-43fc-c594-ab1635f3e3d6"
   },
   "outputs": [],
   "source": [
    "cm"
   ]
  },
  {
   "cell_type": "markdown",
   "metadata": {
    "id": "Nr-fT_wlBhtV"
   },
   "source": [
    "$$\\text{precision} = \\dfrac{TP}{TP + FP}$$"
   ]
  },
  {
   "cell_type": "markdown",
   "metadata": {
    "id": "0f-mAdZoBhtV"
   },
   "source": [
    "- 재현율(recall)\n",
    "    - 실제 데이터룰 기준으로 예측된 데이터가 맞은 비율 : 가로로 연산\n",
    "    - 0 : 0.89\n",
    "    - 1 : 0.80"
   ]
  },
  {
   "cell_type": "code",
   "execution_count": null,
   "metadata": {
    "colab": {
     "base_uri": "https://localhost:8080/"
    },
    "executionInfo": {
     "elapsed": 554,
     "status": "ok",
     "timestamp": 1635175289155,
     "user": {
      "displayName": "Doojin Park",
      "photoUrl": "https://lh3.googleusercontent.com/a/default-user=s64",
      "userId": "13081019711214908217"
     },
     "user_tz": -540
    },
    "id": "_VbhSTQBBhtV",
    "outputId": "ff4ab5dd-ad30-4e7e-e57d-8ab2b50f4ce6"
   },
   "outputs": [],
   "source": [
    "cm"
   ]
  },
  {
   "cell_type": "markdown",
   "metadata": {
    "id": "7lwuGCMbBhtW"
   },
   "source": [
    "$$\\text{recall} = \\dfrac{TP}{TP + FN}$$"
   ]
  },
  {
   "cell_type": "markdown",
   "metadata": {
    "id": "bwbQmyZHBhtW"
   },
   "source": [
    "- F점수(F-score)\n",
    "    - 정밀도와 재현율의 가중조화평균(weight harmonic average)을 F점수(F-score)라고 한다. 정밀도에 주어지는 가중치를 베타(beta)라고 한다.\n",
    "    - 베타가 1인 경우를 특별히 F1점수라고 한다."
   ]
  },
  {
   "cell_type": "markdown",
   "metadata": {
    "id": "6QU41_tWBhtW"
   },
   "source": [
    "$$\n",
    "F_\\beta = (1 + \\beta^2) \\, ({\\text{precision} \\times \\text{recall}}) \\, / \\, ({\\beta^2 \\, \\text{precision} + \\text{recall}})\n",
    "$$\n",
    "\n",
    "    \n",
    "\n",
    "$$\n",
    "F_1 = 2 \\cdot \\text{precision} \\cdot \\text{recall} \\, / \\, (\\text{precision} + \\text{recall})\n",
    "$$"
   ]
  },
  {
   "cell_type": "markdown",
   "metadata": {
    "id": "nbWwU33YBhtW"
   },
   "source": [
    "- accuracy: 정확도. 전체 학습데이터의 개수에서 각 클래스에서 자신의 클래스를 정확하게 맞춘 개수의 비율\n",
    "- macro: 단순평균\n",
    "- weighted: 각 클래스에 속하는 표본의 갯수로 가중평균"
   ]
  }
 ],
 "metadata": {
  "colab": {
   "collapsed_sections": [],
   "name": "02_naive_bayes.ipynb",
   "provenance": []
  },
  "kernelspec": {
   "display_name": "Python 3 (ipykernel)",
   "language": "python",
   "name": "python3"
  },
  "language_info": {
   "codemirror_mode": {
    "name": "ipython",
    "version": 3
   },
   "file_extension": ".py",
   "mimetype": "text/x-python",
   "name": "python",
   "nbconvert_exporter": "python",
   "pygments_lexer": "ipython3",
   "version": "3.8.13"
  },
  "toc": {
   "base_numbering": 1,
   "nav_menu": {},
   "number_sections": false,
   "sideBar": true,
   "skip_h1_title": false,
   "title_cell": "Table of Contents",
   "title_sidebar": "Contents",
   "toc_cell": false,
   "toc_position": {},
   "toc_section_display": true,
   "toc_window_display": false
  },
  "varInspector": {
   "cols": {
    "lenName": 16,
    "lenType": 16,
    "lenVar": 40
   },
   "kernels_config": {
    "python": {
     "delete_cmd_postfix": "",
     "delete_cmd_prefix": "del ",
     "library": "var_list.py",
     "varRefreshCmd": "print(var_dic_list())"
    },
    "r": {
     "delete_cmd_postfix": ") ",
     "delete_cmd_prefix": "rm(",
     "library": "var_list.r",
     "varRefreshCmd": "cat(var_dic_list()) "
    }
   },
   "types_to_exclude": [
    "module",
    "function",
    "builtin_function_or_method",
    "instance",
    "_Feature"
   ],
   "window_display": false
  }
 },
 "nbformat": 4,
 "nbformat_minor": 1
}
