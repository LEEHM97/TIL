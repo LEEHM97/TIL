{
 "cells": [
  {
   "cell_type": "code",
   "execution_count": 1,
   "metadata": {
    "ExecuteTime": {
     "end_time": "2022-05-27T05:22:13.617002Z",
     "start_time": "2022-05-27T05:22:12.637540Z"
    },
    "executionInfo": {
     "elapsed": 776,
     "status": "ok",
     "timestamp": 1652283364624,
     "user": {
      "displayName": "Doojin Park",
      "userId": "13081019711214908217"
     },
     "user_tz": -540
    },
    "id": "Kbsm6SydDoel"
   },
   "outputs": [],
   "source": [
    "%config InlineBackend.figure_formats = {'png', 'retina'}\n",
    "import numpy as np\n",
    "import pandas as pd\n",
    "import matplotlib.pyplot as plt\n",
    "import seaborn as sns\n",
    "import warnings\n",
    "warnings.filterwarnings('ignore')"
   ]
  },
  {
   "cell_type": "markdown",
   "metadata": {
    "id": "oQpm8IvAD4NH"
   },
   "source": [
    "### 손글씨 분류 모델 만들기"
   ]
  },
  {
   "cell_type": "code",
   "execution_count": null,
   "metadata": {
    "executionInfo": {
     "elapsed": 3,
     "status": "ok",
     "timestamp": 1652283364624,
     "user": {
      "displayName": "Doojin Park",
      "userId": "13081019711214908217"
     },
     "user_tz": -540
    },
    "id": "PUBJBr5UD2jO"
   },
   "outputs": [],
   "source": [
    "# 1. 데이터 로드"
   ]
  },
  {
   "cell_type": "code",
   "execution_count": 2,
   "metadata": {
    "ExecuteTime": {
     "end_time": "2022-05-27T05:22:15.088883Z",
     "start_time": "2022-05-27T05:22:15.001913Z"
    },
    "executionInfo": {
     "elapsed": 3,
     "status": "ok",
     "timestamp": 1652283364624,
     "user": {
      "displayName": "Doojin Park",
      "userId": "13081019711214908217"
     },
     "user_tz": -540
    },
    "id": "sH9ayjBVEUqM"
   },
   "outputs": [],
   "source": [
    "from sklearn import datasets"
   ]
  },
  {
   "cell_type": "code",
   "execution_count": 3,
   "metadata": {
    "ExecuteTime": {
     "end_time": "2022-05-27T05:22:15.493221Z",
     "start_time": "2022-05-27T05:22:15.411699Z"
    },
    "executionInfo": {
     "elapsed": 281,
     "status": "ok",
     "timestamp": 1652283364903,
     "user": {
      "displayName": "Doojin Park",
      "userId": "13081019711214908217"
     },
     "user_tz": -540
    },
    "id": "4u7zOHVHEacU"
   },
   "outputs": [],
   "source": [
    "mnist = datasets.load_digits() # 8 * 8 이미지, 1797개"
   ]
  },
  {
   "cell_type": "code",
   "execution_count": null,
   "metadata": {
    "executionInfo": {
     "elapsed": 8,
     "status": "ok",
     "timestamp": 1652283364903,
     "user": {
      "displayName": "Doojin Park",
      "userId": "13081019711214908217"
     },
     "user_tz": -540
    },
    "id": "ZM_3WdTCEGz0"
   },
   "outputs": [],
   "source": [
    "# 2. 데이터 전처리"
   ]
  },
  {
   "cell_type": "code",
   "execution_count": 4,
   "metadata": {
    "ExecuteTime": {
     "end_time": "2022-05-27T05:22:17.093883Z",
     "start_time": "2022-05-27T05:22:17.088937Z"
    },
    "colab": {
     "base_uri": "https://localhost:8080/"
    },
    "executionInfo": {
     "elapsed": 8,
     "status": "ok",
     "timestamp": 1652283364903,
     "user": {
      "displayName": "Doojin Park",
      "userId": "13081019711214908217"
     },
     "user_tz": -540
    },
    "id": "4FT4fnTwEqry",
    "outputId": "8ab04ffc-fdeb-4f66-a252-ec5ea0683ccb"
   },
   "outputs": [
    {
     "data": {
      "text/plain": [
       "dict_keys(['data', 'target', 'frame', 'feature_names', 'target_names', 'images', 'DESCR'])"
      ]
     },
     "execution_count": 4,
     "metadata": {},
     "output_type": "execute_result"
    }
   ],
   "source": [
    "mnist.keys()"
   ]
  },
  {
   "cell_type": "code",
   "execution_count": 5,
   "metadata": {
    "ExecuteTime": {
     "end_time": "2022-05-27T05:22:17.686657Z",
     "start_time": "2022-05-27T05:22:17.669714Z"
    },
    "colab": {
     "base_uri": "https://localhost:8080/"
    },
    "executionInfo": {
     "elapsed": 8,
     "status": "ok",
     "timestamp": 1652283364905,
     "user": {
      "displayName": "Doojin Park",
      "userId": "13081019711214908217"
     },
     "user_tz": -540
    },
    "id": "uzPq7moXEzQd",
    "outputId": "2dd766e3-9518-4ea5-dc30-9971d3cf227d"
   },
   "outputs": [
    {
     "name": "stdout",
     "output_type": "stream",
     "text": [
      "1797\n",
      "[ 0.  0.  5. 13.  9.  1.  0.  0.  0.  0. 13. 15. 10. 15.  5.  0.  0.  3.\n",
      " 15.  2.  0. 11.  8.  0.  0.  4. 12.  0.  0.  8.  8.  0.  0.  5.  8.  0.\n",
      "  0.  9.  8.  0.  0.  4. 11.  0.  1. 12.  7.  0.  0.  2. 14.  5. 10. 12.\n",
      "  0.  0.  0.  0.  6. 13. 10.  0.  0.  0.]\n"
     ]
    },
    {
     "data": {
      "text/plain": [
       "array([[ 0.,  0.,  5., 13.,  9.,  1.,  0.,  0.],\n",
       "       [ 0.,  0., 13., 15., 10., 15.,  5.,  0.],\n",
       "       [ 0.,  3., 15.,  2.,  0., 11.,  8.,  0.],\n",
       "       [ 0.,  4., 12.,  0.,  0.,  8.,  8.,  0.],\n",
       "       [ 0.,  5.,  8.,  0.,  0.,  9.,  8.,  0.],\n",
       "       [ 0.,  4., 11.,  0.,  1., 12.,  7.,  0.],\n",
       "       [ 0.,  2., 14.,  5., 10., 12.,  0.,  0.],\n",
       "       [ 0.,  0.,  6., 13., 10.,  0.,  0.,  0.]])"
      ]
     },
     "execution_count": 5,
     "metadata": {},
     "output_type": "execute_result"
    }
   ],
   "source": [
    "print(len(mnist[\"data\"]))\n",
    "\n",
    "data = mnist[\"data\"][0]\n",
    "print(data)\n",
    "\n",
    "# 원래의 행렬 데이터로 변환\n",
    "img = data.reshape(8, 8)\n",
    "img"
   ]
  },
  {
   "cell_type": "code",
   "execution_count": 6,
   "metadata": {
    "ExecuteTime": {
     "end_time": "2022-05-27T05:22:56.514102Z",
     "start_time": "2022-05-27T05:22:56.418976Z"
    },
    "colab": {
     "base_uri": "https://localhost:8080/",
     "height": 265
    },
    "executionInfo": {
     "elapsed": 347,
     "status": "ok",
     "timestamp": 1652283365247,
     "user": {
      "displayName": "Doojin Park",
      "userId": "13081019711214908217"
     },
     "user_tz": -540
    },
    "id": "m7KYG2omFUbu",
    "outputId": "4e3b75ad-7ddb-47cb-8701-94da8c8e82c8"
   },
   "outputs": [
    {
     "data": {
      "image/png": "[encoded data removed]",
      "text/plain": [
       "<Figure size 432x288 with 1 Axes>"
      ]
     },
     "metadata": {
      "image/png": {
       "height": 249,
       "width": 244
      },
      "needs_background": "light"
     },
     "output_type": "display_data"
    }
   ],
   "source": [
    "# 이미지 출력\n",
    "plt.imshow(img, cmap=plt.cm.bone)\n",
    "plt.show()"
   ]
  },
  {
   "cell_type": "code",
   "execution_count": null,
   "metadata": {
    "executionInfo": {
     "elapsed": 5,
     "status": "ok",
     "timestamp": 1652283365247,
     "user": {
      "displayName": "Doojin Park",
      "userId": "13081019711214908217"
     },
     "user_tz": -540
    },
    "id": "Gp8AMD4AFrXg"
   },
   "outputs": [],
   "source": [
    "# mnist.data[1000:1002], mnist.target[1000:1002]"
   ]
  },
  {
   "cell_type": "code",
   "execution_count": 7,
   "metadata": {
    "ExecuteTime": {
     "end_time": "2022-05-27T05:24:04.416781Z",
     "start_time": "2022-05-27T05:24:04.386768Z"
    },
    "executionInfo": {
     "elapsed": 5,
     "status": "ok",
     "timestamp": 1652283365248,
     "user": {
      "displayName": "Doojin Park",
      "userId": "13081019711214908217"
     },
     "user_tz": -540
    },
    "id": "FxPKm6DvF5L5"
   },
   "outputs": [],
   "source": [
    "from sklearn.model_selection import train_test_split"
   ]
  },
  {
   "cell_type": "code",
   "execution_count": 8,
   "metadata": {
    "ExecuteTime": {
     "end_time": "2022-05-27T05:24:04.726959Z",
     "start_time": "2022-05-27T05:24:04.715628Z"
    },
    "executionInfo": {
     "elapsed": 5,
     "status": "ok",
     "timestamp": 1652283365248,
     "user": {
      "displayName": "Doojin Park",
      "userId": "13081019711214908217"
     },
     "user_tz": -540
    },
    "id": "3mdGSRWBGEvX"
   },
   "outputs": [],
   "source": [
    "train_x, test_x, train_y, test_y = train_test_split(\n",
    "    mnist.data, mnist.target, test_size=0.3, random_state=0)"
   ]
  },
  {
   "cell_type": "code",
   "execution_count": null,
   "metadata": {
    "executionInfo": {
     "elapsed": 6,
     "status": "ok",
     "timestamp": 1652283365249,
     "user": {
      "displayName": "Doojin Park",
      "userId": "13081019711214908217"
     },
     "user_tz": -540
    },
    "id": "g7d5DVYkEKD-"
   },
   "outputs": [],
   "source": [
    "# 3. 모델 학습 : svm : linear, rbf"
   ]
  },
  {
   "cell_type": "code",
   "execution_count": 9,
   "metadata": {
    "ExecuteTime": {
     "end_time": "2022-05-27T05:24:06.386748Z",
     "start_time": "2022-05-27T05:24:06.354330Z"
    },
    "executionInfo": {
     "elapsed": 676,
     "status": "ok",
     "timestamp": 1652283365919,
     "user": {
      "displayName": "Doojin Park",
      "userId": "13081019711214908217"
     },
     "user_tz": -540
    },
    "id": "bWyo14dFGbTc"
   },
   "outputs": [],
   "source": [
    "from sklearn.svm import SVC"
   ]
  },
  {
   "cell_type": "code",
   "execution_count": 10,
   "metadata": {
    "ExecuteTime": {
     "end_time": "2022-05-27T05:24:06.683579Z",
     "start_time": "2022-05-27T05:24:06.665639Z"
    },
    "executionInfo": {
     "elapsed": 25,
     "status": "ok",
     "timestamp": 1652283365920,
     "user": {
      "displayName": "Doojin Park",
      "userId": "13081019711214908217"
     },
     "user_tz": -540
    },
    "id": "Km5NTwOeGmMB"
   },
   "outputs": [],
   "source": [
    "linear_model = SVC( kernel=\"linear\").fit(train_x, train_y)"
   ]
  },
  {
   "cell_type": "code",
   "execution_count": 32,
   "metadata": {
    "ExecuteTime": {
     "end_time": "2022-05-27T05:32:00.038797Z",
     "start_time": "2022-05-27T05:31:59.876303Z"
    },
    "executionInfo": {
     "elapsed": 25,
     "status": "ok",
     "timestamp": 1652283365920,
     "user": {
      "displayName": "Doojin Park",
      "userId": "13081019711214908217"
     },
     "user_tz": -540
    },
    "id": "X69Pj4BUG5rw"
   },
   "outputs": [],
   "source": [
    "# gamma='auto' -> 1/n_features\n",
    "\n",
    "rbf_model1 = SVC(kernel=\"rbf\", gamma=1, C=10).fit(train_x, train_y)"
   ]
  },
  {
   "cell_type": "code",
   "execution_count": 33,
   "metadata": {
    "ExecuteTime": {
     "end_time": "2022-05-27T05:32:00.228148Z",
     "start_time": "2022-05-27T05:32:00.071116Z"
    }
   },
   "outputs": [],
   "source": [
    "rbf_model2 = SVC(kernel=\"rbf\", gamma=1, C=100).fit(train_x,train_y)"
   ]
  },
  {
   "cell_type": "code",
   "execution_count": 34,
   "metadata": {
    "ExecuteTime": {
     "end_time": "2022-05-27T05:32:00.417658Z",
     "start_time": "2022-05-27T05:32:00.261137Z"
    }
   },
   "outputs": [],
   "source": [
    "rbf_model3 = SVC(kernel=\"rbf\", gamma=0.5, C=10).fit(train_x,train_y)"
   ]
  },
  {
   "cell_type": "code",
   "execution_count": 70,
   "metadata": {
    "ExecuteTime": {
     "end_time": "2022-05-27T05:39:06.261026Z",
     "start_time": "2022-05-27T05:39:06.215002Z"
    }
   },
   "outputs": [],
   "source": [
    "rbf_model4 = SVC(kernel=\"rbf\", gamma=0.001, C=10).fit(train_x,train_y)"
   ]
  },
  {
   "cell_type": "code",
   "execution_count": 36,
   "metadata": {
    "ExecuteTime": {
     "end_time": "2022-05-27T05:32:00.669316Z",
     "start_time": "2022-05-27T05:32:00.638275Z"
    }
   },
   "outputs": [],
   "source": [
    "rbf_model5 = SVC(kernel=\"poly\", gamma='auto',degree=10, C=10).fit(train_x,train_y)"
   ]
  },
  {
   "cell_type": "code",
   "execution_count": 37,
   "metadata": {
    "ExecuteTime": {
     "end_time": "2022-05-27T05:32:00.745291Z",
     "start_time": "2022-05-27T05:32:00.713268Z"
    }
   },
   "outputs": [],
   "source": [
    "rbf_model6 = SVC(kernel=\"poly\", gamma='auto', degree=10, C=100).fit(train_x,train_y)"
   ]
  },
  {
   "cell_type": "code",
   "execution_count": 79,
   "metadata": {
    "ExecuteTime": {
     "end_time": "2022-05-27T06:01:36.846129Z",
     "start_time": "2022-05-27T06:01:35.028970Z"
    }
   },
   "outputs": [
    {
     "name": "stdout",
     "output_type": "stream",
     "text": [
      "{0: {'degree': 4, 'score': 0.9833333333333333}}\n",
      "{0: {'degree': 5, 'score': 0.9777777777777777}}\n",
      "{0: {'degree': 6, 'score': 0.9796296296296296}}\n",
      "{0: {'degree': 7, 'score': 0.9703703703703703}}\n",
      "{0: {'degree': 8, 'score': 0.9666666666666667}}\n",
      "{0: {'degree': 9, 'score': 0.9629629629629629}}\n",
      "{0: {'degree': 10, 'score': 0.9592592592592593}}\n",
      "{0: {'degree': 10, 'score': 0.9592592592592593}, 1: {'gamma': 0.1, 'score': 0.09444444444444444}}\n",
      "{0: {'degree': 10, 'score': 0.9592592592592593}, 1: {'gamma': 0.2, 'score': 0.08888888888888889}}\n",
      "{0: {'degree': 10, 'score': 0.9592592592592593}, 1: {'gamma': 0.30000000000000004, 'score': 0.08888888888888889}}\n",
      "{0: {'degree': 10, 'score': 0.9592592592592593}, 1: {'gamma': 0.4, 'score': 0.08888888888888889}}\n",
      "{0: {'degree': 10, 'score': 0.9592592592592593}, 1: {'gamma': 0.5, 'score': 0.08888888888888889}}\n",
      "{0: {'degree': 10, 'score': 0.9592592592592593}, 1: {'gamma': 0.6, 'score': 0.08888888888888889}}\n",
      "{0: {'degree': 10, 'score': 0.9592592592592593}, 1: {'gamma': 0.7000000000000001, 'score': 0.08888888888888889}}\n",
      "{0: {'degree': 10, 'score': 0.9592592592592593}, 1: {'gamma': 0.8, 'score': 0.08888888888888889}}\n",
      "{0: {'degree': 10, 'score': 0.9592592592592593}, 1: {'gamma': 0.9, 'score': 0.08888888888888889}}\n"
     ]
    }
   ],
   "source": [
    "# gamma = 0.1 ~ 1.0\n",
    "# C = 0.1 ~ 10\n",
    "# kernel = linear, ploy, rbf\n",
    "# poly-degree = 3 ~ 10\n",
    "kernel_list = ['poly', 'rbf']\n",
    "degree_list = list(range(4, 11, 1))\n",
    "gamma_list = np.arange(0.1, 1, 0.1)\n",
    "\n",
    "result_dict = {}\n",
    "ct=0\n",
    "for kernel in kernel_list:\n",
    "    if kernel == 'poly':\n",
    "        for degree in degree_list:\n",
    "            model = SVC(degree=degree, kernel=kernel)\n",
    "            model.fit(train_x, train_y)\n",
    "            score = model.score(test_x, test_y)\n",
    "            result_dict[ct] = {'degree': degree, 'score': score}\n",
    "            print(result_dict)\n",
    "    else:\n",
    "        for gamma in gamma_list:\n",
    "            model = SVC(gamma=gamma, kernel=kernel)\n",
    "            model.fit(train_x, train_y)\n",
    "            score = model.score(test_x, test_y)\n",
    "            result_dict[ct] = {'gamma': gamma, 'score': score}\n",
    "            print(result_dict)\n",
    "    ct += 1"
   ]
  },
  {
   "cell_type": "code",
   "execution_count": 12,
   "metadata": {
    "ExecuteTime": {
     "end_time": "2022-05-27T05:24:07.545464Z",
     "start_time": "2022-05-27T05:24:07.533504Z"
    },
    "executionInfo": {
     "elapsed": 25,
     "status": "ok",
     "timestamp": 1652283365921,
     "user": {
      "displayName": "Doojin Park",
      "userId": "13081019711214908217"
     },
     "user_tz": -540
    },
    "id": "ZClHV7hcEMc_"
   },
   "outputs": [],
   "source": [
    "# 4. 모델 평가"
   ]
  },
  {
   "cell_type": "code",
   "execution_count": 71,
   "metadata": {
    "ExecuteTime": {
     "end_time": "2022-05-27T05:39:07.534369Z",
     "start_time": "2022-05-27T05:39:07.489448Z"
    },
    "colab": {
     "base_uri": "https://localhost:8080/"
    },
    "executionInfo": {
     "elapsed": 25,
     "status": "ok",
     "timestamp": 1652283365921,
     "user": {
      "displayName": "Doojin Park",
      "userId": "13081019711214908217"
     },
     "user_tz": -540
    },
    "id": "P6WDbeZjHPes",
    "outputId": "5697893c-3e54-4ddf-c4b1-363a945bdfaa"
   },
   "outputs": [
    {
     "data": {
      "text/plain": [
       "(0.9740740740740741, 0.9907407407407407)"
      ]
     },
     "execution_count": 71,
     "metadata": {},
     "output_type": "execute_result"
    }
   ],
   "source": [
    "linear_score = linear_model.score(test_x, test_y)\n",
    "rbf_score = rbf_model4.score(test_x, test_y)\n",
    "linear_score, rbf_score"
   ]
  },
  {
   "cell_type": "code",
   "execution_count": null,
   "metadata": {},
   "outputs": [],
   "source": [
    "#rbf_model -> gamma, C -> 5개 모델 학습"
   ]
  },
  {
   "cell_type": "code",
   "execution_count": null,
   "metadata": {
    "executionInfo": {
     "elapsed": 24,
     "status": "ok",
     "timestamp": 1652283365921,
     "user": {
      "displayName": "Doojin Park",
      "userId": "13081019711214908217"
     },
     "user_tz": -540
    },
    "id": "RfCHQf-XHiBN"
   },
   "outputs": [],
   "source": [
    "# c : 10 : 0.99259 > 과적합확인\n",
    "# c : 1 : 0.99074\n",
    "# c : 0.1 : 0.9481"
   ]
  },
  {
   "cell_type": "code",
   "execution_count": null,
   "metadata": {
    "executionInfo": {
     "elapsed": 24,
     "status": "ok",
     "timestamp": 1652283365921,
     "user": {
      "displayName": "Doojin Park",
      "userId": "13081019711214908217"
     },
     "user_tz": -540
    },
    "id": "BTngAKFkEPct"
   },
   "outputs": [],
   "source": [
    "# 5. 모델 사용"
   ]
  },
  {
   "cell_type": "code",
   "execution_count": null,
   "metadata": {},
   "outputs": [],
   "source": [
    "import PIL.Image as pil\n",
    "\n",
    "sample_data = pil.open(\"./imgs/data_1.png\")\n",
    "sample_data"
   ]
  },
  {
   "cell_type": "code",
   "execution_count": null,
   "metadata": {
    "executionInfo": {
     "elapsed": 22,
     "status": "ok",
     "timestamp": 1652283365922,
     "user": {
      "displayName": "Doojin Park",
      "userId": "13081019711214908217"
     },
     "user_tz": -540
    },
    "id": "ILnVSKMSI3wc"
   },
   "outputs": [],
   "source": [
    "# 이미지 사이즈를 8 * 8로 축소"
   ]
  },
  {
   "cell_type": "code",
   "execution_count": null,
   "metadata": {
    "colab": {
     "base_uri": "https://localhost:8080/",
     "height": 34
    },
    "executionInfo": {
     "elapsed": 22,
     "status": "ok",
     "timestamp": 1652283365923,
     "user": {
      "displayName": "Doojin Park",
      "userId": "13081019711214908217"
     },
     "user_tz": -540
    },
    "id": "P91aKR-JJZxc",
    "outputId": "60ef3f19-b1fa-41f1-aab1-3579a1936481"
   },
   "outputs": [],
   "source": [
    "data1 = sample_data.resize((8, 8))\n",
    "data1"
   ]
  },
  {
   "cell_type": "code",
   "execution_count": null,
   "metadata": {
    "executionInfo": {
     "elapsed": 21,
     "status": "ok",
     "timestamp": 1652283365923,
     "user": {
      "displayName": "Doojin Park",
      "userId": "13081019711214908217"
     },
     "user_tz": -540
    },
    "id": "mg41a5XUI3cO"
   },
   "outputs": [],
   "source": [
    "# 흑백 이미지로 변경"
   ]
  },
  {
   "cell_type": "code",
   "execution_count": null,
   "metadata": {
    "colab": {
     "base_uri": "https://localhost:8080/"
    },
    "executionInfo": {
     "elapsed": 20,
     "status": "ok",
     "timestamp": 1652283365923,
     "user": {
      "displayName": "Doojin Park",
      "userId": "13081019711214908217"
     },
     "user_tz": -540
    },
    "id": "DpHakIkvJnO9",
    "outputId": "35125ba5-d2e2-457a-b0db-2c439948b3a1"
   },
   "outputs": [],
   "source": [
    "np.array(data1).shape"
   ]
  },
  {
   "cell_type": "code",
   "execution_count": null,
   "metadata": {
    "colab": {
     "base_uri": "https://localhost:8080/"
    },
    "executionInfo": {
     "elapsed": 17,
     "status": "ok",
     "timestamp": 1652283365923,
     "user": {
      "displayName": "Doojin Park",
      "userId": "13081019711214908217"
     },
     "user_tz": -540
    },
    "id": "trN-IlXGJaLy",
    "outputId": "510c625a-fa88-4d80-d19d-3380fe05b8ca"
   },
   "outputs": [],
   "source": [
    "data2 = np.array(data1).mean(axis=2)\n",
    "data2.shape"
   ]
  },
  {
   "cell_type": "code",
   "execution_count": null,
   "metadata": {
    "executionInfo": {
     "elapsed": 594,
     "status": "ok",
     "timestamp": 1652283366502,
     "user": {
      "displayName": "Doojin Park",
      "userId": "13081019711214908217"
     },
     "user_tz": -540
    },
    "id": "3IlLVrCdJIGm"
   },
   "outputs": [],
   "source": [
    "# 흑백 전환 : 양각 > 음각"
   ]
  },
  {
   "cell_type": "code",
   "execution_count": null,
   "metadata": {
    "colab": {
     "base_uri": "https://localhost:8080/",
     "height": 102
    },
    "executionInfo": {
     "elapsed": 16,
     "status": "ok",
     "timestamp": 1652283366503,
     "user": {
      "displayName": "Doojin Park",
      "userId": "13081019711214908217"
     },
     "user_tz": -540
    },
    "id": "sKUHdPnOJauE",
    "outputId": "8cdbf2d8-f2b8-4ecd-dcec-d04f513a21a5"
   },
   "outputs": [],
   "source": [
    "plt.figure(figsize=(2, 1))\n",
    "plt.imshow(data2, cmap=plt.cm.bone)\n",
    "plt.show()"
   ]
  },
  {
   "cell_type": "code",
   "execution_count": null,
   "metadata": {
    "colab": {
     "base_uri": "https://localhost:8080/"
    },
    "executionInfo": {
     "elapsed": 14,
     "status": "ok",
     "timestamp": 1652283366503,
     "user": {
      "displayName": "Doojin Park",
      "userId": "13081019711214908217"
     },
     "user_tz": -540
    },
    "id": "l0HRUf_mKHt5",
    "outputId": "0f3e6ae1-df14-43c6-e482-04b76228edae"
   },
   "outputs": [],
   "source": [
    "data3 = np.ones(data2.shape) * 255 - data2\n",
    "data3"
   ]
  },
  {
   "cell_type": "code",
   "execution_count": null,
   "metadata": {
    "colab": {
     "base_uri": "https://localhost:8080/",
     "height": 102
    },
    "executionInfo": {
     "elapsed": 13,
     "status": "ok",
     "timestamp": 1652283366504,
     "user": {
      "displayName": "Doojin Park",
      "userId": "13081019711214908217"
     },
     "user_tz": -540
    },
    "id": "-8IrsVLtKbwM",
    "outputId": "82922b7b-b7fd-4daf-a9d9-0002c84aa5cd"
   },
   "outputs": [],
   "source": [
    "plt.figure(figsize=(2, 1))\n",
    "plt.imshow(data3, cmap=plt.cm.bone)\n",
    "plt.show()"
   ]
  },
  {
   "cell_type": "code",
   "execution_count": null,
   "metadata": {
    "executionInfo": {
     "elapsed": 13,
     "status": "ok",
     "timestamp": 1652283366505,
     "user": {
      "displayName": "Doojin Park",
      "userId": "13081019711214908217"
     },
     "user_tz": -540
    },
    "id": "38pqtoHdJSOh"
   },
   "outputs": [],
   "source": [
    "# 색상범위 256 > 16"
   ]
  },
  {
   "cell_type": "code",
   "execution_count": null,
   "metadata": {
    "colab": {
     "base_uri": "https://localhost:8080/"
    },
    "executionInfo": {
     "elapsed": 13,
     "status": "ok",
     "timestamp": 1652283366505,
     "user": {
      "displayName": "Doojin Park",
      "userId": "13081019711214908217"
     },
     "user_tz": -540
    },
    "id": "zlKL0bwIJbEy",
    "outputId": "99875f80-1b44-46e3-e6ac-3a34f1823eee"
   },
   "outputs": [],
   "source": [
    "data4 = np.round(data3 / 16)\n",
    "data4"
   ]
  },
  {
   "cell_type": "code",
   "execution_count": null,
   "metadata": {
    "colab": {
     "base_uri": "https://localhost:8080/"
    },
    "executionInfo": {
     "elapsed": 10,
     "status": "ok",
     "timestamp": 1652283366505,
     "user": {
      "displayName": "Doojin Park",
      "userId": "13081019711214908217"
     },
     "user_tz": -540
    },
    "id": "z6EmeupGKyeS",
    "outputId": "78f73ad2-d08c-404c-a494-e8cf5c5dde43"
   },
   "outputs": [],
   "source": [
    "rbf_model.predict(data4.reshape(1, -1))"
   ]
  },
  {
   "cell_type": "code",
   "execution_count": null,
   "metadata": {},
   "outputs": [],
   "source": []
  }
 ],
 "metadata": {
  "colab": {
   "authorship_tag": "ABX9TyPmUlxnaaM1bRUyZUBxKzgI",
   "collapsed_sections": [],
   "name": "08_svm_mnist.ipynb",
   "provenance": []
  },
  "kernelspec": {
   "display_name": "Python 3 (ipykernel)",
   "language": "python",
   "name": "python3"
  },
  "language_info": {
   "codemirror_mode": {
    "name": "ipython",
    "version": 3
   },
   "file_extension": ".py",
   "mimetype": "text/x-python",
   "name": "python",
   "nbconvert_exporter": "python",
   "pygments_lexer": "ipython3",
   "version": "3.8.13"
  },
  "toc": {
   "base_numbering": 1,
   "nav_menu": {},
   "number_sections": true,
   "sideBar": true,
   "skip_h1_title": false,
   "title_cell": "Table of Contents",
   "title_sidebar": "Contents",
   "toc_cell": false,
   "toc_position": {},
   "toc_section_display": true,
   "toc_window_display": false
  },
  "varInspector": {
   "cols": {
    "lenName": 16,
    "lenType": 16,
    "lenVar": 40
   },
   "kernels_config": {
    "python": {
     "delete_cmd_postfix": "",
     "delete_cmd_prefix": "del ",
     "library": "var_list.py",
     "varRefreshCmd": "print(var_dic_list())"
    },
    "r": {
     "delete_cmd_postfix": ") ",
     "delete_cmd_prefix": "rm(",
     "library": "var_list.r",
     "varRefreshCmd": "cat(var_dic_list()) "
    }
   },
   "types_to_exclude": [
    "module",
    "function",
    "builtin_function_or_method",
    "instance",
    "_Feature"
   ],
   "window_display": false
  }
 },
 "nbformat": 4,
 "nbformat_minor": 1
}
