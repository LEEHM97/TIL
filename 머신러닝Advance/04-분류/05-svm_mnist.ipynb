{
 "cells": [
  {
   "cell_type": "code",
   "execution_count": 1,
   "metadata": {
    "ExecuteTime": {
     "end_time": "2022-06-04T10:13:29.882319Z",
     "start_time": "2022-06-04T10:13:28.884636Z"
    },
    "executionInfo": {
     "elapsed": 776,
     "status": "ok",
     "timestamp": 1652283364624,
     "user": {
      "displayName": "Doojin Park",
      "userId": "13081019711214908217"
     },
     "user_tz": -540
    },
    "id": "Kbsm6SydDoel"
   },
   "outputs": [],
   "source": [
    "%config InlineBackend.figure_formats = {'png', 'retina'}\n",
    "import numpy as np\n",
    "import pandas as pd\n",
    "import matplotlib.pyplot as plt\n",
    "import seaborn as sns\n",
    "import warnings\n",
    "warnings.filterwarnings('ignore')"
   ]
  },
  {
   "cell_type": "markdown",
   "metadata": {
    "id": "oQpm8IvAD4NH"
   },
   "source": [
    "### 손글씨 분류 모델 만들기"
   ]
  },
  {
   "cell_type": "code",
   "execution_count": null,
   "metadata": {
    "executionInfo": {
     "elapsed": 3,
     "status": "ok",
     "timestamp": 1652283364624,
     "user": {
      "displayName": "Doojin Park",
      "userId": "13081019711214908217"
     },
     "user_tz": -540
    },
    "id": "PUBJBr5UD2jO"
   },
   "outputs": [],
   "source": [
    "# 1. 데이터 로드"
   ]
  },
  {
   "cell_type": "code",
   "execution_count": 2,
   "metadata": {
    "ExecuteTime": {
     "end_time": "2022-06-04T10:13:33.887152Z",
     "start_time": "2022-06-04T10:13:33.800420Z"
    },
    "executionInfo": {
     "elapsed": 3,
     "status": "ok",
     "timestamp": 1652283364624,
     "user": {
      "displayName": "Doojin Park",
      "userId": "13081019711214908217"
     },
     "user_tz": -540
    },
    "id": "sH9ayjBVEUqM"
   },
   "outputs": [],
   "source": [
    "from sklearn import datasets"
   ]
  },
  {
   "cell_type": "code",
   "execution_count": 3,
   "metadata": {
    "ExecuteTime": {
     "end_time": "2022-06-04T10:13:35.248369Z",
     "start_time": "2022-06-04T10:13:35.199529Z"
    },
    "executionInfo": {
     "elapsed": 281,
     "status": "ok",
     "timestamp": 1652283364903,
     "user": {
      "displayName": "Doojin Park",
      "userId": "13081019711214908217"
     },
     "user_tz": -540
    },
    "id": "4u7zOHVHEacU"
   },
   "outputs": [],
   "source": [
    "mnist = datasets.load_digits() # 8 * 8 이미지, 1797개"
   ]
  },
  {
   "cell_type": "code",
   "execution_count": null,
   "metadata": {
    "executionInfo": {
     "elapsed": 8,
     "status": "ok",
     "timestamp": 1652283364903,
     "user": {
      "displayName": "Doojin Park",
      "userId": "13081019711214908217"
     },
     "user_tz": -540
    },
    "id": "ZM_3WdTCEGz0"
   },
   "outputs": [],
   "source": [
    "# 2. 데이터 전처리"
   ]
  },
  {
   "cell_type": "code",
   "execution_count": 4,
   "metadata": {
    "ExecuteTime": {
     "end_time": "2022-06-04T10:13:37.325254Z",
     "start_time": "2022-06-04T10:13:37.313295Z"
    },
    "colab": {
     "base_uri": "https://localhost:8080/"
    },
    "executionInfo": {
     "elapsed": 8,
     "status": "ok",
     "timestamp": 1652283364903,
     "user": {
      "displayName": "Doojin Park",
      "userId": "13081019711214908217"
     },
     "user_tz": -540
    },
    "id": "4FT4fnTwEqry",
    "outputId": "8ab04ffc-fdeb-4f66-a252-ec5ea0683ccb"
   },
   "outputs": [
    {
     "data": {
      "text/plain": [
       "dict_keys(['data', 'target', 'frame', 'feature_names', 'target_names', 'images', 'DESCR'])"
      ]
     },
     "execution_count": 4,
     "metadata": {},
     "output_type": "execute_result"
    }
   ],
   "source": [
    "mnist.keys()"
   ]
  },
  {
   "cell_type": "code",
   "execution_count": 5,
   "metadata": {
    "ExecuteTime": {
     "end_time": "2022-06-04T10:13:50.379185Z",
     "start_time": "2022-06-04T10:13:50.372209Z"
    },
    "colab": {
     "base_uri": "https://localhost:8080/"
    },
    "executionInfo": {
     "elapsed": 8,
     "status": "ok",
     "timestamp": 1652283364905,
     "user": {
      "displayName": "Doojin Park",
      "userId": "13081019711214908217"
     },
     "user_tz": -540
    },
    "id": "uzPq7moXEzQd",
    "outputId": "2dd766e3-9518-4ea5-dc30-9971d3cf227d"
   },
   "outputs": [
    {
     "name": "stdout",
     "output_type": "stream",
     "text": [
      "1797\n",
      "[ 0.  0.  5. 13.  9.  1.  0.  0.  0.  0. 13. 15. 10. 15.  5.  0.  0.  3.\n",
      " 15.  2.  0. 11.  8.  0.  0.  4. 12.  0.  0.  8.  8.  0.  0.  5.  8.  0.\n",
      "  0.  9.  8.  0.  0.  4. 11.  0.  1. 12.  7.  0.  0.  2. 14.  5. 10. 12.\n",
      "  0.  0.  0.  0.  6. 13. 10.  0.  0.  0.]\n"
     ]
    },
    {
     "data": {
      "text/plain": [
       "array([[ 0.,  0.,  5., 13.,  9.,  1.,  0.,  0.],\n",
       "       [ 0.,  0., 13., 15., 10., 15.,  5.,  0.],\n",
       "       [ 0.,  3., 15.,  2.,  0., 11.,  8.,  0.],\n",
       "       [ 0.,  4., 12.,  0.,  0.,  8.,  8.,  0.],\n",
       "       [ 0.,  5.,  8.,  0.,  0.,  9.,  8.,  0.],\n",
       "       [ 0.,  4., 11.,  0.,  1., 12.,  7.,  0.],\n",
       "       [ 0.,  2., 14.,  5., 10., 12.,  0.,  0.],\n",
       "       [ 0.,  0.,  6., 13., 10.,  0.,  0.,  0.]])"
      ]
     },
     "execution_count": 5,
     "metadata": {},
     "output_type": "execute_result"
    }
   ],
   "source": [
    "print(len(mnist[\"data\"]))\n",
    "\n",
    "data = mnist[\"data\"][0]\n",
    "print(data)\n",
    "\n",
    "# 원래의 행렬 데이터로 변환\n",
    "img = data.reshape(8, 8)\n",
    "img"
   ]
  },
  {
   "cell_type": "code",
   "execution_count": 6,
   "metadata": {
    "ExecuteTime": {
     "end_time": "2022-05-27T05:22:56.514102Z",
     "start_time": "2022-05-27T05:22:56.418976Z"
    },
    "colab": {
     "base_uri": "https://localhost:8080/",
     "height": 265
    },
    "executionInfo": {
     "elapsed": 347,
     "status": "ok",
     "timestamp": 1652283365247,
     "user": {
      "displayName": "Doojin Park",
      "userId": "13081019711214908217"
     },
     "user_tz": -540
    },
    "id": "m7KYG2omFUbu",
    "outputId": "4e3b75ad-7ddb-47cb-8701-94da8c8e82c8"
   },
   "outputs": [
    {
     "data": {
      "image/png": "[encoded data removed]",
      "text/plain": [
       "<Figure size 432x288 with 1 Axes>"
      ]
     },
     "metadata": {
      "image/png": {
       "height": 249,
       "width": 244
      },
      "needs_background": "light"
     },
     "output_type": "display_data"
    }
   ],
   "source": [
    "# 이미지 출력\n",
    "plt.imshow(img, cmap=plt.cm.bone)\n",
    "plt.show()"
   ]
  },
  {
   "cell_type": "code",
   "execution_count": null,
   "metadata": {
    "executionInfo": {
     "elapsed": 5,
     "status": "ok",
     "timestamp": 1652283365247,
     "user": {
      "displayName": "Doojin Park",
      "userId": "13081019711214908217"
     },
     "user_tz": -540
    },
    "id": "Gp8AMD4AFrXg"
   },
   "outputs": [],
   "source": [
    "# mnist.data[1000:1002], mnist.target[1000:1002]"
   ]
  },
  {
   "cell_type": "code",
   "execution_count": 6,
   "metadata": {
    "ExecuteTime": {
     "end_time": "2022-06-04T10:14:04.124859Z",
     "start_time": "2022-06-04T10:14:04.106916Z"
    },
    "executionInfo": {
     "elapsed": 5,
     "status": "ok",
     "timestamp": 1652283365248,
     "user": {
      "displayName": "Doojin Park",
      "userId": "13081019711214908217"
     },
     "user_tz": -540
    },
    "id": "FxPKm6DvF5L5"
   },
   "outputs": [],
   "source": [
    "from sklearn.model_selection import train_test_split"
   ]
  },
  {
   "cell_type": "code",
   "execution_count": 84,
   "metadata": {
    "ExecuteTime": {
     "end_time": "2022-06-04T11:16:43.129085Z",
     "start_time": "2022-06-04T11:16:43.113138Z"
    },
    "executionInfo": {
     "elapsed": 5,
     "status": "ok",
     "timestamp": 1652283365248,
     "user": {
      "displayName": "Doojin Park",
      "userId": "13081019711214908217"
     },
     "user_tz": -540
    },
    "id": "3mdGSRWBGEvX"
   },
   "outputs": [],
   "source": [
    "X=mnist.data\n",
    "y=mnist.target\n",
    "\n",
    "train_x, test_x, train_y, test_y = train_test_split(\n",
    "    X, y, test_size=0.3, random_state=0)"
   ]
  },
  {
   "cell_type": "code",
   "execution_count": null,
   "metadata": {
    "executionInfo": {
     "elapsed": 6,
     "status": "ok",
     "timestamp": 1652283365249,
     "user": {
      "displayName": "Doojin Park",
      "userId": "13081019711214908217"
     },
     "user_tz": -540
    },
    "id": "g7d5DVYkEKD-"
   },
   "outputs": [],
   "source": [
    "# 3. 모델 학습 : svm : linear, rbf"
   ]
  },
  {
   "cell_type": "code",
   "execution_count": 13,
   "metadata": {
    "ExecuteTime": {
     "end_time": "2022-06-04T10:18:56.708806Z",
     "start_time": "2022-06-04T10:18:56.693856Z"
    },
    "executionInfo": {
     "elapsed": 676,
     "status": "ok",
     "timestamp": 1652283365919,
     "user": {
      "displayName": "Doojin Park",
      "userId": "13081019711214908217"
     },
     "user_tz": -540
    },
    "id": "bWyo14dFGbTc"
   },
   "outputs": [],
   "source": [
    "from sklearn import svm\n",
    "from sklearn.svm import SVC"
   ]
  },
  {
   "cell_type": "code",
   "execution_count": 107,
   "metadata": {
    "ExecuteTime": {
     "end_time": "2022-06-04T11:23:42.567251Z",
     "start_time": "2022-06-04T11:23:42.563264Z"
    }
   },
   "outputs": [],
   "source": [
    "titles = ('1.linear, C=1',\n",
    "          '2.rbf, gamma=1, C=1',\n",
    "          '3.rbf, gamma=0.5, C=1',\n",
    "          '4.rbf, gamma=0.001, C=1',\n",
    "          '5.rbf, gamma=0.001, C=10',\n",
    "          '6.poly, gamma=auto, degree=1, C=1',\n",
    "         )\n",
    "\n",
    "models = (svm.SVC(kernel='linear', C=1),\n",
    "          svm.SVC(kernel='rbf', gamma=1, C=1),\n",
    "          svm.SVC(kernel='rbf', gamma=0.5, C=1),\n",
    "          svm.SVC(kernel='rbf', gamma=0.001, C=1),\n",
    "          svm.SVC(kernel='rbf', gamma=0.001, C=10),\n",
    "          svm.SVC(kernel='poly', gamma='auto', degree=10, C=1),\n",
    "         )\n",
    "models = (model.fit(train_x, train_y) for model in models)"
   ]
  },
  {
   "cell_type": "code",
   "execution_count": 104,
   "metadata": {
    "ExecuteTime": {
     "end_time": "2022-06-04T11:22:17.957970Z",
     "start_time": "2022-06-04T11:22:17.413769Z"
    }
   },
   "outputs": [
    {
     "name": "stdout",
     "output_type": "stream",
     "text": [
      "SVC(C=1, kernel='linear')\n",
      "1.linear, C=1's score: 0.97\n",
      "SVC(C=1, gamma=1)\n",
      "2.rbf, gamma=1, C=1's score: 0.09\n",
      "SVC(C=1, gamma=0.5)\n",
      "3.rbf, gamma=0.5, C=1's score: 0.09\n",
      "SVC(C=1, gamma=0.001)\n",
      "4.rbf, gamma=0.001, C=1's score: 0.99\n",
      "SVC(C=10, gamma=0.001)\n",
      "5.rbf, gamma=0.001, C=10's score: 0.99\n",
      "SVC(C=1, degree=10, gamma='auto', kernel='poly')\n",
      "6.poly, gamma=auto, degree=1, C=1's score: 0.96\n"
     ]
    }
   ],
   "source": [
    "for model, title in zip(models, titles):\n",
    "    print(model)\n",
    "    print(f\"{title}'s score: {np.round(model.score(test_x, test_y),2)}\")"
   ]
  },
  {
   "cell_type": "code",
   "execution_count": 78,
   "metadata": {
    "ExecuteTime": {
     "end_time": "2022-06-04T11:08:24.691307Z",
     "start_time": "2022-06-04T11:08:23.240159Z"
    }
   },
   "outputs": [],
   "source": [
    "# gamma = 0.1 ~ 1.0\n",
    "# C = 0.1 ~ 10\n",
    "# kernel = linear, ploy, rbf\n",
    "# poly-degree = 3 ~ 10\n",
    "\n",
    "kernel_list = ['linear', 'poly', 'rbf']\n",
    "degree_list = list(range(4, 11, 1))\n",
    "gamma_list = list(map(lambda x: 10**x, range(-3,0)))\n",
    "C_list = list(map(lambda x: 10**x, range(3)))\n",
    "\n",
    "result_dict = {}\n",
    "ct=0\n",
    "for kernel in kernel_list:\n",
    "    if kernel == 'linear':\n",
    "        for C in C_list:\n",
    "            model = SVC(kernel=kernel, C=C)\n",
    "            model.fit(train_x, train_y)\n",
    "            score = np.round(model.score(test_x, test_y),4)\n",
    "            result_dict[ct] = {'kernel':kernel, 'C':C, 'score': score}\n",
    "            ct+=1\n",
    "    \n",
    "    elif kernel == 'poly':\n",
    "        for degree in degree_list:\n",
    "            for C in C_list:\n",
    "                model = SVC(degree=degree, kernel=kernel, C=C)\n",
    "                model.fit(train_x, train_y)\n",
    "                score = np.round(model.score(test_x, test_y),4)\n",
    "                result_dict[ct] = {'kernel': kernel, 'degree': degree, 'C': C, 'score': score}\n",
    "                ct+=1\n",
    "                \n",
    "    else:\n",
    "        for gamma in gamma_list:\n",
    "            for C in C_list:\n",
    "                model = SVC(gamma=gamma, kernel=kernel, C=C)\n",
    "                model.fit(train_x, train_y)\n",
    "                score = np.round(model.score(test_x, test_y),4)\n",
    "                result_dict[ct] = {'kernel':kernel, 'gamma': gamma, 'C': C, 'score': score}\n",
    "                ct+=1"
   ]
  },
  {
   "cell_type": "code",
   "execution_count": 79,
   "metadata": {
    "ExecuteTime": {
     "end_time": "2022-06-04T11:08:27.119291Z",
     "start_time": "2022-06-04T11:08:27.106334Z"
    }
   },
   "outputs": [
    {
     "name": "stdout",
     "output_type": "stream",
     "text": [
      "{'kernel': 'linear', 'C': 1, 'score': 0.9741}\n",
      "{'kernel': 'linear', 'C': 10, 'score': 0.9741}\n",
      "{'kernel': 'linear', 'C': 100, 'score': 0.9741}\n",
      "{'kernel': 'poly', 'degree': 4, 'C': 1, 'score': 0.9833}\n",
      "{'kernel': 'poly', 'degree': 4, 'C': 10, 'score': 0.9815}\n",
      "{'kernel': 'poly', 'degree': 4, 'C': 100, 'score': 0.9815}\n",
      "{'kernel': 'poly', 'degree': 5, 'C': 1, 'score': 0.9778}\n",
      "{'kernel': 'poly', 'degree': 5, 'C': 10, 'score': 0.9796}\n",
      "{'kernel': 'poly', 'degree': 5, 'C': 100, 'score': 0.9796}\n",
      "{'kernel': 'poly', 'degree': 6, 'C': 1, 'score': 0.9796}\n",
      "{'kernel': 'poly', 'degree': 6, 'C': 10, 'score': 0.9778}\n",
      "{'kernel': 'poly', 'degree': 6, 'C': 100, 'score': 0.9778}\n",
      "{'kernel': 'poly', 'degree': 7, 'C': 1, 'score': 0.9704}\n",
      "{'kernel': 'poly', 'degree': 7, 'C': 10, 'score': 0.9685}\n",
      "{'kernel': 'poly', 'degree': 7, 'C': 100, 'score': 0.9685}\n",
      "{'kernel': 'poly', 'degree': 8, 'C': 1, 'score': 0.9667}\n",
      "{'kernel': 'poly', 'degree': 8, 'C': 10, 'score': 0.9648}\n",
      "{'kernel': 'poly', 'degree': 8, 'C': 100, 'score': 0.9648}\n",
      "{'kernel': 'poly', 'degree': 9, 'C': 1, 'score': 0.963}\n",
      "{'kernel': 'poly', 'degree': 9, 'C': 10, 'score': 0.9611}\n",
      "{'kernel': 'poly', 'degree': 9, 'C': 100, 'score': 0.9611}\n",
      "{'kernel': 'poly', 'degree': 10, 'C': 1, 'score': 0.9593}\n",
      "{'kernel': 'poly', 'degree': 10, 'C': 10, 'score': 0.9574}\n",
      "{'kernel': 'poly', 'degree': 10, 'C': 100, 'score': 0.9574}\n",
      "{'kernel': 'rbf', 'gamma': 0.001, 'C': 1, 'score': 0.9926}\n",
      "{'kernel': 'rbf', 'gamma': 0.001, 'C': 10, 'score': 0.9907}\n",
      "{'kernel': 'rbf', 'gamma': 0.001, 'C': 100, 'score': 0.9907}\n",
      "{'kernel': 'rbf', 'gamma': 0.01, 'C': 1, 'score': 0.8352}\n",
      "{'kernel': 'rbf', 'gamma': 0.01, 'C': 10, 'score': 0.8481}\n",
      "{'kernel': 'rbf', 'gamma': 0.01, 'C': 100, 'score': 0.8481}\n",
      "{'kernel': 'rbf', 'gamma': 0.1, 'C': 1, 'score': 0.0944}\n",
      "{'kernel': 'rbf', 'gamma': 0.1, 'C': 10, 'score': 0.0963}\n",
      "{'kernel': 'rbf', 'gamma': 0.1, 'C': 100, 'score': 0.0963}\n"
     ]
    }
   ],
   "source": [
    "for key in result_dict.keys():\n",
    "    print(result_dict[key])"
   ]
  },
  {
   "cell_type": "code",
   "execution_count": 12,
   "metadata": {
    "ExecuteTime": {
     "end_time": "2022-05-27T05:24:07.545464Z",
     "start_time": "2022-05-27T05:24:07.533504Z"
    },
    "executionInfo": {
     "elapsed": 25,
     "status": "ok",
     "timestamp": 1652283365921,
     "user": {
      "displayName": "Doojin Park",
      "userId": "13081019711214908217"
     },
     "user_tz": -540
    },
    "id": "ZClHV7hcEMc_"
   },
   "outputs": [],
   "source": [
    "# 4. 모델 평가"
   ]
  },
  {
   "cell_type": "code",
   "execution_count": null,
   "metadata": {
    "code_folding": [],
    "executionInfo": {
     "elapsed": 24,
     "status": "ok",
     "timestamp": 1652283365921,
     "user": {
      "displayName": "Doojin Park",
      "userId": "13081019711214908217"
     },
     "user_tz": -540
    },
    "id": "RfCHQf-XHiBN"
   },
   "outputs": [],
   "source": [
    "# c : 10 : 0.99259 > 과적합확인\n",
    "# c : 1 : 0.99074\n",
    "# c : 0.1 : 0.9481"
   ]
  },
  {
   "cell_type": "code",
   "execution_count": null,
   "metadata": {
    "executionInfo": {
     "elapsed": 24,
     "status": "ok",
     "timestamp": 1652283365921,
     "user": {
      "displayName": "Doojin Park",
      "userId": "13081019711214908217"
     },
     "user_tz": -540
    },
    "id": "BTngAKFkEPct"
   },
   "outputs": [],
   "source": [
    "# 5. 모델 사용"
   ]
  },
  {
   "cell_type": "code",
   "execution_count": 49,
   "metadata": {
    "ExecuteTime": {
     "end_time": "2022-06-04T10:57:21.268946Z",
     "start_time": "2022-06-04T10:57:21.250009Z"
    }
   },
   "outputs": [
    {
     "data": {
      "image/png": "[encoded data removed]",
      "text/plain": [
       "<PIL.PngImagePlugin.PngImageFile image mode=RGBA size=146x146>"
      ]
     },
     "execution_count": 49,
     "metadata": {},
     "output_type": "execute_result"
    }
   ],
   "source": [
    "import PIL.Image as pil\n",
    "\n",
    "sample_data = pil.open(\"./imgs/data_1.png\")\n",
    "sample_data"
   ]
  },
  {
   "cell_type": "code",
   "execution_count": null,
   "metadata": {
    "executionInfo": {
     "elapsed": 22,
     "status": "ok",
     "timestamp": 1652283365922,
     "user": {
      "displayName": "Doojin Park",
      "userId": "13081019711214908217"
     },
     "user_tz": -540
    },
    "id": "ILnVSKMSI3wc"
   },
   "outputs": [],
   "source": [
    "# 이미지 사이즈를 8 * 8로 축소"
   ]
  },
  {
   "cell_type": "code",
   "execution_count": 50,
   "metadata": {
    "ExecuteTime": {
     "end_time": "2022-06-04T10:57:24.318400Z",
     "start_time": "2022-06-04T10:57:24.300456Z"
    },
    "colab": {
     "base_uri": "https://localhost:8080/",
     "height": 34
    },
    "executionInfo": {
     "elapsed": 22,
     "status": "ok",
     "timestamp": 1652283365923,
     "user": {
      "displayName": "Doojin Park",
      "userId": "13081019711214908217"
     },
     "user_tz": -540
    },
    "id": "P91aKR-JJZxc",
    "outputId": "60ef3f19-b1fa-41f1-aab1-3579a1936481"
   },
   "outputs": [
    {
     "data": {
      "image/png": "[encoded data removed]",
      "text/plain": [
       "<PIL.Image.Image image mode=RGBA size=8x8>"
      ]
     },
     "execution_count": 50,
     "metadata": {},
     "output_type": "execute_result"
    }
   ],
   "source": [
    "data1 = sample_data.resize((8, 8))\n",
    "data1"
   ]
  },
  {
   "cell_type": "code",
   "execution_count": null,
   "metadata": {
    "executionInfo": {
     "elapsed": 21,
     "status": "ok",
     "timestamp": 1652283365923,
     "user": {
      "displayName": "Doojin Park",
      "userId": "13081019711214908217"
     },
     "user_tz": -540
    },
    "id": "mg41a5XUI3cO"
   },
   "outputs": [],
   "source": [
    "# 흑백 이미지로 변경"
   ]
  },
  {
   "cell_type": "code",
   "execution_count": 51,
   "metadata": {
    "ExecuteTime": {
     "end_time": "2022-06-04T10:57:29.191235Z",
     "start_time": "2022-06-04T10:57:29.180273Z"
    },
    "colab": {
     "base_uri": "https://localhost:8080/"
    },
    "executionInfo": {
     "elapsed": 20,
     "status": "ok",
     "timestamp": 1652283365923,
     "user": {
      "displayName": "Doojin Park",
      "userId": "13081019711214908217"
     },
     "user_tz": -540
    },
    "id": "DpHakIkvJnO9",
    "outputId": "35125ba5-d2e2-457a-b0db-2c439948b3a1"
   },
   "outputs": [
    {
     "data": {
      "text/plain": [
       "(8, 8, 4)"
      ]
     },
     "execution_count": 51,
     "metadata": {},
     "output_type": "execute_result"
    }
   ],
   "source": [
    "np.array(data1).shape"
   ]
  },
  {
   "cell_type": "code",
   "execution_count": 52,
   "metadata": {
    "ExecuteTime": {
     "end_time": "2022-06-04T10:57:30.643162Z",
     "start_time": "2022-06-04T10:57:30.638179Z"
    },
    "colab": {
     "base_uri": "https://localhost:8080/"
    },
    "executionInfo": {
     "elapsed": 17,
     "status": "ok",
     "timestamp": 1652283365923,
     "user": {
      "displayName": "Doojin Park",
      "userId": "13081019711214908217"
     },
     "user_tz": -540
    },
    "id": "trN-IlXGJaLy",
    "outputId": "510c625a-fa88-4d80-d19d-3380fe05b8ca"
   },
   "outputs": [
    {
     "data": {
      "text/plain": [
       "(8, 8)"
      ]
     },
     "execution_count": 52,
     "metadata": {},
     "output_type": "execute_result"
    }
   ],
   "source": [
    "data2 = np.array(data1).mean(axis=2)\n",
    "data2.shape"
   ]
  },
  {
   "cell_type": "code",
   "execution_count": null,
   "metadata": {
    "executionInfo": {
     "elapsed": 594,
     "status": "ok",
     "timestamp": 1652283366502,
     "user": {
      "displayName": "Doojin Park",
      "userId": "13081019711214908217"
     },
     "user_tz": -540
    },
    "id": "3IlLVrCdJIGm"
   },
   "outputs": [],
   "source": [
    "# 흑백 전환 : 양각 > 음각"
   ]
  },
  {
   "cell_type": "code",
   "execution_count": 53,
   "metadata": {
    "ExecuteTime": {
     "end_time": "2022-06-04T10:57:32.148339Z",
     "start_time": "2022-06-04T10:57:32.096512Z"
    },
    "colab": {
     "base_uri": "https://localhost:8080/",
     "height": 102
    },
    "executionInfo": {
     "elapsed": 16,
     "status": "ok",
     "timestamp": 1652283366503,
     "user": {
      "displayName": "Doojin Park",
      "userId": "13081019711214908217"
     },
     "user_tz": -540
    },
    "id": "sKUHdPnOJauE",
    "outputId": "8cdbf2d8-f2b8-4ecd-dcec-d04f513a21a5"
   },
   "outputs": [
    {
     "data": {
      "image/png": "[encoded data removed]",
      "text/plain": [
       "<Figure size 144x72 with 1 Axes>"
      ]
     },
     "metadata": {
      "image/png": {
       "height": 86,
       "width": 81
      },
      "needs_background": "light"
     },
     "output_type": "display_data"
    }
   ],
   "source": [
    "plt.figure(figsize=(2, 1))\n",
    "plt.imshow(data2, cmap=plt.cm.bone)\n",
    "plt.show()"
   ]
  },
  {
   "cell_type": "code",
   "execution_count": 54,
   "metadata": {
    "ExecuteTime": {
     "end_time": "2022-06-04T10:57:33.413101Z",
     "start_time": "2022-06-04T10:57:33.403134Z"
    },
    "colab": {
     "base_uri": "https://localhost:8080/"
    },
    "executionInfo": {
     "elapsed": 14,
     "status": "ok",
     "timestamp": 1652283366503,
     "user": {
      "displayName": "Doojin Park",
      "userId": "13081019711214908217"
     },
     "user_tz": -540
    },
    "id": "l0HRUf_mKHt5",
    "outputId": "0f3e6ae1-df14-43c6-e482-04b76228edae"
   },
   "outputs": [
    {
     "data": {
      "text/plain": [
       "array([[  0.  ,   0.  ,  30.75,  81.75,  35.25,   0.  ,   0.  ,   0.  ],\n",
       "       [  0.  ,  70.5 , 171.  , 156.  , 153.75,   8.25,   0.  ,   0.  ],\n",
       "       [ 33.75, 175.5 ,  61.5 ,  19.5 , 171.75,  25.5 ,   0.  ,   0.  ],\n",
       "       [ 84.75, 141.  ,   0.  ,  22.5 , 171.  ,  24.75,   0.  ,   0.  ],\n",
       "       [ 17.25,  24.75,   0.  ,  60.75, 159.75,   0.75,   0.  ,   0.  ],\n",
       "       [  0.  ,   0.  ,   1.5 , 146.25, 172.5 , 117.75,  90.75,  18.75],\n",
       "       [  0.  ,   8.25, 117.  , 175.5 , 113.25, 106.5 , 145.5 ,  79.5 ],\n",
       "       [  0.  ,  34.5 , 164.25,  46.5 ,   0.  ,   0.  ,   0.75,   4.5 ]])"
      ]
     },
     "execution_count": 54,
     "metadata": {},
     "output_type": "execute_result"
    }
   ],
   "source": [
    "data3 = np.ones(data2.shape) * 255 - data2\n",
    "data3"
   ]
  },
  {
   "cell_type": "code",
   "execution_count": 55,
   "metadata": {
    "ExecuteTime": {
     "end_time": "2022-06-04T10:57:36.240062Z",
     "start_time": "2022-06-04T10:57:36.190226Z"
    },
    "colab": {
     "base_uri": "https://localhost:8080/",
     "height": 102
    },
    "executionInfo": {
     "elapsed": 13,
     "status": "ok",
     "timestamp": 1652283366504,
     "user": {
      "displayName": "Doojin Park",
      "userId": "13081019711214908217"
     },
     "user_tz": -540
    },
    "id": "-8IrsVLtKbwM",
    "outputId": "82922b7b-b7fd-4daf-a9d9-0002c84aa5cd"
   },
   "outputs": [
    {
     "data": {
      "image/png": "[encoded data removed]",
      "text/plain": [
       "<Figure size 144x72 with 1 Axes>"
      ]
     },
     "metadata": {
      "image/png": {
       "height": 86,
       "width": 81
      },
      "needs_background": "light"
     },
     "output_type": "display_data"
    }
   ],
   "source": [
    "plt.figure(figsize=(2, 1))\n",
    "plt.imshow(data3, cmap=plt.cm.bone)\n",
    "plt.show()"
   ]
  },
  {
   "cell_type": "code",
   "execution_count": null,
   "metadata": {
    "executionInfo": {
     "elapsed": 13,
     "status": "ok",
     "timestamp": 1652283366505,
     "user": {
      "displayName": "Doojin Park",
      "userId": "13081019711214908217"
     },
     "user_tz": -540
    },
    "id": "38pqtoHdJSOh"
   },
   "outputs": [],
   "source": [
    "# 색상범위 256 > 16"
   ]
  },
  {
   "cell_type": "code",
   "execution_count": 56,
   "metadata": {
    "ExecuteTime": {
     "end_time": "2022-06-04T10:57:39.021854Z",
     "start_time": "2022-06-04T10:57:39.013881Z"
    },
    "colab": {
     "base_uri": "https://localhost:8080/"
    },
    "executionInfo": {
     "elapsed": 13,
     "status": "ok",
     "timestamp": 1652283366505,
     "user": {
      "displayName": "Doojin Park",
      "userId": "13081019711214908217"
     },
     "user_tz": -540
    },
    "id": "zlKL0bwIJbEy",
    "outputId": "99875f80-1b44-46e3-e6ac-3a34f1823eee"
   },
   "outputs": [
    {
     "data": {
      "text/plain": [
       "array([[ 0.,  0.,  2.,  5.,  2.,  0.,  0.,  0.],\n",
       "       [ 0.,  4., 11., 10., 10.,  1.,  0.,  0.],\n",
       "       [ 2., 11.,  4.,  1., 11.,  2.,  0.,  0.],\n",
       "       [ 5.,  9.,  0.,  1., 11.,  2.,  0.,  0.],\n",
       "       [ 1.,  2.,  0.,  4., 10.,  0.,  0.,  0.],\n",
       "       [ 0.,  0.,  0.,  9., 11.,  7.,  6.,  1.],\n",
       "       [ 0.,  1.,  7., 11.,  7.,  7.,  9.,  5.],\n",
       "       [ 0.,  2., 10.,  3.,  0.,  0.,  0.,  0.]])"
      ]
     },
     "execution_count": 56,
     "metadata": {},
     "output_type": "execute_result"
    }
   ],
   "source": [
    "data4 = np.round(data3 / 16)\n",
    "data4"
   ]
  }
 ],
 "metadata": {
  "colab": {
   "authorship_tag": "ABX9TyPmUlxnaaM1bRUyZUBxKzgI",
   "collapsed_sections": [],
   "name": "08_svm_mnist.ipynb",
   "provenance": []
  },
  "kernelspec": {
   "display_name": "Python 3 (ipykernel)",
   "language": "python",
   "name": "python3"
  },
  "language_info": {
   "codemirror_mode": {
    "name": "ipython",
    "version": 3
   },
   "file_extension": ".py",
   "mimetype": "text/x-python",
   "name": "python",
   "nbconvert_exporter": "python",
   "pygments_lexer": "ipython3",
   "version": "3.8.13"
  },
  "toc": {
   "base_numbering": 1,
   "nav_menu": {},
   "number_sections": true,
   "sideBar": true,
   "skip_h1_title": false,
   "title_cell": "Table of Contents",
   "title_sidebar": "Contents",
   "toc_cell": false,
   "toc_position": {},
   "toc_section_display": true,
   "toc_window_display": false
  },
  "varInspector": {
   "cols": {
    "lenName": 16,
    "lenType": 16,
    "lenVar": 40
   },
   "kernels_config": {
    "python": {
     "delete_cmd_postfix": "",
     "delete_cmd_prefix": "del ",
     "library": "var_list.py",
     "varRefreshCmd": "print(var_dic_list())"
    },
    "r": {
     "delete_cmd_postfix": ") ",
     "delete_cmd_prefix": "rm(",
     "library": "var_list.r",
     "varRefreshCmd": "cat(var_dic_list()) "
    }
   },
   "types_to_exclude": [
    "module",
    "function",
    "builtin_function_or_method",
    "instance",
    "_Feature"
   ],
   "window_display": false
  }
 },
 "nbformat": 4,
 "nbformat_minor": 1
}
