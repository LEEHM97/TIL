{
 "cells": [
  {
   "cell_type": "code",
   "execution_count": 1,
   "id": "a902e105",
   "metadata": {
    "ExecuteTime": {
     "end_time": "2022-06-28T01:27:01.261662Z",
     "start_time": "2022-06-28T01:26:58.893004Z"
    }
   },
   "outputs": [
    {
     "name": "stdout",
     "output_type": "stream",
     "text": [
      "WARNING:tensorflow:From C:\\Users\\gmlkd\\miniforge3\\envs\\fastcampus\\lib\\site-packages\\tensorflow\\python\\compat\\v2_compat.py:96: disable_resource_variables (from tensorflow.python.ops.variable_scope) is deprecated and will be removed in a future version.\n",
      "Instructions for updating:\n",
      "non-resource variables are not supported in the long term\n"
     ]
    }
   ],
   "source": [
    "import tensorflow.compat.v1 as tf\n",
    "tf.disable_v2_behavior()\n",
    "\n",
    "import pandas as pd\n",
    "import numpy as np\n",
    "import matplotlib.pyplot as plt\n",
    "from sklearn import datasets"
   ]
  },
  {
   "cell_type": "code",
   "execution_count": 2,
   "id": "bb6cca5d",
   "metadata": {
    "ExecuteTime": {
     "end_time": "2022-06-28T01:27:14.558228Z",
     "start_time": "2022-06-28T01:27:14.527815Z"
    }
   },
   "outputs": [
    {
     "name": "stderr",
     "output_type": "stream",
     "text": [
      "C:\\Users\\gmlkd\\miniforge3\\envs\\fastcampus\\lib\\site-packages\\sklearn\\utils\\deprecation.py:87: FutureWarning: Function load_boston is deprecated; `load_boston` is deprecated in 1.0 and will be removed in 1.2.\n",
      "\n",
      "    The Boston housing prices dataset has an ethical problem. You can refer to\n",
      "    the documentation of this function for further details.\n",
      "\n",
      "    The scikit-learn maintainers therefore strongly discourage the use of this\n",
      "    dataset unless the purpose of the code is to study and educate about\n",
      "    ethical issues in data science and machine learning.\n",
      "\n",
      "    In this special case, you can fetch the dataset from the original\n",
      "    source::\n",
      "\n",
      "        import pandas as pd\n",
      "        import numpy as np\n",
      "\n",
      "\n",
      "        data_url = \"http://lib.stat.cmu.edu/datasets/boston\"\n",
      "        raw_df = pd.read_csv(data_url, sep=\"\\s+\", skiprows=22, header=None)\n",
      "        data = np.hstack([raw_df.values[::2, :], raw_df.values[1::2, :2]])\n",
      "        target = raw_df.values[1::2, 2]\n",
      "\n",
      "    Alternative datasets include the California housing dataset (i.e.\n",
      "    :func:`~sklearn.datasets.fetch_california_housing`) and the Ames housing\n",
      "    dataset. You can load the datasets as follows::\n",
      "\n",
      "        from sklearn.datasets import fetch_california_housing\n",
      "        housing = fetch_california_housing()\n",
      "\n",
      "    for the California housing dataset and::\n",
      "\n",
      "        from sklearn.datasets import fetch_openml\n",
      "        housing = fetch_openml(name=\"house_prices\", as_frame=True)\n",
      "\n",
      "    for the Ames housing dataset.\n",
      "    \n",
      "  warnings.warn(msg, category=FutureWarning)\n"
     ]
    },
    {
     "data": {
      "text/html": [
       "<div>\n",
       "<style scoped>\n",
       "    .dataframe tbody tr th:only-of-type {\n",
       "        vertical-align: middle;\n",
       "    }\n",
       "\n",
       "    .dataframe tbody tr th {\n",
       "        vertical-align: top;\n",
       "    }\n",
       "\n",
       "    .dataframe thead th {\n",
       "        text-align: right;\n",
       "    }\n",
       "</style>\n",
       "<table border=\"1\" class=\"dataframe\">\n",
       "  <thead>\n",
       "    <tr style=\"text-align: right;\">\n",
       "      <th></th>\n",
       "      <th>0</th>\n",
       "      <th>1</th>\n",
       "    </tr>\n",
       "  </thead>\n",
       "  <tbody>\n",
       "    <tr>\n",
       "      <th>0</th>\n",
       "      <td>4.98</td>\n",
       "      <td>24.0</td>\n",
       "    </tr>\n",
       "    <tr>\n",
       "      <th>1</th>\n",
       "      <td>9.14</td>\n",
       "      <td>21.6</td>\n",
       "    </tr>\n",
       "    <tr>\n",
       "      <th>2</th>\n",
       "      <td>4.03</td>\n",
       "      <td>34.7</td>\n",
       "    </tr>\n",
       "    <tr>\n",
       "      <th>3</th>\n",
       "      <td>2.94</td>\n",
       "      <td>33.4</td>\n",
       "    </tr>\n",
       "    <tr>\n",
       "      <th>4</th>\n",
       "      <td>5.33</td>\n",
       "      <td>36.2</td>\n",
       "    </tr>\n",
       "  </tbody>\n",
       "</table>\n",
       "</div>"
      ],
      "text/plain": [
       "      0     1\n",
       "0  4.98  24.0\n",
       "1  9.14  21.6\n",
       "2  4.03  34.7\n",
       "3  2.94  33.4\n",
       "4  5.33  36.2"
      ]
     },
     "execution_count": 2,
     "metadata": {},
     "output_type": "execute_result"
    }
   ],
   "source": [
    "# 1. Prepare the data\n",
    "\n",
    "x_data = datasets.load_boston().data[:, 12]\n",
    "y_data = datasets.load_boston().target\n",
    "df = pd.DataFrame([x_data, y_data]).transpose()\n",
    "df.head()"
   ]
  },
  {
   "cell_type": "code",
   "execution_count": 5,
   "id": "eb271d23",
   "metadata": {
    "ExecuteTime": {
     "end_time": "2022-06-28T01:49:24.177658Z",
     "start_time": "2022-06-28T01:49:24.153700Z"
    }
   },
   "outputs": [],
   "source": [
    "# 2. Build the model\n",
    "\n",
    "# (506, ) -> (506, 1)\n",
    "_x_data = tf.reshape(x_data, [len(x_data), 1])\n",
    "\n",
    "# hidden layer nodes: 5\n",
    "W = tf.Variable(tf.random_normal([1, 5], dtype=tf.float64))\n",
    "W_out = tf.Variable(tf.random_normal([5, 1], dtype=tf.float64))\n",
    "\n",
    "hidden = tf.nn.sigmoid(tf.matmul(_x_data, W))\n",
    "# Regression\n",
    "output = tf.matmul(hidden, W_out)"
   ]
  },
  {
   "cell_type": "code",
   "execution_count": 6,
   "id": "5dfaeb36",
   "metadata": {
    "ExecuteTime": {
     "end_time": "2022-06-28T01:49:46.258484Z",
     "start_time": "2022-06-28T01:49:46.241541Z"
    }
   },
   "outputs": [],
   "source": [
    "# 3. Set the critetion: Cost function & Gradient Descent method\n",
    "\n",
    "# mse 값\n",
    "loss = tf.reduce_mean(tf.square(output - y_data))\n",
    "# set learning rate\n",
    "optimizer = tf.train.GradientDescentOptimizer(0.001)\n",
    "# loss와 optimizer연결\n",
    "train = optimizer.minimize(loss)"
   ]
  },
  {
   "cell_type": "code",
   "execution_count": 10,
   "id": "8a579367",
   "metadata": {
    "ExecuteTime": {
     "end_time": "2022-06-28T01:54:46.534262Z",
     "start_time": "2022-06-28T01:54:26.571025Z"
    }
   },
   "outputs": [
    {
     "name": "stdout",
     "output_type": "stream",
     "text": [
      "Step 0 || Loss: 717.6431625430558\n",
      "\n",
      "Step 5000 || Loss: 84.43406749085813\n",
      "\n",
      "Step 10000 || Loss: 84.42934825614384\n",
      "\n",
      "Step 15000 || Loss: 84.42698457591757\n",
      "\n",
      "Step 20000 || Loss: 84.42554111005313\n",
      "\n",
      "Step 25000 || Loss: 84.42456050403256\n",
      "\n",
      "Step 30000 || Loss: 84.42384856415515\n",
      "\n",
      "Step 35000 || Loss: 84.42330782714689\n",
      "\n",
      "Step 40000 || Loss: 84.42288361655076\n",
      "\n",
      "Step 45000 || Loss: 84.42254269308688\n",
      "\n"
     ]
    }
   ],
   "source": [
    "# 4. Train the model\n",
    "\n",
    "with tf.Session() as sess:\n",
    "    # tf.Variables 초기화\n",
    "    sess.run(tf.global_variables_initializer())\n",
    "    \n",
    "    # epoch, iteration = 50000\n",
    "    for step in range(50000):\n",
    "        sess.run(train)\n",
    "        if step % 5000 == 0:\n",
    "            print('Step {} || Loss: {}'.format(step, sess.run(loss)))\n",
    "            print()\n",
    "            \n",
    "    output = sess.run(output)"
   ]
  },
  {
   "cell_type": "code",
   "execution_count": 11,
   "id": "c0aba91a",
   "metadata": {
    "ExecuteTime": {
     "end_time": "2022-06-28T01:55:18.730672Z",
     "start_time": "2022-06-28T01:55:18.627020Z"
    }
   },
   "outputs": [
    {
     "data": {
      "image/png": "[encoded data removed]",
      "text/plain": [
       "<Figure size 720x720 with 1 Axes>"
      ]
     },
     "metadata": {
      "needs_background": "light"
     },
     "output_type": "display_data"
    }
   ],
   "source": [
    "# 5. Visualize the result\n",
    "## 제대로 학습되지 않았다.\n",
    "\n",
    "plt.figure(figsize=(10, 10))\n",
    "plt.plot(x_data, y_data, 'bo', label='Real data')\n",
    "plt.plot(x_data, output, 'ro', label='Prediction')\n",
    "plt.legend()\n",
    "plt.show()"
   ]
  },
  {
   "cell_type": "code",
   "execution_count": null,
   "id": "933c4089",
   "metadata": {},
   "outputs": [],
   "source": [
    "# 모델 build부터 다시 시작"
   ]
  },
  {
   "cell_type": "code",
   "execution_count": 17,
   "id": "9468efde",
   "metadata": {
    "ExecuteTime": {
     "end_time": "2022-06-28T02:20:55.476618Z",
     "start_time": "2022-06-28T02:20:55.457681Z"
    }
   },
   "outputs": [],
   "source": [
    "# 2. Rebuild the model (2 Hidden layers)\n",
    "## output:(506, 1) , y_data:(506,)\n",
    "## y_data (506,) -> _y_data (506,1)\n",
    "\n",
    "_x_data = tf.reshape(x_data, [len(x_data), 1])\n",
    "_y_data = tf.reshape(y_data, [len(y_data), 1])\n",
    "\n",
    "W1 = tf.Variable(tf.random_normal([1, 5], dtype=tf.float64))\n",
    "W2 = tf.Variable(tf.random_normal([5, 10], dtype=tf.float64))\n",
    "W_out = tf.Variable(tf.random_normal([10, 1], dtype=tf.float64))\n",
    "\n",
    "hidden1 = tf.nn.elu(tf.matmul(_x_data, W1))\n",
    "hidden2 = tf.nn.elu(tf.matmul(hidden1, W2))\n",
    "output = tf.matmul(hidden2, W_out)"
   ]
  },
  {
   "cell_type": "code",
   "execution_count": 18,
   "id": "2ddd878e",
   "metadata": {
    "ExecuteTime": {
     "end_time": "2022-06-28T02:21:02.725971Z",
     "start_time": "2022-06-28T02:21:02.679325Z"
    }
   },
   "outputs": [],
   "source": [
    "# 3. Set the critetion: GradientDescent -> Adam\n",
    "\n",
    "loss = tf.reduce_mean(tf.square(output - _y_data))\n",
    "# set learning rate\n",
    "optimizer = tf.train.AdamOptimizer(0.001)\n",
    "# loss와 optimizer연결\n",
    "train = optimizer.minimize(loss)"
   ]
  },
  {
   "cell_type": "code",
   "execution_count": 19,
   "id": "adbe163d",
   "metadata": {
    "ExecuteTime": {
     "end_time": "2022-06-28T02:21:44.887299Z",
     "start_time": "2022-06-28T02:21:03.414812Z"
    }
   },
   "outputs": [
    {
     "name": "stdout",
     "output_type": "stream",
     "text": [
      "Step 0 || Loss: 3339.6277915690625\n",
      "\n",
      "Step 5000 || Loss: 27.98673232711409\n",
      "\n",
      "Step 10000 || Loss: 27.401003525902166\n",
      "\n",
      "Step 15000 || Loss: 27.214427371323836\n",
      "\n",
      "Step 20000 || Loss: 27.082475822710325\n",
      "\n",
      "Step 25000 || Loss: 27.060373165102607\n",
      "\n",
      "Step 30000 || Loss: 27.057472313571417\n",
      "\n",
      "Step 35000 || Loss: 27.05689221251606\n",
      "\n",
      "Step 40000 || Loss: 27.056669132804895\n",
      "\n",
      "Step 45000 || Loss: 27.05652629720861\n",
      "\n"
     ]
    }
   ],
   "source": [
    "# 4. Train the model\n",
    "\n",
    "with tf.Session() as sess:\n",
    "    # tf.Variables 초기화\n",
    "    sess.run(tf.global_variables_initializer())\n",
    "    \n",
    "    # epoch, iteration = 50000\n",
    "    for step in range(50000):\n",
    "        sess.run(train)\n",
    "        if step % 5000 == 0:\n",
    "            print('Step {} || Loss: {}'.format(step, sess.run(loss)))\n",
    "            print()\n",
    "            \n",
    "    output = sess.run(output)"
   ]
  },
  {
   "cell_type": "code",
   "execution_count": 20,
   "id": "f58ad4c3",
   "metadata": {
    "ExecuteTime": {
     "end_time": "2022-06-28T02:21:45.665985Z",
     "start_time": "2022-06-28T02:21:45.578278Z"
    }
   },
   "outputs": [
    {
     "data": {
      "image/png": "[encoded data removed]",
      "text/plain": [
       "<Figure size 720x720 with 1 Axes>"
      ]
     },
     "metadata": {
      "needs_background": "light"
     },
     "output_type": "display_data"
    }
   ],
   "source": [
    "# 5. Visualize the result\n",
    "\n",
    "plt.figure(figsize=(10, 10))\n",
    "plt.plot(x_data, y_data, 'bo', label='Real data')\n",
    "plt.plot(x_data, output, 'ro', label='Prediction')\n",
    "plt.legend()\n",
    "plt.show()"
   ]
  },
  {
   "cell_type": "code",
   "execution_count": null,
   "id": "731d0484",
   "metadata": {},
   "outputs": [],
   "source": []
  }
 ],
 "metadata": {
  "kernelspec": {
   "display_name": "Python 3 (ipykernel)",
   "language": "python",
   "name": "python3"
  },
  "language_info": {
   "codemirror_mode": {
    "name": "ipython",
    "version": 3
   },
   "file_extension": ".py",
   "mimetype": "text/x-python",
   "name": "python",
   "nbconvert_exporter": "python",
   "pygments_lexer": "ipython3",
   "version": "3.8.13"
  },
  "toc": {
   "base_numbering": 1,
   "nav_menu": {},
   "number_sections": true,
   "sideBar": true,
   "skip_h1_title": false,
   "title_cell": "Table of Contents",
   "title_sidebar": "Contents",
   "toc_cell": false,
   "toc_position": {},
   "toc_section_display": true,
   "toc_window_display": false
  },
  "varInspector": {
   "cols": {
    "lenName": 16,
    "lenType": 16,
    "lenVar": 40
   },
   "kernels_config": {
    "python": {
     "delete_cmd_postfix": "",
     "delete_cmd_prefix": "del ",
     "library": "var_list.py",
     "varRefreshCmd": "print(var_dic_list())"
    },
    "r": {
     "delete_cmd_postfix": ") ",
     "delete_cmd_prefix": "rm(",
     "library": "var_list.r",
     "varRefreshCmd": "cat(var_dic_list()) "
    }
   },
   "types_to_exclude": [
    "module",
    "function",
    "builtin_function_or_method",
    "instance",
    "_Feature"
   ],
   "window_display": false
  }
 },
 "nbformat": 4,
 "nbformat_minor": 5
}
