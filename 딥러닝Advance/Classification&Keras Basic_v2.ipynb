{
 "cells": [
  {
   "cell_type": "code",
   "execution_count": 1,
   "id": "d8865e86",
   "metadata": {
    "ExecuteTime": {
     "end_time": "2022-06-29T02:07:51.281459Z",
     "start_time": "2022-06-29T02:07:49.875868Z"
    }
   },
   "outputs": [],
   "source": [
    "import tensorflow as tf\n",
    "from tensorflow.keras import datasets, models, layers, utils, losses # tf.keras 에 필요한 함수들이 모여있습니다."
   ]
  },
  {
   "cell_type": "code",
   "execution_count": 2,
   "id": "9d96b133",
   "metadata": {
    "ExecuteTime": {
     "end_time": "2022-06-29T02:08:02.505581Z",
     "start_time": "2022-06-29T02:08:02.489779Z"
    }
   },
   "outputs": [],
   "source": [
    "import os\n",
    "os.environ['TF_CPP_MIN_LOG_LEVEL'] = '2' # https://stackoverflow.com/questions/35911252/disable-tensorflow-debugging-information"
   ]
  },
  {
   "cell_type": "markdown",
   "id": "246b2326",
   "metadata": {},
   "source": [
    "#### Prepare train & test data(MNIST)\n",
    "Train - Test split"
   ]
  },
  {
   "cell_type": "code",
   "execution_count": 3,
   "id": "e80a1733",
   "metadata": {
    "ExecuteTime": {
     "end_time": "2022-06-29T02:09:08.352798Z",
     "start_time": "2022-06-29T02:09:08.196735Z"
    }
   },
   "outputs": [],
   "source": [
    "(train_data, train_label), (test_data, test_label) = datasets.mnist.load_data()"
   ]
  },
  {
   "cell_type": "code",
   "execution_count": 4,
   "id": "7c77e9f8",
   "metadata": {
    "ExecuteTime": {
     "end_time": "2022-06-29T02:10:31.238553Z",
     "start_time": "2022-06-29T02:10:31.231577Z"
    }
   },
   "outputs": [
    {
     "name": "stdout",
     "output_type": "stream",
     "text": [
      "(60000, 28, 28)\n",
      "(10000, 28, 28)\n"
     ]
    }
   ],
   "source": [
    "print(train_data.shape) # # of training data == 60000, each data = 28px * 28px\n",
    "print(test_data.shape) # # of test data == 10000"
   ]
  },
  {
   "cell_type": "code",
   "execution_count": 5,
   "id": "5f8aabe4",
   "metadata": {
    "ExecuteTime": {
     "end_time": "2022-06-29T02:10:50.914803Z",
     "start_time": "2022-06-29T02:10:50.424073Z"
    }
   },
   "outputs": [
    {
     "data": {
      "text/plain": [
       "<matplotlib.image.AxesImage at 0x22595cc3220>"
      ]
     },
     "execution_count": 5,
     "metadata": {},
     "output_type": "execute_result"
    },
    {
     "data": {
      "image/png": "[encoded data removed]",
      "text/plain": [
       "<Figure size 432x288 with 1 Axes>"
      ]
     },
     "metadata": {
      "needs_background": "light"
     },
     "output_type": "display_data"
    }
   ],
   "source": [
    "import matplotlib.pyplot as plt\n",
    "\n",
    "plt.imshow(train_data[0], cmap='gray') # 60000장의 train data 중 첫번째 data"
   ]
  },
  {
   "cell_type": "markdown",
   "id": "3cb8430e",
   "metadata": {},
   "source": [
    "#### Normalization"
   ]
  },
  {
   "cell_type": "code",
   "execution_count": 6,
   "id": "15f69f5c",
   "metadata": {
    "ExecuteTime": {
     "end_time": "2022-06-29T02:10:56.442024Z",
     "start_time": "2022-06-29T02:10:56.370527Z"
    }
   },
   "outputs": [
    {
     "name": "stdout",
     "output_type": "stream",
     "text": [
      "0\n",
      "255\n"
     ]
    }
   ],
   "source": [
    "# 각 이미지(28px * 28px)는 0~255 사이의 숫자로 이루어져 있습니다.\n",
    "\n",
    "print(train_data.min())\n",
    "print(train_data.max()) "
   ]
  },
  {
   "cell_type": "code",
   "execution_count": 7,
   "id": "296d0307",
   "metadata": {
    "ExecuteTime": {
     "end_time": "2022-06-29T02:11:09.589686Z",
     "start_time": "2022-06-29T02:11:09.485691Z"
    }
   },
   "outputs": [],
   "source": [
    "# 각 이미지를 [28행 x 28열]에서 [1행 x 784열]로 펼쳐줍니다. \n",
    "# 각 이미지 내의 pixel 값을 [0~255]에서 [0~1]로 바꿔줍니다.\n",
    "\n",
    "train_data = train_data.reshape(60000, 784) / 255.0\n",
    "test_data = test_data.reshape(10000, 784) / 255.0"
   ]
  },
  {
   "cell_type": "code",
   "execution_count": 8,
   "id": "8054000b",
   "metadata": {
    "ExecuteTime": {
     "end_time": "2022-06-29T02:11:14.038544Z",
     "start_time": "2022-06-29T02:11:14.020603Z"
    }
   },
   "outputs": [
    {
     "data": {
      "text/plain": [
       "(60000, 784)"
      ]
     },
     "execution_count": 8,
     "metadata": {},
     "output_type": "execute_result"
    }
   ],
   "source": [
    "train_data.shape"
   ]
  },
  {
   "cell_type": "markdown",
   "id": "90e91f86",
   "metadata": {},
   "source": [
    "#### One-Hot encoding"
   ]
  },
  {
   "cell_type": "code",
   "execution_count": 9,
   "id": "41935654",
   "metadata": {
    "ExecuteTime": {
     "end_time": "2022-06-29T02:11:42.504128Z",
     "start_time": "2022-06-29T02:11:42.486567Z"
    }
   },
   "outputs": [],
   "source": [
    "\n",
    "train_label = utils.to_categorical(train_label) # 0~9 -> one-hot vector\n",
    "test_label = utils.to_categorical(test_label) # 0~9 -> one-hot vector"
   ]
  },
  {
   "cell_type": "code",
   "execution_count": 10,
   "id": "a17ee29b",
   "metadata": {
    "ExecuteTime": {
     "end_time": "2022-06-29T02:11:49.155534Z",
     "start_time": "2022-06-29T02:11:48.900528Z"
    }
   },
   "outputs": [
    {
     "data": {
      "text/html": [
       "<div>\n",
       "<style scoped>\n",
       "    .dataframe tbody tr th:only-of-type {\n",
       "        vertical-align: middle;\n",
       "    }\n",
       "\n",
       "    .dataframe tbody tr th {\n",
       "        vertical-align: top;\n",
       "    }\n",
       "\n",
       "    .dataframe thead th {\n",
       "        text-align: right;\n",
       "    }\n",
       "</style>\n",
       "<table border=\"1\" class=\"dataframe\">\n",
       "  <thead>\n",
       "    <tr style=\"text-align: right;\">\n",
       "      <th></th>\n",
       "      <th>0</th>\n",
       "      <th>1</th>\n",
       "      <th>2</th>\n",
       "      <th>3</th>\n",
       "      <th>4</th>\n",
       "      <th>5</th>\n",
       "      <th>6</th>\n",
       "      <th>7</th>\n",
       "      <th>8</th>\n",
       "      <th>9</th>\n",
       "    </tr>\n",
       "  </thead>\n",
       "  <tbody>\n",
       "    <tr>\n",
       "      <th>0</th>\n",
       "      <td>0.0</td>\n",
       "      <td>0.0</td>\n",
       "      <td>0.0</td>\n",
       "      <td>0.0</td>\n",
       "      <td>0.0</td>\n",
       "      <td>1.0</td>\n",
       "      <td>0.0</td>\n",
       "      <td>0.0</td>\n",
       "      <td>0.0</td>\n",
       "      <td>0.0</td>\n",
       "    </tr>\n",
       "    <tr>\n",
       "      <th>1</th>\n",
       "      <td>1.0</td>\n",
       "      <td>0.0</td>\n",
       "      <td>0.0</td>\n",
       "      <td>0.0</td>\n",
       "      <td>0.0</td>\n",
       "      <td>0.0</td>\n",
       "      <td>0.0</td>\n",
       "      <td>0.0</td>\n",
       "      <td>0.0</td>\n",
       "      <td>0.0</td>\n",
       "    </tr>\n",
       "    <tr>\n",
       "      <th>2</th>\n",
       "      <td>0.0</td>\n",
       "      <td>0.0</td>\n",
       "      <td>0.0</td>\n",
       "      <td>0.0</td>\n",
       "      <td>1.0</td>\n",
       "      <td>0.0</td>\n",
       "      <td>0.0</td>\n",
       "      <td>0.0</td>\n",
       "      <td>0.0</td>\n",
       "      <td>0.0</td>\n",
       "    </tr>\n",
       "  </tbody>\n",
       "</table>\n",
       "</div>"
      ],
      "text/plain": [
       "     0    1    2    3    4    5    6    7    8    9\n",
       "0  0.0  0.0  0.0  0.0  0.0  1.0  0.0  0.0  0.0  0.0\n",
       "1  1.0  0.0  0.0  0.0  0.0  0.0  0.0  0.0  0.0  0.0\n",
       "2  0.0  0.0  0.0  0.0  1.0  0.0  0.0  0.0  0.0  0.0"
      ]
     },
     "execution_count": 10,
     "metadata": {},
     "output_type": "execute_result"
    }
   ],
   "source": [
    "# 기존의 integer label들이 아래와 같은 one-hot vector들로 변경된 것을 확인할 수 있습니다.\n",
    "\n",
    "import pandas as pd\n",
    "\n",
    "pd.DataFrame(train_label).head(3)"
   ]
  },
  {
   "cell_type": "markdown",
   "id": "e6dc772e",
   "metadata": {},
   "source": [
    "#### Build the model & Set the creiterion"
   ]
  },
  {
   "cell_type": "code",
   "execution_count": null,
   "id": "72b6f8b8",
   "metadata": {},
   "outputs": [],
   "source": [
    "tf.keras 방식\n",
    "\n",
    "- Sequential\n",
    "- Functional"
   ]
  },
  {
   "cell_type": "code",
   "execution_count": 11,
   "id": "08e1432c",
   "metadata": {
    "ExecuteTime": {
     "end_time": "2022-06-29T02:14:42.072919Z",
     "start_time": "2022-06-29T02:14:41.487442Z"
    }
   },
   "outputs": [],
   "source": [
    "# Build up the 'Sequence' of layers (Linear stack of layers)\n",
    "model = models.Sequential()"
   ]
  },
  {
   "cell_type": "code",
   "execution_count": 12,
   "id": "8e96e32c",
   "metadata": {
    "ExecuteTime": {
     "end_time": "2022-06-29T02:22:20.861011Z",
     "start_time": "2022-06-29T02:22:20.817013Z"
    }
   },
   "outputs": [],
   "source": [
    "## kener_initializer: Theta 초기화 (default=자비에)\n",
    "\n",
    "# Dense-layer (relu & he)\n",
    "model.add(layers.Dense(input_dim=28*28, units=512, activation='relu', kernel_initializer='he_uniform'))\n",
    "\n",
    "# Dropout-layer\n",
    "model.add(layers.Dropout(0.2))\n",
    "\n",
    "# (Output) Dense_layer with softmax function, 0~9 -> 10\n",
    "model.add(layers.Dense(units=10, activation='softmax'))"
   ]
  },
  {
   "cell_type": "code",
   "execution_count": 13,
   "id": "366338b0",
   "metadata": {
    "ExecuteTime": {
     "end_time": "2022-06-29T02:24:48.371465Z",
     "start_time": "2022-06-29T02:24:48.349489Z"
    }
   },
   "outputs": [],
   "source": [
    "# 'Compile' the model description (Configures the model for training)\n",
    "model.compile(optimizer = 'adam',\n",
    "              # See other available olsses\n",
    "             loss = losses.categorical_crossentropy,\n",
    "              # tf 2.X에서 Precision/Recall/F1-Score 적용하기 @ https://j.mp/3cf3lbi\n",
    "             metrics = ['accuracy'])"
   ]
  },
  {
   "cell_type": "code",
   "execution_count": 14,
   "id": "c24dd074",
   "metadata": {
    "ExecuteTime": {
     "end_time": "2022-06-29T02:35:43.733842Z",
     "start_time": "2022-06-29T02:35:43.720206Z"
    }
   },
   "outputs": [
    {
     "name": "stdout",
     "output_type": "stream",
     "text": [
      "Model: \"sequential\"\n",
      "_________________________________________________________________\n",
      "Layer (type)                 Output Shape              Param #   \n",
      "=================================================================\n",
      "dense (Dense)                (None, 512)               401920    \n",
      "_________________________________________________________________\n",
      "dropout (Dropout)            (None, 512)               0         \n",
      "_________________________________________________________________\n",
      "dense_1 (Dense)              (None, 10)                5130      \n",
      "=================================================================\n",
      "Total params: 407,050\n",
      "Trainable params: 407,050\n",
      "Non-trainable params: 0\n",
      "_________________________________________________________________\n"
     ]
    }
   ],
   "source": [
    "model.summary()"
   ]
  },
  {
   "cell_type": "markdown",
   "id": "2fa79874",
   "metadata": {},
   "source": []
  },
  {
   "cell_type": "code",
   "execution_count": null,
   "id": "da08f9b9",
   "metadata": {},
   "outputs": [],
   "source": [
    "# # Regression\n",
    "# model.add(layers.Dense(units=1, activation=None))\n",
    "# model.compile(optimizer='adam',\n",
    "#               loss=losses.mean_squared_error,\n",
    "#               metrics=['mean_squared_error']) \n",
    "\n",
    "# # Multi-class classification\n",
    "## units: class의 개수\n",
    "## 보통 loss는 categorical_crossentropy 사용\n",
    "\n",
    "# model.add(layers.Dense(units=10, activation='softmax'))\n",
    "# model.compile(optimizer='adam',\n",
    "#               loss=losses.categorical_crossentropy,        # <- Label이 One-hot 형태일 경우\n",
    "#               loss=losses.sparse_categorical_crossentropy, # <- Label이 One-hot 형태가 아닐 경우\n",
    "#               metrics=['accuracy']) \n",
    "\n",
    "# # Binary Classification 1 (Softmax를 적용하는 경우, recommended)\n",
    "# model.add(layers.Dense(units=2, activation='softmax'))\n",
    "# model.compile(optimizer='adam',\n",
    "#               loss=losses.categorical_crossentropy,\n",
    "#               metrics=['accuracy']) \n",
    "\n",
    "# # Binary Classification 2 (Sigmoid를 적용하는 경우)\n",
    "# # 선형결합 결과에 대해 sigmoid function의 output을 계산해주면, binary_crossentropy가 이를 음성 & 양성 확률로 변환하여 처리해줍니다.\n",
    "# model.add(layers.Dense(units=1, activation='sigmoid')) \n",
    "# model.compile(optimizer='adam',\n",
    "#               loss=losses.binary_crossentropy, \n",
    "#               metrics=['accuracy']) "
   ]
  },
  {
   "cell_type": "markdown",
   "id": "a8aa57b4",
   "metadata": {},
   "source": [
    "#### Training the model"
   ]
  },
  {
   "cell_type": "code",
   "execution_count": 15,
   "id": "c13a0dbe",
   "metadata": {
    "ExecuteTime": {
     "end_time": "2022-06-29T02:38:54.199128Z",
     "start_time": "2022-06-29T02:38:41.559523Z"
    }
   },
   "outputs": [
    {
     "name": "stdout",
     "output_type": "stream",
     "text": [
      "Epoch 1/10\n",
      "600/600 [==============================] - 2s 2ms/step - loss: 0.2736 - accuracy: 0.9202\n",
      "Epoch 2/10\n",
      "600/600 [==============================] - 1s 2ms/step - loss: 0.1150 - accuracy: 0.9667\n",
      "Epoch 3/10\n",
      "600/600 [==============================] - 1s 2ms/step - loss: 0.0796 - accuracy: 0.9760\n",
      "Epoch 4/10\n",
      "600/600 [==============================] - 1s 2ms/step - loss: 0.0598 - accuracy: 0.9820\n",
      "Epoch 5/10\n",
      "600/600 [==============================] - 1s 2ms/step - loss: 0.0466 - accuracy: 0.9857\n",
      "Epoch 6/10\n",
      "600/600 [==============================] - 1s 2ms/step - loss: 0.0387 - accuracy: 0.9879\n",
      "Epoch 7/10\n",
      "600/600 [==============================] - 1s 2ms/step - loss: 0.0316 - accuracy: 0.9902\n",
      "Epoch 8/10\n",
      "600/600 [==============================] - 1s 2ms/step - loss: 0.0268 - accuracy: 0.9914\n",
      "Epoch 9/10\n",
      "600/600 [==============================] - 1s 2ms/step - loss: 0.0224 - accuracy: 0.9931\n",
      "Epoch 10/10\n",
      "600/600 [==============================] - 1s 2ms/step - loss: 0.0196 - accuracy: 0.9935\n"
     ]
    },
    {
     "data": {
      "text/plain": [
       "<tensorflow.python.keras.callbacks.History at 0x22593de3190>"
      ]
     },
     "execution_count": 15,
     "metadata": {},
     "output_type": "execute_result"
    }
   ],
   "source": [
    "# Fit the model on training data\n",
    "\n",
    "model.fit(train_data, train_label, batch_size=100, epochs=10) # default batch_size = 32"
   ]
  },
  {
   "cell_type": "markdown",
   "id": "5dbc7596",
   "metadata": {},
   "source": [
    "#### Test the model"
   ]
  },
  {
   "cell_type": "code",
   "execution_count": 17,
   "id": "86012900",
   "metadata": {
    "ExecuteTime": {
     "end_time": "2022-06-29T02:40:29.898912Z",
     "start_time": "2022-06-29T02:40:29.413785Z"
    }
   },
   "outputs": [
    {
     "name": "stdout",
     "output_type": "stream",
     "text": [
      "100/100 [==============================] - 0s 4ms/step - loss: 0.0644 - accuracy: 0.9817\n"
     ]
    }
   ],
   "source": [
    "# Evaluate the model on test data\n",
    "\n",
    "result = model.evaluate(test_data, test_label, batch_size=100)"
   ]
  },
  {
   "cell_type": "code",
   "execution_count": 18,
   "id": "fb7edaca",
   "metadata": {
    "ExecuteTime": {
     "end_time": "2022-06-29T02:40:51.307663Z",
     "start_time": "2022-06-29T02:40:51.226298Z"
    }
   },
   "outputs": [
    {
     "data": {
      "text/plain": [
       "array([[2.1511974e-11, 6.0798637e-11, 4.6680061e-08, 2.7555676e-05,\n",
       "        3.4137820e-14, 8.0739254e-10, 8.1520850e-14, 9.9997222e-01,\n",
       "        5.5675828e-09, 1.1920069e-07]], dtype=float32)"
      ]
     },
     "execution_count": 18,
     "metadata": {},
     "output_type": "execute_result"
    }
   ],
   "source": [
    "model.predict(test_data[0:1, :])"
   ]
  },
  {
   "cell_type": "code",
   "execution_count": 20,
   "id": "126d87cc",
   "metadata": {
    "ExecuteTime": {
     "end_time": "2022-06-29T02:41:55.496941Z",
     "start_time": "2022-06-29T02:41:55.465273Z"
    }
   },
   "outputs": [
    {
     "data": {
      "text/plain": [
       "0.99999994"
      ]
     },
     "execution_count": 20,
     "metadata": {},
     "output_type": "execute_result"
    }
   ],
   "source": [
    "import numpy as np\n",
    "np.sum(model.predict(test_data[0:1, :]))"
   ]
  },
  {
   "cell_type": "code",
   "execution_count": 22,
   "id": "2d5132bc",
   "metadata": {
    "ExecuteTime": {
     "end_time": "2022-06-29T02:44:41.139466Z",
     "start_time": "2022-06-29T02:44:41.133486Z"
    }
   },
   "outputs": [
    {
     "name": "stdout",
     "output_type": "stream",
     "text": [
      "loss (cross-entropy) 0.06437882035970688\n",
      "test accuracy 0.9817000031471252\n"
     ]
    }
   ],
   "source": [
    "print('loss (cross-entropy)', result[0])\n",
    "print('test accuracy', result[1])"
   ]
  },
  {
   "cell_type": "markdown",
   "id": "95898b71",
   "metadata": {},
   "source": [
    "#### (Appendix 1) tf.keras.layers.Flatten() 활용법"
   ]
  },
  {
   "cell_type": "code",
   "execution_count": null,
   "id": "306290cc",
   "metadata": {},
   "outputs": [],
   "source": [
    "(train_data, train_label), (test_data, test_label) = datasets.mnist.load_data()\n",
    "\n",
    "# 아래 코드에서 reshape 적용을 생략하고, 대신 Flatten 레이어를 활용해 펼쳐낼 수 있습니다.\n",
    "# train_data = train_data.reshape(60000, 784) / 255.0\n",
    "# test_data = test_data.reshape(10000, 784) / 255.0\n",
    "\n",
    "train_data = train_data / 255.0\n",
    "test_data = test_data / 255.0\n",
    "\n",
    "train_label = utils.to_categorical(train_label)\n",
    "test_label = utils.to_categorical(test_label)\n",
    "\n",
    "\n",
    "model = models.Sequential() \n",
    "\n",
    "model.add(layers.Flatten()) # takes our 28x28 and makes it 1x784\n",
    "\n",
    "# model.add(layers.Dense(input_dim=28*28, units=512, activation='relu', kernel_initializer='he_uniform')) \n",
    "model.add(layers.Dense(units=512, activation=tf.nn.relu, kernel_initializer='he_uniform')) # tf.nn 활용이 가능합니다.\n",
    "model.add(layers.Dropout(0.2))\n",
    "model.add(layers.Dense(units=10, activation=tf.nn.softmax)) # tf.nn 활용이 가능합니다.\n",
    "\n",
    "model.compile(optimizer='adam', \n",
    "              loss=losses.categorical_crossentropy, \n",
    "              metrics=['accuracy'])\n",
    "\n",
    "model.fit(train_data, train_label, batch_size=100, epochs=10) \n",
    "\n",
    "result = model.evaluate(test_data, test_label, batch_size=100)\n",
    "print('loss (cross-entropy) :', result[0])\n",
    "print('test accuracy :', result[1])"
   ]
  }
 ],
 "metadata": {
  "kernelspec": {
   "display_name": "Python 3 (ipykernel)",
   "language": "python",
   "name": "python3"
  },
  "language_info": {
   "codemirror_mode": {
    "name": "ipython",
    "version": 3
   },
   "file_extension": ".py",
   "mimetype": "text/x-python",
   "name": "python",
   "nbconvert_exporter": "python",
   "pygments_lexer": "ipython3",
   "version": "3.8.13"
  },
  "toc": {
   "base_numbering": 1,
   "nav_menu": {},
   "number_sections": true,
   "sideBar": true,
   "skip_h1_title": false,
   "title_cell": "Table of Contents",
   "title_sidebar": "Contents",
   "toc_cell": false,
   "toc_position": {},
   "toc_section_display": true,
   "toc_window_display": false
  },
  "varInspector": {
   "cols": {
    "lenName": 16,
    "lenType": 16,
    "lenVar": 40
   },
   "kernels_config": {
    "python": {
     "delete_cmd_postfix": "",
     "delete_cmd_prefix": "del ",
     "library": "var_list.py",
     "varRefreshCmd": "print(var_dic_list())"
    },
    "r": {
     "delete_cmd_postfix": ") ",
     "delete_cmd_prefix": "rm(",
     "library": "var_list.r",
     "varRefreshCmd": "cat(var_dic_list()) "
    }
   },
   "types_to_exclude": [
    "module",
    "function",
    "builtin_function_or_method",
    "instance",
    "_Feature"
   ],
   "window_display": false
  }
 },
 "nbformat": 4,
 "nbformat_minor": 5
}
