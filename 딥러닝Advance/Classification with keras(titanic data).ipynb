{
 "cells": [
  {
   "cell_type": "markdown",
   "metadata": {},
   "source": [
    "#### Data loading & preprocessing"
   ]
  },
  {
   "cell_type": "code",
   "execution_count": 1,
   "metadata": {},
   "outputs": [],
   "source": [
    "import pandas as pd\n",
    "import numpy as np\n",
    "import matplotlib.pyplot as plt"
   ]
  },
  {
   "cell_type": "code",
   "execution_count": 3,
   "metadata": {},
   "outputs": [
    {
     "data": {
      "text/html": [
       "<div>\n",
       "<style scoped>\n",
       "    .dataframe tbody tr th:only-of-type {\n",
       "        vertical-align: middle;\n",
       "    }\n",
       "\n",
       "    .dataframe tbody tr th {\n",
       "        vertical-align: top;\n",
       "    }\n",
       "\n",
       "    .dataframe thead th {\n",
       "        text-align: right;\n",
       "    }\n",
       "</style>\n",
       "<table border=\"1\" class=\"dataframe\">\n",
       "  <thead>\n",
       "    <tr style=\"text-align: right;\">\n",
       "      <th></th>\n",
       "      <th>PassengerId</th>\n",
       "      <th>Survived</th>\n",
       "      <th>Pclass</th>\n",
       "      <th>Name</th>\n",
       "      <th>Sex</th>\n",
       "      <th>Age</th>\n",
       "      <th>SibSp</th>\n",
       "      <th>Parch</th>\n",
       "      <th>Ticket</th>\n",
       "      <th>Fare</th>\n",
       "      <th>Cabin</th>\n",
       "      <th>Embarked</th>\n",
       "    </tr>\n",
       "  </thead>\n",
       "  <tbody>\n",
       "    <tr>\n",
       "      <th>0</th>\n",
       "      <td>1</td>\n",
       "      <td>0</td>\n",
       "      <td>3</td>\n",
       "      <td>Braund, Mr. Owen Harris</td>\n",
       "      <td>male</td>\n",
       "      <td>22.0</td>\n",
       "      <td>1</td>\n",
       "      <td>0</td>\n",
       "      <td>A/5 21171</td>\n",
       "      <td>7.2500</td>\n",
       "      <td>NaN</td>\n",
       "      <td>S</td>\n",
       "    </tr>\n",
       "    <tr>\n",
       "      <th>1</th>\n",
       "      <td>2</td>\n",
       "      <td>1</td>\n",
       "      <td>1</td>\n",
       "      <td>Cumings, Mrs. John Bradley (Florence Briggs Th...</td>\n",
       "      <td>female</td>\n",
       "      <td>38.0</td>\n",
       "      <td>1</td>\n",
       "      <td>0</td>\n",
       "      <td>PC 17599</td>\n",
       "      <td>71.2833</td>\n",
       "      <td>C85</td>\n",
       "      <td>C</td>\n",
       "    </tr>\n",
       "    <tr>\n",
       "      <th>2</th>\n",
       "      <td>3</td>\n",
       "      <td>1</td>\n",
       "      <td>3</td>\n",
       "      <td>Heikkinen, Miss. Laina</td>\n",
       "      <td>female</td>\n",
       "      <td>26.0</td>\n",
       "      <td>0</td>\n",
       "      <td>0</td>\n",
       "      <td>STON/O2. 3101282</td>\n",
       "      <td>7.9250</td>\n",
       "      <td>NaN</td>\n",
       "      <td>S</td>\n",
       "    </tr>\n",
       "  </tbody>\n",
       "</table>\n",
       "</div>"
      ],
      "text/plain": [
       "   PassengerId  Survived  Pclass  \\\n",
       "0            1         0       3   \n",
       "1            2         1       1   \n",
       "2            3         1       3   \n",
       "\n",
       "                                                Name     Sex   Age  SibSp  \\\n",
       "0                            Braund, Mr. Owen Harris    male  22.0      1   \n",
       "1  Cumings, Mrs. John Bradley (Florence Briggs Th...  female  38.0      1   \n",
       "2                             Heikkinen, Miss. Laina  female  26.0      0   \n",
       "\n",
       "   Parch            Ticket     Fare Cabin Embarked  \n",
       "0      0         A/5 21171   7.2500   NaN        S  \n",
       "1      0          PC 17599  71.2833   C85        C  \n",
       "2      0  STON/O2. 3101282   7.9250   NaN        S  "
      ]
     },
     "execution_count": 3,
     "metadata": {},
     "output_type": "execute_result"
    }
   ],
   "source": [
    "titanic_df = pd.read_csv(\"C:/Users/gmlkd/FastCampus/딥러닝_Advanced/실습 파일/1. Tensorflow (Problem)/titanic.csv\")\n",
    "titanic_df.head(3)"
   ]
  },
  {
   "cell_type": "code",
   "execution_count": 4,
   "metadata": {},
   "outputs": [
    {
     "data": {
      "text/html": [
       "<div>\n",
       "<style scoped>\n",
       "    .dataframe tbody tr th:only-of-type {\n",
       "        vertical-align: middle;\n",
       "    }\n",
       "\n",
       "    .dataframe tbody tr th {\n",
       "        vertical-align: top;\n",
       "    }\n",
       "\n",
       "    .dataframe thead th {\n",
       "        text-align: right;\n",
       "    }\n",
       "</style>\n",
       "<table border=\"1\" class=\"dataframe\">\n",
       "  <thead>\n",
       "    <tr style=\"text-align: right;\">\n",
       "      <th></th>\n",
       "      <th>Survived</th>\n",
       "      <th>Pclass</th>\n",
       "      <th>Sex</th>\n",
       "      <th>Age</th>\n",
       "      <th>Fare</th>\n",
       "      <th>Embarked</th>\n",
       "      <th>Title</th>\n",
       "      <th>FamilySize</th>\n",
       "      <th>isAlone</th>\n",
       "    </tr>\n",
       "  </thead>\n",
       "  <tbody>\n",
       "    <tr>\n",
       "      <th>0</th>\n",
       "      <td>0</td>\n",
       "      <td>3</td>\n",
       "      <td>0</td>\n",
       "      <td>1.0</td>\n",
       "      <td>0.0</td>\n",
       "      <td>0</td>\n",
       "      <td>3</td>\n",
       "      <td>0.4</td>\n",
       "      <td>0</td>\n",
       "    </tr>\n",
       "    <tr>\n",
       "      <th>1</th>\n",
       "      <td>1</td>\n",
       "      <td>1</td>\n",
       "      <td>1</td>\n",
       "      <td>2.0</td>\n",
       "      <td>0.0</td>\n",
       "      <td>2</td>\n",
       "      <td>4</td>\n",
       "      <td>0.4</td>\n",
       "      <td>0</td>\n",
       "    </tr>\n",
       "    <tr>\n",
       "      <th>2</th>\n",
       "      <td>1</td>\n",
       "      <td>3</td>\n",
       "      <td>1</td>\n",
       "      <td>1.0</td>\n",
       "      <td>0.0</td>\n",
       "      <td>0</td>\n",
       "      <td>2</td>\n",
       "      <td>0.0</td>\n",
       "      <td>1</td>\n",
       "    </tr>\n",
       "  </tbody>\n",
       "</table>\n",
       "</div>"
      ],
      "text/plain": [
       "   Survived  Pclass  Sex  Age  Fare  Embarked  Title  FamilySize  isAlone\n",
       "0         0       3    0  1.0   0.0         0      3         0.4        0\n",
       "1         1       1    1  2.0   0.0         2      4         0.4        0\n",
       "2         1       3    1  1.0   0.0         0      2         0.0        1"
      ]
     },
     "execution_count": 4,
     "metadata": {},
     "output_type": "execute_result"
    }
   ],
   "source": [
    "del titanic_df['Cabin'] # 너무 많은 결측치가 존재\n",
    "del titanic_df['PassengerId'] # Passenger 번호는 큰 의미를 갖고있지 않은 일련번호\n",
    "del titanic_df['Ticket'] # ticket 번호에서 패턴이 확인되지 않음\n",
    "\n",
    "\n",
    "titanic_df['Title'] = titanic_df['Name'].str.extract('([A-Za-z]+)\\.', expand=False)\n",
    "del titanic_df['Name'] # 호칭만 남김\n",
    "\n",
    "rare_title = []\n",
    "for title in set(titanic_df['Title']):\n",
    "    if list(titanic_df['Title']).count(title) < 10:\n",
    "        rare_title.append(title)\n",
    "\n",
    "titanic_df['Title'] = titanic_df['Title'].replace('Mlle', 'Miss') # Mademoiselle\n",
    "titanic_df['Title'] = titanic_df['Title'].replace('Ms', 'Miss') \n",
    "titanic_df['Title'] = titanic_df['Title'].replace('Mme', 'Mrs') # Madame\n",
    "titanic_df['Title'] = titanic_df['Title'].replace(rare_title, 'Rare')\n",
    "\n",
    "title_mapping = {\"Master\":1, \"Miss\":2, \"Mr\":3, \"Mrs\":4, \"Rare\":5 }\n",
    "titanic_df['Title'] = titanic_df['Title'].map(title_mapping)\n",
    "titanic_df['Title'] = titanic_df['Title'].fillna(0)\n",
    "titanic_df['Title'].astype(int)\n",
    "\n",
    "\n",
    "sex_mapping = {\"male\": 0 , \"female\":1} \n",
    "titanic_df['Sex'] = titanic_df['Sex'].map(sex_mapping)\n",
    "\n",
    "\n",
    "titanic_df['Embarked'] = titanic_df['Embarked'].fillna('S')\n",
    "mapping_data ={\"S\":0, \"Q\":1, \"C\":2}\n",
    "titanic_df[\"Embarked\"] = titanic_df[\"Embarked\"].map(mapping_data)\n",
    "\n",
    "\n",
    "titanic_df.loc[ titanic_df['Fare'] <= 102, 'Fare'] = 0\n",
    "titanic_df.loc[(titanic_df['Fare'] > 102) & (titanic_df['Fare'] <= 204), 'Fare'] = 1\n",
    "titanic_df.loc[(titanic_df['Fare'] > 204) & (titanic_df['Fare'] <= 307), 'Fare'] = 2\n",
    "titanic_df.loc[ titanic_df['Fare'] > 307, 'Fare'] = 4\n",
    "\n",
    "\n",
    "titanic_df[\"FamilySize\"] = titanic_df[\"SibSp\"] + titanic_df[\"Parch\"] +1\n",
    "del titanic_df['SibSp']\n",
    "del titanic_df['Parch']\n",
    "\n",
    "titanic_df['isAlone'] = 0\n",
    "titanic_df.loc[titanic_df['FamilySize'] == 1, 'isAlone'] = 1\n",
    "\n",
    "family_mapping = {1: 0, 2: 0.4, 3: 0.8, 4: 1.2, 5: 1.6, 6: 2, 7: 2.4, 8: 2.8, 9: 3.2, 10: 3.6, 11: 4}\n",
    "titanic_df['FamilySize'] = titanic_df['FamilySize'].map(family_mapping)\n",
    "\n",
    "\n",
    "titanic_df[\"Age\"].fillna(titanic_df.groupby(\"Title\")[\"Age\"].transform(\"median\"), inplace=True)\n",
    "\n",
    "titanic_df.loc[ titanic_df['Age'] <= 16, 'Age'] = 0\n",
    "titanic_df.loc[(titanic_df['Age'] > 16) & (titanic_df['Age'] <= 32), 'Age'] = 1\n",
    "titanic_df.loc[(titanic_df['Age'] > 32) & (titanic_df['Age'] <= 48), 'Age'] = 2\n",
    "titanic_df.loc[(titanic_df['Age'] > 48) & (titanic_df['Age'] <= 64), 'Age'] = 3\n",
    "titanic_df.loc[ titanic_df['Age'] > 64, 'Age'] = 4\n",
    "\n",
    "titanic_df.head(3)"
   ]
  },
  {
   "cell_type": "markdown",
   "metadata": {},
   "source": [
    "#### Devide dataframe into X & Y -> Train X / Test X / Train Y / Test Y"
   ]
  },
  {
   "cell_type": "code",
   "execution_count": 5,
   "metadata": {},
   "outputs": [],
   "source": [
    "titanic_target = titanic_df[['Survived']].copy()\n",
    "titanic_data = titanic_df.copy()\n",
    "\n",
    "del titanic_data['Survived']"
   ]
  },
  {
   "cell_type": "code",
   "execution_count": 6,
   "metadata": {},
   "outputs": [],
   "source": [
    "from sklearn import model_selection"
   ]
  },
  {
   "cell_type": "code",
   "execution_count": 8,
   "metadata": {},
   "outputs": [
    {
     "name": "stdout",
     "output_type": "stream",
     "text": [
      "(623, 8)\n",
      "(268, 8)\n",
      "(623, 1)\n",
      "(268, 1)\n"
     ]
    }
   ],
   "source": [
    "train_data, test_data, train_label, test_label = model_selection.train_test_split(titanic_data, titanic_target,\n",
    "                                                                                 test_size=0.3,\n",
    "                                                                                 random_state=0)\n",
    "print(train_data.shape)\n",
    "print(test_data.shape)\n",
    "print(train_label.shape)\n",
    "print(test_label.shape)"
   ]
  },
  {
   "cell_type": "markdown",
   "metadata": {},
   "source": [
    "#### Change normal labels to one-hot labels"
   ]
  },
  {
   "cell_type": "code",
   "execution_count": 9,
   "metadata": {},
   "outputs": [
    {
     "name": "stdout",
     "output_type": "stream",
     "text": [
      "(623, 2)\n",
      "(268, 2)\n"
     ]
    }
   ],
   "source": [
    "from tensorflow.keras import utils\n",
    "\n",
    "train_label = utils.to_categorical(train_label) # 0 or 1 -> one-hot vector\n",
    "test_label = utils.to_categorical(test_label) # 0 or 1 -> one-hot vector\n",
    "\n",
    "print(train_label.shape) # 모양을 영어로?\n",
    "print(test_label.shape) # 모양을 영어로?\n",
    "\n",
    "# from sklearn import preprocessing\n",
    "# enc = preprocessing.OneHotEncoder(categories='auto') # Apply 'One-hot encoding' on labels (Single integer to One-hot vector)\n",
    "# train_label = enc.fit_transform(train_label).toarray()\n",
    "# test_label = enc.fit_transform(test_label).toarray()"
   ]
  },
  {
   "cell_type": "code",
   "execution_count": 10,
   "metadata": {},
   "outputs": [
    {
     "data": {
      "text/plain": [
       "array([[0., 1.],\n",
       "       [0., 1.],\n",
       "       [1., 0.],\n",
       "       ...,\n",
       "       [1., 0.],\n",
       "       [0., 1.],\n",
       "       [1., 0.]], dtype=float32)"
      ]
     },
     "execution_count": 10,
     "metadata": {},
     "output_type": "execute_result"
    }
   ],
   "source": [
    "train_label"
   ]
  },
  {
   "cell_type": "markdown",
   "metadata": {},
   "source": [
    "#### Build & Train the model "
   ]
  },
  {
   "cell_type": "code",
   "execution_count": 11,
   "metadata": {},
   "outputs": [],
   "source": [
    "import tensorflow as tf\n",
    "\n",
    "# tf.keras 에 필요한 함수들이 모여있습니다.\n",
    "from tensorflow.keras import datasets, utils\n",
    "from tensorflow.keras import models, layers, activations, initializers, losses, optimizers, metrics"
   ]
  },
  {
   "cell_type": "code",
   "execution_count": 12,
   "metadata": {},
   "outputs": [],
   "source": [
    "import os\n",
    "os.environ['TF_CPP_MIN_LOG_LEVEL'] = '2' # https://stackoverflow.com/questions/35911252/disable-tensorflow-debugging-information"
   ]
  },
  {
   "cell_type": "code",
   "execution_count": 13,
   "metadata": {},
   "outputs": [],
   "source": [
    "model = models.Sequential() # Build up the \"Sequence\" of layers (Linear stack of layers)\n",
    "\n",
    "# Dense-layer (with he-initialization)\n",
    "model.add(layers.Dense(input_dim=8, units=256, activation=None, kernel_initializer=initializers.he_uniform())) # he-uniform initialization\n",
    "# model.add(layers.BatchNormalization()) # Use this line as if needed\n",
    "model.add(layers.Activation('elu')) # elu or relu (or layers.ELU / layers.LeakyReLU)\n",
    "\n",
    "model.add(layers.Dense(units=512, activation=None, kernel_initializer=initializers.he_uniform())) \n",
    "model.add(layers.Activation('elu')) \n",
    "\n",
    "model.add(layers.Dense(units=512, activation=None, kernel_initializer=initializers.he_uniform())) \n",
    "model.add(layers.Activation('elu'))\n",
    "\n",
    "model.add(layers.Dense(units=256, activation=None, kernel_initializer=initializers.he_uniform())) \n",
    "model.add(layers.Activation('elu')) \n",
    "model.add(layers.Dropout(rate=0.5)) # Dropout-layer\n",
    "\n",
    "model.add(layers.Dense(units=2, activation='softmax')) # Apply softmax function on model's output"
   ]
  },
  {
   "cell_type": "code",
   "execution_count": 14,
   "metadata": {},
   "outputs": [],
   "source": [
    "# \"Compile\" the model description (Configures the model for training)\n",
    "\n",
    "model.compile(optimizer=optimizers.Adam(), # Please try the Adam-optimizer\n",
    "              loss=losses.categorical_crossentropy, \n",
    "              metrics=[metrics.categorical_accuracy]) # Precision / Recall / F1-Score 적용하기 @ https://j.mp/3cf3lbi"
   ]
  },
  {
   "cell_type": "code",
   "execution_count": 15,
   "metadata": {},
   "outputs": [
    {
     "name": "stdout",
     "output_type": "stream",
     "text": [
      "Epoch 1/20\n",
      "5/5 [==============================] - 1s 36ms/step - loss: 5.1694 - categorical_accuracy: 0.6009 - val_loss: 1.9506 - val_categorical_accuracy: 0.4652\n",
      "Epoch 2/20\n",
      "5/5 [==============================] - 0s 10ms/step - loss: 1.5288 - categorical_accuracy: 0.6468 - val_loss: 1.5598 - val_categorical_accuracy: 0.6096\n",
      "Epoch 3/20\n",
      "5/5 [==============================] - 0s 11ms/step - loss: 1.1262 - categorical_accuracy: 0.6881 - val_loss: 0.5304 - val_categorical_accuracy: 0.7914\n",
      "Epoch 4/20\n",
      "5/5 [==============================] - 0s 11ms/step - loss: 0.8160 - categorical_accuracy: 0.7110 - val_loss: 0.5644 - val_categorical_accuracy: 0.7701\n",
      "Epoch 5/20\n",
      "5/5 [==============================] - 0s 15ms/step - loss: 0.8748 - categorical_accuracy: 0.6858 - val_loss: 0.4959 - val_categorical_accuracy: 0.8075\n",
      "Epoch 6/20\n",
      "5/5 [==============================] - 0s 9ms/step - loss: 0.6687 - categorical_accuracy: 0.7913 - val_loss: 0.4469 - val_categorical_accuracy: 0.8128\n",
      "Epoch 7/20\n",
      "5/5 [==============================] - 0s 10ms/step - loss: 0.5836 - categorical_accuracy: 0.7638 - val_loss: 0.5086 - val_categorical_accuracy: 0.7861\n",
      "Epoch 8/20\n",
      "5/5 [==============================] - 0s 11ms/step - loss: 0.5508 - categorical_accuracy: 0.7982 - val_loss: 0.4535 - val_categorical_accuracy: 0.8128\n",
      "Epoch 9/20\n",
      "5/5 [==============================] - 0s 10ms/step - loss: 0.5385 - categorical_accuracy: 0.8028 - val_loss: 0.4239 - val_categorical_accuracy: 0.8235\n",
      "Epoch 10/20\n",
      "5/5 [==============================] - 0s 9ms/step - loss: 0.4970 - categorical_accuracy: 0.7890 - val_loss: 0.6207 - val_categorical_accuracy: 0.7540\n",
      "Epoch 11/20\n",
      "5/5 [==============================] - 0s 9ms/step - loss: 0.5110 - categorical_accuracy: 0.8119 - val_loss: 0.4333 - val_categorical_accuracy: 0.8235\n",
      "Epoch 12/20\n",
      "5/5 [==============================] - 0s 9ms/step - loss: 0.5922 - categorical_accuracy: 0.7729 - val_loss: 0.5777 - val_categorical_accuracy: 0.8075\n",
      "Epoch 13/20\n",
      "5/5 [==============================] - 0s 9ms/step - loss: 0.5883 - categorical_accuracy: 0.7798 - val_loss: 0.4853 - val_categorical_accuracy: 0.8128\n",
      "Epoch 14/20\n",
      "5/5 [==============================] - 0s 9ms/step - loss: 0.5716 - categorical_accuracy: 0.7821 - val_loss: 0.4820 - val_categorical_accuracy: 0.8075\n",
      "Epoch 15/20\n",
      "5/5 [==============================] - 0s 8ms/step - loss: 0.5270 - categorical_accuracy: 0.8073 - val_loss: 0.5365 - val_categorical_accuracy: 0.7914\n",
      "Epoch 16/20\n",
      "5/5 [==============================] - 0s 10ms/step - loss: 0.5320 - categorical_accuracy: 0.7890 - val_loss: 0.4870 - val_categorical_accuracy: 0.8128\n",
      "Epoch 17/20\n",
      "5/5 [==============================] - 0s 9ms/step - loss: 0.4481 - categorical_accuracy: 0.8349 - val_loss: 0.5453 - val_categorical_accuracy: 0.7647\n",
      "Epoch 18/20\n",
      "5/5 [==============================] - 0s 8ms/step - loss: 0.5212 - categorical_accuracy: 0.7913 - val_loss: 0.5702 - val_categorical_accuracy: 0.7433\n",
      "Epoch 19/20\n",
      "5/5 [==============================] - 0s 9ms/step - loss: 0.5329 - categorical_accuracy: 0.7936 - val_loss: 0.4288 - val_categorical_accuracy: 0.8396\n",
      "Epoch 20/20\n",
      "5/5 [==============================] - 0s 9ms/step - loss: 0.5176 - categorical_accuracy: 0.7982 - val_loss: 0.5983 - val_categorical_accuracy: 0.7540\n"
     ]
    }
   ],
   "source": [
    "# \"Fit\" the model on training data\n",
    "\n",
    "history = model.fit(train_data, train_label, batch_size=100, epochs=20, validation_split=0.3) "
   ]
  },
  {
   "cell_type": "code",
   "execution_count": 16,
   "metadata": {},
   "outputs": [
    {
     "name": "stdout",
     "output_type": "stream",
     "text": [
      "9/9 [==============================] - 0s 14ms/step - loss: 0.5177 - categorical_accuracy: 0.8246\n",
      "loss (cross-entropy) : 0.5177280902862549\n",
      "test accuracy : 0.8246268630027771\n"
     ]
    }
   ],
   "source": [
    "# \"Evaluate\" the model on test data\n",
    "\n",
    "result = model.evaluate(test_data, test_label)\n",
    "\n",
    "print('loss (cross-entropy) :', result[0])\n",
    "print('test accuracy :', result[1])"
   ]
  },
  {
   "cell_type": "code",
   "execution_count": 17,
   "metadata": {},
   "outputs": [
    {
     "data": {
      "text/plain": [
       "dict_keys(['loss', 'categorical_accuracy', 'val_loss', 'val_categorical_accuracy'])"
      ]
     },
     "execution_count": 17,
     "metadata": {},
     "output_type": "execute_result"
    }
   ],
   "source": [
    "history.history.keys()"
   ]
  },
  {
   "cell_type": "code",
   "execution_count": 19,
   "metadata": {},
   "outputs": [
    {
     "name": "stdout",
     "output_type": "stream",
     "text": [
      "[0.6009174585342407, 0.646789014339447, 0.6880733966827393, 0.71100914478302, 0.6857798099517822, 0.7912843823432922, 0.7637614607810974, 0.7981651425361633, 0.8027523159980774, 0.78899085521698, 0.8119266033172607, 0.7729358077049255, 0.7798165082931519, 0.7821100950241089, 0.8073394298553467, 0.78899085521698, 0.8348624110221863, 0.7912843823432922, 0.7935779690742493, 0.7981651425361633]\n"
     ]
    }
   ],
   "source": [
    "# y 좌표\n",
    "print(history.history['categorical_accuracy'])"
   ]
  },
  {
   "cell_type": "code",
   "execution_count": 21,
   "metadata": {},
   "outputs": [
    {
     "data": {
      "image/png": "[encoded data removed]",
      "text/plain": [
       "<Figure size 432x288 with 1 Axes>"
      ]
     },
     "metadata": {
      "needs_background": "light"
     },
     "output_type": "display_data"
    }
   ],
   "source": [
    "acc = history.history['categorical_accuracy']\n",
    "val_acc = history.history['val_categorical_accuracy']\n",
    "\n",
    "x_len = np.arange(len(acc))\n",
    "\n",
    "plt.plot(x_len, acc, marker='.', c='blue', label=\"Train-set Acc.\")\n",
    "plt.plot(x_len, val_acc, marker='.', c='red', label=\"Validation-set Acc.\")\n",
    "\n",
    "plt.legend(loc='upper right')\n",
    "plt.grid()\n",
    "plt.xlabel('epoch')\n",
    "plt.ylabel('Accuracy')\n",
    "plt.show()"
   ]
  },
  {
   "cell_type": "code",
   "execution_count": 22,
   "metadata": {},
   "outputs": [
    {
     "data": {
      "text/plain": [
       "dict_keys(['loss', 'categorical_accuracy', 'val_loss', 'val_categorical_accuracy'])"
      ]
     },
     "execution_count": 22,
     "metadata": {},
     "output_type": "execute_result"
    }
   ],
   "source": [
    "history.history.keys()"
   ]
  },
  {
   "cell_type": "code",
   "execution_count": 23,
   "metadata": {},
   "outputs": [
    {
     "data": {
      "image/png": "[encoded data removed]",
      "text/plain": [
       "<Figure size 432x288 with 1 Axes>"
      ]
     },
     "metadata": {
      "needs_background": "light"
     },
     "output_type": "display_data"
    }
   ],
   "source": [
    "loss = history.history['loss']\n",
    "val_loss = history.history['val_loss']\n",
    "\n",
    "x_len = np.arange(len(acc))\n",
    "\n",
    "plt.plot(x_len, loss, marker='.', c='blue', label=\"Train-set loss.\")\n",
    "plt.plot(x_len, val_loss, marker='.', c='red', label=\"Validation-set loss.\")\n",
    "\n",
    "plt.legend(loc='upper right')\n",
    "plt.grid()\n",
    "plt.xlabel('epoch')\n",
    "plt.ylabel('Cross-entropy')\n",
    "plt.show()"
   ]
  },
  {
   "cell_type": "code",
   "execution_count": 24,
   "metadata": {},
   "outputs": [
    {
     "data": {
      "text/plain": [
       "array([[9.16805923e-01, 8.31941143e-02],\n",
       "       [9.60529566e-01, 3.94704193e-02],\n",
       "       [9.98613000e-01, 1.38694455e-03],\n",
       "       [8.43006372e-03, 9.91569877e-01],\n",
       "       [4.78321105e-01, 5.21678865e-01],\n",
       "       [9.33115125e-01, 6.68848082e-02],\n",
       "       [2.71467436e-02, 9.72853243e-01],\n",
       "       [1.17731877e-02, 9.88226831e-01],\n",
       "       [6.26937032e-01, 3.73062968e-01],\n",
       "       [4.87645149e-01, 5.12354851e-01],\n",
       "       [9.90051568e-01, 9.94838774e-03],\n",
       "       [3.76821101e-01, 6.23178899e-01],\n",
       "       [9.50220883e-01, 4.97790873e-02],\n",
       "       [1.05506681e-01, 8.94493282e-01],\n",
       "       [4.30528336e-04, 9.99569476e-01],\n",
       "       [4.34128702e-01, 5.65871298e-01],\n",
       "       [9.60529566e-01, 3.94704193e-02],\n",
       "       [9.89697397e-01, 1.03025651e-02],\n",
       "       [9.87740576e-01, 1.22594740e-02],\n",
       "       [2.91376561e-02, 9.70862329e-01],\n",
       "       [9.60689843e-01, 3.93101461e-02],\n",
       "       [1.34920562e-02, 9.86508012e-01],\n",
       "       [9.50220883e-01, 4.97790873e-02],\n",
       "       [9.33115125e-01, 6.68848082e-02],\n",
       "       [8.00353765e-01, 1.99646205e-01],\n",
       "       [8.67635105e-03, 9.91323590e-01],\n",
       "       [9.60529566e-01, 3.94704193e-02],\n",
       "       [8.00353765e-01, 1.99646205e-01],\n",
       "       [8.21212381e-02, 9.17878807e-01],\n",
       "       [9.92154658e-01, 7.84535985e-03],\n",
       "       [9.58632350e-01, 4.13677096e-02],\n",
       "       [7.19500601e-01, 2.80499399e-01],\n",
       "       [9.60529566e-01, 3.94704193e-02],\n",
       "       [9.33115125e-01, 6.68848082e-02],\n",
       "       [9.90051568e-01, 9.94838774e-03],\n",
       "       [9.67005253e-01, 3.29947621e-02],\n",
       "       [9.87740576e-01, 1.22594740e-02],\n",
       "       [9.60689843e-01, 3.93101461e-02],\n",
       "       [9.60689843e-01, 3.93101461e-02],\n",
       "       [9.57174778e-01, 4.28251736e-02],\n",
       "       [8.39056730e-01, 1.60943314e-01],\n",
       "       [9.16805923e-01, 8.31941143e-02],\n",
       "       [9.60529566e-01, 3.94704193e-02],\n",
       "       [9.98992264e-01, 1.00779138e-03],\n",
       "       [1.54644309e-03, 9.98453498e-01],\n",
       "       [9.60529566e-01, 3.94704193e-02],\n",
       "       [9.60529566e-01, 3.94704193e-02],\n",
       "       [1.19385065e-03, 9.98806119e-01],\n",
       "       [9.74473298e-01, 2.55267210e-02],\n",
       "       [9.74014223e-01, 2.59857774e-02],\n",
       "       [9.33115125e-01, 6.68848082e-02],\n",
       "       [6.26937032e-01, 3.73062968e-01],\n",
       "       [1.05506681e-01, 8.94493282e-01],\n",
       "       [9.60529566e-01, 3.94704193e-02],\n",
       "       [8.44510138e-01, 1.55489817e-01],\n",
       "       [9.89697397e-01, 1.03025651e-02],\n",
       "       [9.11913872e-01, 8.80861953e-02],\n",
       "       [9.96620774e-01, 3.37915961e-03],\n",
       "       [9.99510884e-01, 4.89095633e-04],\n",
       "       [9.90625858e-01, 9.37415659e-03],\n",
       "       [9.16805923e-01, 8.31941143e-02],\n",
       "       [9.42355335e-01, 5.76446168e-02],\n",
       "       [1.71015912e-03, 9.98289883e-01],\n",
       "       [8.69312584e-01, 1.30687460e-01],\n",
       "       [8.33432674e-01, 1.66567385e-01],\n",
       "       [9.50220883e-01, 4.97790873e-02],\n",
       "       [4.17044619e-03, 9.95829523e-01],\n",
       "       [9.86955881e-01, 1.30440732e-02],\n",
       "       [1.05506681e-01, 8.94493282e-01],\n",
       "       [1.97496172e-03, 9.98025060e-01],\n",
       "       [8.21212381e-02, 9.17878807e-01],\n",
       "       [9.12096679e-01, 8.79033059e-02],\n",
       "       [6.26937032e-01, 3.73062968e-01],\n",
       "       [9.60529566e-01, 3.94704193e-02],\n",
       "       [9.60529566e-01, 3.94704193e-02],\n",
       "       [1.60719842e-01, 8.39280188e-01],\n",
       "       [9.89160240e-01, 1.08397063e-02],\n",
       "       [9.20916915e-01, 7.90830553e-02],\n",
       "       [9.87740576e-01, 1.22594740e-02],\n",
       "       [8.81657600e-01, 1.18342355e-01],\n",
       "       [9.84049082e-01, 1.59509387e-02],\n",
       "       [2.01856241e-01, 7.98143744e-01],\n",
       "       [1.08323939e-01, 8.91676009e-01],\n",
       "       [8.73138309e-01, 1.26861691e-01],\n",
       "       [9.74473298e-01, 2.55267210e-02],\n",
       "       [1.97496172e-03, 9.98025060e-01],\n",
       "       [7.29259686e-04, 9.99270737e-01],\n",
       "       [8.58410835e-01, 1.41589195e-01],\n",
       "       [1.36780947e-01, 8.63219023e-01],\n",
       "       [8.76571894e-01, 1.23428129e-01],\n",
       "       [9.33115125e-01, 6.68848082e-02],\n",
       "       [9.60529566e-01, 3.94704193e-02],\n",
       "       [3.36031586e-01, 6.63968384e-01],\n",
       "       [8.85602261e-04, 9.99114335e-01],\n",
       "       [9.92154658e-01, 7.84535985e-03],\n",
       "       [9.16805923e-01, 8.31941143e-02],\n",
       "       [1.08323939e-01, 8.91676009e-01],\n",
       "       [9.98992264e-01, 1.00779138e-03],\n",
       "       [7.18666434e-01, 2.81333596e-01],\n",
       "       [8.44510138e-01, 1.55489817e-01],\n",
       "       [9.99867082e-01, 1.32881672e-04],\n",
       "       [9.79817212e-01, 2.01827772e-02],\n",
       "       [9.60529566e-01, 3.94704193e-02],\n",
       "       [9.95153189e-01, 4.84677311e-03],\n",
       "       [8.33432674e-01, 1.66567385e-01],\n",
       "       [9.20353174e-01, 7.96467736e-02],\n",
       "       [1.31720945e-01, 8.68279040e-01],\n",
       "       [9.88180399e-01, 1.18196299e-02],\n",
       "       [9.82132196e-01, 1.78678241e-02],\n",
       "       [7.35322714e-01, 2.64677256e-01],\n",
       "       [9.87740576e-01, 1.22594740e-02],\n",
       "       [7.24901096e-04, 9.99275148e-01],\n",
       "       [9.60529566e-01, 3.94704193e-02],\n",
       "       [8.00353765e-01, 1.99646205e-01],\n",
       "       [9.89559889e-01, 1.04401093e-02],\n",
       "       [1.55796811e-01, 8.44203174e-01],\n",
       "       [7.67168701e-01, 2.32831299e-01],\n",
       "       [9.27446559e-02, 9.07255352e-01],\n",
       "       [9.87740576e-01, 1.22594740e-02],\n",
       "       [1.40021771e-01, 8.59978259e-01],\n",
       "       [9.60529566e-01, 3.94704193e-02],\n",
       "       [9.50220883e-01, 4.97790873e-02],\n",
       "       [9.60529566e-01, 3.94704193e-02],\n",
       "       [8.51583898e-01, 1.48416117e-01],\n",
       "       [9.87740576e-01, 1.22594740e-02],\n",
       "       [8.89423907e-01, 1.10576056e-01],\n",
       "       [9.16805923e-01, 8.31941143e-02],\n",
       "       [9.90051568e-01, 9.94838774e-03],\n",
       "       [9.60689843e-01, 3.93101461e-02],\n",
       "       [9.57174778e-01, 4.28251736e-02],\n",
       "       [5.67682207e-01, 4.32317764e-01],\n",
       "       [9.60529566e-01, 3.94704193e-02],\n",
       "       [9.60529566e-01, 3.94704193e-02],\n",
       "       [9.31604147e-01, 6.83958307e-02],\n",
       "       [9.11913872e-01, 8.80861953e-02],\n",
       "       [9.60529566e-01, 3.94704193e-02],\n",
       "       [9.84049082e-01, 1.59509387e-02],\n",
       "       [8.71283412e-01, 1.28716588e-01],\n",
       "       [9.92260396e-01, 7.73958303e-03],\n",
       "       [9.60689843e-01, 3.93101461e-02],\n",
       "       [9.60689843e-01, 3.93101461e-02],\n",
       "       [7.73675798e-04, 9.99226332e-01],\n",
       "       [9.60529566e-01, 3.94704193e-02],\n",
       "       [5.67682207e-01, 4.32317764e-01],\n",
       "       [1.55796811e-01, 8.44203174e-01],\n",
       "       [8.00353765e-01, 1.99646205e-01],\n",
       "       [9.60689843e-01, 3.93101461e-02],\n",
       "       [1.01436265e-01, 8.98563683e-01],\n",
       "       [2.20288057e-02, 9.77971256e-01],\n",
       "       [9.60529566e-01, 3.94704193e-02],\n",
       "       [9.12096679e-01, 8.79033059e-02],\n",
       "       [8.00353765e-01, 1.99646205e-01],\n",
       "       [9.30057466e-01, 6.99424595e-02],\n",
       "       [9.60529566e-01, 3.94704193e-02],\n",
       "       [2.12880280e-02, 9.78711963e-01],\n",
       "       [9.60689843e-01, 3.93101461e-02],\n",
       "       [5.28932273e-01, 4.71067756e-01],\n",
       "       [9.86484349e-01, 1.35156848e-02],\n",
       "       [5.67682207e-01, 4.32317764e-01],\n",
       "       [2.93681264e-01, 7.06318736e-01],\n",
       "       [9.60529566e-01, 3.94704193e-02],\n",
       "       [9.16805923e-01, 8.31941143e-02],\n",
       "       [1.24870637e-03, 9.98751283e-01],\n",
       "       [9.55030441e-01, 4.49695513e-02],\n",
       "       [9.22198176e-01, 7.78018311e-02],\n",
       "       [9.60529566e-01, 3.94704193e-02],\n",
       "       [9.95849729e-01, 4.15025419e-03],\n",
       "       [9.60529566e-01, 3.94704193e-02],\n",
       "       [9.60529566e-01, 3.94704193e-02],\n",
       "       [9.60529566e-01, 3.94704193e-02],\n",
       "       [9.95849729e-01, 4.15025419e-03],\n",
       "       [8.85602261e-04, 9.99114335e-01],\n",
       "       [9.60529566e-01, 3.94704193e-02],\n",
       "       [9.60529566e-01, 3.94704193e-02],\n",
       "       [1.66018888e-01, 8.33981097e-01],\n",
       "       [9.60529566e-01, 3.94704193e-02],\n",
       "       [1.31517183e-03, 9.98684824e-01],\n",
       "       [9.60529566e-01, 3.94704193e-02],\n",
       "       [9.60529566e-01, 3.94704193e-02],\n",
       "       [5.85436702e-01, 4.14563328e-01],\n",
       "       [9.60689843e-01, 3.93101461e-02],\n",
       "       [9.11792934e-01, 8.82070288e-02],\n",
       "       [9.16805923e-01, 8.31941143e-02],\n",
       "       [9.60529566e-01, 3.94704193e-02],\n",
       "       [8.80937576e-01, 1.19062439e-01],\n",
       "       [9.60529566e-01, 3.94704193e-02],\n",
       "       [5.67682207e-01, 4.32317764e-01],\n",
       "       [9.60689843e-01, 3.93101461e-02],\n",
       "       [9.60529566e-01, 3.94704193e-02],\n",
       "       [2.94859678e-01, 7.05140293e-01],\n",
       "       [9.31604147e-01, 6.83958307e-02],\n",
       "       [9.11088407e-01, 8.89115855e-02],\n",
       "       [1.66018888e-01, 8.33981097e-01],\n",
       "       [5.67682207e-01, 4.32317764e-01],\n",
       "       [9.50220883e-01, 4.97790873e-02],\n",
       "       [9.39004421e-01, 6.09955862e-02],\n",
       "       [9.60529566e-01, 3.94704193e-02],\n",
       "       [8.61203253e-01, 1.38796747e-01],\n",
       "       [8.80937576e-01, 1.19062439e-01],\n",
       "       [9.95849729e-01, 4.15025419e-03],\n",
       "       [9.60529566e-01, 3.94704193e-02],\n",
       "       [3.32610071e-01, 6.67389929e-01],\n",
       "       [9.93786454e-01, 6.21353183e-03],\n",
       "       [2.02079743e-01, 7.97920287e-01],\n",
       "       [9.60529566e-01, 3.94704193e-02],\n",
       "       [8.90478075e-01, 1.09521970e-01],\n",
       "       [7.67168701e-01, 2.32831299e-01],\n",
       "       [9.60529566e-01, 3.94704193e-02],\n",
       "       [2.55731642e-01, 7.44268298e-01],\n",
       "       [9.95849729e-01, 4.15025419e-03],\n",
       "       [9.60529566e-01, 3.94704193e-02],\n",
       "       [8.69312584e-01, 1.30687460e-01],\n",
       "       [9.99510884e-01, 4.89095633e-04],\n",
       "       [2.20755503e-01, 7.79244483e-01],\n",
       "       [9.74473298e-01, 2.55267210e-02],\n",
       "       [9.60529566e-01, 3.94704193e-02],\n",
       "       [9.31908190e-01, 6.80917650e-02],\n",
       "       [8.36014569e-01, 1.63985416e-01],\n",
       "       [9.88180399e-01, 1.18196299e-02],\n",
       "       [1.55432266e-03, 9.98445690e-01],\n",
       "       [9.60529566e-01, 3.94704193e-02],\n",
       "       [1.19385065e-03, 9.98806119e-01],\n",
       "       [8.61203253e-01, 1.38796747e-01],\n",
       "       [9.60529566e-01, 3.94704193e-02],\n",
       "       [9.99265850e-01, 7.34119385e-04],\n",
       "       [9.90051568e-01, 9.94838774e-03],\n",
       "       [9.60529566e-01, 3.94704193e-02],\n",
       "       [1.36780947e-01, 8.63219023e-01],\n",
       "       [9.60529566e-01, 3.94704193e-02],\n",
       "       [9.95153189e-01, 4.84677311e-03],\n",
       "       [9.87740576e-01, 1.22594740e-02],\n",
       "       [4.92338687e-01, 5.07661283e-01],\n",
       "       [8.00353765e-01, 1.99646205e-01],\n",
       "       [8.00353765e-01, 1.99646205e-01],\n",
       "       [9.11913872e-01, 8.80861953e-02],\n",
       "       [9.90051568e-01, 9.94838774e-03],\n",
       "       [2.29535885e-06, 9.99997735e-01],\n",
       "       [7.07791746e-02, 9.29220855e-01],\n",
       "       [1.01436265e-01, 8.98563683e-01],\n",
       "       [9.60529566e-01, 3.94704193e-02],\n",
       "       [9.16805923e-01, 8.31941143e-02],\n",
       "       [4.28430084e-03, 9.95715678e-01],\n",
       "       [9.60529566e-01, 3.94704193e-02],\n",
       "       [9.74473298e-01, 2.55267210e-02],\n",
       "       [1.17413816e-03, 9.98825848e-01],\n",
       "       [1.34282336e-01, 8.65717590e-01],\n",
       "       [5.67682207e-01, 4.32317764e-01],\n",
       "       [9.60529566e-01, 3.94704193e-02],\n",
       "       [9.60529566e-01, 3.94704193e-02],\n",
       "       [7.67168701e-01, 2.32831299e-01],\n",
       "       [9.60529566e-01, 3.94704193e-02],\n",
       "       [9.77976024e-01, 2.20239330e-02],\n",
       "       [9.22132194e-01, 7.78678209e-02],\n",
       "       [9.60689843e-01, 3.93101461e-02],\n",
       "       [9.98412490e-01, 1.58745085e-03],\n",
       "       [7.67168701e-01, 2.32831299e-01],\n",
       "       [5.67736864e-01, 4.32263136e-01],\n",
       "       [9.87744272e-01, 1.22557338e-02],\n",
       "       [9.99940753e-01, 5.91962344e-05],\n",
       "       [9.97587204e-01, 2.41277297e-03],\n",
       "       [9.60590243e-01, 3.94097455e-02],\n",
       "       [9.67522979e-01, 3.24770398e-02],\n",
       "       [9.58687544e-01, 4.13125083e-02],\n",
       "       [8.80925417e-01, 1.19074568e-01],\n",
       "       [9.50246930e-01, 4.97530885e-02],\n",
       "       [9.54067826e-01, 4.59321998e-02],\n",
       "       [8.00355375e-01, 1.99644625e-01],\n",
       "       [8.44490588e-01, 1.55509382e-01]], dtype=float32)"
      ]
     },
     "execution_count": 24,
     "metadata": {},
     "output_type": "execute_result"
    }
   ],
   "source": [
    "# 'Predict' on test data\n",
    "## 마지막 output layer가 출력\n",
    "model.predict(test_data)"
   ]
  },
  {
   "cell_type": "code",
   "execution_count": 25,
   "metadata": {},
   "outputs": [
    {
     "data": {
      "text/plain": [
       "array([0, 0, 0, 1, 1, 0, 1, 1, 0, 1, 0, 1, 0, 1, 1, 1, 0, 0, 0, 1, 0, 1,\n",
       "       0, 0, 0, 1, 0, 0, 1, 0, 0, 0, 0, 0, 0, 0, 0, 0, 0, 0, 0, 0, 0, 0,\n",
       "       1, 0, 0, 1, 0, 0, 0, 0, 1, 0, 0, 0, 0, 0, 0, 0, 0, 0, 1, 0, 0, 0,\n",
       "       1, 0, 1, 1, 1, 0, 0, 0, 0, 1, 0, 0, 0, 0, 0, 1, 1, 0, 0, 1, 1, 0,\n",
       "       1, 0, 0, 0, 1, 1, 0, 0, 1, 0, 0, 0, 0, 0, 0, 0, 0, 0, 1, 0, 0, 0,\n",
       "       0, 1, 0, 0, 0, 1, 0, 1, 0, 1, 0, 0, 0, 0, 0, 0, 0, 0, 0, 0, 0, 0,\n",
       "       0, 0, 0, 0, 0, 0, 0, 0, 0, 1, 0, 0, 1, 0, 0, 1, 1, 0, 0, 0, 0, 0,\n",
       "       1, 0, 0, 0, 0, 1, 0, 0, 1, 0, 0, 0, 0, 0, 0, 0, 0, 1, 0, 0, 1, 0,\n",
       "       1, 0, 0, 0, 0, 0, 0, 0, 0, 0, 0, 0, 0, 1, 0, 0, 1, 0, 0, 0, 0, 0,\n",
       "       0, 0, 0, 1, 0, 1, 0, 0, 0, 0, 1, 0, 0, 0, 0, 1, 0, 0, 0, 0, 0, 1,\n",
       "       0, 1, 0, 0, 0, 0, 0, 1, 0, 0, 0, 1, 0, 0, 0, 0, 1, 1, 1, 0, 0, 1,\n",
       "       0, 0, 1, 1, 0, 0, 0, 0, 0, 0, 0, 0, 0, 0, 0, 0, 0, 0, 0, 0, 0, 0,\n",
       "       0, 0, 0, 0], dtype=int64)"
      ]
     },
     "execution_count": 25,
     "metadata": {},
     "output_type": "execute_result"
    }
   ],
   "source": [
    "np.argmax(model.predict(test_data), axis=1)"
   ]
  },
  {
   "cell_type": "code",
   "execution_count": 26,
   "metadata": {},
   "outputs": [],
   "source": [
    "# Data 한건만 처리할 때\n",
    "\n",
    "sample_data = np.array([[3, 0, 0.0, 0.0, 1, 1, 2.0, 0]])"
   ]
  },
  {
   "cell_type": "code",
   "execution_count": 27,
   "metadata": {},
   "outputs": [
    {
     "data": {
      "text/plain": [
       "array([[0.9986117 , 0.00138824]], dtype=float32)"
      ]
     },
     "execution_count": 27,
     "metadata": {},
     "output_type": "execute_result"
    }
   ],
   "source": [
    "model.predict(sample_data)"
   ]
  },
  {
   "cell_type": "code",
   "execution_count": 28,
   "metadata": {},
   "outputs": [
    {
     "data": {
      "text/plain": [
       "array([0], dtype=int64)"
      ]
     },
     "execution_count": 28,
     "metadata": {},
     "output_type": "execute_result"
    }
   ],
   "source": [
    "np.argmax(model.predict(sample_data), axis=1)"
   ]
  },
  {
   "cell_type": "code",
   "execution_count": null,
   "metadata": {},
   "outputs": [],
   "source": []
  }
 ],
 "metadata": {
  "kernelspec": {
   "display_name": "Python 3.8.13 ('fastcampus')",
   "language": "python",
   "name": "python3"
  },
  "language_info": {
   "codemirror_mode": {
    "name": "ipython",
    "version": 3
   },
   "file_extension": ".py",
   "mimetype": "text/x-python",
   "name": "python",
   "nbconvert_exporter": "python",
   "pygments_lexer": "ipython3",
   "version": "3.8.13"
  },
  "orig_nbformat": 4,
  "vscode": {
   "interpreter": {
    "hash": "d03f6901b6a42dbe3cd1c26aed86af13911a401140e63ddc3b23a4d593814a4d"
   }
  }
 },
 "nbformat": 4,
 "nbformat_minor": 2
}
