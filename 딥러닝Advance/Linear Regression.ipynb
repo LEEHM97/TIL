{
 "cells": [
  {
   "cell_type": "code",
   "execution_count": 1,
   "id": "8ec26390",
   "metadata": {
    "ExecuteTime": {
     "end_time": "2022-06-28T00:40:22.688471Z",
     "start_time": "2022-06-28T00:40:19.410893Z"
    }
   },
   "outputs": [
    {
     "name": "stdout",
     "output_type": "stream",
     "text": [
      "WARNING:tensorflow:From C:\\Users\\gmlkd\\miniforge3\\envs\\fastcampus\\lib\\site-packages\\tensorflow\\python\\compat\\v2_compat.py:96: disable_resource_variables (from tensorflow.python.ops.variable_scope) is deprecated and will be removed in a future version.\n",
      "Instructions for updating:\n",
      "non-resource variables are not supported in the long term\n"
     ]
    }
   ],
   "source": [
    "import tensorflow.compat.v1 as tf\n",
    "tf.disable_v2_behavior()\n",
    "\n",
    "import pandas as pd\n",
    "import numpy as np\n",
    "import matplotlib.pyplot as plt\n",
    "from sklearn import datasets"
   ]
  },
  {
   "cell_type": "code",
   "execution_count": 2,
   "id": "751256ec",
   "metadata": {
    "ExecuteTime": {
     "end_time": "2022-06-28T00:41:11.703861Z",
     "start_time": "2022-06-28T00:41:11.656790Z"
    }
   },
   "outputs": [
    {
     "name": "stderr",
     "output_type": "stream",
     "text": [
      "C:\\Users\\gmlkd\\miniforge3\\envs\\fastcampus\\lib\\site-packages\\sklearn\\utils\\deprecation.py:87: FutureWarning: Function load_boston is deprecated; `load_boston` is deprecated in 1.0 and will be removed in 1.2.\n",
      "\n",
      "    The Boston housing prices dataset has an ethical problem. You can refer to\n",
      "    the documentation of this function for further details.\n",
      "\n",
      "    The scikit-learn maintainers therefore strongly discourage the use of this\n",
      "    dataset unless the purpose of the code is to study and educate about\n",
      "    ethical issues in data science and machine learning.\n",
      "\n",
      "    In this special case, you can fetch the dataset from the original\n",
      "    source::\n",
      "\n",
      "        import pandas as pd\n",
      "        import numpy as np\n",
      "\n",
      "\n",
      "        data_url = \"http://lib.stat.cmu.edu/datasets/boston\"\n",
      "        raw_df = pd.read_csv(data_url, sep=\"\\s+\", skiprows=22, header=None)\n",
      "        data = np.hstack([raw_df.values[::2, :], raw_df.values[1::2, :2]])\n",
      "        target = raw_df.values[1::2, 2]\n",
      "\n",
      "    Alternative datasets include the California housing dataset (i.e.\n",
      "    :func:`~sklearn.datasets.fetch_california_housing`) and the Ames housing\n",
      "    dataset. You can load the datasets as follows::\n",
      "\n",
      "        from sklearn.datasets import fetch_california_housing\n",
      "        housing = fetch_california_housing()\n",
      "\n",
      "    for the California housing dataset and::\n",
      "\n",
      "        from sklearn.datasets import fetch_openml\n",
      "        housing = fetch_openml(name=\"house_prices\", as_frame=True)\n",
      "\n",
      "    for the Ames housing dataset.\n",
      "    \n",
      "  warnings.warn(msg, category=FutureWarning)\n"
     ]
    },
    {
     "data": {
      "text/html": [
       "<div>\n",
       "<style scoped>\n",
       "    .dataframe tbody tr th:only-of-type {\n",
       "        vertical-align: middle;\n",
       "    }\n",
       "\n",
       "    .dataframe tbody tr th {\n",
       "        vertical-align: top;\n",
       "    }\n",
       "\n",
       "    .dataframe thead th {\n",
       "        text-align: right;\n",
       "    }\n",
       "</style>\n",
       "<table border=\"1\" class=\"dataframe\">\n",
       "  <thead>\n",
       "    <tr style=\"text-align: right;\">\n",
       "      <th></th>\n",
       "      <th>0</th>\n",
       "      <th>1</th>\n",
       "    </tr>\n",
       "  </thead>\n",
       "  <tbody>\n",
       "    <tr>\n",
       "      <th>0</th>\n",
       "      <td>4.98</td>\n",
       "      <td>24.0</td>\n",
       "    </tr>\n",
       "    <tr>\n",
       "      <th>1</th>\n",
       "      <td>9.14</td>\n",
       "      <td>21.6</td>\n",
       "    </tr>\n",
       "    <tr>\n",
       "      <th>2</th>\n",
       "      <td>4.03</td>\n",
       "      <td>34.7</td>\n",
       "    </tr>\n",
       "    <tr>\n",
       "      <th>3</th>\n",
       "      <td>2.94</td>\n",
       "      <td>33.4</td>\n",
       "    </tr>\n",
       "    <tr>\n",
       "      <th>4</th>\n",
       "      <td>5.33</td>\n",
       "      <td>36.2</td>\n",
       "    </tr>\n",
       "  </tbody>\n",
       "</table>\n",
       "</div>"
      ],
      "text/plain": [
       "      0     1\n",
       "0  4.98  24.0\n",
       "1  9.14  21.6\n",
       "2  4.03  34.7\n",
       "3  2.94  33.4\n",
       "4  5.33  36.2"
      ]
     },
     "execution_count": 2,
     "metadata": {},
     "output_type": "execute_result"
    }
   ],
   "source": [
    "# 1. Prepare the data\n",
    "\n",
    "x_data = datasets.load_boston().data[:, 12]\n",
    "y_data = datasets.load_boston().target\n",
    "df = pd.DataFrame([x_data, y_data]).transpose()\n",
    "df.head()"
   ]
  },
  {
   "cell_type": "code",
   "execution_count": 4,
   "id": "55f6f697",
   "metadata": {
    "ExecuteTime": {
     "end_time": "2022-06-28T00:47:42.034790Z",
     "start_time": "2022-06-28T00:47:42.021834Z"
    }
   },
   "outputs": [],
   "source": [
    "# 2. Build the model\n",
    "w = tf.Variable(tf.random_normal([1]))\n",
    "b = tf.Variable(tf.random_normal([1]))\n",
    "\n",
    "y_predicted = w * x_data + b"
   ]
  },
  {
   "cell_type": "code",
   "execution_count": 5,
   "id": "169d630a",
   "metadata": {
    "ExecuteTime": {
     "end_time": "2022-06-28T00:56:41.201757Z",
     "start_time": "2022-06-28T00:56:41.173851Z"
    }
   },
   "outputs": [],
   "source": [
    "# 3. Set the critetion: Cost function & Gradient Descent method\n",
    "\n",
    "## reduce_mean: 평균\n",
    "## square: 제곱\n",
    "\n",
    "# mse 값\n",
    "loss = tf.reduce_mean(tf.square(y_predicted - y_data))\n",
    "# set learning rate\n",
    "optimizer = tf.train.GradientDescentOptimizer(0.001)\n",
    "# loss와 optimizer연결\n",
    "train = optimizer.minimize(loss)"
   ]
  },
  {
   "cell_type": "code",
   "execution_count": 7,
   "id": "8b624645",
   "metadata": {
    "ExecuteTime": {
     "end_time": "2022-06-28T01:05:01.325567Z",
     "start_time": "2022-06-28T01:04:58.504103Z"
    }
   },
   "outputs": [
    {
     "name": "stdout",
     "output_type": "stream",
     "text": [
      "[2.9312658] [0.30370885]\n",
      "\n",
      "Step 0: w [2.1601355] b [0.27398807]\n",
      "loss 556.5336303710938\n",
      "\n",
      "Step 1000: w [0.32475844] b [13.320217]\n",
      "loss 147.2372283935547\n",
      "\n",
      "Step 2000: w [-0.16185676] b [21.425442]\n",
      "loss 80.05695343017578\n",
      "\n",
      "Step 3000: w [-0.46272066] b [26.436733]\n",
      "loss 54.37577819824219\n",
      "\n",
      "Step 4000: w [-0.6487416] b [29.535158]\n",
      "loss 44.55840301513672\n",
      "\n",
      "Step 5000: w [-0.76375633] b [31.450882]\n",
      "loss 40.80543518066406\n",
      "\n",
      "Step 6000: w [-0.8348668] b [32.635323]\n",
      "loss 39.37079620361328\n",
      "\n",
      "Step 7000: w [-0.8788337] b [33.367653]\n",
      "loss 38.82236099243164\n",
      "\n",
      "Step 8000: w [-0.9060174] b [33.82043]\n",
      "loss 38.612709045410156\n",
      "\n",
      "Step 9000: w [-0.9228245] b [34.100372]\n",
      "loss 38.53256607055664\n",
      "\n"
     ]
    }
   ],
   "source": [
    "# 4. Train the model\n",
    "\n",
    "with tf.Session() as sess:\n",
    "    # tf.Variables 초기화\n",
    "    sess.run(tf.global_variables_initializer())\n",
    "    print(sess.run(w), sess.run(b))\n",
    "    print()\n",
    "    \n",
    "    # epoch, iteration = 10000\n",
    "    for step in range(10000):\n",
    "        sess.run(train)\n",
    "        if step % 1000 == 0:\n",
    "            print('Step {}: w {} b {}'.format(step, sess.run(w), sess.run(b)))\n",
    "            print('loss {}'.format(sess.run(loss)))\n",
    "            print()\n",
    "            \n",
    "    w_out, b_out = sess.run([w,b])"
   ]
  },
  {
   "cell_type": "code",
   "execution_count": 8,
   "id": "272e843f",
   "metadata": {
    "ExecuteTime": {
     "end_time": "2022-06-28T01:21:35.881604Z",
     "start_time": "2022-06-28T01:21:35.696221Z"
    }
   },
   "outputs": [
    {
     "data": {
      "image/png": "[encoded data removed]",
      "text/plain": [
       "<Figure size 720x720 with 1 Axes>"
      ]
     },
     "metadata": {
      "needs_background": "light"
     },
     "output_type": "display_data"
    }
   ],
   "source": [
    "# 5. Visualize the result\n",
    "\n",
    "plt.figure(figsize=(10, 10))\n",
    "plt.plot(x_data, y_data, 'bo', label='Real data')\n",
    "plt.plot(x_data, x_data*w_out + b_out, 'ro', label='Prediction')\n",
    "plt.legend()\n",
    "plt.show()"
   ]
  },
  {
   "cell_type": "code",
   "execution_count": null,
   "id": "d4c5a775",
   "metadata": {},
   "outputs": [],
   "source": []
  }
 ],
 "metadata": {
  "kernelspec": {
   "display_name": "Python 3 (ipykernel)",
   "language": "python",
   "name": "python3"
  },
  "language_info": {
   "codemirror_mode": {
    "name": "ipython",
    "version": 3
   },
   "file_extension": ".py",
   "mimetype": "text/x-python",
   "name": "python",
   "nbconvert_exporter": "python",
   "pygments_lexer": "ipython3",
   "version": "3.8.13"
  },
  "toc": {
   "base_numbering": 1,
   "nav_menu": {},
   "number_sections": true,
   "sideBar": true,
   "skip_h1_title": false,
   "title_cell": "Table of Contents",
   "title_sidebar": "Contents",
   "toc_cell": false,
   "toc_position": {},
   "toc_section_display": true,
   "toc_window_display": false
  },
  "varInspector": {
   "cols": {
    "lenName": 16,
    "lenType": 16,
    "lenVar": 40
   },
   "kernels_config": {
    "python": {
     "delete_cmd_postfix": "",
     "delete_cmd_prefix": "del ",
     "library": "var_list.py",
     "varRefreshCmd": "print(var_dic_list())"
    },
    "r": {
     "delete_cmd_postfix": ") ",
     "delete_cmd_prefix": "rm(",
     "library": "var_list.r",
     "varRefreshCmd": "cat(var_dic_list()) "
    }
   },
   "types_to_exclude": [
    "module",
    "function",
    "builtin_function_or_method",
    "instance",
    "_Feature"
   ],
   "window_display": false
  }
 },
 "nbformat": 4,
 "nbformat_minor": 5
}
